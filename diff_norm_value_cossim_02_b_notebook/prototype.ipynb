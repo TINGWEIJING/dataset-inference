{
 "cells": [
  {
   "cell_type": "code",
   "execution_count": 15,
   "metadata": {},
   "outputs": [],
   "source": [
    "import json\n",
    "from pprint import pprint\n",
    "\n",
    "import matplotlib.pyplot as plt\n",
    "import numpy as np\n",
    "from mpl_toolkits import mplot3d\n",
    "from numpy import linalg as LA\n",
    "from scipy.spatial import geometric_slerp"
   ]
  },
  {
   "cell_type": "code",
   "execution_count": 16,
   "metadata": {},
   "outputs": [],
   "source": [
    "cifar10_mean = np.array((0.4914, 0.4822, 0.4465))\n",
    "cifar10_std = np.array((0.2471, 0.2435, 0.2616))"
   ]
  },
  {
   "cell_type": "code",
   "execution_count": 17,
   "metadata": {},
   "outputs": [],
   "source": [
    "def cosine_similarity(A: np.ndarray, B: np.ndarray):\n",
    "    # assert A.shape == B.shape\n",
    "    A_dist = LA.norm(A, 2) if len(A.shape) == 1 else LA.norm(A, 2, axis=1)\n",
    "    return np.dot(A, B) / (A_dist * LA.norm(B, 2))"
   ]
  },
  {
   "attachments": {},
   "cell_type": "markdown",
   "metadata": {},
   "source": [
    "- Find 10 mean values in cosine similarity range"
   ]
  },
  {
   "cell_type": "code",
   "execution_count": 18,
   "metadata": {},
   "outputs": [],
   "source": [
    "# generate 10000 random mean samples\n",
    "sample_num = 10000\n",
    "rng: np.random._generator.Generator = np.random.default_rng(seed=123)\n",
    "rnd_vectors = rng.uniform(-1, 1, size=(sample_num, 3))"
   ]
  },
  {
   "cell_type": "code",
   "execution_count": 19,
   "metadata": {},
   "outputs": [
    {
     "name": "stdout",
     "output_type": "stream",
     "text": [
      "(10000,)\n"
     ]
    }
   ],
   "source": [
    "# calculate cosine similarity for all mean samples & sort ascending\n",
    "cossim_values_np = cosine_similarity(rnd_vectors, cifar10_mean)\n",
    "cossim_value_sort_indices_np = np.argsort(cossim_values_np)\n",
    "print(cossim_value_sort_indices_np.shape)\n"
   ]
  },
  {
   "cell_type": "code",
   "execution_count": 20,
   "metadata": {},
   "outputs": [
    {
     "name": "stdout",
     "output_type": "stream",
     "text": [
      "2980\n",
      "5639\n"
     ]
    }
   ],
   "source": [
    "# find the left bound & right bound of indices for slicing the values in range\n",
    "left_limit = -0.381\n",
    "right_limit = 0.108\n",
    "\n",
    "left_index = 0\n",
    "right_index = len(cossim_value_sort_indices_np)\n",
    "# find left bound\n",
    "for i in range(cossim_value_sort_indices_np.shape[0]):\n",
    "    sort_index = cossim_value_sort_indices_np[i]\n",
    "    left_index = i\n",
    "    if cossim_values_np[sort_index] > left_limit:\n",
    "        break\n",
    "# find right bound\n",
    "for i in range(cossim_value_sort_indices_np.shape[0]):\n",
    "    sort_index = cossim_value_sort_indices_np[cossim_value_sort_indices_np.shape[0] - i - 1]\n",
    "    right_index = cossim_value_sort_indices_np.shape[0] - i - 1\n",
    "    if cossim_values_np[sort_index] < right_limit:\n",
    "        break\n",
    "\n",
    "print(left_index)\n",
    "print(right_index)\n"
   ]
  },
  {
   "cell_type": "code",
   "execution_count": 21,
   "metadata": {},
   "outputs": [
    {
     "name": "stdout",
     "output_type": "stream",
     "text": [
      "0.10742645621914504\n"
     ]
    }
   ],
   "source": [
    "print(cossim_values_np[cossim_value_sort_indices_np[right_index]])"
   ]
  },
  {
   "cell_type": "code",
   "execution_count": 22,
   "metadata": {},
   "outputs": [],
   "source": [
    "# slice the indices array\n",
    "sliced_cossim_value_sort_indices_np = cossim_value_sort_indices_np[left_index: right_index + 1]"
   ]
  },
  {
   "cell_type": "code",
   "execution_count": 23,
   "metadata": {},
   "outputs": [
    {
     "name": "stdout",
     "output_type": "stream",
     "text": [
      "-0.38071099610408654\n"
     ]
    }
   ],
   "source": [
    "print(cossim_values_np[sliced_cossim_value_sort_indices_np[0]])"
   ]
  },
  {
   "cell_type": "code",
   "execution_count": 24,
   "metadata": {},
   "outputs": [
    {
     "name": "stdout",
     "output_type": "stream",
     "text": [
      "(2660,)\n"
     ]
    }
   ],
   "source": [
    "print(sliced_cossim_value_sort_indices_np.shape)"
   ]
  },
  {
   "cell_type": "code",
   "execution_count": 25,
   "metadata": {},
   "outputs": [
    {
     "name": "stdout",
     "output_type": "stream",
     "text": [
      "[-0.337, -0.292, -0.248, -0.203, -0.159, -0.114, -0.07, -0.025, 0.019, 0.064]\n"
     ]
    }
   ],
   "source": [
    "# prepare intermediate 10 points of range\n",
    "target_cossim_range_np = np.linspace(left_limit, right_limit, 11, endpoint=False)\n",
    "target_cossim_range = np.round(target_cossim_range_np[1:], 3).tolist()\n",
    "# target_cossim__index_map = {cossim_value: None for cossim_value in target_cossim_range}\n",
    "pprint(target_cossim_range)"
   ]
  },
  {
   "cell_type": "code",
   "execution_count": 26,
   "metadata": {},
   "outputs": [
    {
     "name": "stdout",
     "output_type": "stream",
     "text": [
      "[1664, 4309, 1765, 419, 1998, 248, 1583, 3509, 4524, 4497]\n"
     ]
    }
   ],
   "source": [
    "# find the nearest 10 cosine similarity points by index\n",
    "target_counter = 0\n",
    "selected_sort_indices = []\n",
    "\n",
    "for sliced_sort_index in sliced_cossim_value_sort_indices_np:\n",
    "    selected_cossim_value = cossim_values_np[sliced_sort_index]\n",
    "\n",
    "    if selected_cossim_value > target_cossim_range[target_counter]:\n",
    "        selected_sort_indices.append(sliced_sort_index)\n",
    "        target_counter += 1\n",
    "\n",
    "    if target_counter >= len(target_cossim_range):\n",
    "        break\n",
    "\n",
    "pprint(selected_sort_indices)"
   ]
  },
  {
   "cell_type": "code",
   "execution_count": 27,
   "metadata": {},
   "outputs": [
    {
     "name": "stdout",
     "output_type": "stream",
     "text": [
      "[-0.731, -0.311, 0.544]: -0.3370355084911757\n",
      "[0.219, -0.247, -0.174]: -0.2912352734646942\n",
      "[-0.721, 0.778, -0.601]: -0.24739262454028435\n",
      "[0.749, -0.448, -0.776]: -0.20290863319577457\n",
      "[-0.311, -0.857, 0.897]: -0.157751128468922\n",
      "[0.205, 0.181, -0.549]: -0.11347859415543816\n",
      "[-0.804, 0.685, 0.01]: -0.06958444047413434\n",
      "[0.6, -0.734, 0.089]: -0.024772773350340133\n",
      "[-0.511, -0.221, 0.837]: 0.019455797381099114\n",
      "[0.853, -0.615, -0.149]: 0.06434965317391732\n"
     ]
    }
   ],
   "source": [
    "# round & check the selected mean values\n",
    "for selected_sort_index in selected_sort_indices:\n",
    "    selected_vec = np.round(rnd_vectors[selected_sort_index], 3)\n",
    "    cossim_value = cosine_similarity(selected_vec, cifar10_mean)\n",
    "    print(f\"{selected_vec.tolist()}: {cossim_value}\")"
   ]
  },
  {
   "cell_type": "code",
   "execution_count": 28,
   "metadata": {},
   "outputs": [],
   "source": [
    "# save selected_vec to json\n",
    "select_vec_data = []\n",
    "\n",
    "for selected_sort_index in selected_sort_indices:\n",
    "    selected_vec = np.round(rnd_vectors[selected_sort_index], 3)\n",
    "    select_vec_data.append(selected_vec.tolist())\n",
    "\n",
    "# Serializing json\n",
    "json_object = json.dumps(select_vec_data, indent=4)\n",
    " \n",
    "# Writing to sample.json\n",
    "with open(\"mean_values.json\", \"w\") as outfile:\n",
    "    outfile.write(json_object)"
   ]
  }
 ],
 "metadata": {
  "kernelspec": {
   "display_name": "Python 3.8.12 ('DIenv')",
   "language": "python",
   "name": "python3"
  },
  "language_info": {
   "codemirror_mode": {
    "name": "ipython",
    "version": 3
   },
   "file_extension": ".py",
   "mimetype": "text/x-python",
   "name": "python",
   "nbconvert_exporter": "python",
   "pygments_lexer": "ipython3",
   "version": "3.8.12"
  },
  "orig_nbformat": 4,
  "vscode": {
   "interpreter": {
    "hash": "01ff145a580a012fbee101d68df8ff40de9b5a3386bbca8e9b7074444281a989"
   }
  }
 },
 "nbformat": 4,
 "nbformat_minor": 2
}
