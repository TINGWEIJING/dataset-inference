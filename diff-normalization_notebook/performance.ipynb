{
 "cells": [
  {
   "cell_type": "code",
   "execution_count": 1,
   "metadata": {},
   "outputs": [],
   "source": [
    "import sys\n",
    "from pathlib import Path\n",
    "\n",
    "src_path = Path.cwd().parent / \"src\"\n",
    "sys.path.append(str(src_path))\n",
    "\n",
    "import json\n",
    "import types\n",
    "from collections import OrderedDict\n",
    "from pprint import pprint\n",
    "\n",
    "import torch\n",
    "import torch.nn as nn\n",
    "from dataset import get_new_dataloader\n",
    "from funcs import get_dataloaders\n",
    "from models import PreActResNet18, WideResNet\n",
    "from train import epoch, epoch_test\n"
   ]
  },
  {
   "cell_type": "code",
   "execution_count": 2,
   "metadata": {},
   "outputs": [],
   "source": [
    "# constant\n",
    "CWD_PATH = Path.cwd()\n",
    "MODEL_DIR_PATH = CWD_PATH.parent / \"models/CIFAR10\"\n",
    "LABELS = [\n",
    "    \"model_data-normalization\",\n",
    "    \"model_min-max--1-and-1\",\n",
    "    \"model_normalization-without-mean\",\n",
    "    \"model_normalization-without-std\",\n",
    "    \"model_rgb-grayscale\",\n",
    "]"
   ]
  },
  {
   "cell_type": "code",
   "execution_count": 3,
   "metadata": {},
   "outputs": [],
   "source": [
    "def load_model(\n",
    "    model_type: str,\n",
    "    location: str,\n",
    "    model_normalize: bool,\n",
    "):\n",
    "    device = torch.device(\"cuda:{0}\".format(0) if torch.cuda.is_available() else \"cpu\")\n",
    "\n",
    "    # load model CIFAR10\n",
    "    if model_type == \"pre-act-18\":\n",
    "        model = PreActResNet18(num_classes=10, normalize=model_normalize)\n",
    "    elif model_type == \"independent\":\n",
    "        model = WideResNet(\n",
    "            n_classes=10,\n",
    "            depth=16,  # deep_full for CIFAR10\n",
    "            widen_factor=1,\n",
    "            normalize=model_normalize,\n",
    "            dropRate=0.3,\n",
    "        )\n",
    "    else:\n",
    "        model = WideResNet(\n",
    "            n_classes=10,\n",
    "            depth=28,  # deep_full for CIFAR10\n",
    "            widen_factor=10,\n",
    "            normalize=model_normalize,\n",
    "            dropRate=0.3,\n",
    "        )\n",
    "\n",
    "    try:\n",
    "        model = model.to(device)\n",
    "        model.load_state_dict(torch.load(location, map_location=device))\n",
    "    except:\n",
    "        model = nn.DataParallel(model).to(device)\n",
    "        model.load_state_dict(torch.load(location, map_location=device))\n",
    "    model.eval()\n",
    "    return model\n"
   ]
  },
  {
   "cell_type": "code",
   "execution_count": 4,
   "metadata": {},
   "outputs": [
    {
     "name": "stdout",
     "output_type": "stream",
     "text": [
      "/data/weijing/DI-ting_normalization/models/CIFAR10/model_data-normalization/final.pt\n",
      "data-normalization\n",
      "Files already downloaded and verified\n",
      "Files already downloaded and verified\n"
     ]
    },
    {
     "name": "stderr",
     "output_type": "stream",
     "text": [
      "100%|██████████| 50/50 [00:29<00:00,  1.72it/s]\n"
     ]
    },
    {
     "name": "stdout",
     "output_type": "stream",
     "text": [
      "0.99994\n",
      "0.9429\n",
      "/data/weijing/DI-ting_normalization/models/CIFAR10/model_min-max--1-and-1/final.pt\n",
      "min-max--1-and-1\n",
      "Files already downloaded and verified\n",
      "Files already downloaded and verified\n"
     ]
    },
    {
     "name": "stderr",
     "output_type": "stream",
     "text": [
      "100%|██████████| 50/50 [00:23<00:00,  2.13it/s]\n"
     ]
    },
    {
     "name": "stdout",
     "output_type": "stream",
     "text": [
      "0.99998\n",
      "0.9443\n",
      "/data/weijing/DI-ting_normalization/models/CIFAR10/model_normalization-without-mean/final.pt\n",
      "normalization-without-mean\n",
      "Files already downloaded and verified\n",
      "Files already downloaded and verified\n"
     ]
    },
    {
     "name": "stderr",
     "output_type": "stream",
     "text": [
      "100%|██████████| 50/50 [00:23<00:00,  2.14it/s]\n"
     ]
    },
    {
     "name": "stdout",
     "output_type": "stream",
     "text": [
      "0.99998\n",
      "0.9424\n",
      "/data/weijing/DI-ting_normalization/models/CIFAR10/model_normalization-without-std/final.pt\n",
      "normalization-without-std\n",
      "Files already downloaded and verified\n",
      "Files already downloaded and verified\n"
     ]
    },
    {
     "name": "stderr",
     "output_type": "stream",
     "text": [
      "100%|██████████| 50/50 [00:23<00:00,  2.12it/s]\n"
     ]
    },
    {
     "name": "stdout",
     "output_type": "stream",
     "text": [
      "1.0\n",
      "0.9438\n",
      "/data/weijing/DI-ting_normalization/models/CIFAR10/model_rgb-grayscale/final.pt\n",
      "rgb-grayscale\n",
      "Files already downloaded and verified\n",
      "Files already downloaded and verified\n"
     ]
    },
    {
     "name": "stderr",
     "output_type": "stream",
     "text": [
      "100%|██████████| 50/50 [00:23<00:00,  2.14it/s]\n"
     ]
    },
    {
     "name": "stdout",
     "output_type": "stream",
     "text": [
      "0.99992\n",
      "0.9271\n"
     ]
    }
   ],
   "source": [
    "model_name__tr_acc = OrderedDict()\n",
    "\n",
    "# model performance in TR\n",
    "for label in LABELS:\n",
    "    model_path = MODEL_DIR_PATH / label / \"final.pt\"\n",
    "    print(model_path)\n",
    "    model = load_model(\n",
    "        model_type=\"teacher\",\n",
    "        location=str(model_path),\n",
    "        model_normalize=False,\n",
    "    )\n",
    "\n",
    "    args = types.SimpleNamespace()\n",
    "    device = torch.device(\"cuda:{0}\".format(0) if torch.cuda.is_available() else \"cpu\")\n",
    "    args.device = device\n",
    "    args.mode = \"teacher\"\n",
    "    args.experiment = 'diff-normalization'\n",
    "    args.dataset = 'CIFAR10'\n",
    "    args.batch_size = 1000\n",
    "    args.num_workers = 8\n",
    "    args.normalization_type = label[6:]\n",
    "    print(args.normalization_type)\n",
    "    train_loader, test_loader = get_new_dataloader(args=args)\n",
    "\n",
    "    _, train_acc = epoch(\n",
    "        args,\n",
    "        train_loader,\n",
    "        model,\n",
    "        teacher=None,\n",
    "        lr_schedule=None,\n",
    "        epoch_i=None,\n",
    "        opt=None,\n",
    "    )\n",
    "    _, test_acc = epoch_test(\n",
    "        args,\n",
    "        test_loader,\n",
    "        model,\n",
    "    )\n",
    "    print(train_acc)\n",
    "    print(test_acc)\n",
    "\n",
    "    model_name__tr_acc[label] = {\n",
    "        \"train_acc\": train_acc,\n",
    "        \"test_acc\": test_acc,\n",
    "    }\n",
    "\n"
   ]
  },
  {
   "cell_type": "code",
   "execution_count": 5,
   "metadata": {},
   "outputs": [
    {
     "name": "stdout",
     "output_type": "stream",
     "text": [
      "OrderedDict([('model_data-normalization',\n",
      "              {'test_acc': 0.9429, 'train_acc': 0.99994}),\n",
      "             ('model_min-max--1-and-1',\n",
      "              {'test_acc': 0.9443, 'train_acc': 0.99998}),\n",
      "             ('model_normalization-without-mean',\n",
      "              {'test_acc': 0.9424, 'train_acc': 0.99998}),\n",
      "             ('model_normalization-without-std',\n",
      "              {'test_acc': 0.9438, 'train_acc': 1.0}),\n",
      "             ('model_rgb-grayscale',\n",
      "              {'test_acc': 0.9271, 'train_acc': 0.99992})])\n"
     ]
    }
   ],
   "source": [
    "pprint(model_name__tr_acc)\n",
    "\n",
    "# Serializing json\n",
    "json_object = json.dumps(model_name__tr_acc, indent=2)\n",
    " \n",
    "# Writing to sample.json\n",
    "with open(\"tr_performance.json\", \"w\") as outfile:\n",
    "    outfile.write(json_object)"
   ]
  },
  {
   "cell_type": "code",
   "execution_count": 8,
   "metadata": {},
   "outputs": [
    {
     "name": "stdout",
     "output_type": "stream",
     "text": [
      "/data/weijing/DI-ting_normalization/models/CIFAR10/model_data-normalization/final.pt\n",
      "No Transform\n",
      "Files already downloaded and verified\n",
      "Files already downloaded and verified\n",
      "No Transform\n",
      "Files already downloaded and verified\n",
      "Files already downloaded and verified\n"
     ]
    },
    {
     "name": "stderr",
     "output_type": "stream",
     "text": [
      "100%|██████████| 50/50 [00:30<00:00,  1.62it/s]\n"
     ]
    },
    {
     "name": "stdout",
     "output_type": "stream",
     "text": [
      "0.9999\n",
      "0.9385\n",
      "/data/weijing/DI-ting_normalization/models/CIFAR10/model_min-max--1-and-1/final.pt\n",
      "No Transform\n",
      "Files already downloaded and verified\n",
      "Files already downloaded and verified\n",
      "No Transform\n",
      "Files already downloaded and verified\n",
      "Files already downloaded and verified\n"
     ]
    },
    {
     "name": "stderr",
     "output_type": "stream",
     "text": [
      "100%|██████████| 50/50 [00:31<00:00,  1.58it/s]\n"
     ]
    },
    {
     "name": "stdout",
     "output_type": "stream",
     "text": [
      "0.7944\n",
      "0.7617\n",
      "/data/weijing/DI-ting_normalization/models/CIFAR10/model_normalization-without-mean/final.pt\n",
      "No Transform\n",
      "Files already downloaded and verified\n",
      "Files already downloaded and verified\n",
      "No Transform\n",
      "Files already downloaded and verified\n",
      "Files already downloaded and verified\n"
     ]
    },
    {
     "name": "stderr",
     "output_type": "stream",
     "text": [
      "100%|██████████| 50/50 [00:31<00:00,  1.58it/s]\n"
     ]
    },
    {
     "name": "stdout",
     "output_type": "stream",
     "text": [
      "0.6434\n",
      "0.6185\n",
      "/data/weijing/DI-ting_normalization/models/CIFAR10/model_normalization-without-std/final.pt\n",
      "No Transform\n",
      "Files already downloaded and verified\n",
      "Files already downloaded and verified\n",
      "No Transform\n",
      "Files already downloaded and verified\n",
      "Files already downloaded and verified\n"
     ]
    },
    {
     "name": "stderr",
     "output_type": "stream",
     "text": [
      "100%|██████████| 50/50 [00:31<00:00,  1.58it/s]\n"
     ]
    },
    {
     "name": "stdout",
     "output_type": "stream",
     "text": [
      "0.29286\n",
      "0.2935\n",
      "/data/weijing/DI-ting_normalization/models/CIFAR10/model_rgb-grayscale/final.pt\n",
      "No Transform\n",
      "Files already downloaded and verified\n",
      "Files already downloaded and verified\n",
      "No Transform\n",
      "Files already downloaded and verified\n",
      "Files already downloaded and verified\n"
     ]
    },
    {
     "name": "stderr",
     "output_type": "stream",
     "text": [
      "100%|██████████| 50/50 [00:31<00:00,  1.58it/s]\n"
     ]
    },
    {
     "name": "stdout",
     "output_type": "stream",
     "text": [
      "0.27302\n",
      "0.2727\n"
     ]
    }
   ],
   "source": [
    "model_name__te_acc = OrderedDict()\n",
    "\n",
    "# model performance in FE\n",
    "for label in LABELS:\n",
    "    model_path = MODEL_DIR_PATH / label / \"final.pt\"\n",
    "    print(model_path)\n",
    "    model = load_model(\n",
    "        model_type=\"teacher\",\n",
    "        location=str(model_path),\n",
    "        model_normalize=False,\n",
    "    )\n",
    "\n",
    "    train_loader, test_loader = get_dataloaders(\n",
    "        dataset=\"CIFAR10\",\n",
    "        batch_size=1000,\n",
    "        pseudo_labels=False,\n",
    "        normalize=True,\n",
    "        train_shuffle=False,\n",
    "    )\n",
    "\n",
    "    args = types.SimpleNamespace()\n",
    "    device = torch.device(\"cuda:{0}\".format(0) if torch.cuda.is_available() else \"cpu\")\n",
    "    args.device = device\n",
    "    args.mode = \"teacher\"\n",
    "\n",
    "    _, train_acc = epoch(\n",
    "        args,\n",
    "        train_loader,\n",
    "        model,\n",
    "        teacher=None,\n",
    "        lr_schedule=None,\n",
    "        epoch_i=None,\n",
    "        opt=None,\n",
    "    )\n",
    "    _, test_acc = epoch_test(\n",
    "        args,\n",
    "        test_loader,\n",
    "        model,\n",
    "    )\n",
    "    print(train_acc)\n",
    "    print(test_acc)\n",
    "\n",
    "    model_name__te_acc[label] = {\n",
    "        \"train_acc\": train_acc,\n",
    "        \"test_acc\": test_acc,\n",
    "    }\n",
    "\n"
   ]
  },
  {
   "cell_type": "code",
   "execution_count": 9,
   "metadata": {},
   "outputs": [
    {
     "name": "stdout",
     "output_type": "stream",
     "text": [
      "OrderedDict([('model_data-normalization',\n",
      "              {'test_acc': 0.9385, 'train_acc': 0.9999}),\n",
      "             ('model_min-max--1-and-1',\n",
      "              {'test_acc': 0.7617, 'train_acc': 0.7944}),\n",
      "             ('model_normalization-without-mean',\n",
      "              {'test_acc': 0.6185, 'train_acc': 0.6434}),\n",
      "             ('model_normalization-without-std',\n",
      "              {'test_acc': 0.2935, 'train_acc': 0.29286}),\n",
      "             ('model_rgb-grayscale',\n",
      "              {'test_acc': 0.2727, 'train_acc': 0.27302})])\n"
     ]
    }
   ],
   "source": [
    "pprint(model_name__te_acc)\n",
    "\n",
    "# Serializing json\n",
    "json_object = json.dumps(model_name__te_acc, indent=2)\n",
    " \n",
    "# Writing to sample.json\n",
    "with open(\"fe_performance.json\", \"w\") as outfile:\n",
    "    outfile.write(json_object)"
   ]
  }
 ],
 "metadata": {
  "kernelspec": {
   "display_name": "Python 3.8.12 ('DIenv')",
   "language": "python",
   "name": "python3"
  },
  "language_info": {
   "codemirror_mode": {
    "name": "ipython",
    "version": 3
   },
   "file_extension": ".py",
   "mimetype": "text/x-python",
   "name": "python",
   "nbconvert_exporter": "python",
   "pygments_lexer": "ipython3",
   "version": "3.8.12"
  },
  "orig_nbformat": 4,
  "vscode": {
   "interpreter": {
    "hash": "01ff145a580a012fbee101d68df8ff40de9b5a3386bbca8e9b7074444281a989"
   }
  }
 },
 "nbformat": 4,
 "nbformat_minor": 2
}
