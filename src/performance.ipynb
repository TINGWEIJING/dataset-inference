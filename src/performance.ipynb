{
 "cells": [
  {
   "cell_type": "code",
   "execution_count": 1,
   "metadata": {},
   "outputs": [],
   "source": [
    "import json\n",
    "import types\n",
    "from collections import OrderedDict\n",
    "from pathlib import Path\n",
    "from pprint import pprint\n",
    "\n",
    "import torch\n",
    "import torch.nn as nn\n",
    "\n",
    "from dataset import get_new_dataloader\n",
    "from funcs import get_dataloaders\n",
    "from models import PreActResNet18, WideResNet\n",
    "from train import epoch, epoch_test\n"
   ]
  },
  {
   "cell_type": "code",
   "execution_count": 10,
   "metadata": {},
   "outputs": [],
   "source": [
    "# constant\n",
    "CWD_PATH = Path.cwd()\n",
    "MODEL_DIR_PATH = CWD_PATH.parent / \"models/CIFAR10\"\n",
    "LABELS = [\n",
    "    \"S1A\",\n",
    "    \"I1A\",\n",
    "    \"D1A\",\n",
    "    \"S2A\",\n",
    "    \"I2A\",\n",
    "    \"D2A\",\n",
    "    \"S3A\",\n",
    "    \"I3A\",\n",
    "    \"D3A\",\n",
    "    \"S4A\",\n",
    "    \"I4A\",\n",
    "    \"D4A\",\n",
    "    \"S1B\",\n",
    "    \"I1B\",\n",
    "    \"D1B\",\n",
    "    \"S2B\",\n",
    "    \"I2B\",\n",
    "    \"D2B\",\n",
    "    \"S3B\",\n",
    "    \"I3B\",\n",
    "    \"D3B\",\n",
    "    \"S4B\",\n",
    "    \"I4B\",\n",
    "    \"D4B\",\n",
    "]\n",
    "\n",
    "L1__MODEL_TYPE_MAP = {\n",
    "    \"S\": \"teacher\",\n",
    "    \"I\": \"independent\",\n",
    "    \"D\": \"pre-act-18\",\n",
    "}\n",
    "\n",
    "L1__MODEL_TYPE_DISPLAY_MAP = {\n",
    "    \"S\": \"Teacher\",\n",
    "    \"I\": \"Independent\",\n",
    "    \"D\": \"Diff. Arch.\",\n",
    "}\n",
    "\n",
    "L2__MODEL_NORM_MAP = {\n",
    "    \"1\": True,\n",
    "    \"2\": True,\n",
    "    \"3\": False,\n",
    "    \"4\": False,\n",
    "}\n",
    "\n",
    "L2__DATA_NORM_MAP = {\n",
    "    \"1\": True,\n",
    "    \"2\": False,\n",
    "    \"3\": True,\n",
    "    \"4\": False,\n",
    "}\n",
    "\n",
    "L3__LOAD_NORM_MAP = {\n",
    "    \"A\": True,\n",
    "    \"B\": False,\n",
    "}"
   ]
  },
  {
   "cell_type": "code",
   "execution_count": 3,
   "metadata": {},
   "outputs": [],
   "source": [
    "def load_model(\n",
    "    model_type: str,\n",
    "    location: str,\n",
    "    model_normalize: bool,\n",
    "):\n",
    "    device = torch.device(\"cuda:{0}\".format(0) if torch.cuda.is_available() else \"cpu\")\n",
    "\n",
    "    # load model CIFAR10\n",
    "    if model_type == \"pre-act-18\":\n",
    "        model = PreActResNet18(num_classes=10, normalize=model_normalize)\n",
    "    elif model_type == \"independent\":\n",
    "        model = WideResNet(\n",
    "            n_classes=10,\n",
    "            depth=16,  # deep_full for CIFAR10\n",
    "            widen_factor=1,\n",
    "            normalize=model_normalize,\n",
    "            dropRate=0.3,\n",
    "        )\n",
    "    else:\n",
    "        model = WideResNet(\n",
    "            n_classes=10,\n",
    "            depth=28,  # deep_full for CIFAR10\n",
    "            widen_factor=10,\n",
    "            normalize=model_normalize,\n",
    "            dropRate=0.3,\n",
    "        )\n",
    "\n",
    "    try:\n",
    "        model = model.to(device)\n",
    "        model.load_state_dict(torch.load(location, map_location=device))\n",
    "    except:\n",
    "        model = nn.DataParallel(model).to(device)\n",
    "        model.load_state_dict(torch.load(location, map_location=device))\n",
    "    model.eval()\n",
    "    return model\n"
   ]
  },
  {
   "cell_type": "code",
   "execution_count": 4,
   "metadata": {},
   "outputs": [],
   "source": [
    "model_name__acc = OrderedDict()"
   ]
  },
  {
   "cell_type": "code",
   "execution_count": 5,
   "metadata": {},
   "outputs": [
    {
     "name": "stdout",
     "output_type": "stream",
     "text": [
      "model_teacher_model-normalized_data-normalized\n",
      "Files already downloaded and verified\n",
      "Files already downloaded and verified\n",
      "Files already downloaded and verified\n",
      "Files already downloaded and verified\n"
     ]
    },
    {
     "name": "stderr",
     "output_type": "stream",
     "text": [
      "100%|██████████| 50/50 [00:42<00:00,  1.17it/s]\n"
     ]
    },
    {
     "name": "stdout",
     "output_type": "stream",
     "text": [
      "0.99998\n",
      "0.945\n",
      "model_independent_model-normalized_data-normalized\n",
      "Files already downloaded and verified\n",
      "Files already downloaded and verified\n",
      "Files already downloaded and verified\n",
      "Files already downloaded and verified\n"
     ]
    },
    {
     "name": "stderr",
     "output_type": "stream",
     "text": [
      "100%|██████████| 50/50 [00:15<00:00,  3.13it/s]\n"
     ]
    },
    {
     "name": "stdout",
     "output_type": "stream",
     "text": [
      "0.58676\n",
      "1.0\n",
      "model_pre-act-18_model-normalized_data-normalized\n",
      "Files already downloaded and verified\n",
      "Files already downloaded and verified\n",
      "Files already downloaded and verified\n",
      "Files already downloaded and verified\n"
     ]
    },
    {
     "name": "stderr",
     "output_type": "stream",
     "text": [
      "100%|██████████| 50/50 [00:18<00:00,  2.73it/s]\n"
     ]
    },
    {
     "name": "stdout",
     "output_type": "stream",
     "text": [
      "0.99882\n",
      "0.9302\n",
      "model_teacher_model-normalized_data-unnormalized\n",
      "Files already downloaded and verified\n",
      "Files already downloaded and verified\n",
      "Files already downloaded and verified\n",
      "Files already downloaded and verified\n"
     ]
    },
    {
     "name": "stderr",
     "output_type": "stream",
     "text": [
      "100%|██████████| 50/50 [00:33<00:00,  1.47it/s]\n"
     ]
    },
    {
     "name": "stdout",
     "output_type": "stream",
     "text": [
      "1.0\n",
      "0.9423\n",
      "model_independent_model-normalized_data-unnormalized\n",
      "Files already downloaded and verified\n",
      "Files already downloaded and verified\n",
      "Files already downloaded and verified\n",
      "Files already downloaded and verified\n"
     ]
    },
    {
     "name": "stderr",
     "output_type": "stream",
     "text": [
      "100%|██████████| 50/50 [00:12<00:00,  3.88it/s]\n"
     ]
    },
    {
     "name": "stdout",
     "output_type": "stream",
     "text": [
      "0.59254\n",
      "1.0\n",
      "model_pre-act-18_model-normalized_data-unnormalized\n",
      "Files already downloaded and verified\n",
      "Files already downloaded and verified\n",
      "Files already downloaded and verified\n",
      "Files already downloaded and verified\n"
     ]
    },
    {
     "name": "stderr",
     "output_type": "stream",
     "text": [
      "100%|██████████| 50/50 [00:15<00:00,  3.30it/s]\n"
     ]
    },
    {
     "name": "stdout",
     "output_type": "stream",
     "text": [
      "0.99938\n",
      "0.9321\n",
      "model_teacher_model-unnormalized_data-normalized\n",
      "Files already downloaded and verified\n",
      "Files already downloaded and verified\n",
      "Files already downloaded and verified\n",
      "Files already downloaded and verified\n"
     ]
    },
    {
     "name": "stderr",
     "output_type": "stream",
     "text": [
      "100%|██████████| 50/50 [00:37<00:00,  1.35it/s]\n"
     ]
    },
    {
     "name": "stdout",
     "output_type": "stream",
     "text": [
      "0.99998\n",
      "0.9431\n",
      "model_independent_model-unnormalized_data-normalized\n",
      "Files already downloaded and verified\n",
      "Files already downloaded and verified\n",
      "Files already downloaded and verified\n",
      "Files already downloaded and verified\n"
     ]
    },
    {
     "name": "stderr",
     "output_type": "stream",
     "text": [
      "100%|██████████| 50/50 [00:16<00:00,  3.12it/s]\n"
     ]
    },
    {
     "name": "stdout",
     "output_type": "stream",
     "text": [
      "0.60016\n",
      "1.0\n",
      "model_pre-act-18_model-unnormalized_data-normalized\n",
      "Files already downloaded and verified\n",
      "Files already downloaded and verified\n",
      "Files already downloaded and verified\n",
      "Files already downloaded and verified\n"
     ]
    },
    {
     "name": "stderr",
     "output_type": "stream",
     "text": [
      "100%|██████████| 50/50 [00:18<00:00,  2.74it/s]\n"
     ]
    },
    {
     "name": "stdout",
     "output_type": "stream",
     "text": [
      "0.99912\n",
      "0.9331\n",
      "model_teacher_model-unnormalized_data-unnormalized\n",
      "Files already downloaded and verified\n",
      "Files already downloaded and verified\n",
      "Files already downloaded and verified\n",
      "Files already downloaded and verified\n"
     ]
    },
    {
     "name": "stderr",
     "output_type": "stream",
     "text": [
      "100%|██████████| 50/50 [00:33<00:00,  1.48it/s]\n"
     ]
    },
    {
     "name": "stdout",
     "output_type": "stream",
     "text": [
      "0.99998\n",
      "0.9394\n",
      "model_independent_model-unnormalized_data-unnormalized\n",
      "Files already downloaded and verified\n",
      "Files already downloaded and verified\n",
      "Files already downloaded and verified\n",
      "Files already downloaded and verified\n"
     ]
    },
    {
     "name": "stderr",
     "output_type": "stream",
     "text": [
      "100%|██████████| 50/50 [00:12<00:00,  3.89it/s]\n"
     ]
    },
    {
     "name": "stdout",
     "output_type": "stream",
     "text": [
      "0.60064\n",
      "1.0\n",
      "model_pre-act-18_model-unnormalized_data-unnormalized\n",
      "Files already downloaded and verified\n",
      "Files already downloaded and verified\n",
      "Files already downloaded and verified\n",
      "Files already downloaded and verified\n"
     ]
    },
    {
     "name": "stderr",
     "output_type": "stream",
     "text": [
      "100%|██████████| 50/50 [00:15<00:00,  3.32it/s]\n"
     ]
    },
    {
     "name": "stdout",
     "output_type": "stream",
     "text": [
      "0.99922\n",
      "0.9328\n"
     ]
    }
   ],
   "source": [
    "# model performance in training\n",
    "for label in LABELS:\n",
    "    l1 = label[0]\n",
    "    l2 = label[1]\n",
    "    l3 = label[2]\n",
    "\n",
    "    model_type_str = L1__MODEL_TYPE_MAP[l1]\n",
    "    model_norm_str = \"normalized\" if L2__MODEL_NORM_MAP[l2] else \"unnormalized\"\n",
    "    data_norm_str = \"normalized\" if L2__DATA_NORM_MAP[l2] else \"unnormalized\"\n",
    "    load_norm_str = \"normalized\" if L3__LOAD_NORM_MAP[l3] else \"unnormalized\"\n",
    "\n",
    "    if not L3__LOAD_NORM_MAP[l3]:\n",
    "        continue\n",
    "\n",
    "    model_name = f\"model_{model_type_str}_model-{model_norm_str}_data-{data_norm_str}\"\n",
    "    model_path = MODEL_DIR_PATH / model_name / \"final.pt\"\n",
    "    print(model_name)\n",
    "    model = load_model(\n",
    "        model_type=model_type_str,\n",
    "        location=str(model_path),\n",
    "        model_normalize=L2__MODEL_NORM_MAP[l2],\n",
    "    )\n",
    "\n",
    "    train_loader, test_loader = get_dataloaders(\n",
    "        dataset=\"CIFAR10\",\n",
    "        batch_size=1000,\n",
    "        pseudo_labels=False,\n",
    "        normalize=L2__DATA_NORM_MAP[l2],\n",
    "        concat=False,\n",
    "        concat_factor=False,\n",
    "    )\n",
    "\n",
    "    args = types.SimpleNamespace()\n",
    "    device = torch.device(\"cuda:{0}\".format(0) if torch.cuda.is_available() else \"cpu\")\n",
    "    args.device = device\n",
    "    args.mode = \"teacher\"\n",
    "\n",
    "    _, train_acc = epoch(\n",
    "        args,\n",
    "        train_loader,\n",
    "        model,\n",
    "        teacher=None,\n",
    "        lr_schedule=None,\n",
    "        epoch_i=None,\n",
    "        opt=None,\n",
    "    )\n",
    "    _, test_acc = epoch_test(\n",
    "        args,\n",
    "        test_loader,\n",
    "        model,\n",
    "    )\n",
    "    print(train_acc)\n",
    "    print(test_acc)\n",
    "\n",
    "    model_name__acc[label] = {\n",
    "        \"train_acc\": train_acc,\n",
    "        \"test_acc\": test_acc,\n",
    "    }\n"
   ]
  },
  {
   "cell_type": "code",
   "execution_count": 9,
   "metadata": {},
   "outputs": [
    {
     "name": "stdout",
     "output_type": "stream",
     "text": [
      "OrderedDict([('S1A', {'test_acc': 0.945, 'train_acc': 0.99998}),\n",
      "             ('I1A', {'test_acc': 1.0, 'train_acc': 0.58676}),\n",
      "             ('D1A', {'test_acc': 0.9302, 'train_acc': 0.99882}),\n",
      "             ('S2A', {'test_acc': 0.9423, 'train_acc': 1.0}),\n",
      "             ('I2A', {'test_acc': 1.0, 'train_acc': 0.59254}),\n",
      "             ('D2A', {'test_acc': 0.9321, 'train_acc': 0.99938}),\n",
      "             ('S3A', {'test_acc': 0.9431, 'train_acc': 0.99998}),\n",
      "             ('I3A', {'test_acc': 1.0, 'train_acc': 0.60016}),\n",
      "             ('D3A', {'test_acc': 0.9331, 'train_acc': 0.99912}),\n",
      "             ('S4A', {'test_acc': 0.9394, 'train_acc': 0.99998}),\n",
      "             ('I4A', {'test_acc': 1.0, 'train_acc': 0.60064}),\n",
      "             ('D4A', {'test_acc': 0.9328, 'train_acc': 0.99922})])\n"
     ]
    }
   ],
   "source": [
    "pprint(model_name__acc)\n",
    "\n",
    "# Serializing json\n",
    "json_object = json.dumps(model_name__acc, indent=2)\n",
    " \n",
    "# Writing to sample.json\n",
    "with open(\"training_performance.json\", \"w\") as outfile:\n",
    "    outfile.write(json_object)"
   ]
  },
  {
   "cell_type": "code",
   "execution_count": 4,
   "metadata": {},
   "outputs": [
    {
     "name": "stdout",
     "output_type": "stream",
     "text": [
      "model_teacher_model-normalized_data-normalized\n",
      "No Transform\n",
      "Files already downloaded and verified\n",
      "Files already downloaded and verified\n",
      "No Transform\n",
      "Files already downloaded and verified\n",
      "Files already downloaded and verified\n"
     ]
    },
    {
     "name": "stderr",
     "output_type": "stream",
     "text": [
      "100%|██████████| 50/50 [00:32<00:00,  1.52it/s]\n"
     ]
    },
    {
     "name": "stdout",
     "output_type": "stream",
     "text": [
      "0.40282\n",
      "0.3979\n",
      "model_independent_model-normalized_data-normalized\n",
      "No Transform\n",
      "Files already downloaded and verified\n",
      "Files already downloaded and verified\n",
      "No Transform\n",
      "Files already downloaded and verified\n",
      "Files already downloaded and verified\n"
     ]
    },
    {
     "name": "stderr",
     "output_type": "stream",
     "text": [
      "100%|██████████| 50/50 [00:06<00:00,  7.41it/s]\n"
     ]
    },
    {
     "name": "stdout",
     "output_type": "stream",
     "text": [
      "0.13956\n",
      "0.1402\n",
      "model_pre-act-18_model-normalized_data-normalized\n",
      "No Transform\n",
      "Files already downloaded and verified\n",
      "Files already downloaded and verified\n",
      "No Transform\n",
      "Files already downloaded and verified\n",
      "Files already downloaded and verified\n"
     ]
    },
    {
     "name": "stderr",
     "output_type": "stream",
     "text": [
      "100%|██████████| 50/50 [00:08<00:00,  5.64it/s]\n"
     ]
    },
    {
     "name": "stdout",
     "output_type": "stream",
     "text": [
      "0.39834\n",
      "0.3942\n",
      "model_teacher_model-normalized_data-unnormalized\n",
      "No Transform\n",
      "Files already downloaded and verified\n",
      "Files already downloaded and verified\n",
      "No Transform\n",
      "Files already downloaded and verified\n",
      "Files already downloaded and verified\n"
     ]
    },
    {
     "name": "stderr",
     "output_type": "stream",
     "text": [
      "100%|██████████| 50/50 [00:27<00:00,  1.80it/s]\n"
     ]
    },
    {
     "name": "stdout",
     "output_type": "stream",
     "text": [
      "1.0\n",
      "0.9423\n",
      "model_independent_model-normalized_data-unnormalized\n",
      "No Transform\n",
      "Files already downloaded and verified\n",
      "Files already downloaded and verified\n",
      "No Transform\n",
      "Files already downloaded and verified\n",
      "Files already downloaded and verified\n"
     ]
    },
    {
     "name": "stderr",
     "output_type": "stream",
     "text": [
      "100%|██████████| 50/50 [00:06<00:00,  7.53it/s]\n"
     ]
    },
    {
     "name": "stdout",
     "output_type": "stream",
     "text": [
      "0.74484\n",
      "1.0\n",
      "model_pre-act-18_model-normalized_data-unnormalized\n",
      "No Transform\n",
      "Files already downloaded and verified\n",
      "Files already downloaded and verified\n",
      "No Transform\n",
      "Files already downloaded and verified\n",
      "Files already downloaded and verified\n"
     ]
    },
    {
     "name": "stderr",
     "output_type": "stream",
     "text": [
      "100%|██████████| 50/50 [00:09<00:00,  5.55it/s]\n"
     ]
    },
    {
     "name": "stdout",
     "output_type": "stream",
     "text": [
      "0.99948\n",
      "0.9321\n",
      "model_teacher_model-unnormalized_data-normalized\n",
      "No Transform\n",
      "Files already downloaded and verified\n",
      "Files already downloaded and verified\n",
      "No Transform\n",
      "Files already downloaded and verified\n",
      "Files already downloaded and verified\n"
     ]
    },
    {
     "name": "stderr",
     "output_type": "stream",
     "text": [
      "100%|██████████| 50/50 [00:27<00:00,  1.80it/s]\n"
     ]
    },
    {
     "name": "stdout",
     "output_type": "stream",
     "text": [
      "1.0\n",
      "0.9414\n",
      "model_independent_model-unnormalized_data-normalized\n",
      "No Transform\n",
      "Files already downloaded and verified\n",
      "Files already downloaded and verified\n",
      "No Transform\n",
      "Files already downloaded and verified\n",
      "Files already downloaded and verified\n"
     ]
    },
    {
     "name": "stderr",
     "output_type": "stream",
     "text": [
      "100%|██████████| 50/50 [00:06<00:00,  7.44it/s]\n"
     ]
    },
    {
     "name": "stdout",
     "output_type": "stream",
     "text": [
      "0.7242\n",
      "0.9974\n",
      "model_pre-act-18_model-unnormalized_data-normalized\n",
      "No Transform\n",
      "Files already downloaded and verified\n",
      "Files already downloaded and verified\n",
      "No Transform\n",
      "Files already downloaded and verified\n",
      "Files already downloaded and verified\n"
     ]
    },
    {
     "name": "stderr",
     "output_type": "stream",
     "text": [
      "100%|██████████| 50/50 [00:08<00:00,  5.62it/s]\n"
     ]
    },
    {
     "name": "stdout",
     "output_type": "stream",
     "text": [
      "0.99816\n",
      "0.9305\n",
      "model_teacher_model-unnormalized_data-unnormalized\n",
      "No Transform\n",
      "Files already downloaded and verified\n",
      "Files already downloaded and verified\n",
      "No Transform\n",
      "Files already downloaded and verified\n",
      "Files already downloaded and verified\n"
     ]
    },
    {
     "name": "stderr",
     "output_type": "stream",
     "text": [
      "100%|██████████| 50/50 [00:27<00:00,  1.80it/s]\n"
     ]
    },
    {
     "name": "stdout",
     "output_type": "stream",
     "text": [
      "0.4027\n",
      "0.3921\n",
      "model_independent_model-unnormalized_data-unnormalized\n",
      "No Transform\n",
      "Files already downloaded and verified\n",
      "Files already downloaded and verified\n",
      "No Transform\n",
      "Files already downloaded and verified\n",
      "Files already downloaded and verified\n"
     ]
    },
    {
     "name": "stderr",
     "output_type": "stream",
     "text": [
      "100%|██████████| 50/50 [00:06<00:00,  7.54it/s]\n"
     ]
    },
    {
     "name": "stdout",
     "output_type": "stream",
     "text": [
      "0.31868\n",
      "0.3634\n",
      "model_pre-act-18_model-unnormalized_data-unnormalized\n",
      "No Transform\n",
      "Files already downloaded and verified\n",
      "Files already downloaded and verified\n",
      "No Transform\n",
      "Files already downloaded and verified\n",
      "Files already downloaded and verified\n"
     ]
    },
    {
     "name": "stderr",
     "output_type": "stream",
     "text": [
      "100%|██████████| 50/50 [00:08<00:00,  5.65it/s]\n"
     ]
    },
    {
     "name": "stdout",
     "output_type": "stream",
     "text": [
      "0.2161\n",
      "0.2142\n",
      "model_teacher_model-normalized_data-normalized\n",
      "No Transform\n",
      "Files already downloaded and verified\n",
      "Files already downloaded and verified\n",
      "No Transform\n",
      "Files already downloaded and verified\n",
      "Files already downloaded and verified\n"
     ]
    },
    {
     "name": "stderr",
     "output_type": "stream",
     "text": [
      "100%|██████████| 50/50 [00:27<00:00,  1.81it/s]\n"
     ]
    },
    {
     "name": "stdout",
     "output_type": "stream",
     "text": [
      "0.09894\n",
      "0.1003\n",
      "model_independent_model-normalized_data-normalized\n",
      "No Transform\n",
      "Files already downloaded and verified\n",
      "Files already downloaded and verified\n",
      "No Transform\n",
      "Files already downloaded and verified\n",
      "Files already downloaded and verified\n"
     ]
    },
    {
     "name": "stderr",
     "output_type": "stream",
     "text": [
      "100%|██████████| 50/50 [00:06<00:00,  7.44it/s]\n"
     ]
    },
    {
     "name": "stdout",
     "output_type": "stream",
     "text": [
      "0.1\n",
      "0.1\n",
      "model_pre-act-18_model-normalized_data-normalized\n",
      "No Transform\n",
      "Files already downloaded and verified\n",
      "Files already downloaded and verified\n",
      "No Transform\n",
      "Files already downloaded and verified\n",
      "Files already downloaded and verified\n"
     ]
    },
    {
     "name": "stderr",
     "output_type": "stream",
     "text": [
      "100%|██████████| 50/50 [00:08<00:00,  5.63it/s]\n"
     ]
    },
    {
     "name": "stdout",
     "output_type": "stream",
     "text": [
      "0.1\n",
      "0.1\n",
      "model_teacher_model-normalized_data-unnormalized\n",
      "No Transform\n",
      "Files already downloaded and verified\n",
      "Files already downloaded and verified\n",
      "No Transform\n",
      "Files already downloaded and verified\n",
      "Files already downloaded and verified\n"
     ]
    },
    {
     "name": "stderr",
     "output_type": "stream",
     "text": [
      "100%|██████████| 50/50 [00:27<00:00,  1.80it/s]\n"
     ]
    },
    {
     "name": "stdout",
     "output_type": "stream",
     "text": [
      "0.53284\n",
      "0.5189\n",
      "model_independent_model-normalized_data-unnormalized\n",
      "No Transform\n",
      "Files already downloaded and verified\n",
      "Files already downloaded and verified\n",
      "No Transform\n",
      "Files already downloaded and verified\n",
      "Files already downloaded and verified\n"
     ]
    },
    {
     "name": "stderr",
     "output_type": "stream",
     "text": [
      "100%|██████████| 50/50 [00:06<00:00,  7.44it/s]\n"
     ]
    },
    {
     "name": "stdout",
     "output_type": "stream",
     "text": [
      "0.17746\n",
      "0.1819\n",
      "model_pre-act-18_model-normalized_data-unnormalized\n",
      "No Transform\n",
      "Files already downloaded and verified\n",
      "Files already downloaded and verified\n",
      "No Transform\n",
      "Files already downloaded and verified\n",
      "Files already downloaded and verified\n"
     ]
    },
    {
     "name": "stderr",
     "output_type": "stream",
     "text": [
      "100%|██████████| 50/50 [00:08<00:00,  5.58it/s]\n"
     ]
    },
    {
     "name": "stdout",
     "output_type": "stream",
     "text": [
      "0.62056\n",
      "0.5959\n",
      "model_teacher_model-unnormalized_data-normalized\n",
      "No Transform\n",
      "Files already downloaded and verified\n",
      "Files already downloaded and verified\n",
      "No Transform\n",
      "Files already downloaded and verified\n",
      "Files already downloaded and verified\n"
     ]
    },
    {
     "name": "stderr",
     "output_type": "stream",
     "text": [
      "100%|██████████| 50/50 [00:27<00:00,  1.80it/s]\n"
     ]
    },
    {
     "name": "stdout",
     "output_type": "stream",
     "text": [
      "0.37782\n",
      "0.3766\n",
      "model_independent_model-unnormalized_data-normalized\n",
      "No Transform\n",
      "Files already downloaded and verified\n",
      "Files already downloaded and verified\n",
      "No Transform\n",
      "Files already downloaded and verified\n",
      "Files already downloaded and verified\n"
     ]
    },
    {
     "name": "stderr",
     "output_type": "stream",
     "text": [
      "100%|██████████| 50/50 [00:06<00:00,  7.47it/s]\n"
     ]
    },
    {
     "name": "stdout",
     "output_type": "stream",
     "text": [
      "0.14678\n",
      "0.146\n",
      "model_pre-act-18_model-unnormalized_data-normalized\n",
      "No Transform\n",
      "Files already downloaded and verified\n",
      "Files already downloaded and verified\n",
      "No Transform\n",
      "Files already downloaded and verified\n",
      "Files already downloaded and verified\n"
     ]
    },
    {
     "name": "stderr",
     "output_type": "stream",
     "text": [
      "100%|██████████| 50/50 [00:08<00:00,  5.59it/s]\n"
     ]
    },
    {
     "name": "stdout",
     "output_type": "stream",
     "text": [
      "0.4595\n",
      "0.4525\n",
      "model_teacher_model-unnormalized_data-unnormalized\n",
      "No Transform\n",
      "Files already downloaded and verified\n",
      "Files already downloaded and verified\n",
      "No Transform\n",
      "Files already downloaded and verified\n",
      "Files already downloaded and verified\n"
     ]
    },
    {
     "name": "stderr",
     "output_type": "stream",
     "text": [
      "100%|██████████| 50/50 [00:27<00:00,  1.80it/s]\n"
     ]
    },
    {
     "name": "stdout",
     "output_type": "stream",
     "text": [
      "0.99998\n",
      "0.9394\n",
      "model_independent_model-unnormalized_data-unnormalized\n",
      "No Transform\n",
      "Files already downloaded and verified\n",
      "Files already downloaded and verified\n",
      "No Transform\n",
      "Files already downloaded and verified\n",
      "Files already downloaded and verified\n"
     ]
    },
    {
     "name": "stderr",
     "output_type": "stream",
     "text": [
      "100%|██████████| 50/50 [00:06<00:00,  7.55it/s]\n"
     ]
    },
    {
     "name": "stdout",
     "output_type": "stream",
     "text": [
      "0.74124\n",
      "1.0\n",
      "model_pre-act-18_model-unnormalized_data-unnormalized\n",
      "No Transform\n",
      "Files already downloaded and verified\n",
      "Files already downloaded and verified\n",
      "No Transform\n",
      "Files already downloaded and verified\n",
      "Files already downloaded and verified\n"
     ]
    },
    {
     "name": "stderr",
     "output_type": "stream",
     "text": [
      "100%|██████████| 50/50 [00:08<00:00,  5.58it/s]\n"
     ]
    },
    {
     "name": "stdout",
     "output_type": "stream",
     "text": [
      "0.9995\n",
      "0.9328\n"
     ]
    }
   ],
   "source": [
    "model_name__acc = OrderedDict()\n",
    "\n",
    "# model performance in FE\n",
    "for label in LABELS:\n",
    "    l1 = label[0]\n",
    "    l2 = label[1]\n",
    "    l3 = label[2]\n",
    "\n",
    "    model_type_str = L1__MODEL_TYPE_MAP[l1]\n",
    "    model_norm_str = \"normalized\" if L2__MODEL_NORM_MAP[l2] else \"unnormalized\"\n",
    "    data_norm_str = \"normalized\" if L2__DATA_NORM_MAP[l2] else \"unnormalized\"\n",
    "    load_norm_str = \"normalized\" if L3__LOAD_NORM_MAP[l3] else \"unnormalized\"\n",
    "\n",
    "    model_name = f\"model_{model_type_str}_model-{model_norm_str}_data-{data_norm_str}\"\n",
    "    model_path = MODEL_DIR_PATH / model_name / \"final.pt\"\n",
    "    print(model_name)\n",
    "    model = load_model(\n",
    "        model_type=model_type_str,\n",
    "        location=str(model_path),\n",
    "        model_normalize=L3__LOAD_NORM_MAP[l3],\n",
    "    )\n",
    "\n",
    "    train_loader, test_loader = get_dataloaders(\n",
    "        dataset=\"CIFAR10\",\n",
    "        batch_size=1000,\n",
    "        pseudo_labels=False,\n",
    "        normalize=False,\n",
    "        train_shuffle=False,\n",
    "    )\n",
    "\n",
    "    args = types.SimpleNamespace()\n",
    "    device = torch.device(\"cuda:{0}\".format(0) if torch.cuda.is_available() else \"cpu\")\n",
    "    args.device = device\n",
    "    args.mode = \"teacher\"\n",
    "\n",
    "    _, train_acc = epoch(\n",
    "        args,\n",
    "        train_loader,\n",
    "        model,\n",
    "        teacher=None,\n",
    "        lr_schedule=None,\n",
    "        epoch_i=None,\n",
    "        opt=None,\n",
    "    )\n",
    "    _, test_acc = epoch_test(\n",
    "        args,\n",
    "        test_loader,\n",
    "        model,\n",
    "    )\n",
    "    print(train_acc)\n",
    "    print(test_acc)\n",
    "\n",
    "    model_name__acc[label] = {\n",
    "        \"train_acc\": train_acc,\n",
    "        \"test_acc\": test_acc,\n",
    "    }\n",
    "\n"
   ]
  },
  {
   "cell_type": "code",
   "execution_count": 5,
   "metadata": {},
   "outputs": [
    {
     "name": "stdout",
     "output_type": "stream",
     "text": [
      "OrderedDict([('S1A', {'test_acc': 0.3979, 'train_acc': 0.40282}),\n",
      "             ('I1A', {'test_acc': 0.1402, 'train_acc': 0.13956}),\n",
      "             ('D1A', {'test_acc': 0.3942, 'train_acc': 0.39834}),\n",
      "             ('S2A', {'test_acc': 0.9423, 'train_acc': 1.0}),\n",
      "             ('I2A', {'test_acc': 1.0, 'train_acc': 0.74484}),\n",
      "             ('D2A', {'test_acc': 0.9321, 'train_acc': 0.99948}),\n",
      "             ('S3A', {'test_acc': 0.9414, 'train_acc': 1.0}),\n",
      "             ('I3A', {'test_acc': 0.9974, 'train_acc': 0.7242}),\n",
      "             ('D3A', {'test_acc': 0.9305, 'train_acc': 0.99816}),\n",
      "             ('S4A', {'test_acc': 0.3921, 'train_acc': 0.4027}),\n",
      "             ('I4A', {'test_acc': 0.3634, 'train_acc': 0.31868}),\n",
      "             ('D4A', {'test_acc': 0.2142, 'train_acc': 0.2161}),\n",
      "             ('S1B', {'test_acc': 0.1003, 'train_acc': 0.09894}),\n",
      "             ('I1B', {'test_acc': 0.1, 'train_acc': 0.1}),\n",
      "             ('D1B', {'test_acc': 0.1, 'train_acc': 0.1}),\n",
      "             ('S2B', {'test_acc': 0.5189, 'train_acc': 0.53284}),\n",
      "             ('I2B', {'test_acc': 0.1819, 'train_acc': 0.17746}),\n",
      "             ('D2B', {'test_acc': 0.5959, 'train_acc': 0.62056}),\n",
      "             ('S3B', {'test_acc': 0.3766, 'train_acc': 0.37782}),\n",
      "             ('I3B', {'test_acc': 0.146, 'train_acc': 0.14678}),\n",
      "             ('D3B', {'test_acc': 0.4525, 'train_acc': 0.4595}),\n",
      "             ('S4B', {'test_acc': 0.9394, 'train_acc': 0.99998}),\n",
      "             ('I4B', {'test_acc': 1.0, 'train_acc': 0.74124}),\n",
      "             ('D4B', {'test_acc': 0.9328, 'train_acc': 0.9995})])\n"
     ]
    }
   ],
   "source": [
    "pprint(model_name__acc)\n",
    "\n",
    "# Serializing json\n",
    "json_object = json.dumps(model_name__acc, indent=2)\n",
    " \n",
    "# Writing to sample.json\n",
    "with open(\"fe_performance.json\", \"w\") as outfile:\n",
    "    outfile.write(json_object)"
   ]
  },
  {
   "cell_type": "markdown",
   "metadata": {},
   "source": [
    "## Read"
   ]
  },
  {
   "cell_type": "code",
   "execution_count": 9,
   "metadata": {},
   "outputs": [
    {
     "name": "stdout",
     "output_type": "stream",
     "text": [
      "0.398\n",
      "0.140\n",
      "0.394\n",
      "0.942\n",
      "1.000\n",
      "0.932\n",
      "0.941\n",
      "0.997\n",
      "0.930\n",
      "0.392\n",
      "0.363\n",
      "0.214\n",
      "0.100\n",
      "0.100\n",
      "0.100\n",
      "0.519\n",
      "0.182\n",
      "0.596\n",
      "0.377\n",
      "0.146\n",
      "0.453\n",
      "0.939\n",
      "1.000\n",
      "0.933\n"
     ]
    }
   ],
   "source": [
    "with open(\"fe_performance.json\", \"r\") as outfile:\n",
    "    data = json.load(outfile)\n",
    "    for model_label, acc_dict in data.items():\n",
    "        print(f\"{acc_dict['test_acc']:.3f}\")"
   ]
  },
  {
   "cell_type": "code",
   "execution_count": 11,
   "metadata": {},
   "outputs": [
    {
     "name": "stdout",
     "output_type": "stream",
     "text": [
      "Teacher MODEL-normalized DATA-normalized LOAD-model-normalized\n",
      "Independent MODEL-normalized DATA-normalized LOAD-model-normalized\n",
      "Diff. Arch. MODEL-normalized DATA-normalized LOAD-model-normalized\n",
      "Teacher MODEL-normalized DATA-unnormalized LOAD-model-normalized\n",
      "Independent MODEL-normalized DATA-unnormalized LOAD-model-normalized\n",
      "Diff. Arch. MODEL-normalized DATA-unnormalized LOAD-model-normalized\n",
      "Teacher MODEL-unnormalized DATA-normalized LOAD-model-normalized\n",
      "Independent MODEL-unnormalized DATA-normalized LOAD-model-normalized\n",
      "Diff. Arch. MODEL-unnormalized DATA-normalized LOAD-model-normalized\n",
      "Teacher MODEL-unnormalized DATA-unnormalized LOAD-model-normalized\n",
      "Independent MODEL-unnormalized DATA-unnormalized LOAD-model-normalized\n",
      "Diff. Arch. MODEL-unnormalized DATA-unnormalized LOAD-model-normalized\n",
      "Teacher MODEL-normalized DATA-normalized LOAD-model-unnormalized\n",
      "Independent MODEL-normalized DATA-normalized LOAD-model-unnormalized\n",
      "Diff. Arch. MODEL-normalized DATA-normalized LOAD-model-unnormalized\n",
      "Teacher MODEL-normalized DATA-unnormalized LOAD-model-unnormalized\n",
      "Independent MODEL-normalized DATA-unnormalized LOAD-model-unnormalized\n",
      "Diff. Arch. MODEL-normalized DATA-unnormalized LOAD-model-unnormalized\n",
      "Teacher MODEL-unnormalized DATA-normalized LOAD-model-unnormalized\n",
      "Independent MODEL-unnormalized DATA-normalized LOAD-model-unnormalized\n",
      "Diff. Arch. MODEL-unnormalized DATA-normalized LOAD-model-unnormalized\n",
      "Teacher MODEL-unnormalized DATA-unnormalized LOAD-model-unnormalized\n",
      "Independent MODEL-unnormalized DATA-unnormalized LOAD-model-unnormalized\n",
      "Diff. Arch. MODEL-unnormalized DATA-unnormalized LOAD-model-unnormalized\n"
     ]
    }
   ],
   "source": [
    "for label in LABELS:\n",
    "    l1 = label[0]\n",
    "    l2 = label[1]\n",
    "    l3 = label[2]\n",
    "\n",
    "    model_type_str = L1__MODEL_TYPE_MAP[l1]\n",
    "    model_norm_str = \"normalized\" if L2__MODEL_NORM_MAP[l2] else \"unnormalized\"\n",
    "    data_norm_str = \"normalized\" if L2__DATA_NORM_MAP[l2] else \"unnormalized\"\n",
    "    load_norm_str = \"normalized\" if L3__LOAD_NORM_MAP[l3] else \"unnormalized\"\n",
    "\n",
    "    file_name = f\"model_{model_type_str}_model-{model_norm_str}_data-{data_norm_str}_load-model-{load_norm_str}\"\n",
    "    key_name = f\"{model_type_str}_model-{model_norm_str}_data-{data_norm_str}_load-model-{load_norm_str}\"\n",
    "    display_name = f\"{L1__MODEL_TYPE_DISPLAY_MAP[l1]} MODEL-{model_norm_str} DATA-{data_norm_str} LOAD-model-{load_norm_str}\"\n",
    "    print(display_name)\n",
    "    # print(key_name)"
   ]
  }
 ],
 "metadata": {
  "kernelspec": {
   "display_name": "Python 3.8.12 ('DIenv')",
   "language": "python",
   "name": "python3"
  },
  "language_info": {
   "codemirror_mode": {
    "name": "ipython",
    "version": 3
   },
   "file_extension": ".py",
   "mimetype": "text/x-python",
   "name": "python",
   "nbconvert_exporter": "python",
   "pygments_lexer": "ipython3",
   "version": "3.8.12"
  },
  "orig_nbformat": 4,
  "vscode": {
   "interpreter": {
    "hash": "01ff145a580a012fbee101d68df8ff40de9b5a3386bbca8e9b7074444281a989"
   }
  }
 },
 "nbformat": 4,
 "nbformat_minor": 2
}
