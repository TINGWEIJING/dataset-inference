{
 "cells": [
  {
   "cell_type": "code",
   "execution_count": 1,
   "metadata": {},
   "outputs": [],
   "source": [
    "import json\n",
    "import types\n",
    "from collections import OrderedDict\n",
    "from pathlib import Path\n",
    "from pprint import pprint\n",
    "\n",
    "import torch\n",
    "import torch.nn as nn\n",
    "\n",
    "from dataset import get_new_dataloader\n",
    "from funcs import get_dataloaders\n",
    "from models import PreActResNet18, WideResNet\n",
    "from train import epoch, epoch_test\n"
   ]
  },
  {
   "cell_type": "code",
   "execution_count": 2,
   "metadata": {},
   "outputs": [],
   "source": [
    "# constant\n",
    "CWD_PATH = Path.cwd()\n",
    "MODEL_DIR_PATH = CWD_PATH.parent / \"models/CIFAR10-CINIC10-EXCL\"\n",
    "LABELS = [\n",
    "    \"model_teacher_normalized_0.0\",\n",
    "    \"model_teacher_normalized_0.1\",\n",
    "    \"model_teacher_normalized_0.2\",\n",
    "    \"model_teacher_normalized_0.3\",\n",
    "    \"model_teacher_normalized_0.5\",\n",
    "    \"model_teacher_normalized_0.7\",\n",
    "    \"model_teacher_normalized_0.8\",\n",
    "    \"model_teacher_normalized_0.9\",\n",
    "    \"model_teacher_normalized_1.0\",\n",
    "]"
   ]
  },
  {
   "cell_type": "code",
   "execution_count": 3,
   "metadata": {},
   "outputs": [],
   "source": [
    "def load_model(\n",
    "    model_type: str,\n",
    "    location: str,\n",
    "    model_normalize: bool,\n",
    "):\n",
    "    device = torch.device(\"cuda:{0}\".format(0) if torch.cuda.is_available() else \"cpu\")\n",
    "\n",
    "    # load model CIFAR10\n",
    "    if model_type == \"pre-act-18\":\n",
    "        model = PreActResNet18(num_classes=10, normalize=model_normalize)\n",
    "    elif model_type == \"independent\":\n",
    "        model = WideResNet(\n",
    "            n_classes=10,\n",
    "            depth=16,  # deep_full for CIFAR10\n",
    "            widen_factor=1,\n",
    "            normalize=model_normalize,\n",
    "            dropRate=0.3,\n",
    "        )\n",
    "    else:\n",
    "        model = WideResNet(\n",
    "            n_classes=10,\n",
    "            depth=28,  # deep_full for CIFAR10\n",
    "            widen_factor=10,\n",
    "            normalize=model_normalize,\n",
    "            dropRate=0.3,\n",
    "        )\n",
    "\n",
    "    try:\n",
    "        model = model.to(device)\n",
    "        model.load_state_dict(torch.load(location, map_location=device))\n",
    "    except:\n",
    "        model = nn.DataParallel(model).to(device)\n",
    "        model.load_state_dict(torch.load(location, map_location=device))\n",
    "    model.eval()\n",
    "    return model\n"
   ]
  },
  {
   "cell_type": "code",
   "execution_count": 4,
   "metadata": {},
   "outputs": [
    {
     "name": "stdout",
     "output_type": "stream",
     "text": [
      "/data/weijing/DI-ting_cifar-cinic/models/CIFAR10-CINIC10-EXCL/model_teacher_normalized_0.0/final.pt\n",
      "No Transform\n",
      "Files already downloaded and verified\n",
      "Files already downloaded and verified\n",
      "No Transform\n",
      "Files already downloaded and verified\n",
      "Files already downloaded and verified\n"
     ]
    },
    {
     "name": "stderr",
     "output_type": "stream",
     "text": [
      "100%|██████████| 50/50 [00:32<00:00,  1.52it/s]\n"
     ]
    },
    {
     "name": "stdout",
     "output_type": "stream",
     "text": [
      "0.8003\n",
      "0.7983\n",
      "/data/weijing/DI-ting_cifar-cinic/models/CIFAR10-CINIC10-EXCL/model_teacher_normalized_0.1/final.pt\n",
      "No Transform\n",
      "Files already downloaded and verified\n",
      "Files already downloaded and verified\n",
      "No Transform\n",
      "Files already downloaded and verified\n",
      "Files already downloaded and verified\n"
     ]
    },
    {
     "name": "stderr",
     "output_type": "stream",
     "text": [
      "100%|██████████| 50/50 [00:27<00:00,  1.79it/s]\n"
     ]
    },
    {
     "name": "stdout",
     "output_type": "stream",
     "text": [
      "0.89872\n",
      "0.8859\n",
      "/data/weijing/DI-ting_cifar-cinic/models/CIFAR10-CINIC10-EXCL/model_teacher_normalized_0.2/final.pt\n",
      "No Transform\n",
      "Files already downloaded and verified\n",
      "Files already downloaded and verified\n",
      "No Transform\n",
      "Files already downloaded and verified\n",
      "Files already downloaded and verified\n"
     ]
    },
    {
     "name": "stderr",
     "output_type": "stream",
     "text": [
      "100%|██████████| 50/50 [00:27<00:00,  1.79it/s]\n"
     ]
    },
    {
     "name": "stdout",
     "output_type": "stream",
     "text": [
      "0.92894\n",
      "0.9113\n",
      "/data/weijing/DI-ting_cifar-cinic/models/CIFAR10-CINIC10-EXCL/model_teacher_normalized_0.3/final.pt\n",
      "No Transform\n",
      "Files already downloaded and verified\n",
      "Files already downloaded and verified\n",
      "No Transform\n",
      "Files already downloaded and verified\n",
      "Files already downloaded and verified\n"
     ]
    },
    {
     "name": "stderr",
     "output_type": "stream",
     "text": [
      "100%|██████████| 50/50 [00:27<00:00,  1.79it/s]\n"
     ]
    },
    {
     "name": "stdout",
     "output_type": "stream",
     "text": [
      "0.94418\n",
      "0.9164\n",
      "/data/weijing/DI-ting_cifar-cinic/models/CIFAR10-CINIC10-EXCL/model_teacher_normalized_0.5/final.pt\n",
      "No Transform\n",
      "Files already downloaded and verified\n",
      "Files already downloaded and verified\n",
      "No Transform\n",
      "Files already downloaded and verified\n",
      "Files already downloaded and verified\n"
     ]
    },
    {
     "name": "stderr",
     "output_type": "stream",
     "text": [
      "100%|██████████| 50/50 [00:27<00:00,  1.79it/s]\n"
     ]
    },
    {
     "name": "stdout",
     "output_type": "stream",
     "text": [
      "0.96552\n",
      "0.926\n",
      "/data/weijing/DI-ting_cifar-cinic/models/CIFAR10-CINIC10-EXCL/model_teacher_normalized_0.7/final.pt\n",
      "No Transform\n",
      "Files already downloaded and verified\n",
      "Files already downloaded and verified\n",
      "No Transform\n",
      "Files already downloaded and verified\n",
      "Files already downloaded and verified\n"
     ]
    },
    {
     "name": "stderr",
     "output_type": "stream",
     "text": [
      "100%|██████████| 50/50 [00:28<00:00,  1.79it/s]\n"
     ]
    },
    {
     "name": "stdout",
     "output_type": "stream",
     "text": [
      "0.98104\n",
      "0.9299\n",
      "/data/weijing/DI-ting_cifar-cinic/models/CIFAR10-CINIC10-EXCL/model_teacher_normalized_0.8/final.pt\n",
      "No Transform\n",
      "Files already downloaded and verified\n",
      "Files already downloaded and verified\n",
      "No Transform\n",
      "Files already downloaded and verified\n",
      "Files already downloaded and verified\n"
     ]
    },
    {
     "name": "stderr",
     "output_type": "stream",
     "text": [
      "100%|██████████| 50/50 [00:27<00:00,  1.79it/s]\n"
     ]
    },
    {
     "name": "stdout",
     "output_type": "stream",
     "text": [
      "0.9875\n",
      "0.9365\n",
      "/data/weijing/DI-ting_cifar-cinic/models/CIFAR10-CINIC10-EXCL/model_teacher_normalized_0.9/final.pt\n",
      "No Transform\n",
      "Files already downloaded and verified\n",
      "Files already downloaded and verified\n",
      "No Transform\n",
      "Files already downloaded and verified\n",
      "Files already downloaded and verified\n"
     ]
    },
    {
     "name": "stderr",
     "output_type": "stream",
     "text": [
      "100%|██████████| 50/50 [00:27<00:00,  1.79it/s]\n"
     ]
    },
    {
     "name": "stdout",
     "output_type": "stream",
     "text": [
      "0.99446\n",
      "0.9417\n",
      "/data/weijing/DI-ting_cifar-cinic/models/CIFAR10-CINIC10-EXCL/model_teacher_normalized_1.0/final.pt\n",
      "No Transform\n",
      "Files already downloaded and verified\n",
      "Files already downloaded and verified\n",
      "No Transform\n",
      "Files already downloaded and verified\n",
      "Files already downloaded and verified\n"
     ]
    },
    {
     "name": "stderr",
     "output_type": "stream",
     "text": [
      "100%|██████████| 50/50 [00:28<00:00,  1.78it/s]\n"
     ]
    },
    {
     "name": "stdout",
     "output_type": "stream",
     "text": [
      "1.0\n",
      "0.9424\n"
     ]
    }
   ],
   "source": [
    "model_name__acc = OrderedDict()\n",
    "\n",
    "# model performance in FE\n",
    "for label in LABELS:\n",
    "    model_path = MODEL_DIR_PATH / label / \"final.pt\"\n",
    "    print(model_path)\n",
    "    model = load_model(\n",
    "        model_type=\"teacher\",\n",
    "        location=str(model_path),\n",
    "        model_normalize=True,\n",
    "    )\n",
    "\n",
    "    train_loader, test_loader = get_dataloaders(\n",
    "        dataset=\"CIFAR10\",\n",
    "        batch_size=1000,\n",
    "        pseudo_labels=False,\n",
    "        normalize=False,\n",
    "        train_shuffle=False,\n",
    "    )\n",
    "\n",
    "    args = types.SimpleNamespace()\n",
    "    device = torch.device(\"cuda:{0}\".format(0) if torch.cuda.is_available() else \"cpu\")\n",
    "    args.device = device\n",
    "    args.mode = \"teacher\"\n",
    "\n",
    "    _, train_acc = epoch(\n",
    "        args,\n",
    "        train_loader,\n",
    "        model,\n",
    "        teacher=None,\n",
    "        lr_schedule=None,\n",
    "        epoch_i=None,\n",
    "        opt=None,\n",
    "    )\n",
    "    _, test_acc = epoch_test(\n",
    "        args,\n",
    "        test_loader,\n",
    "        model,\n",
    "    )\n",
    "    print(train_acc)\n",
    "    print(test_acc)\n",
    "\n",
    "    model_name__acc[label] = {\n",
    "        \"train_acc\": train_acc,\n",
    "        \"test_acc\": test_acc,\n",
    "    }\n",
    "\n"
   ]
  },
  {
   "cell_type": "code",
   "execution_count": 5,
   "metadata": {},
   "outputs": [
    {
     "name": "stdout",
     "output_type": "stream",
     "text": [
      "OrderedDict([('model_teacher_normalized_0.0',\n",
      "              {'test_acc': 0.7983, 'train_acc': 0.8003}),\n",
      "             ('model_teacher_normalized_0.1',\n",
      "              {'test_acc': 0.8859, 'train_acc': 0.89872}),\n",
      "             ('model_teacher_normalized_0.2',\n",
      "              {'test_acc': 0.9113, 'train_acc': 0.92894}),\n",
      "             ('model_teacher_normalized_0.3',\n",
      "              {'test_acc': 0.9164, 'train_acc': 0.94418}),\n",
      "             ('model_teacher_normalized_0.5',\n",
      "              {'test_acc': 0.926, 'train_acc': 0.96552}),\n",
      "             ('model_teacher_normalized_0.7',\n",
      "              {'test_acc': 0.9299, 'train_acc': 0.98104}),\n",
      "             ('model_teacher_normalized_0.8',\n",
      "              {'test_acc': 0.9365, 'train_acc': 0.9875}),\n",
      "             ('model_teacher_normalized_0.9',\n",
      "              {'test_acc': 0.9417, 'train_acc': 0.99446}),\n",
      "             ('model_teacher_normalized_1.0',\n",
      "              {'test_acc': 0.9424, 'train_acc': 1.0})])\n"
     ]
    }
   ],
   "source": [
    "pprint(model_name__acc)\n",
    "\n",
    "# Serializing json\n",
    "json_object = json.dumps(model_name__acc, indent=2)\n",
    " \n",
    "# Writing to sample.json\n",
    "with open(\"fe_performance.json\", \"w\") as outfile:\n",
    "    outfile.write(json_object)"
   ]
  },
  {
   "cell_type": "code",
   "execution_count": 6,
   "metadata": {},
   "outputs": [
    {
     "data": {
      "text/html": [
       "<div>\n",
       "<style scoped>\n",
       "    .dataframe tbody tr th:only-of-type {\n",
       "        vertical-align: middle;\n",
       "    }\n",
       "\n",
       "    .dataframe tbody tr th {\n",
       "        vertical-align: top;\n",
       "    }\n",
       "\n",
       "    .dataframe thead th {\n",
       "        text-align: right;\n",
       "    }\n",
       "</style>\n",
       "<table border=\"1\" class=\"dataframe\">\n",
       "  <thead>\n",
       "    <tr style=\"text-align: right;\">\n",
       "      <th></th>\n",
       "      <th>Model</th>\n",
       "      <th>Train Acc</th>\n",
       "      <th>Test Acc</th>\n",
       "    </tr>\n",
       "  </thead>\n",
       "  <tbody>\n",
       "    <tr>\n",
       "      <th>0</th>\n",
       "      <td>0 CIFAR | 100 CINIC</td>\n",
       "      <td>0.80030</td>\n",
       "      <td>0.7983</td>\n",
       "    </tr>\n",
       "    <tr>\n",
       "      <th>1</th>\n",
       "      <td>10 CIFAR | 90 CINIC</td>\n",
       "      <td>0.89872</td>\n",
       "      <td>0.8859</td>\n",
       "    </tr>\n",
       "    <tr>\n",
       "      <th>2</th>\n",
       "      <td>20 CIFAR | 80 CINIC</td>\n",
       "      <td>0.92894</td>\n",
       "      <td>0.9113</td>\n",
       "    </tr>\n",
       "    <tr>\n",
       "      <th>3</th>\n",
       "      <td>30 CIFAR | 70 CINIC</td>\n",
       "      <td>0.94418</td>\n",
       "      <td>0.9164</td>\n",
       "    </tr>\n",
       "    <tr>\n",
       "      <th>4</th>\n",
       "      <td>50 CIFAR | 50 CINIC</td>\n",
       "      <td>0.96552</td>\n",
       "      <td>0.9260</td>\n",
       "    </tr>\n",
       "    <tr>\n",
       "      <th>5</th>\n",
       "      <td>70 CIFAR | 30 CINIC</td>\n",
       "      <td>0.98104</td>\n",
       "      <td>0.9299</td>\n",
       "    </tr>\n",
       "    <tr>\n",
       "      <th>6</th>\n",
       "      <td>80 CIFAR | 20 CINIC</td>\n",
       "      <td>0.98750</td>\n",
       "      <td>0.9365</td>\n",
       "    </tr>\n",
       "    <tr>\n",
       "      <th>7</th>\n",
       "      <td>90 CIFAR | 10 CINIC</td>\n",
       "      <td>0.99446</td>\n",
       "      <td>0.9417</td>\n",
       "    </tr>\n",
       "    <tr>\n",
       "      <th>8</th>\n",
       "      <td>100 CIFAR | 0 CINIC</td>\n",
       "      <td>1.00000</td>\n",
       "      <td>0.9424</td>\n",
       "    </tr>\n",
       "  </tbody>\n",
       "</table>\n",
       "</div>"
      ],
      "text/plain": [
       "                 Model  Train Acc  Test Acc\n",
       "0  0 CIFAR | 100 CINIC    0.80030    0.7983\n",
       "1  10 CIFAR | 90 CINIC    0.89872    0.8859\n",
       "2  20 CIFAR | 80 CINIC    0.92894    0.9113\n",
       "3  30 CIFAR | 70 CINIC    0.94418    0.9164\n",
       "4  50 CIFAR | 50 CINIC    0.96552    0.9260\n",
       "5  70 CIFAR | 30 CINIC    0.98104    0.9299\n",
       "6  80 CIFAR | 20 CINIC    0.98750    0.9365\n",
       "7  90 CIFAR | 10 CINIC    0.99446    0.9417\n",
       "8  100 CIFAR | 0 CINIC    1.00000    0.9424"
      ]
     },
     "execution_count": 6,
     "metadata": {},
     "output_type": "execute_result"
    }
   ],
   "source": [
    "import pandas as pd\n",
    "\n",
    "model_label_col = [\n",
    "    \"0 CIFAR | 100 CINIC\",\n",
    "    \"10 CIFAR | 90 CINIC\",\n",
    "    \"20 CIFAR | 80 CINIC\",\n",
    "    \"30 CIFAR | 70 CINIC\",\n",
    "    \"50 CIFAR | 50 CINIC\",\n",
    "    \"70 CIFAR | 30 CINIC\",\n",
    "    \"80 CIFAR | 20 CINIC\",\n",
    "    \"90 CIFAR | 10 CINIC\",\n",
    "    \"100 CIFAR | 0 CINIC\",\n",
    "]\n",
    "train_acc_col = []\n",
    "test_acc_col = []\n",
    "\n",
    "for model_label, acc_data in model_name__acc.items():\n",
    "    train_acc_col.append(acc_data[\"train_acc\"])\n",
    "    test_acc_col.append(acc_data[\"test_acc\"])\n",
    "\n",
    "data = {\n",
    "    \"Model\": model_label_col,\n",
    "    \"Train Acc\": train_acc_col,\n",
    "    \"Test Acc\": test_acc_col,\n",
    "}\n",
    "\n",
    "pd.DataFrame.from_dict(data)\n"
   ]
  },
  {
   "cell_type": "markdown",
   "metadata": {},
   "source": [
    "## Read"
   ]
  },
  {
   "cell_type": "code",
   "execution_count": 9,
   "metadata": {},
   "outputs": [
    {
     "name": "stdout",
     "output_type": "stream",
     "text": [
      "0.398\n",
      "0.140\n",
      "0.394\n",
      "0.942\n",
      "1.000\n",
      "0.932\n",
      "0.941\n",
      "0.997\n",
      "0.930\n",
      "0.392\n",
      "0.363\n",
      "0.214\n",
      "0.100\n",
      "0.100\n",
      "0.100\n",
      "0.519\n",
      "0.182\n",
      "0.596\n",
      "0.377\n",
      "0.146\n",
      "0.453\n",
      "0.939\n",
      "1.000\n",
      "0.933\n"
     ]
    }
   ],
   "source": [
    "with open(\"fe_performance.json\", \"r\") as outfile:\n",
    "    data = json.load(outfile)\n",
    "    for model_label, acc_dict in data.items():\n",
    "        print(f\"{acc_dict['test_acc']:.3f}\")"
   ]
  },
  {
   "cell_type": "code",
   "execution_count": 11,
   "metadata": {},
   "outputs": [
    {
     "name": "stdout",
     "output_type": "stream",
     "text": [
      "Teacher MODEL-normalized DATA-normalized LOAD-model-normalized\n",
      "Independent MODEL-normalized DATA-normalized LOAD-model-normalized\n",
      "Diff. Arch. MODEL-normalized DATA-normalized LOAD-model-normalized\n",
      "Teacher MODEL-normalized DATA-unnormalized LOAD-model-normalized\n",
      "Independent MODEL-normalized DATA-unnormalized LOAD-model-normalized\n",
      "Diff. Arch. MODEL-normalized DATA-unnormalized LOAD-model-normalized\n",
      "Teacher MODEL-unnormalized DATA-normalized LOAD-model-normalized\n",
      "Independent MODEL-unnormalized DATA-normalized LOAD-model-normalized\n",
      "Diff. Arch. MODEL-unnormalized DATA-normalized LOAD-model-normalized\n",
      "Teacher MODEL-unnormalized DATA-unnormalized LOAD-model-normalized\n",
      "Independent MODEL-unnormalized DATA-unnormalized LOAD-model-normalized\n",
      "Diff. Arch. MODEL-unnormalized DATA-unnormalized LOAD-model-normalized\n",
      "Teacher MODEL-normalized DATA-normalized LOAD-model-unnormalized\n",
      "Independent MODEL-normalized DATA-normalized LOAD-model-unnormalized\n",
      "Diff. Arch. MODEL-normalized DATA-normalized LOAD-model-unnormalized\n",
      "Teacher MODEL-normalized DATA-unnormalized LOAD-model-unnormalized\n",
      "Independent MODEL-normalized DATA-unnormalized LOAD-model-unnormalized\n",
      "Diff. Arch. MODEL-normalized DATA-unnormalized LOAD-model-unnormalized\n",
      "Teacher MODEL-unnormalized DATA-normalized LOAD-model-unnormalized\n",
      "Independent MODEL-unnormalized DATA-normalized LOAD-model-unnormalized\n",
      "Diff. Arch. MODEL-unnormalized DATA-normalized LOAD-model-unnormalized\n",
      "Teacher MODEL-unnormalized DATA-unnormalized LOAD-model-unnormalized\n",
      "Independent MODEL-unnormalized DATA-unnormalized LOAD-model-unnormalized\n",
      "Diff. Arch. MODEL-unnormalized DATA-unnormalized LOAD-model-unnormalized\n"
     ]
    }
   ],
   "source": [
    "for label in LABELS:\n",
    "    l1 = label[0]\n",
    "    l2 = label[1]\n",
    "    l3 = label[2]\n",
    "\n",
    "    model_type_str = L1__MODEL_TYPE_MAP[l1]\n",
    "    model_norm_str = \"normalized\" if L2__MODEL_NORM_MAP[l2] else \"unnormalized\"\n",
    "    data_norm_str = \"normalized\" if L2__DATA_NORM_MAP[l2] else \"unnormalized\"\n",
    "    load_norm_str = \"normalized\" if L3__LOAD_NORM_MAP[l3] else \"unnormalized\"\n",
    "\n",
    "    file_name = f\"model_{model_type_str}_model-{model_norm_str}_data-{data_norm_str}_load-model-{load_norm_str}\"\n",
    "    key_name = f\"{model_type_str}_model-{model_norm_str}_data-{data_norm_str}_load-model-{load_norm_str}\"\n",
    "    display_name = f\"{L1__MODEL_TYPE_DISPLAY_MAP[l1]} MODEL-{model_norm_str} DATA-{data_norm_str} LOAD-model-{load_norm_str}\"\n",
    "    print(display_name)\n",
    "    # print(key_name)"
   ]
  }
 ],
 "metadata": {
  "kernelspec": {
   "display_name": "Python 3.8.12 ('DIenv')",
   "language": "python",
   "name": "python3"
  },
  "language_info": {
   "codemirror_mode": {
    "name": "ipython",
    "version": 3
   },
   "file_extension": ".py",
   "mimetype": "text/x-python",
   "name": "python",
   "nbconvert_exporter": "python",
   "pygments_lexer": "ipython3",
   "version": "3.8.12"
  },
  "orig_nbformat": 4,
  "vscode": {
   "interpreter": {
    "hash": "01ff145a580a012fbee101d68df8ff40de9b5a3386bbca8e9b7074444281a989"
   }
  }
 },
 "nbformat": 4,
 "nbformat_minor": 2
}
