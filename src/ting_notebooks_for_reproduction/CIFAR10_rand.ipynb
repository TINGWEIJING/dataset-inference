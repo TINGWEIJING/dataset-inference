{
 "cells": [
  {
   "cell_type": "code",
   "execution_count": 1,
   "id": "given-exhaust",
   "metadata": {
    "execution": {
     "iopub.execute_input": "2021-03-18T08:36:38.362271Z",
     "iopub.status.busy": "2021-03-18T08:36:38.361708Z",
     "iopub.status.idle": "2021-03-18T08:36:38.365627Z",
     "shell.execute_reply": "2021-03-18T08:36:38.365103Z"
    },
    "papermill": {
     "duration": 0.057215,
     "end_time": "2021-03-18T08:36:38.365764",
     "exception": false,
     "start_time": "2021-03-18T08:36:38.308549",
     "status": "completed"
    },
    "tags": [
     "parameters"
    ]
   },
   "outputs": [],
   "source": [
    "# Parameters\n",
    "# dataset = \"CIFAR10\" # CIFAR10, CIFAR100, SVHN\n",
    "# v_type = \"mingd\" # mingd, rand\n",
    "# root_path = \"/data/weijing/dataset-inference/files\"\n",
    "# params_path = \"/data/weijing/dataset-inference/src\"\n",
    "# split_index = 500\n"
   ]
  },
  {
   "cell_type": "code",
   "execution_count": 2,
   "id": "severe-brooklyn",
   "metadata": {
    "execution": {
     "iopub.execute_input": "2021-03-18T08:36:38.450794Z",
     "iopub.status.busy": "2021-03-18T08:36:38.450236Z",
     "iopub.status.idle": "2021-03-18T08:36:38.454169Z",
     "shell.execute_reply": "2021-03-18T08:36:38.453468Z"
    },
    "papermill": {
     "duration": 0.046844,
     "end_time": "2021-03-18T08:36:38.454319",
     "exception": false,
     "start_time": "2021-03-18T08:36:38.407475",
     "status": "completed"
    },
    "tags": [
     "injected-parameters"
    ]
   },
   "outputs": [],
   "source": [
    "# Parameters\n",
    "dataset = \"CIFAR10\"\n",
    "v_type = \"rand\"\n",
    "root_path = \"/data/weijing/dataset-inference/files\"\n",
    "params_path = \"/data/weijing/dataset-inference/src\"\n",
    "split_index = 500\n"
   ]
  },
  {
   "cell_type": "code",
   "execution_count": 3,
   "id": "solar-chess",
   "metadata": {
    "execution": {
     "iopub.execute_input": "2021-03-18T08:36:38.548744Z",
     "iopub.status.busy": "2021-03-18T08:36:38.538303Z",
     "iopub.status.idle": "2021-03-18T08:36:38.552906Z",
     "shell.execute_reply": "2021-03-18T08:36:38.554030Z"
    },
    "papermill": {
     "duration": 0.058239,
     "end_time": "2021-03-18T08:36:38.554320",
     "exception": false,
     "start_time": "2021-03-18T08:36:38.496081",
     "status": "completed"
    },
    "tags": []
   },
   "outputs": [
    {
     "data": {
      "text/markdown": [
       "# CIFAR10 - Blind Walk results"
      ],
      "text/plain": [
       "<IPython.core.display.Markdown object>"
      ]
     },
     "metadata": {},
     "output_type": "display_data"
    }
   ],
   "source": [
    "from IPython.display import display, Markdown\n",
    "v_type2disp = dict(mingd=\"MinGD\", rand=\"Blind Walk\")\n",
    "display(Markdown(f\"# {dataset} - {v_type2disp[v_type]} results\"))"
   ]
  },
  {
   "cell_type": "code",
   "execution_count": 4,
   "id": "inner-settle",
   "metadata": {
    "execution": {
     "iopub.execute_input": "2021-03-18T08:36:38.640573Z",
     "iopub.status.busy": "2021-03-18T08:36:38.640022Z",
     "iopub.status.idle": "2021-03-18T08:36:39.138360Z",
     "shell.execute_reply": "2021-03-18T08:36:39.139277Z"
    },
    "papermill": {
     "duration": 0.543549,
     "end_time": "2021-03-18T08:36:39.139586",
     "exception": false,
     "start_time": "2021-03-18T08:36:38.596037",
     "status": "completed"
    },
    "tags": []
   },
   "outputs": [],
   "source": [
    "import os, sys\n",
    "sys.path.insert(0, params_path)\n",
    "\n",
    "import argparse, params, time\n",
    "import numpy as np\n",
    "import torch\n",
    "import torch.nn as nn\n",
    "import torch.optim as optim\n",
    "from importlib import reload\n",
    "from tqdm.auto import tqdm\n",
    "\n",
    "import random\n",
    "\n",
    "torch.manual_seed(0)\n",
    "np.random.seed(0)\n",
    "random.seed(0)"
   ]
  },
  {
   "cell_type": "code",
   "execution_count": 5,
   "id": "naked-joining",
   "metadata": {
    "execution": {
     "iopub.execute_input": "2021-03-18T08:36:39.211483Z",
     "iopub.status.busy": "2021-03-18T08:36:39.211058Z",
     "iopub.status.idle": "2021-03-18T08:36:39.867145Z",
     "shell.execute_reply": "2021-03-18T08:36:39.866102Z"
    },
    "papermill": {
     "duration": 0.689549,
     "end_time": "2021-03-18T08:36:39.867393",
     "exception": false,
     "start_time": "2021-03-18T08:36:39.177844",
     "status": "completed"
    },
    "tags": []
   },
   "outputs": [],
   "source": [
    "import seaborn as sns\n",
    "import pandas as pd\n",
    "import os"
   ]
  },
  {
   "cell_type": "code",
   "execution_count": 6,
   "id": "vulnerable-niger",
   "metadata": {
    "execution": {
     "iopub.execute_input": "2021-03-18T08:36:39.940069Z",
     "iopub.status.busy": "2021-03-18T08:36:39.939438Z",
     "iopub.status.idle": "2021-03-18T08:36:39.942683Z",
     "shell.execute_reply": "2021-03-18T08:36:39.942061Z"
    },
    "papermill": {
     "duration": 0.03923,
     "end_time": "2021-03-18T08:36:39.942823",
     "exception": false,
     "start_time": "2021-03-18T08:36:39.903593",
     "status": "completed"
    },
    "tags": []
   },
   "outputs": [],
   "source": [
    "from scipy.stats import combine_pvalues, ttest_ind_from_stats, ttest_ind\n",
    "from functools import reduce\n",
    "from scipy.stats import hmean"
   ]
  },
  {
   "cell_type": "markdown",
   "id": "perceived-threshold",
   "metadata": {
    "papermill": {
     "duration": 0.029782,
     "end_time": "2021-03-18T08:36:40.008382",
     "exception": false,
     "start_time": "2021-03-18T08:36:39.978600",
     "status": "completed"
    },
    "tags": []
   },
   "source": [
    "## Use the full vectors to train a linear model"
   ]
  },
  {
   "cell_type": "code",
   "execution_count": 7,
   "id": "located-wages",
   "metadata": {
    "execution": {
     "iopub.execute_input": "2021-03-18T08:36:40.073371Z",
     "iopub.status.busy": "2021-03-18T08:36:40.072914Z",
     "iopub.status.idle": "2021-03-18T08:36:40.075401Z",
     "shell.execute_reply": "2021-03-18T08:36:40.075739Z"
    },
    "papermill": {
     "duration": 0.038312,
     "end_time": "2021-03-18T08:36:40.075861",
     "exception": false,
     "start_time": "2021-03-18T08:36:40.037549",
     "status": "completed"
    },
    "tags": []
   },
   "outputs": [],
   "source": [
    "root = os.path.join(root_path,dataset)\n",
    "model_types = ['zero-shot', 'prune', 'fine-tune', 'extract-label', 'extract-logit', 'distillation', 'teacher']"
   ]
  },
  {
   "cell_type": "code",
   "execution_count": 8,
   "id": "tamil-monte",
   "metadata": {
    "execution": {
     "iopub.execute_input": "2021-03-18T08:36:40.149945Z",
     "iopub.status.busy": "2021-03-18T08:36:40.149503Z",
     "iopub.status.idle": "2021-03-18T08:36:40.162711Z",
     "shell.execute_reply": "2021-03-18T08:36:40.161767Z"
    },
    "papermill": {
     "duration": 0.051905,
     "end_time": "2021-03-18T08:36:40.162938",
     "exception": false,
     "start_time": "2021-03-18T08:36:40.111033",
     "status": "completed"
    },
    "tags": []
   },
   "outputs": [],
   "source": [
    "if v_type == \"mingd\" and dataset == \"CIFAR100\": v_type = \"topgd\"\n",
    "    \n",
    "names = [\"teacher\",\"distillation\",\"extract-label\",\"extract-logit\",\"zero-shot\",\"fine-tune\",\"pre-act-18\",\"independent\"]\n",
    "trains = {}\n",
    "tests = {}\n",
    "for name in names:\n",
    "    trains[name] = (torch.load(f\"{root}/model_{name}_normalized/train_{v_type}_vulnerability.pt\"))\n",
    "    tests[name] = (torch.load(f\"{root}/model_{name}_normalized/test_{v_type}_vulnerability.pt\"))\n",
    "mean_cifar = trains[\"teacher\"].mean(dim = (0,1))\n",
    "std_cifar = trains[\"teacher\"].std(dim = (0,1))"
   ]
  },
  {
   "cell_type": "code",
   "execution_count": 9,
   "id": "russian-peoples",
   "metadata": {
    "execution": {
     "iopub.execute_input": "2021-03-18T08:36:40.239887Z",
     "iopub.status.busy": "2021-03-18T08:36:40.239136Z",
     "iopub.status.idle": "2021-03-18T08:36:40.252933Z",
     "shell.execute_reply": "2021-03-18T08:36:40.254004Z"
    },
    "papermill": {
     "duration": 0.053933,
     "end_time": "2021-03-18T08:36:40.254393",
     "exception": false,
     "start_time": "2021-03-18T08:36:40.200460",
     "status": "completed"
    },
    "tags": []
   },
   "outputs": [],
   "source": [
    "if v_type == \"mingd\":\n",
    "    for name in names:\n",
    "        trains[name] = trains[name].sort(dim = 1)[0]\n",
    "        tests[name] = tests[name].sort(dim = 1)[0]\n",
    "        \n",
    "for name in names:\n",
    "    trains[name] = (trains[name]- mean_cifar)/std_cifar\n",
    "    tests[name] = (tests[name]- mean_cifar)/std_cifar\n",
    "    \n",
    "f_num = 30\n",
    "a_num=30\n",
    "\n",
    "trains_n = {}\n",
    "tests_n = {}\n",
    "for name in names:\n",
    "    trains_n[name] = trains[name].T.reshape(1000,f_num)[:,:a_num]\n",
    "    tests_n[name] = tests[name].T.reshape(1000,f_num)[:,:a_num]"
   ]
  },
  {
   "cell_type": "code",
   "execution_count": 10,
   "id": "separate-technique",
   "metadata": {
    "execution": {
     "iopub.execute_input": "2021-03-18T08:36:40.328150Z",
     "iopub.status.busy": "2021-03-18T08:36:40.327699Z",
     "iopub.status.idle": "2021-03-18T08:36:40.332106Z",
     "shell.execute_reply": "2021-03-18T08:36:40.331713Z"
    },
    "papermill": {
     "duration": 0.039788,
     "end_time": "2021-03-18T08:36:40.332210",
     "exception": false,
     "start_time": "2021-03-18T08:36:40.292422",
     "status": "completed"
    },
    "tags": []
   },
   "outputs": [],
   "source": [
    "n_ex = split_index\n",
    "train = torch.cat((trains_n[\"teacher\"][:n_ex], tests_n[\"teacher\"][:n_ex]), dim = 0)\n",
    "y = torch.cat((torch.zeros(n_ex), torch.ones(n_ex)), dim = 0)\n",
    "\n",
    "rand=torch.randperm(y.shape[0])\n",
    "train = train[rand]\n",
    "y = y[rand]"
   ]
  },
  {
   "cell_type": "code",
   "execution_count": 11,
   "id": "european-elements",
   "metadata": {
    "execution": {
     "iopub.execute_input": "2021-03-18T08:36:40.404733Z",
     "iopub.status.busy": "2021-03-18T08:36:40.404275Z",
     "iopub.status.idle": "2021-03-18T08:36:40.408538Z",
     "shell.execute_reply": "2021-03-18T08:36:40.409113Z"
    },
    "papermill": {
     "duration": 0.041366,
     "end_time": "2021-03-18T08:36:40.409292",
     "exception": false,
     "start_time": "2021-03-18T08:36:40.367926",
     "status": "completed"
    },
    "tags": []
   },
   "outputs": [],
   "source": [
    "model = nn.Sequential(nn.Linear(a_num,100),nn.ReLU(),nn.Linear(100,1),nn.Tanh())\n",
    "criterion = nn.CrossEntropyLoss()\n",
    "optimizer =torch.optim.SGD(model.parameters(), lr=0.1)"
   ]
  },
  {
   "cell_type": "code",
   "execution_count": 12,
   "id": "funded-wilson",
   "metadata": {
    "execution": {
     "iopub.execute_input": "2021-03-18T08:36:40.483572Z",
     "iopub.status.busy": "2021-03-18T08:36:40.483118Z",
     "iopub.status.idle": "2021-03-18T08:36:43.977572Z",
     "shell.execute_reply": "2021-03-18T08:36:43.976923Z"
    },
    "papermill": {
     "duration": 3.531335,
     "end_time": "2021-03-18T08:36:43.977757",
     "exception": false,
     "start_time": "2021-03-18T08:36:40.446422",
     "status": "completed"
    },
    "scrolled": true,
    "tags": []
   },
   "outputs": [
    {
     "data": {
      "application/vnd.jupyter.widget-view+json": {
       "model_id": "c8b7a77dff9140f692c64752b053d6cb",
       "version_major": 2,
       "version_minor": 0
      },
      "text/plain": [
       "  0%|          | 0/1000 [00:00<?, ?it/s]"
      ]
     },
     "metadata": {},
     "output_type": "display_data"
    }
   ],
   "source": [
    "with tqdm(range(1000)) as pbar:\n",
    "    for epoch in pbar:\n",
    "        optimizer.zero_grad()\n",
    "        inputs = train\n",
    "        outputs = model(inputs)\n",
    "        loss = -1 * ((2*y-1)*(outputs.squeeze(-1))).mean()\n",
    "        loss.backward()\n",
    "        optimizer.step()\n",
    "        pbar.set_description('loss {}'.format(loss.item()))"
   ]
  },
  {
   "cell_type": "markdown",
   "id": "weighted-hindu",
   "metadata": {
    "papermill": {
     "duration": 0.080487,
     "end_time": "2021-03-18T08:36:44.094721",
     "exception": false,
     "start_time": "2021-03-18T08:36:44.014234",
     "status": "completed"
    },
    "tags": []
   },
   "source": [
    "## Dataset Inference"
   ]
  },
  {
   "cell_type": "code",
   "execution_count": 13,
   "id": "framed-invitation",
   "metadata": {
    "execution": {
     "iopub.execute_input": "2021-03-18T08:36:44.234002Z",
     "iopub.status.busy": "2021-03-18T08:36:44.233233Z",
     "iopub.status.idle": "2021-03-18T08:36:44.237173Z",
     "shell.execute_reply": "2021-03-18T08:36:44.236192Z"
    },
    "papermill": {
     "duration": 0.074583,
     "end_time": "2021-03-18T08:36:44.237406",
     "exception": false,
     "start_time": "2021-03-18T08:36:44.162823",
     "status": "completed"
    },
    "tags": []
   },
   "outputs": [],
   "source": [
    "def get_p(outputs_train, outputs_test):\n",
    "    pred_test = outputs_test[:,0].detach().cpu().numpy()\n",
    "    pred_train = outputs_train[:,0].detach().cpu().numpy()\n",
    "    tval, pval = ttest_ind(pred_test, pred_train, alternative=\"greater\", equal_var=False)\n",
    "    if pval < 0:\n",
    "        raise Exception(f\"p-value={pval}\")\n",
    "    return pval\n",
    "\n",
    "def get_p_values(num_ex, train, test, k):\n",
    "    total = train.shape[0]\n",
    "    sum_p = 0\n",
    "    p_values = []\n",
    "    positions_list = []\n",
    "    for i in range(k):\n",
    "        positions = torch.randperm(total)[:num_ex]\n",
    "        p_val = get_p(train[positions], test[positions])\n",
    "        positions_list.append(positions)\n",
    "        p_values.append(p_val)\n",
    "    return p_values\n",
    "\n",
    "def get_fischer(num_ex, train, test, k):\n",
    "    p_values = get_p_values(num_ex, train, test, k)\n",
    "    return combine_pvalues(p_values, method=\"mudholkar_george\")[1]\n",
    "\n",
    "def get_max_p_value(num_ex, train, test, k):\n",
    "    p_values = get_p_values(num_ex, train, test, k)\n",
    "    return max(p_values)"
   ]
  },
  {
   "cell_type": "code",
   "execution_count": 14,
   "id": "twenty-stations",
   "metadata": {
    "execution": {
     "iopub.execute_input": "2021-03-18T08:36:44.353498Z",
     "iopub.status.busy": "2021-03-18T08:36:44.352170Z",
     "iopub.status.idle": "2021-03-18T08:36:44.361968Z",
     "shell.execute_reply": "2021-03-18T08:36:44.362455Z"
    },
    "papermill": {
     "duration": 0.066918,
     "end_time": "2021-03-18T08:36:44.362627",
     "exception": false,
     "start_time": "2021-03-18T08:36:44.295709",
     "status": "completed"
    },
    "tags": []
   },
   "outputs": [],
   "source": [
    "outputs_tr = {}\n",
    "outputs_te = {}\n",
    "for name in names:\n",
    "    outputs_tr[name] = model(trains_n[name])\n",
    "    outputs_te[name] = model(tests_n[name])"
   ]
  },
  {
   "cell_type": "code",
   "execution_count": 15,
   "id": "pretty-occurrence",
   "metadata": {
    "execution": {
     "iopub.execute_input": "2021-03-18T08:36:44.470088Z",
     "iopub.status.busy": "2021-03-18T08:36:44.469511Z",
     "iopub.status.idle": "2021-03-18T08:36:44.471365Z",
     "shell.execute_reply": "2021-03-18T08:36:44.471831Z"
    },
    "papermill": {
     "duration": 0.059131,
     "end_time": "2021-03-18T08:36:44.471980",
     "exception": false,
     "start_time": "2021-03-18T08:36:44.412849",
     "status": "completed"
    },
    "tags": []
   },
   "outputs": [],
   "source": [
    "import scipy.stats as stats\n",
    "def print_inference(outputs_train, outputs_test):\n",
    "    m1, m2 = outputs_test[:,0].mean(), outputs_train[:,0].mean()\n",
    "    pval = get_p(outputs_train, outputs_test)\n",
    "    print(f\"p-value = {pval} \\t| Mean difference = {m1-m2}\")"
   ]
  },
  {
   "cell_type": "code",
   "execution_count": 16,
   "id": "australian-manitoba",
   "metadata": {
    "execution": {
     "iopub.execute_input": "2021-03-18T08:36:44.576276Z",
     "iopub.status.busy": "2021-03-18T08:36:44.575563Z",
     "iopub.status.idle": "2021-03-18T08:36:44.578232Z",
     "shell.execute_reply": "2021-03-18T08:36:44.577611Z"
    },
    "papermill": {
     "duration": 0.06996,
     "end_time": "2021-03-18T08:36:44.578384",
     "exception": false,
     "start_time": "2021-03-18T08:36:44.508424",
     "status": "completed"
    },
    "tags": []
   },
   "outputs": [],
   "source": [
    "for name in names:\n",
    "    outputs_tr[name], outputs_te[name] = outputs_tr[name][split_index:], outputs_te[name][split_index:]"
   ]
  },
  {
   "cell_type": "code",
   "execution_count": 17,
   "id": "failing-helena",
   "metadata": {
    "execution": {
     "iopub.execute_input": "2021-03-18T08:36:44.672016Z",
     "iopub.status.busy": "2021-03-18T08:36:44.671565Z",
     "iopub.status.idle": "2021-03-18T08:36:44.686372Z",
     "shell.execute_reply": "2021-03-18T08:36:44.685334Z"
    },
    "papermill": {
     "duration": 0.051181,
     "end_time": "2021-03-18T08:36:44.686598",
     "exception": false,
     "start_time": "2021-03-18T08:36:44.635417",
     "status": "completed"
    },
    "tags": []
   },
   "outputs": [
    {
     "name": "stdout",
     "output_type": "stream",
     "text": [
      "teacher\n",
      "p-value = 0.0 \t| Mean difference = 1.8276257514953613\n",
      "distillation\n",
      "p-value = 3.236951499555936e-64 \t| Mean difference = 0.8124662637710571\n",
      "extract-label\n",
      "p-value = 2.2199588391859896e-98 \t| Mean difference = 1.0219612121582031\n",
      "extract-logit\n",
      "p-value = 2.92473824074893e-103 \t| Mean difference = 1.0605945587158203\n",
      "zero-shot\n",
      "p-value = 4.683035435389522e-29 \t| Mean difference = 0.3938230872154236\n",
      "fine-tune\n",
      "p-value = 0.0 \t| Mean difference = 1.8371367454528809\n",
      "pre-act-18\n",
      "p-value = 6.72955962307138e-186 \t| Mean difference = 1.3808214664459229\n",
      "independent\n",
      "p-value = 0.9999999999999925 \t| Mean difference = -0.4200077950954437\n"
     ]
    }
   ],
   "source": [
    "for name in names:\n",
    "    print(f\"{name}\")\n",
    "    print_inference(outputs_tr[name], outputs_te[name])"
   ]
  },
  {
   "cell_type": "markdown",
   "id": "blond-payment",
   "metadata": {
    "papermill": {
     "duration": 0.031666,
     "end_time": "2021-03-18T08:36:44.758214",
     "exception": false,
     "start_time": "2021-03-18T08:36:44.726548",
     "status": "completed"
    },
    "tags": []
   },
   "source": [
    "## Main Loop"
   ]
  },
  {
   "cell_type": "code",
   "execution_count": 18,
   "id": "silver-yahoo",
   "metadata": {
    "execution": {
     "iopub.execute_input": "2021-03-18T08:36:44.840854Z",
     "iopub.status.busy": "2021-03-18T08:36:44.839595Z",
     "iopub.status.idle": "2021-03-18T08:36:44.950200Z",
     "shell.execute_reply": "2021-03-18T08:36:44.948969Z"
    },
    "papermill": {
     "duration": 0.1594,
     "end_time": "2021-03-18T08:36:44.950451",
     "exception": false,
     "start_time": "2021-03-18T08:36:44.791051",
     "status": "completed"
    },
    "tags": []
   },
   "outputs": [],
   "source": [
    "if not os.path.exists(f\"{dataset}_{v_type}.h5\"):\n",
    "    total_reps = 40\n",
    "    max_m = 45\n",
    "    total_inner_rep = 100\n",
    "\n",
    "    m_list = [x for x in range(2, max_m, 1)]\n",
    "    p_values_all_threat_models_dict = {}\n",
    "\n",
    "    n_pbar = tqdm(names, leave=False)\n",
    "    for name in n_pbar:\n",
    "        p_vals_per_rep_no = {}\n",
    "        r_pbar = tqdm(range(total_reps), leave=False)\n",
    "        for rep_no in r_pbar:\n",
    "            p_values_list = []\n",
    "            for m in m_list:\n",
    "                p_list = get_p_values(m, outputs_tr[name], outputs_te[name], total_inner_rep)\n",
    "                try:\n",
    "                    hm = hmean(p_list)\n",
    "                except:\n",
    "                    hm = 1.0\n",
    "                p_values_list.append(hm)\n",
    "                pbar.set_description(f\"{rep_no: 2d} {name} m={m: 3d}: f{hm: 0.5f}\")\n",
    "            r_pbar.set_description(f\"rep_no: {rep_no+1}/{total_reps}\")\n",
    "            p_vals_per_rep_no[rep_no] = p_values_list\n",
    "        p_values_all_threat_models_dict[name] = p_vals_per_rep_no\n",
    "        \n",
    "    df_list = []\n",
    "    for name, rep_dict in p_values_all_threat_models_dict.items():\n",
    "        df = pd.DataFrame(rep_dict).reset_index().assign(m=lambda r: r.index+2).drop([\"index\"], axis=1)\n",
    "        df_list.append(pd.melt(df,id_vars=[\"m\"], var_name=\"rep_no\", value_name=\"p_value\").assign(threat_model=name))\n",
    "    results_df = pd.concat(df_list)\n",
    "    \n",
    "    results_df.to_hdf(f\"{dataset}_{v_type}.h5\", v_type)\n",
    "    results_df\n",
    "else:\n",
    "    results_df = pd.read_hdf(f\"{dataset}_{v_type}.h5\", v_type)"
   ]
  },
  {
   "cell_type": "markdown",
   "id": "selected-hamburg",
   "metadata": {
    "papermill": {
     "duration": 0.032992,
     "end_time": "2021-03-18T08:36:45.023110",
     "exception": false,
     "start_time": "2021-03-18T08:36:44.990118",
     "status": "completed"
    },
    "tags": []
   },
   "source": [
    "#### Plotting"
   ]
  },
  {
   "cell_type": "code",
   "execution_count": 19,
   "id": "previous-clearing",
   "metadata": {
    "execution": {
     "iopub.execute_input": "2021-03-18T08:36:45.090530Z",
     "iopub.status.busy": "2021-03-18T08:36:45.090086Z",
     "iopub.status.idle": "2021-03-18T08:36:45.092885Z",
     "shell.execute_reply": "2021-03-18T08:36:45.092503Z"
    },
    "papermill": {
     "duration": 0.038517,
     "end_time": "2021-03-18T08:36:45.092991",
     "exception": false,
     "start_time": "2021-03-18T08:36:45.054474",
     "status": "completed"
    },
    "tags": []
   },
   "outputs": [],
   "source": [
    "import matplotlib as mpl\n",
    "import matplotlib.pyplot as plt\n",
    "\n",
    "mpl.rcParams['text.latex.preamble'] = r'\\usepackage{times}'\n",
    "\n",
    "plt.rcParams.update({\n",
    "    \"text.usetex\": True,\n",
    "})"
   ]
  },
  {
   "cell_type": "markdown",
   "id": "forbidden-attitude",
   "metadata": {
    "papermill": {
     "duration": 0.031412,
     "end_time": "2021-03-18T08:36:45.160359",
     "exception": false,
     "start_time": "2021-03-18T08:36:45.128947",
     "status": "completed"
    },
    "tags": []
   },
   "source": [
    "#### Renaming"
   ]
  },
  {
   "cell_type": "code",
   "execution_count": 20,
   "id": "engaging-theory",
   "metadata": {
    "execution": {
     "iopub.execute_input": "2021-03-18T08:36:45.230855Z",
     "iopub.status.busy": "2021-03-18T08:36:45.230202Z",
     "iopub.status.idle": "2021-03-18T08:36:45.234004Z",
     "shell.execute_reply": "2021-03-18T08:36:45.233355Z"
    },
    "papermill": {
     "duration": 0.0421,
     "end_time": "2021-03-18T08:36:45.234141",
     "exception": false,
     "start_time": "2021-03-18T08:36:45.192041",
     "status": "completed"
    },
    "tags": []
   },
   "outputs": [],
   "source": [
    "rename_dict = {\n",
    "    \"threat_model\": \"Threat Model\", \n",
    "    \"teacher\": \"Source\", \n",
    "    \"distillation\": \"Distillation\", \n",
    "    \"extract-label\": \"Label-Query\", \n",
    "    \"extract-logit\": \"Logit-Query\", \n",
    "    \"zero-shot\": \"Zero-Shot Learning\",\n",
    "    \"fine-tune\": \"Fine-Tuning\",\n",
    "    \"pre-act-18\": \"Diff. Architecture\",\n",
    "    }"
   ]
  },
  {
   "cell_type": "code",
   "execution_count": 21,
   "id": "junior-being",
   "metadata": {
    "execution": {
     "iopub.execute_input": "2021-03-18T08:36:45.317532Z",
     "iopub.status.busy": "2021-03-18T08:36:45.315556Z",
     "iopub.status.idle": "2021-03-18T08:36:45.347877Z",
     "shell.execute_reply": "2021-03-18T08:36:45.346973Z"
    },
    "papermill": {
     "duration": 0.069018,
     "end_time": "2021-03-18T08:36:45.348103",
     "exception": false,
     "start_time": "2021-03-18T08:36:45.279085",
     "status": "completed"
    },
    "tags": []
   },
   "outputs": [],
   "source": [
    "plot_df = (results_df.rename(columns=rename_dict).replace(rename_dict)\n",
    "           .query('(m >= 5)')\n",
    "          )"
   ]
  },
  {
   "cell_type": "code",
   "execution_count": 22,
   "id": "hourly-cloud",
   "metadata": {
    "execution": {
     "iopub.execute_input": "2021-03-18T08:36:45.426929Z",
     "iopub.status.busy": "2021-03-18T08:36:45.426505Z",
     "iopub.status.idle": "2021-03-18T08:36:45.429293Z",
     "shell.execute_reply": "2021-03-18T08:36:45.428922Z"
    },
    "papermill": {
     "duration": 0.042398,
     "end_time": "2021-03-18T08:36:45.429396",
     "exception": false,
     "start_time": "2021-03-18T08:36:45.386998",
     "status": "completed"
    },
    "tags": []
   },
   "outputs": [],
   "source": [
    "# Sizes\n",
    "SMALL_SIZE = 14\n",
    "MEDIUM_SIZE = SMALL_SIZE + 1\n",
    "BIGGER_SIZE = MEDIUM_SIZE + 1\n",
    "plt.rc('font', size=SMALL_SIZE)          # controls default text sizes\n",
    "plt.rc('axes', titlesize=SMALL_SIZE)     # fontsize of the axes title\n",
    "plt.rc('axes', labelsize=MEDIUM_SIZE)    # fontsi ze of the x and y labels\n",
    "plt.rc('xtick', labelsize=SMALL_SIZE)    # fontsize of the tick labels\n",
    "plt.rc('ytick', labelsize=SMALL_SIZE)    # fontsize of the tick labels\n",
    "plt.rc('legend', fontsize=SMALL_SIZE)    # legend fontsize\n",
    "plt.rc('figure', titlesize=BIGGER_SIZE)  # fontsize of the figure title"
   ]
  },
  {
   "cell_type": "code",
   "execution_count": 23,
   "id": "96fd2924",
   "metadata": {},
   "outputs": [],
   "source": [
    "plot_df[plot_df.index.duplicated()]\n",
    "plot_df.reset_index(inplace=True)"
   ]
  },
  {
   "cell_type": "code",
   "execution_count": 27,
   "id": "dirty-vulnerability",
   "metadata": {
    "execution": {
     "iopub.execute_input": "2021-03-18T08:36:45.522926Z",
     "iopub.status.busy": "2021-03-18T08:36:45.521769Z",
     "iopub.status.idle": "2021-03-18T08:36:52.050080Z",
     "shell.execute_reply": "2021-03-18T08:36:52.051013Z"
    },
    "papermill": {
     "duration": 6.584773,
     "end_time": "2021-03-18T08:36:52.051307",
     "exception": false,
     "start_time": "2021-03-18T08:36:45.466534",
     "status": "completed"
    },
    "tags": []
   },
   "outputs": [
    {
     "data": {
      "text/plain": [
       "<matplotlib.legend.Legend at 0x7f27d31f32b0>"
      ]
     },
     "execution_count": 27,
     "metadata": {},
     "output_type": "execute_result"
    },
    {
     "data": {
      "image/png": "[encoded data removed]",
      "text/plain": [
       "<Figure size 800x300 with 1 Axes>"
      ]
     },
     "metadata": {
      "needs_background": "light"
     },
     "output_type": "display_data"
    }
   ],
   "source": [
    "fig, ax = plt.subplots(figsize=(8, 3), dpi=100)\n",
    "g = sns.lineplot(x=\"m\", y=\"p_value\", hue=\"Threat Model\", data=plot_df, ax=ax, ci=99)\n",
    "g.axhline(0.05, ls='--', color=\"black\", alpha=0.4)\n",
    "g.axhline(0.01, ls='--', color=\"black\", alpha=0.4)\n",
    "g.set_xlabel(\"Number of Sample Revealed\")\n",
    "g.set_ylabel(\"p-value\")\n",
    "g.set_xlim([4, 55])\n",
    "g.set_ylim([-0.005, 0.7])\n",
    "plt.legend(fontsize=8, loc=1)"
   ]
  },
  {
   "cell_type": "code",
   "execution_count": 25,
   "id": "7ec719ad",
   "metadata": {},
   "outputs": [
    {
     "ename": "AssertionError",
     "evalue": "",
     "output_type": "error",
     "traceback": [
      "\u001b[0;31m---------------------------------------------------------------------------\u001b[0m",
      "\u001b[0;31mAssertionError\u001b[0m                            Traceback (most recent call last)",
      "\u001b[1;32m/data/weijing/dataset-inference/src/ting_notebooks_for_reproduction/CIFAR10_rand.ipynb Cell 30'\u001b[0m in \u001b[0;36m<cell line: 1>\u001b[0;34m()\u001b[0m\n\u001b[0;32m----> <a href='vscode-notebook-cell://ssh-remote%2Bssh.jiuntian.com/data/weijing/dataset-inference/src/ting_notebooks_for_reproduction/CIFAR10_rand.ipynb#ch0000029vscode-remote?line=0'>1</a>\u001b[0m \u001b[39massert\u001b[39;00m \u001b[39mFalse\u001b[39;00m\n",
      "\u001b[0;31mAssertionError\u001b[0m: "
     ]
    }
   ],
   "source": [
    "assert False"
   ]
  },
  {
   "cell_type": "markdown",
   "id": "amino-microphone",
   "metadata": {
    "papermill": {
     "duration": 0.043815,
     "end_time": "2021-03-18T08:36:52.146504",
     "exception": false,
     "start_time": "2021-03-18T08:36:52.102689",
     "status": "completed"
    },
    "tags": []
   },
   "source": [
    "# Table"
   ]
  },
  {
   "cell_type": "code",
   "execution_count": null,
   "id": "opposed-inquiry",
   "metadata": {
    "execution": {
     "iopub.execute_input": "2021-03-18T08:36:52.238271Z",
     "iopub.status.busy": "2021-03-18T08:36:52.237724Z",
     "iopub.status.idle": "2021-03-18T08:36:52.652089Z",
     "shell.execute_reply": "2021-03-18T08:36:52.651089Z"
    },
    "papermill": {
     "duration": 0.461809,
     "end_time": "2021-03-18T08:36:52.652335",
     "exception": false,
     "start_time": "2021-03-18T08:36:52.190526",
     "status": "completed"
    },
    "tags": []
   },
   "outputs": [
    {
     "data": {
      "application/vnd.jupyter.widget-view+json": {
       "model_id": "8efd761f3cc3494db97b43cd65ef44be",
       "version_major": 2,
       "version_minor": 0
      },
      "text/plain": [
       "  0%|          | 0/8 [00:00<?, ?it/s]"
      ]
     },
     "metadata": {},
     "output_type": "display_data"
    }
   ],
   "source": [
    "from utils import generate_table\n",
    "tab = generate_table(selected_m=10, outputs_te=outputs_te, outputs_tr=outputs_tr, names=names)"
   ]
  },
  {
   "cell_type": "code",
   "execution_count": null,
   "id": "dedicated-proceeding",
   "metadata": {
    "execution": {
     "iopub.execute_input": "2021-03-18T08:36:52.754289Z",
     "iopub.status.busy": "2021-03-18T08:36:52.753723Z",
     "iopub.status.idle": "2021-03-18T08:36:52.758141Z",
     "shell.execute_reply": "2021-03-18T08:36:52.757468Z"
    },
    "papermill": {
     "duration": 0.056531,
     "end_time": "2021-03-18T08:36:52.758301",
     "exception": false,
     "start_time": "2021-03-18T08:36:52.701770",
     "status": "completed"
    },
    "tags": []
   },
   "outputs": [
    {
     "name": "stdout",
     "output_type": "stream",
     "text": [
      "               mean_diff  p_value\n",
      "teacher            1.823    0.000\n",
      "distillation       0.778    0.000\n",
      "pre-act-18         1.400    0.000\n",
      "zero-shot          0.406    0.010\n",
      "fine-tune          1.839    0.000\n",
      "extract-label      1.006    0.001\n",
      "extract-logit      1.048    0.000\n",
      "independent       -0.397    0.675\n"
     ]
    }
   ],
   "source": [
    "with pd.option_context(\"display.float_format\", lambda x: f\"{x: 0.3f}\"):\n",
    "    print(tab)"
   ]
  },
  {
   "cell_type": "code",
   "execution_count": null,
   "id": "excess-plane",
   "metadata": {
    "execution": {
     "iopub.execute_input": "2021-03-18T08:36:52.862810Z",
     "iopub.status.busy": "2021-03-18T08:36:52.859510Z",
     "iopub.status.idle": "2021-03-18T08:36:52.867613Z",
     "shell.execute_reply": "2021-03-18T08:36:52.866874Z"
    },
    "papermill": {
     "duration": 0.059965,
     "end_time": "2021-03-18T08:36:52.867811",
     "exception": false,
     "start_time": "2021-03-18T08:36:52.807846",
     "status": "completed"
    },
    "tags": []
   },
   "outputs": [
    {
     "name": "stdout",
     "output_type": "stream",
     "text": [
      "\\begin{tabular}{lrr}\n",
      "\\toprule\n",
      "{} & mean_diff &    p_value \\\\\n",
      "\\midrule\n",
      "teacher       &     1.823 & $10^{-42}$ \\\\\n",
      "distillation  &     0.778 & $10^{-05}$ \\\\\n",
      "pre-act-18    &     1.400 & $10^{-10}$ \\\\\n",
      "zero-shot     &     0.406 & $10^{-02}$ \\\\\n",
      "fine-tune     &     1.839 & $10^{-27}$ \\\\\n",
      "extract-label &     1.006 & $10^{-04}$ \\\\\n",
      "extract-logit &     1.048 & $10^{-04}$ \\\\\n",
      "independent   &    -0.397 & $10^{-01}$ \\\\\n",
      "\\bottomrule\n",
      "\\end{tabular}\n",
      "\n"
     ]
    }
   ],
   "source": [
    "with pd.option_context(\"display.float_format\", lambda x: f\"{x: 0.3f}\"):\n",
    "    print(tab.to_latex(formatters=dict(mean_diff=\"{:0.3f}\".format, p_value=lambda x: \"$10^{\"+f\"{x:0.0E}\"[2:]+\"}$\"), escape=False))"
   ]
  }
 ],
 "metadata": {
  "celltoolbar": "Tags",
  "interpreter": {
   "hash": "01ff145a580a012fbee101d68df8ff40de9b5a3386bbca8e9b7074444281a989"
  },
  "kernelspec": {
   "display_name": "Python 3.8.12 ('DIenv')",
   "language": "python",
   "name": "python3"
  },
  "language_info": {
   "codemirror_mode": {
    "name": "ipython",
    "version": 3
   },
   "file_extension": ".py",
   "mimetype": "text/x-python",
   "name": "python",
   "nbconvert_exporter": "python",
   "pygments_lexer": "ipython3",
   "version": "3.8.12"
  },
  "papermill": {
   "default_parameters": {},
   "duration": 16.047338,
   "end_time": "2021-03-18T08:36:53.528678",
   "environment_variables": {},
   "exception": null,
   "input_path": "./template.ipynb",
   "output_path": "./notebooks/CIFAR10_rand.ipynb",
   "parameters": {
    "dataset": "CIFAR10",
    "params_path": "/home/mohammad/transferability/src",
    "root_path": "/home/mohammad/transferability/files",
    "split_index": 500,
    "v_type": "rand"
   },
   "start_time": "2021-03-18T08:36:37.481340",
   "version": "2.3.3"
  },
  "widgets": {
   "application/vnd.jupyter.widget-state+json": {
    "state": {
     "138765c663484a9f8b11628725703bd6": {
      "model_module": "@jupyter-widgets/controls",
      "model_module_version": "1.5.0",
      "model_name": "DescriptionStyleModel",
      "state": {
       "_model_module": "@jupyter-widgets/controls",
       "_model_module_version": "1.5.0",
       "_model_name": "DescriptionStyleModel",
       "_view_count": null,
       "_view_module": "@jupyter-widgets/base",
       "_view_module_version": "1.2.0",
       "_view_name": "StyleView",
       "description_width": ""
      }
     },
     "205e0cc02f6c485c8b02e3c5027cb7dd": {
      "model_module": "@jupyter-widgets/base",
      "model_module_version": "1.2.0",
      "model_name": "LayoutModel",
      "state": {
       "_model_module": "@jupyter-widgets/base",
       "_model_module_version": "1.2.0",
       "_model_name": "LayoutModel",
       "_view_count": null,
       "_view_module": "@jupyter-widgets/base",
       "_view_module_version": "1.2.0",
       "_view_name": "LayoutView",
       "align_content": null,
       "align_items": null,
       "align_self": null,
       "border": null,
       "bottom": null,
       "display": null,
       "flex": null,
       "flex_flow": null,
       "grid_area": null,
       "grid_auto_columns": null,
       "grid_auto_flow": null,
       "grid_auto_rows": null,
       "grid_column": null,
       "grid_gap": null,
       "grid_row": null,
       "grid_template_areas": null,
       "grid_template_columns": null,
       "grid_template_rows": null,
       "height": null,
       "justify_content": null,
       "justify_items": null,
       "left": null,
       "margin": null,
       "max_height": null,
       "max_width": null,
       "min_height": null,
       "min_width": null,
       "object_fit": null,
       "object_position": null,
       "order": null,
       "overflow": null,
       "overflow_x": null,
       "overflow_y": null,
       "padding": null,
       "right": null,
       "top": null,
       "visibility": null,
       "width": null
      }
     },
     "354e0b6f2d6e4a4fbd18d58d1bb47b12": {
      "model_module": "@jupyter-widgets/controls",
      "model_module_version": "1.5.0",
      "model_name": "DescriptionStyleModel",
      "state": {
       "_model_module": "@jupyter-widgets/controls",
       "_model_module_version": "1.5.0",
       "_model_name": "DescriptionStyleModel",
       "_view_count": null,
       "_view_module": "@jupyter-widgets/base",
       "_view_module_version": "1.2.0",
       "_view_name": "StyleView",
       "description_width": ""
      }
     },
     "359ff83506a74b5fb7e8531665873108": {
      "model_module": "@jupyter-widgets/controls",
      "model_module_version": "1.5.0",
      "model_name": "ProgressStyleModel",
      "state": {
       "_model_module": "@jupyter-widgets/controls",
       "_model_module_version": "1.5.0",
       "_model_name": "ProgressStyleModel",
       "_view_count": null,
       "_view_module": "@jupyter-widgets/base",
       "_view_module_version": "1.2.0",
       "_view_name": "StyleView",
       "bar_color": null,
       "description_width": ""
      }
     },
     "3bdcc7e77cd94159a77df305c6e1f334": {
      "model_module": "@jupyter-widgets/controls",
      "model_module_version": "1.5.0",
      "model_name": "HTMLModel",
      "state": {
       "_dom_classes": [],
       "_model_module": "@jupyter-widgets/controls",
       "_model_module_version": "1.5.0",
       "_model_name": "HTMLModel",
       "_view_count": null,
       "_view_module": "@jupyter-widgets/controls",
       "_view_module_version": "1.5.0",
       "_view_name": "HTMLView",
       "description": "",
       "description_tooltip": null,
       "layout": "IPY_MODEL_b766d8cb1ab644568d0820406e8672cb",
       "placeholder": "​",
       "style": "IPY_MODEL_354e0b6f2d6e4a4fbd18d58d1bb47b12",
       "value": " 88%"
      }
     },
     "52cd73dc50f34b1190f094ead421208d": {
      "model_module": "@jupyter-widgets/base",
      "model_module_version": "1.2.0",
      "model_name": "LayoutModel",
      "state": {
       "_model_module": "@jupyter-widgets/base",
       "_model_module_version": "1.2.0",
       "_model_name": "LayoutModel",
       "_view_count": null,
       "_view_module": "@jupyter-widgets/base",
       "_view_module_version": "1.2.0",
       "_view_name": "LayoutView",
       "align_content": null,
       "align_items": null,
       "align_self": null,
       "border": null,
       "bottom": null,
       "display": null,
       "flex": null,
       "flex_flow": null,
       "grid_area": null,
       "grid_auto_columns": null,
       "grid_auto_flow": null,
       "grid_auto_rows": null,
       "grid_column": null,
       "grid_gap": null,
       "grid_row": null,
       "grid_template_areas": null,
       "grid_template_columns": null,
       "grid_template_rows": null,
       "height": null,
       "justify_content": null,
       "justify_items": null,
       "left": null,
       "margin": null,
       "max_height": null,
       "max_width": null,
       "min_height": null,
       "min_width": null,
       "object_fit": null,
       "object_position": null,
       "order": null,
       "overflow": null,
       "overflow_x": null,
       "overflow_y": null,
       "padding": null,
       "right": null,
       "top": null,
       "visibility": null,
       "width": null
      }
     },
     "5cdcd16ae7284e4983a61efb20136633": {
      "model_module": "@jupyter-widgets/controls",
      "model_module_version": "1.5.0",
      "model_name": "DescriptionStyleModel",
      "state": {
       "_model_module": "@jupyter-widgets/controls",
       "_model_module_version": "1.5.0",
       "_model_name": "DescriptionStyleModel",
       "_view_count": null,
       "_view_module": "@jupyter-widgets/base",
       "_view_module_version": "1.2.0",
       "_view_name": "StyleView",
       "description_width": ""
      }
     },
     "5de88f05fe804323a25314b8e48504ea": {
      "model_module": "@jupyter-widgets/controls",
      "model_module_version": "1.5.0",
      "model_name": "FloatProgressModel",
      "state": {
       "_dom_classes": [],
       "_model_module": "@jupyter-widgets/controls",
       "_model_module_version": "1.5.0",
       "_model_name": "FloatProgressModel",
       "_view_count": null,
       "_view_module": "@jupyter-widgets/controls",
       "_view_module_version": "1.5.0",
       "_view_name": "ProgressView",
       "bar_style": "",
       "description": "",
       "description_tooltip": null,
       "layout": "IPY_MODEL_d0223fc2c4234a558af183971bf7a61d",
       "max": 8,
       "min": 0,
       "orientation": "horizontal",
       "style": "IPY_MODEL_c4b7afd59e0e48d7be37a5aea3085e64",
       "value": 8
      }
     },
     "62490874a7984cc3befa129f09af0978": {
      "model_module": "@jupyter-widgets/base",
      "model_module_version": "1.2.0",
      "model_name": "LayoutModel",
      "state": {
       "_model_module": "@jupyter-widgets/base",
       "_model_module_version": "1.2.0",
       "_model_name": "LayoutModel",
       "_view_count": null,
       "_view_module": "@jupyter-widgets/base",
       "_view_module_version": "1.2.0",
       "_view_name": "LayoutView",
       "align_content": null,
       "align_items": null,
       "align_self": null,
       "border": null,
       "bottom": null,
       "display": null,
       "flex": null,
       "flex_flow": null,
       "grid_area": null,
       "grid_auto_columns": null,
       "grid_auto_flow": null,
       "grid_auto_rows": null,
       "grid_column": null,
       "grid_gap": null,
       "grid_row": null,
       "grid_template_areas": null,
       "grid_template_columns": null,
       "grid_template_rows": null,
       "height": null,
       "justify_content": null,
       "justify_items": null,
       "left": null,
       "margin": null,
       "max_height": null,
       "max_width": null,
       "min_height": null,
       "min_width": null,
       "object_fit": null,
       "object_position": null,
       "order": null,
       "overflow": null,
       "overflow_x": null,
       "overflow_y": null,
       "padding": null,
       "right": null,
       "top": null,
       "visibility": null,
       "width": null
      }
     },
     "6c0cda51fef14302ab2987b1f5c8b15d": {
      "model_module": "@jupyter-widgets/base",
      "model_module_version": "1.2.0",
      "model_name": "LayoutModel",
      "state": {
       "_model_module": "@jupyter-widgets/base",
       "_model_module_version": "1.2.0",
       "_model_name": "LayoutModel",
       "_view_count": null,
       "_view_module": "@jupyter-widgets/base",
       "_view_module_version": "1.2.0",
       "_view_name": "LayoutView",
       "align_content": null,
       "align_items": null,
       "align_self": null,
       "border": null,
       "bottom": null,
       "display": null,
       "flex": null,
       "flex_flow": null,
       "grid_area": null,
       "grid_auto_columns": null,
       "grid_auto_flow": null,
       "grid_auto_rows": null,
       "grid_column": null,
       "grid_gap": null,
       "grid_row": null,
       "grid_template_areas": null,
       "grid_template_columns": null,
       "grid_template_rows": null,
       "height": null,
       "justify_content": null,
       "justify_items": null,
       "left": null,
       "margin": null,
       "max_height": null,
       "max_width": null,
       "min_height": null,
       "min_width": null,
       "object_fit": null,
       "object_position": null,
       "order": null,
       "overflow": null,
       "overflow_x": null,
       "overflow_y": null,
       "padding": null,
       "right": null,
       "top": null,
       "visibility": null,
       "width": null
      }
     },
     "720b46f8d61c4f5bb485fa147e017c32": {
      "model_module": "@jupyter-widgets/controls",
      "model_module_version": "1.5.0",
      "model_name": "FloatProgressModel",
      "state": {
       "_dom_classes": [],
       "_model_module": "@jupyter-widgets/controls",
       "_model_module_version": "1.5.0",
       "_model_name": "FloatProgressModel",
       "_view_count": null,
       "_view_module": "@jupyter-widgets/controls",
       "_view_module_version": "1.5.0",
       "_view_name": "ProgressView",
       "bar_style": "success",
       "description": "",
       "description_tooltip": null,
       "layout": "IPY_MODEL_b607e7056161477fa83dc511712a7312",
       "max": 1000,
       "min": 0,
       "orientation": "horizontal",
       "style": "IPY_MODEL_359ff83506a74b5fb7e8531665873108",
       "value": 1000
      }
     },
     "8efd761f3cc3494db97b43cd65ef44be": {
      "model_module": "@jupyter-widgets/controls",
      "model_module_version": "1.5.0",
      "model_name": "HBoxModel",
      "state": {
       "_dom_classes": [],
       "_model_module": "@jupyter-widgets/controls",
       "_model_module_version": "1.5.0",
       "_model_name": "HBoxModel",
       "_view_count": null,
       "_view_module": "@jupyter-widgets/controls",
       "_view_module_version": "1.5.0",
       "_view_name": "HBoxView",
       "box_style": "",
       "children": [
        "IPY_MODEL_3bdcc7e77cd94159a77df305c6e1f334",
        "IPY_MODEL_5de88f05fe804323a25314b8e48504ea",
        "IPY_MODEL_97c5e61f5fbe47a184d462ea604c17c9"
       ],
       "layout": "IPY_MODEL_205e0cc02f6c485c8b02e3c5027cb7dd"
      }
     },
     "97c5e61f5fbe47a184d462ea604c17c9": {
      "model_module": "@jupyter-widgets/controls",
      "model_module_version": "1.5.0",
      "model_name": "HTMLModel",
      "state": {
       "_dom_classes": [],
       "_model_module": "@jupyter-widgets/controls",
       "_model_module_version": "1.5.0",
       "_model_name": "HTMLModel",
       "_view_count": null,
       "_view_module": "@jupyter-widgets/controls",
       "_view_module_version": "1.5.0",
       "_view_name": "HTMLView",
       "description": "",
       "description_tooltip": null,
       "layout": "IPY_MODEL_b323d76b6e40454a8e5fb81853342bd5",
       "placeholder": "​",
       "style": "IPY_MODEL_5cdcd16ae7284e4983a61efb20136633",
       "value": " 7/8 [00:00&lt;00:00, 20.44it/s]"
      }
     },
     "9c52f9d78dce425085777c8098843c1a": {
      "model_module": "@jupyter-widgets/controls",
      "model_module_version": "1.5.0",
      "model_name": "DescriptionStyleModel",
      "state": {
       "_model_module": "@jupyter-widgets/controls",
       "_model_module_version": "1.5.0",
       "_model_name": "DescriptionStyleModel",
       "_view_count": null,
       "_view_module": "@jupyter-widgets/base",
       "_view_module_version": "1.2.0",
       "_view_name": "StyleView",
       "description_width": ""
      }
     },
     "b323d76b6e40454a8e5fb81853342bd5": {
      "model_module": "@jupyter-widgets/base",
      "model_module_version": "1.2.0",
      "model_name": "LayoutModel",
      "state": {
       "_model_module": "@jupyter-widgets/base",
       "_model_module_version": "1.2.0",
       "_model_name": "LayoutModel",
       "_view_count": null,
       "_view_module": "@jupyter-widgets/base",
       "_view_module_version": "1.2.0",
       "_view_name": "LayoutView",
       "align_content": null,
       "align_items": null,
       "align_self": null,
       "border": null,
       "bottom": null,
       "display": null,
       "flex": null,
       "flex_flow": null,
       "grid_area": null,
       "grid_auto_columns": null,
       "grid_auto_flow": null,
       "grid_auto_rows": null,
       "grid_column": null,
       "grid_gap": null,
       "grid_row": null,
       "grid_template_areas": null,
       "grid_template_columns": null,
       "grid_template_rows": null,
       "height": null,
       "justify_content": null,
       "justify_items": null,
       "left": null,
       "margin": null,
       "max_height": null,
       "max_width": null,
       "min_height": null,
       "min_width": null,
       "object_fit": null,
       "object_position": null,
       "order": null,
       "overflow": null,
       "overflow_x": null,
       "overflow_y": null,
       "padding": null,
       "right": null,
       "top": null,
       "visibility": null,
       "width": null
      }
     },
     "b607e7056161477fa83dc511712a7312": {
      "model_module": "@jupyter-widgets/base",
      "model_module_version": "1.2.0",
      "model_name": "LayoutModel",
      "state": {
       "_model_module": "@jupyter-widgets/base",
       "_model_module_version": "1.2.0",
       "_model_name": "LayoutModel",
       "_view_count": null,
       "_view_module": "@jupyter-widgets/base",
       "_view_module_version": "1.2.0",
       "_view_name": "LayoutView",
       "align_content": null,
       "align_items": null,
       "align_self": null,
       "border": null,
       "bottom": null,
       "display": null,
       "flex": null,
       "flex_flow": null,
       "grid_area": null,
       "grid_auto_columns": null,
       "grid_auto_flow": null,
       "grid_auto_rows": null,
       "grid_column": null,
       "grid_gap": null,
       "grid_row": null,
       "grid_template_areas": null,
       "grid_template_columns": null,
       "grid_template_rows": null,
       "height": null,
       "justify_content": null,
       "justify_items": null,
       "left": null,
       "margin": null,
       "max_height": null,
       "max_width": null,
       "min_height": null,
       "min_width": null,
       "object_fit": null,
       "object_position": null,
       "order": null,
       "overflow": null,
       "overflow_x": null,
       "overflow_y": null,
       "padding": null,
       "right": null,
       "top": null,
       "visibility": null,
       "width": null
      }
     },
     "b766d8cb1ab644568d0820406e8672cb": {
      "model_module": "@jupyter-widgets/base",
      "model_module_version": "1.2.0",
      "model_name": "LayoutModel",
      "state": {
       "_model_module": "@jupyter-widgets/base",
       "_model_module_version": "1.2.0",
       "_model_name": "LayoutModel",
       "_view_count": null,
       "_view_module": "@jupyter-widgets/base",
       "_view_module_version": "1.2.0",
       "_view_name": "LayoutView",
       "align_content": null,
       "align_items": null,
       "align_self": null,
       "border": null,
       "bottom": null,
       "display": null,
       "flex": null,
       "flex_flow": null,
       "grid_area": null,
       "grid_auto_columns": null,
       "grid_auto_flow": null,
       "grid_auto_rows": null,
       "grid_column": null,
       "grid_gap": null,
       "grid_row": null,
       "grid_template_areas": null,
       "grid_template_columns": null,
       "grid_template_rows": null,
       "height": null,
       "justify_content": null,
       "justify_items": null,
       "left": null,
       "margin": null,
       "max_height": null,
       "max_width": null,
       "min_height": null,
       "min_width": null,
       "object_fit": null,
       "object_position": null,
       "order": null,
       "overflow": null,
       "overflow_x": null,
       "overflow_y": null,
       "padding": null,
       "right": null,
       "top": null,
       "visibility": null,
       "width": null
      }
     },
     "c4b7afd59e0e48d7be37a5aea3085e64": {
      "model_module": "@jupyter-widgets/controls",
      "model_module_version": "1.5.0",
      "model_name": "ProgressStyleModel",
      "state": {
       "_model_module": "@jupyter-widgets/controls",
       "_model_module_version": "1.5.0",
       "_model_name": "ProgressStyleModel",
       "_view_count": null,
       "_view_module": "@jupyter-widgets/base",
       "_view_module_version": "1.2.0",
       "_view_name": "StyleView",
       "bar_color": null,
       "description_width": ""
      }
     },
     "d0223fc2c4234a558af183971bf7a61d": {
      "model_module": "@jupyter-widgets/base",
      "model_module_version": "1.2.0",
      "model_name": "LayoutModel",
      "state": {
       "_model_module": "@jupyter-widgets/base",
       "_model_module_version": "1.2.0",
       "_model_name": "LayoutModel",
       "_view_count": null,
       "_view_module": "@jupyter-widgets/base",
       "_view_module_version": "1.2.0",
       "_view_name": "LayoutView",
       "align_content": null,
       "align_items": null,
       "align_self": null,
       "border": null,
       "bottom": null,
       "display": null,
       "flex": null,
       "flex_flow": null,
       "grid_area": null,
       "grid_auto_columns": null,
       "grid_auto_flow": null,
       "grid_auto_rows": null,
       "grid_column": null,
       "grid_gap": null,
       "grid_row": null,
       "grid_template_areas": null,
       "grid_template_columns": null,
       "grid_template_rows": null,
       "height": null,
       "justify_content": null,
       "justify_items": null,
       "left": null,
       "margin": null,
       "max_height": null,
       "max_width": null,
       "min_height": null,
       "min_width": null,
       "object_fit": null,
       "object_position": null,
       "order": null,
       "overflow": null,
       "overflow_x": null,
       "overflow_y": null,
       "padding": null,
       "right": null,
       "top": null,
       "visibility": null,
       "width": null
      }
     },
     "d6cbfa593dfe483bad4704892cb027e3": {
      "model_module": "@jupyter-widgets/controls",
      "model_module_version": "1.5.0",
      "model_name": "HTMLModel",
      "state": {
       "_dom_classes": [],
       "_model_module": "@jupyter-widgets/controls",
       "_model_module_version": "1.5.0",
       "_model_name": "HTMLModel",
       "_view_count": null,
       "_view_module": "@jupyter-widgets/controls",
       "_view_module_version": "1.5.0",
       "_view_name": "HTMLView",
       "description": "",
       "description_tooltip": null,
       "layout": "IPY_MODEL_62490874a7984cc3befa129f09af0978",
       "placeholder": "​",
       "style": "IPY_MODEL_138765c663484a9f8b11628725703bd6",
       "value": "loss -0.9787755608558655: 100%"
      }
     },
     "d6f7522ff6dd4a12b875da6c83411425": {
      "model_module": "@jupyter-widgets/controls",
      "model_module_version": "1.5.0",
      "model_name": "HBoxModel",
      "state": {
       "_dom_classes": [],
       "_model_module": "@jupyter-widgets/controls",
       "_model_module_version": "1.5.0",
       "_model_name": "HBoxModel",
       "_view_count": null,
       "_view_module": "@jupyter-widgets/controls",
       "_view_module_version": "1.5.0",
       "_view_name": "HBoxView",
       "box_style": "",
       "children": [
        "IPY_MODEL_d6cbfa593dfe483bad4704892cb027e3",
        "IPY_MODEL_720b46f8d61c4f5bb485fa147e017c32",
        "IPY_MODEL_fdbbf7c8123a4622ab34a8a92cfa495c"
       ],
       "layout": "IPY_MODEL_6c0cda51fef14302ab2987b1f5c8b15d"
      }
     },
     "fdbbf7c8123a4622ab34a8a92cfa495c": {
      "model_module": "@jupyter-widgets/controls",
      "model_module_version": "1.5.0",
      "model_name": "HTMLModel",
      "state": {
       "_dom_classes": [],
       "_model_module": "@jupyter-widgets/controls",
       "_model_module_version": "1.5.0",
       "_model_name": "HTMLModel",
       "_view_count": null,
       "_view_module": "@jupyter-widgets/controls",
       "_view_module_version": "1.5.0",
       "_view_name": "HTMLView",
       "description": "",
       "description_tooltip": null,
       "layout": "IPY_MODEL_52cd73dc50f34b1190f094ead421208d",
       "placeholder": "​",
       "style": "IPY_MODEL_9c52f9d78dce425085777c8098843c1a",
       "value": " 1000/1000 [00:03&lt;00:00, 342.97it/s]"
      }
     }
    },
    "version_major": 2,
    "version_minor": 0
   }
  }
 },
 "nbformat": 4,
 "nbformat_minor": 5
}
