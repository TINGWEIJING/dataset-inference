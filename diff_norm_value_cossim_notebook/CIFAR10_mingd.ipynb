{
 "cells": [
  {
   "cell_type": "code",
   "execution_count": 23,
   "id": "given-exhaust",
   "metadata": {
    "execution": {
     "iopub.execute_input": "2021-03-18T08:36:38.386763Z",
     "iopub.status.busy": "2021-03-18T08:36:38.385515Z",
     "iopub.status.idle": "2021-03-18T08:36:38.388025Z",
     "shell.execute_reply": "2021-03-18T08:36:38.389004Z"
    },
    "papermill": {
     "duration": 0.056805,
     "end_time": "2021-03-18T08:36:38.389457",
     "exception": false,
     "start_time": "2021-03-18T08:36:38.332652",
     "status": "completed"
    },
    "tags": [
     "parameters"
    ]
   },
   "outputs": [
    {
     "name": "stdout",
     "output_type": "stream",
     "text": [
      "/data/weijing/DI-ting_normalization/diff_norm_value_dist_notebook\n"
     ]
    }
   ],
   "source": [
    "from pathlib import Path\n",
    "cwd_path = Path.cwd()\n",
    "# Parameters\n",
    "# ! Change values\n",
    "dataset = \"CIFAR10\" # CIFAR10, CIFAR100, SVHN\n",
    "v_type = \"mingd\" # mingd, rand\n",
    "root_path = str(cwd_path.parent / \"cifar10-cinic10-excl-files\") # ! Path for features parent folder\n",
    "params_path = str(cwd_path.parent / \"src\") # ! Path for python code?\n",
    "split_index = 500\n",
    "\n",
    "print(cwd_path)\n"
   ]
  },
  {
   "cell_type": "code",
   "execution_count": 24,
   "id": "solar-chess",
   "metadata": {
    "execution": {
     "iopub.execute_input": "2021-03-18T08:36:38.542117Z",
     "iopub.status.busy": "2021-03-18T08:36:38.541171Z",
     "iopub.status.idle": "2021-03-18T08:36:38.545234Z",
     "shell.execute_reply": "2021-03-18T08:36:38.545960Z"
    },
    "papermill": {
     "duration": 0.045744,
     "end_time": "2021-03-18T08:36:38.546187",
     "exception": false,
     "start_time": "2021-03-18T08:36:38.500443",
     "status": "completed"
    },
    "tags": []
   },
   "outputs": [
    {
     "data": {
      "text/markdown": [
       "# CIFAR10 - MinGD results"
      ],
      "text/plain": [
       "<IPython.core.display.Markdown object>"
      ]
     },
     "metadata": {},
     "output_type": "display_data"
    }
   ],
   "source": [
    "from IPython.display import display, Markdown\n",
    "v_type2disp = dict(mingd=\"MinGD\", rand=\"Blind Walk\")\n",
    "display(Markdown(f\"# {dataset} - {v_type2disp[v_type]} results\"))"
   ]
  },
  {
   "cell_type": "code",
   "execution_count": 25,
   "id": "inner-settle",
   "metadata": {
    "execution": {
     "iopub.execute_input": "2021-03-18T08:36:38.635808Z",
     "iopub.status.busy": "2021-03-18T08:36:38.635254Z",
     "iopub.status.idle": "2021-03-18T08:36:39.212053Z",
     "shell.execute_reply": "2021-03-18T08:36:39.211138Z"
    },
    "papermill": {
     "duration": 0.624849,
     "end_time": "2021-03-18T08:36:39.212289",
     "exception": false,
     "start_time": "2021-03-18T08:36:38.587440",
     "status": "completed"
    },
    "tags": []
   },
   "outputs": [],
   "source": [
    "import os, sys\n",
    "sys.path.insert(0, params_path)\n",
    "\n",
    "import argparse, time # ! `params` module import removed due to not found\n",
    "import numpy as np\n",
    "import torch\n",
    "import torch.nn as nn\n",
    "import torch.optim as optim\n",
    "from importlib import reload\n",
    "from tqdm.auto import tqdm\n",
    "\n",
    "import random\n",
    "\n",
    "torch.manual_seed(0)\n",
    "np.random.seed(0)\n",
    "random.seed(0)"
   ]
  },
  {
   "cell_type": "code",
   "execution_count": 26,
   "id": "naked-joining",
   "metadata": {
    "execution": {
     "iopub.execute_input": "2021-03-18T08:36:39.284695Z",
     "iopub.status.busy": "2021-03-18T08:36:39.284201Z",
     "iopub.status.idle": "2021-03-18T08:36:39.904866Z",
     "shell.execute_reply": "2021-03-18T08:36:39.905843Z"
    },
    "papermill": {
     "duration": 0.656502,
     "end_time": "2021-03-18T08:36:39.906143",
     "exception": false,
     "start_time": "2021-03-18T08:36:39.249641",
     "status": "completed"
    },
    "tags": []
   },
   "outputs": [],
   "source": [
    "import seaborn as sns\n",
    "import pandas as pd\n",
    "import os"
   ]
  },
  {
   "cell_type": "code",
   "execution_count": 27,
   "id": "vulnerable-niger",
   "metadata": {
    "execution": {
     "iopub.execute_input": "2021-03-18T08:36:39.979160Z",
     "iopub.status.busy": "2021-03-18T08:36:39.978492Z",
     "iopub.status.idle": "2021-03-18T08:36:39.981750Z",
     "shell.execute_reply": "2021-03-18T08:36:39.981099Z"
    },
    "papermill": {
     "duration": 0.039016,
     "end_time": "2021-03-18T08:36:39.981897",
     "exception": false,
     "start_time": "2021-03-18T08:36:39.942881",
     "status": "completed"
    },
    "tags": []
   },
   "outputs": [],
   "source": [
    "from scipy.stats import combine_pvalues, ttest_ind_from_stats, ttest_ind\n",
    "from functools import reduce\n",
    "from scipy.stats import hmean"
   ]
  },
  {
   "cell_type": "markdown",
   "id": "perceived-threshold",
   "metadata": {
    "papermill": {
     "duration": 0.029219,
     "end_time": "2021-03-18T08:36:40.046437",
     "exception": false,
     "start_time": "2021-03-18T08:36:40.017218",
     "status": "completed"
    },
    "tags": []
   },
   "source": [
    "## Use the full vectors to train a linear model"
   ]
  },
  {
   "cell_type": "code",
   "execution_count": 28,
   "id": "located-wages",
   "metadata": {
    "execution": {
     "iopub.execute_input": "2021-03-18T08:36:40.112660Z",
     "iopub.status.busy": "2021-03-18T08:36:40.112020Z",
     "iopub.status.idle": "2021-03-18T08:36:40.115518Z",
     "shell.execute_reply": "2021-03-18T08:36:40.115026Z"
    },
    "papermill": {
     "duration": 0.039316,
     "end_time": "2021-03-18T08:36:40.115650",
     "exception": false,
     "start_time": "2021-03-18T08:36:40.076334",
     "status": "completed"
    },
    "tags": []
   },
   "outputs": [],
   "source": [
    "root = os.path.join(root_path, dataset)\n",
    "model_types = [ # ! Unused variable\n",
    "    # 'zero-shot',\n",
    "    # 'prune',\n",
    "    'fine-tune',\n",
    "    'extract-label',\n",
    "    'extract-logit',\n",
    "    'distillation',\n",
    "    'teacher',\n",
    "]\n"
   ]
  },
  {
   "cell_type": "code",
   "execution_count": 29,
   "id": "tamil-monte",
   "metadata": {
    "execution": {
     "iopub.execute_input": "2021-03-18T08:36:40.191099Z",
     "iopub.status.busy": "2021-03-18T08:36:40.190676Z",
     "iopub.status.idle": "2021-03-18T08:36:40.199839Z",
     "shell.execute_reply": "2021-03-18T08:36:40.200557Z"
    },
    "papermill": {
     "duration": 0.049822,
     "end_time": "2021-03-18T08:36:40.200807",
     "exception": false,
     "start_time": "2021-03-18T08:36:40.150985",
     "status": "completed"
    },
    "tags": []
   },
   "outputs": [],
   "source": [
    "if v_type == \"mingd\" and dataset == \"CIFAR100\": v_type = \"topgd\"\n",
    "    \n",
    "# names = [ # ! Remove non available features\n",
    "#     \"teacher\",\n",
    "#     \"distillation\",\n",
    "#     \"extract-label\",\n",
    "#     \"extract-logit\",\n",
    "#     # \"zero-shot\",\n",
    "#     \"fine-tune\",\n",
    "#     \"pre-act-18\",\n",
    "#     \"independent\",\n",
    "# ]\n",
    "# trains = {}\n",
    "# tests = {}\n",
    "# for name in names:\n",
    "#     trains[name] = (torch.load(f\"{root}/model_{name}_normalized/train_{v_type}_vulnerability_2.pt\")) # ! Change pt name\n",
    "#     tests[name] = (torch.load(f\"{root}/model_{name}_normalized/test_{v_type}_vulnerability_2.pt\")) # ! Change pt name\n",
    "# mean_cifar = trains[\"teacher\"].mean(dim = (0,1))\n",
    "# std_cifar = trains[\"teacher\"].std(dim = (0,1))"
   ]
  },
  {
   "cell_type": "code",
   "execution_count": 30,
   "id": "6c343e81",
   "metadata": {},
   "outputs": [],
   "source": [
    "# ! Change feature loading implementation\n",
    "name__path_map = {\n",
    "    \"teacher\": cwd_path.parent / \"reproduce_files_01/CIFAR10/model_teacher_normalized\", # victim\n",
    "    \"independent\": cwd_path.parent / \"reproduce_files_01/CIFAR10/model_independent_normalized\",\n",
    "    \"baseline\": cwd_path.parent / \"files/CIFAR10/model__baseline\",\n",
    "    \"mean_0.547_0.539_0.507\": cwd_path.parent / \"files/CIFAR10/model__mean_0.547_0.539_0.507\",\n",
    "    \"mean_0.603_0.596_0.567\": cwd_path.parent / \"files/CIFAR10/model__mean_0.603_0.596_0.567\",\n",
    "    \"mean_0.659_0.652_0.628\": cwd_path.parent / \"files/CIFAR10/model__mean_0.659_0.652_0.628\",\n",
    "    \"mean_0.715_0.709_0.688\": cwd_path.parent / \"files/CIFAR10/model__mean_0.715_0.709_0.688\",\n",
    "    \"mean_0.771_0.766_0.748\": cwd_path.parent / \"files/CIFAR10/model__mean_0.771_0.766_0.748\",\n",
    "    \"mean_0.799_0.794_0.779\": cwd_path.parent / \"files/CIFAR10/model__mean_0.799_0.794_0.779\",\n",
    "    \"mean_0.827_0.823_0.809\": cwd_path.parent / \"files/CIFAR10/model__mean_0.827_0.823_0.809\",\n",
    "    \"mean_0.855_0.851_0.839\": cwd_path.parent / \"files/CIFAR10/model__mean_0.855_0.851_0.839\",\n",
    "    \"mean_0.883_0.879_0.869\": cwd_path.parent / \"files/CIFAR10/model__mean_0.883_0.879_0.869\",\n",
    "    \"mean_0.911_0.908_0.899\": cwd_path.parent / \"files/CIFAR10/model__mean_0.911_0.908_0.899\",\n",
    "    \"mean_0.939_0.936_0.93\": cwd_path.parent / \"files/CIFAR10/model__mean_0.939_0.936_0.93\",\n",
    "    \"mean_0.967_0.965_0.96\": cwd_path.parent / \"files/CIFAR10/model__mean_0.967_0.965_0.96\",\n",
    "    \"mean_0.995_0.993_0.99\": cwd_path.parent / \"files/CIFAR10/model__mean_0.995_0.993_0.99\",\n",
    "}\n",
    "names = list(name__path_map.keys())\n",
    "trains = {}\n",
    "tests = {}\n",
    "for name, path in name__path_map.items():\n",
    "    trains[name] = (torch.load(f\"{path}/train_{v_type}_vulnerability_2.pt\")) # ! Change pt name\n",
    "    tests[name] = (torch.load(f\"{path}/test_{v_type}_vulnerability_2.pt\")) # ! Change pt name\n",
    "mean_cifar = trains[\"teacher\"].mean(dim = (0,1))\n",
    "std_cifar = trains[\"teacher\"].std(dim = (0,1))"
   ]
  },
  {
   "cell_type": "code",
   "execution_count": 31,
   "id": "russian-peoples",
   "metadata": {
    "execution": {
     "iopub.execute_input": "2021-03-18T08:36:40.279496Z",
     "iopub.status.busy": "2021-03-18T08:36:40.279061Z",
     "iopub.status.idle": "2021-03-18T08:36:40.305573Z",
     "shell.execute_reply": "2021-03-18T08:36:40.304539Z"
    },
    "papermill": {
     "duration": 0.067116,
     "end_time": "2021-03-18T08:36:40.305785",
     "exception": false,
     "start_time": "2021-03-18T08:36:40.238669",
     "status": "completed"
    },
    "tags": []
   },
   "outputs": [],
   "source": [
    "if v_type == \"mingd\":\n",
    "    for name in names:\n",
    "        trains[name] = trains[name].sort(dim = 1)[0]\n",
    "        tests[name] = tests[name].sort(dim = 1)[0]\n",
    "        \n",
    "for name in names:\n",
    "    trains[name] = (trains[name]- mean_cifar)/std_cifar\n",
    "    tests[name] = (tests[name]- mean_cifar)/std_cifar\n",
    "    \n",
    "f_num = 30\n",
    "a_num=30\n",
    "\n",
    "trains_n = {}\n",
    "tests_n = {}\n",
    "for name in names:\n",
    "    trains_n[name] = trains[name].T.reshape(1000,f_num)[:,:a_num]\n",
    "    tests_n[name] = tests[name].T.reshape(1000,f_num)[:,:a_num]"
   ]
  },
  {
   "cell_type": "code",
   "execution_count": 32,
   "id": "separate-technique",
   "metadata": {
    "execution": {
     "iopub.execute_input": "2021-03-18T08:36:40.381487Z",
     "iopub.status.busy": "2021-03-18T08:36:40.380578Z",
     "iopub.status.idle": "2021-03-18T08:36:40.384513Z",
     "shell.execute_reply": "2021-03-18T08:36:40.383838Z"
    },
    "papermill": {
     "duration": 0.042024,
     "end_time": "2021-03-18T08:36:40.384673",
     "exception": false,
     "start_time": "2021-03-18T08:36:40.342649",
     "status": "completed"
    },
    "tags": []
   },
   "outputs": [],
   "source": [
    "n_ex = split_index\n",
    "train = torch.cat((trains_n[\"teacher\"][:n_ex], tests_n[\"teacher\"][:n_ex]), dim = 0)\n",
    "y = torch.cat((torch.zeros(n_ex), torch.ones(n_ex)), dim = 0)\n",
    "\n",
    "rand=torch.randperm(y.shape[0])\n",
    "train = train[rand]\n",
    "y = y[rand]"
   ]
  },
  {
   "cell_type": "code",
   "execution_count": 33,
   "id": "european-elements",
   "metadata": {
    "execution": {
     "iopub.execute_input": "2021-03-18T08:36:40.455433Z",
     "iopub.status.busy": "2021-03-18T08:36:40.454816Z",
     "iopub.status.idle": "2021-03-18T08:36:40.458272Z",
     "shell.execute_reply": "2021-03-18T08:36:40.457895Z"
    },
    "papermill": {
     "duration": 0.037627,
     "end_time": "2021-03-18T08:36:40.458372",
     "exception": false,
     "start_time": "2021-03-18T08:36:40.420745",
     "status": "completed"
    },
    "tags": []
   },
   "outputs": [],
   "source": [
    "model = nn.Sequential(nn.Linear(a_num,100),nn.ReLU(),nn.Linear(100,1),nn.Tanh())\n",
    "criterion = nn.CrossEntropyLoss()\n",
    "optimizer =torch.optim.SGD(model.parameters(), lr=0.1)"
   ]
  },
  {
   "cell_type": "code",
   "execution_count": 34,
   "id": "funded-wilson",
   "metadata": {
    "execution": {
     "iopub.execute_input": "2021-03-18T08:36:40.534200Z",
     "iopub.status.busy": "2021-03-18T08:36:40.533415Z",
     "iopub.status.idle": "2021-03-18T08:36:43.640142Z",
     "shell.execute_reply": "2021-03-18T08:36:43.636470Z"
    },
    "papermill": {
     "duration": 3.146152,
     "end_time": "2021-03-18T08:36:43.640315",
     "exception": false,
     "start_time": "2021-03-18T08:36:40.494163",
     "status": "completed"
    },
    "scrolled": true,
    "tags": []
   },
   "outputs": [
    {
     "data": {
      "application/vnd.jupyter.widget-view+json": {
       "model_id": "32463853d31a4dec9fb88723b6fc6da1",
       "version_major": 2,
       "version_minor": 0
      },
      "text/plain": [
       "  0%|          | 0/1000 [00:00<?, ?it/s]"
      ]
     },
     "metadata": {},
     "output_type": "display_data"
    }
   ],
   "source": [
    "with tqdm(range(1000)) as pbar:\n",
    "    for epoch in pbar:\n",
    "        optimizer.zero_grad()\n",
    "        inputs = train\n",
    "        outputs = model(inputs)\n",
    "        loss = -1 * ((2*y-1)*(outputs.squeeze(-1))).mean()\n",
    "        loss.backward()\n",
    "        optimizer.step()\n",
    "        pbar.set_description('loss {}'.format(loss.item()))"
   ]
  },
  {
   "cell_type": "code",
   "execution_count": 35,
   "id": "38e08e42",
   "metadata": {},
   "outputs": [],
   "source": [
    "# ! Save model\n",
    "regressor_output_parent_dir_path = cwd_path / \"regressor\"\n",
    "regressor_output_parent_dir_path.mkdir(exist_ok=True)\n",
    "regressor_output_path = regressor_output_parent_dir_path / f\"{dataset}_{v_type}_regressor.pt\"\n",
    "torch.save(model.state_dict(), regressor_output_path)"
   ]
  },
  {
   "cell_type": "markdown",
   "id": "weighted-hindu",
   "metadata": {
    "papermill": {
     "duration": 0.115679,
     "end_time": "2021-03-18T08:36:43.835024",
     "exception": false,
     "start_time": "2021-03-18T08:36:43.719345",
     "status": "completed"
    },
    "tags": []
   },
   "source": [
    "## Dataset Inference"
   ]
  },
  {
   "cell_type": "code",
   "execution_count": 36,
   "id": "framed-invitation",
   "metadata": {
    "execution": {
     "iopub.execute_input": "2021-03-18T08:36:43.966367Z",
     "iopub.status.busy": "2021-03-18T08:36:43.962412Z",
     "iopub.status.idle": "2021-03-18T08:36:43.968411Z",
     "shell.execute_reply": "2021-03-18T08:36:43.968911Z"
    },
    "papermill": {
     "duration": 0.078266,
     "end_time": "2021-03-18T08:36:43.969084",
     "exception": false,
     "start_time": "2021-03-18T08:36:43.890818",
     "status": "completed"
    },
    "tags": []
   },
   "outputs": [],
   "source": [
    "def get_p(outputs_train, outputs_test):\n",
    "    pred_test = outputs_test[:,0].detach().cpu().numpy()\n",
    "    pred_train = outputs_train[:,0].detach().cpu().numpy()\n",
    "    tval, pval = ttest_ind(pred_test, pred_train, alternative=\"greater\", equal_var=False)\n",
    "    if pval < 0:\n",
    "        raise Exception(f\"p-value={pval}\")\n",
    "    return pval\n",
    "\n",
    "def get_p_values(num_ex, train, test, k):\n",
    "    total = train.shape[0]\n",
    "    sum_p = 0\n",
    "    p_values = []\n",
    "    positions_list = []\n",
    "    for i in range(k):\n",
    "        positions = torch.randperm(total)[:num_ex]\n",
    "        p_val = get_p(train[positions], test[positions])\n",
    "        positions_list.append(positions)\n",
    "        p_values.append(p_val)\n",
    "    return p_values\n",
    "\n",
    "def get_fischer(num_ex, train, test, k):\n",
    "    p_values = get_p_values(num_ex, train, test, k)\n",
    "    return combine_pvalues(p_values, method=\"mudholkar_george\")[1]\n",
    "\n",
    "def get_max_p_value(num_ex, train, test, k):\n",
    "    p_values = get_p_values(num_ex, train, test, k)\n",
    "    return max(p_values)"
   ]
  },
  {
   "cell_type": "code",
   "execution_count": 37,
   "id": "twenty-stations",
   "metadata": {
    "execution": {
     "iopub.execute_input": "2021-03-18T08:36:44.071630Z",
     "iopub.status.busy": "2021-03-18T08:36:44.071054Z",
     "iopub.status.idle": "2021-03-18T08:36:44.087754Z",
     "shell.execute_reply": "2021-03-18T08:36:44.088124Z"
    },
    "papermill": {
     "duration": 0.069179,
     "end_time": "2021-03-18T08:36:44.088271",
     "exception": false,
     "start_time": "2021-03-18T08:36:44.019092",
     "status": "completed"
    },
    "tags": []
   },
   "outputs": [],
   "source": [
    "outputs_tr = {}\n",
    "outputs_te = {}\n",
    "for name in names:\n",
    "    outputs_tr[name] = model(trains_n[name])\n",
    "    outputs_te[name] = model(tests_n[name])"
   ]
  },
  {
   "cell_type": "code",
   "execution_count": 38,
   "id": "pretty-occurrence",
   "metadata": {
    "execution": {
     "iopub.execute_input": "2021-03-18T08:36:44.177103Z",
     "iopub.status.busy": "2021-03-18T08:36:44.176359Z",
     "iopub.status.idle": "2021-03-18T08:36:44.177982Z",
     "shell.execute_reply": "2021-03-18T08:36:44.178599Z"
    },
    "papermill": {
     "duration": 0.05679,
     "end_time": "2021-03-18T08:36:44.178790",
     "exception": false,
     "start_time": "2021-03-18T08:36:44.122000",
     "status": "completed"
    },
    "tags": []
   },
   "outputs": [],
   "source": [
    "import scipy.stats as stats\n",
    "def print_inference(outputs_train, outputs_test):\n",
    "    m1, m2 = outputs_test[:,0].mean(), outputs_train[:,0].mean()\n",
    "    pval = get_p(outputs_train, outputs_test)\n",
    "    print(f\"p-value = {pval} \\t| Mean difference = {m1-m2}\")"
   ]
  },
  {
   "cell_type": "code",
   "execution_count": 39,
   "id": "australian-manitoba",
   "metadata": {
    "execution": {
     "iopub.execute_input": "2021-03-18T08:36:44.280190Z",
     "iopub.status.busy": "2021-03-18T08:36:44.279465Z",
     "iopub.status.idle": "2021-03-18T08:36:44.283610Z",
     "shell.execute_reply": "2021-03-18T08:36:44.282607Z"
    },
    "papermill": {
     "duration": 0.053084,
     "end_time": "2021-03-18T08:36:44.283818",
     "exception": false,
     "start_time": "2021-03-18T08:36:44.230734",
     "status": "completed"
    },
    "tags": []
   },
   "outputs": [],
   "source": [
    "for name in names:\n",
    "    outputs_tr[name], outputs_te[name] = outputs_tr[name][split_index:], outputs_te[name][split_index:]"
   ]
  },
  {
   "cell_type": "code",
   "execution_count": 40,
   "id": "failing-helena",
   "metadata": {
    "execution": {
     "iopub.execute_input": "2021-03-18T08:36:44.369339Z",
     "iopub.status.busy": "2021-03-18T08:36:44.368721Z",
     "iopub.status.idle": "2021-03-18T08:36:44.380259Z",
     "shell.execute_reply": "2021-03-18T08:36:44.380768Z"
    },
    "papermill": {
     "duration": 0.05746,
     "end_time": "2021-03-18T08:36:44.380931",
     "exception": false,
     "start_time": "2021-03-18T08:36:44.323471",
     "status": "completed"
    },
    "tags": []
   },
   "outputs": [
    {
     "name": "stdout",
     "output_type": "stream",
     "text": [
      "teacher\n",
      "p-value = 1.210945375468611e-106 \t| Mean difference = 1.022719383239746\n",
      "independent\n",
      "p-value = 0.3646826794186896 \t| Mean difference = 0.01655612513422966\n",
      "baseline\n",
      "p-value = 5.042227876266981e-88 \t| Mean difference = 0.8908308148384094\n",
      "mean_0.547_0.539_0.507\n",
      "p-value = 1.9092090261740164e-69 \t| Mean difference = 0.8196339011192322\n",
      "mean_0.603_0.596_0.567\n",
      "p-value = 1.1996652828391792e-73 \t| Mean difference = 0.8316580057144165\n",
      "mean_0.659_0.652_0.628\n",
      "p-value = 4.862875749760243e-77 \t| Mean difference = 0.8637586236000061\n",
      "mean_0.715_0.709_0.688\n",
      "p-value = 7.802184486662763e-81 \t| Mean difference = 0.876568078994751\n",
      "mean_0.771_0.766_0.748\n",
      "p-value = 3.0061215686603902e-68 \t| Mean difference = 0.8204938769340515\n",
      "mean_0.799_0.794_0.779\n",
      "p-value = 4.1567722160647636e-62 \t| Mean difference = 0.7748349905014038\n",
      "mean_0.827_0.823_0.809\n",
      "p-value = 2.511748759216937e-71 \t| Mean difference = 0.838200032711029\n",
      "mean_0.855_0.851_0.839\n",
      "p-value = 3.698369697519132e-66 \t| Mean difference = 0.7892162799835205\n",
      "mean_0.883_0.879_0.869\n",
      "p-value = 5.5035624419650906e-61 \t| Mean difference = 0.7638216614723206\n",
      "mean_0.911_0.908_0.899\n",
      "p-value = 2.010333259170871e-62 \t| Mean difference = 0.7834917306900024\n",
      "mean_0.939_0.936_0.93\n",
      "p-value = 1.5715099526734338e-69 \t| Mean difference = 0.824610710144043\n",
      "mean_0.967_0.965_0.96\n",
      "p-value = 7.606032611371498e-57 \t| Mean difference = 0.7366390228271484\n",
      "mean_0.995_0.993_0.99\n",
      "p-value = 1.5455638010497034e-67 \t| Mean difference = 0.8048254251480103\n"
     ]
    }
   ],
   "source": [
    "for name in names:\n",
    "    print(f\"{name}\")\n",
    "    print_inference(outputs_tr[name], outputs_te[name])"
   ]
  },
  {
   "cell_type": "markdown",
   "id": "blond-payment",
   "metadata": {
    "papermill": {
     "duration": 0.042437,
     "end_time": "2021-03-18T08:36:44.474227",
     "exception": false,
     "start_time": "2021-03-18T08:36:44.431790",
     "status": "completed"
    },
    "tags": []
   },
   "source": [
    "## Main Loop"
   ]
  },
  {
   "cell_type": "code",
   "execution_count": 41,
   "id": "50a04601",
   "metadata": {},
   "outputs": [],
   "source": [
    "# ! Change hdf output path\n",
    "hdf_output_parent_dir_path = cwd_path / \"hdf\"\n",
    "hdf_output_parent_dir_path.mkdir(exist_ok=True)\n",
    "hdf_output_path = hdf_output_parent_dir_path / f\"{dataset}_{v_type}.h5\"\n",
    "\n",
    "csv_output_parent_dir_path = cwd_path / \"csv\"\n",
    "csv_output_parent_dir_path.mkdir(exist_ok=True)\n",
    "csv_output_path = csv_output_parent_dir_path / f\"{dataset}_{v_type}.csv\""
   ]
  },
  {
   "cell_type": "code",
   "execution_count": 42,
   "id": "silver-yahoo",
   "metadata": {
    "execution": {
     "iopub.execute_input": "2021-03-18T08:36:44.555383Z",
     "iopub.status.busy": "2021-03-18T08:36:44.554944Z",
     "iopub.status.idle": "2021-03-18T08:36:44.710987Z",
     "shell.execute_reply": "2021-03-18T08:36:44.710210Z"
    },
    "papermill": {
     "duration": 0.204537,
     "end_time": "2021-03-18T08:36:44.711151",
     "exception": false,
     "start_time": "2021-03-18T08:36:44.506614",
     "status": "completed"
    },
    "tags": []
   },
   "outputs": [
    {
     "data": {
      "application/vnd.jupyter.widget-view+json": {
       "model_id": "746e19fef27a4e4b908da509c9499dd4",
       "version_major": 2,
       "version_minor": 0
      },
      "text/plain": [
       "  0%|          | 0/16 [00:00<?, ?it/s]"
      ]
     },
     "metadata": {},
     "output_type": "display_data"
    },
    {
     "data": {
      "application/vnd.jupyter.widget-view+json": {
       "model_id": "928ffcfdfcc944a69b1ac09dd6e5aa7e",
       "version_major": 2,
       "version_minor": 0
      },
      "text/plain": [
       "  0%|          | 0/40 [00:00<?, ?it/s]"
      ]
     },
     "metadata": {},
     "output_type": "display_data"
    },
    {
     "data": {
      "application/vnd.jupyter.widget-view+json": {
       "model_id": "d4d0415082d3449baeb424fa653a0efe",
       "version_major": 2,
       "version_minor": 0
      },
      "text/plain": [
       "  0%|          | 0/40 [00:00<?, ?it/s]"
      ]
     },
     "metadata": {},
     "output_type": "display_data"
    },
    {
     "data": {
      "application/vnd.jupyter.widget-view+json": {
       "model_id": "8541894a38e84cc497483db375df9590",
       "version_major": 2,
       "version_minor": 0
      },
      "text/plain": [
       "  0%|          | 0/40 [00:00<?, ?it/s]"
      ]
     },
     "metadata": {},
     "output_type": "display_data"
    },
    {
     "data": {
      "application/vnd.jupyter.widget-view+json": {
       "model_id": "d6cb524b32174db68ff6c796831f66cd",
       "version_major": 2,
       "version_minor": 0
      },
      "text/plain": [
       "  0%|          | 0/40 [00:00<?, ?it/s]"
      ]
     },
     "metadata": {},
     "output_type": "display_data"
    },
    {
     "data": {
      "application/vnd.jupyter.widget-view+json": {
       "model_id": "49509aafcfbf459d8d28744e421fc91c",
       "version_major": 2,
       "version_minor": 0
      },
      "text/plain": [
       "  0%|          | 0/40 [00:00<?, ?it/s]"
      ]
     },
     "metadata": {},
     "output_type": "display_data"
    },
    {
     "data": {
      "application/vnd.jupyter.widget-view+json": {
       "model_id": "c92b6d9199c842eaa449d49cd1ae23e5",
       "version_major": 2,
       "version_minor": 0
      },
      "text/plain": [
       "  0%|          | 0/40 [00:00<?, ?it/s]"
      ]
     },
     "metadata": {},
     "output_type": "display_data"
    },
    {
     "data": {
      "application/vnd.jupyter.widget-view+json": {
       "model_id": "62c7d090e2bf4174aa7a1de67876ff43",
       "version_major": 2,
       "version_minor": 0
      },
      "text/plain": [
       "  0%|          | 0/40 [00:00<?, ?it/s]"
      ]
     },
     "metadata": {},
     "output_type": "display_data"
    },
    {
     "data": {
      "application/vnd.jupyter.widget-view+json": {
       "model_id": "f017adfb4d9b46da93a8b4b5ba60feda",
       "version_major": 2,
       "version_minor": 0
      },
      "text/plain": [
       "  0%|          | 0/40 [00:00<?, ?it/s]"
      ]
     },
     "metadata": {},
     "output_type": "display_data"
    },
    {
     "data": {
      "application/vnd.jupyter.widget-view+json": {
       "model_id": "0880608b92b94b99a852881b39754f9b",
       "version_major": 2,
       "version_minor": 0
      },
      "text/plain": [
       "  0%|          | 0/40 [00:00<?, ?it/s]"
      ]
     },
     "metadata": {},
     "output_type": "display_data"
    },
    {
     "data": {
      "application/vnd.jupyter.widget-view+json": {
       "model_id": "3d20b7141f25425381d3617118cf77ba",
       "version_major": 2,
       "version_minor": 0
      },
      "text/plain": [
       "  0%|          | 0/40 [00:00<?, ?it/s]"
      ]
     },
     "metadata": {},
     "output_type": "display_data"
    },
    {
     "data": {
      "application/vnd.jupyter.widget-view+json": {
       "model_id": "8ffabe2364c84de8b9d4798e4a86808e",
       "version_major": 2,
       "version_minor": 0
      },
      "text/plain": [
       "  0%|          | 0/40 [00:00<?, ?it/s]"
      ]
     },
     "metadata": {},
     "output_type": "display_data"
    },
    {
     "data": {
      "application/vnd.jupyter.widget-view+json": {
       "model_id": "29993a4cd1f148999fa0ee32531a6e5d",
       "version_major": 2,
       "version_minor": 0
      },
      "text/plain": [
       "  0%|          | 0/40 [00:00<?, ?it/s]"
      ]
     },
     "metadata": {},
     "output_type": "display_data"
    },
    {
     "data": {
      "application/vnd.jupyter.widget-view+json": {
       "model_id": "625f473df61e4c7e9b5be007ea346198",
       "version_major": 2,
       "version_minor": 0
      },
      "text/plain": [
       "  0%|          | 0/40 [00:00<?, ?it/s]"
      ]
     },
     "metadata": {},
     "output_type": "display_data"
    },
    {
     "data": {
      "application/vnd.jupyter.widget-view+json": {
       "model_id": "32994266c90f4b4ca886f1a271cf5b81",
       "version_major": 2,
       "version_minor": 0
      },
      "text/plain": [
       "  0%|          | 0/40 [00:00<?, ?it/s]"
      ]
     },
     "metadata": {},
     "output_type": "display_data"
    },
    {
     "data": {
      "application/vnd.jupyter.widget-view+json": {
       "model_id": "d41c2abe7a77470bacb544a6352e4af0",
       "version_major": 2,
       "version_minor": 0
      },
      "text/plain": [
       "  0%|          | 0/40 [00:00<?, ?it/s]"
      ]
     },
     "metadata": {},
     "output_type": "display_data"
    },
    {
     "data": {
      "application/vnd.jupyter.widget-view+json": {
       "model_id": "6a705a0ec4cc454b927d5d4768d14c72",
       "version_major": 2,
       "version_minor": 0
      },
      "text/plain": [
       "  0%|          | 0/40 [00:00<?, ?it/s]"
      ]
     },
     "metadata": {},
     "output_type": "display_data"
    },
    {
     "name": "stderr",
     "output_type": "stream",
     "text": [
      "/tmp/ipykernel_17131/2049223985.py:33: PerformanceWarning: \n",
      "your performance may suffer as PyTables will pickle object types that it cannot\n",
      "map directly to c-types [inferred_type->mixed-integer,key->block2_values] [items->Index(['rep_no', 'threat_model'], dtype='object')]\n",
      "\n",
      "  results_df.to_hdf(str(hdf_output_path), v_type) # ! Change path\n"
     ]
    }
   ],
   "source": [
    "if not hdf_output_path.exists(): # ! Change path checking\n",
    "    total_reps = 40\n",
    "    max_m = 45\n",
    "    total_inner_rep = 100\n",
    "\n",
    "    m_list = [x for x in range(2, max_m, 1)]\n",
    "    p_values_all_threat_models_dict = {}\n",
    "\n",
    "    n_pbar = tqdm(names, leave=False)\n",
    "    for name in n_pbar:\n",
    "        p_vals_per_rep_no = {}\n",
    "        r_pbar = tqdm(range(total_reps), leave=False)\n",
    "        for rep_no in r_pbar:\n",
    "            p_values_list = []\n",
    "            for m in m_list:\n",
    "                p_list = get_p_values(m, outputs_tr[name], outputs_te[name], total_inner_rep)\n",
    "                try:\n",
    "                    hm = hmean(p_list)\n",
    "                except:\n",
    "                    hm = 1.0\n",
    "                p_values_list.append(hm)\n",
    "                pbar.set_description(f\"{rep_no: 2d} {name} m={m: 3d}: f{hm: 0.5f}\")\n",
    "            r_pbar.set_description(f\"rep_no: {rep_no+1}/{total_reps}\")\n",
    "            p_vals_per_rep_no[rep_no] = p_values_list\n",
    "        p_values_all_threat_models_dict[name] = p_vals_per_rep_no\n",
    "        \n",
    "    df_list = []\n",
    "    for name, rep_dict in p_values_all_threat_models_dict.items():\n",
    "        df = pd.DataFrame(rep_dict).reset_index().assign(m=lambda r: r.index+2).drop([\"index\"], axis=1)\n",
    "        df_list.append(pd.melt(df,id_vars=[\"m\"], var_name=\"rep_no\", value_name=\"p_value\").assign(threat_model=name))\n",
    "    results_df = pd.concat(df_list)\n",
    "    \n",
    "    results_df.to_hdf(str(hdf_output_path), v_type) # ! Change path\n",
    "    results_df.convert_dtypes().to_csv(str(csv_output_path)) # ! Add Output csv\n",
    "    results_df\n",
    "else:\n",
    "    results_df = pd.read_hdf(str(hdf_output_path), v_type) # ! Change path"
   ]
  },
  {
   "cell_type": "markdown",
   "id": "selected-hamburg",
   "metadata": {
    "papermill": {
     "duration": 0.0324,
     "end_time": "2021-03-18T08:36:44.803461",
     "exception": false,
     "start_time": "2021-03-18T08:36:44.771061",
     "status": "completed"
    },
    "tags": []
   },
   "source": [
    "#### Plotting"
   ]
  },
  {
   "cell_type": "code",
   "execution_count": 43,
   "id": "previous-clearing",
   "metadata": {
    "execution": {
     "iopub.execute_input": "2021-03-18T08:36:44.871529Z",
     "iopub.status.busy": "2021-03-18T08:36:44.870941Z",
     "iopub.status.idle": "2021-03-18T08:36:44.873682Z",
     "shell.execute_reply": "2021-03-18T08:36:44.873114Z"
    },
    "papermill": {
     "duration": 0.039042,
     "end_time": "2021-03-18T08:36:44.873811",
     "exception": false,
     "start_time": "2021-03-18T08:36:44.834769",
     "status": "completed"
    },
    "tags": []
   },
   "outputs": [],
   "source": [
    "import matplotlib as mpl\n",
    "import matplotlib.pyplot as plt\n",
    "\n",
    "mpl.rcParams['text.latex.preamble'] = r'\\usepackage{times}'\n",
    "\n",
    "plt.rcParams.update({\n",
    "    \"text.usetex\": True,\n",
    "})"
   ]
  },
  {
   "cell_type": "markdown",
   "id": "forbidden-attitude",
   "metadata": {
    "papermill": {
     "duration": 0.031304,
     "end_time": "2021-03-18T08:36:44.942376",
     "exception": false,
     "start_time": "2021-03-18T08:36:44.911072",
     "status": "completed"
    },
    "tags": []
   },
   "source": [
    "#### Renaming"
   ]
  },
  {
   "cell_type": "code",
   "execution_count": 44,
   "id": "engaging-theory",
   "metadata": {
    "execution": {
     "iopub.execute_input": "2021-03-18T08:36:45.014811Z",
     "iopub.status.busy": "2021-03-18T08:36:45.014170Z",
     "iopub.status.idle": "2021-03-18T08:36:45.016072Z",
     "shell.execute_reply": "2021-03-18T08:36:45.016542Z"
    },
    "papermill": {
     "duration": 0.039937,
     "end_time": "2021-03-18T08:36:45.016721",
     "exception": false,
     "start_time": "2021-03-18T08:36:44.976784",
     "status": "completed"
    },
    "tags": []
   },
   "outputs": [],
   "source": [
    "rename_dict = {  # ! Change mapping\n",
    "    \"threat_model\": \"Threat Model\",\n",
    "    \"teacher\": \"Source (CIFAR10 train set)\",\n",
    "    # \"distillation\": \"Distillation\",\n",
    "    # \"extract-label\": \"Label-Query\",\n",
    "    # \"extract-logit\": \"Logit-Query\",\n",
    "    # \"zero-shot\": \"Zero-Shot Learning\",\n",
    "    # \"fine-tune\": \"Fine-Tuning\",\n",
    "    # \"pre-act-18\": \"Diff. Architecture\",\n",
    "    \"independent\": \"Independent (CIFAR10 test set)\",\n",
    "    \"baseline\": \"Baseline\",\n",
    "    \"mean_0.547_0.539_0.507\": \"mean 0.547 0.539 0.507\",\n",
    "    \"mean_0.603_0.596_0.567\": \"mean 0.603 0.596 0.567\",\n",
    "    \"mean_0.659_0.652_0.628\": \"mean 0.659 0.652 0.628\",\n",
    "    \"mean_0.715_0.709_0.688\": \"mean 0.715 0.709 0.688\",\n",
    "    \"mean_0.771_0.766_0.748\": \"mean 0.771 0.766 0.748\",\n",
    "    \"mean_0.799_0.794_0.779\": \"mean 0.799 0.794 0.779\",\n",
    "    \"mean_0.827_0.823_0.809\": \"mean 0.827 0.823 0.809\",\n",
    "    \"mean_0.855_0.851_0.839\": \"mean 0.855 0.851 0.839\",\n",
    "    \"mean_0.883_0.879_0.869\": \"mean 0.883 0.879 0.869\",\n",
    "    \"mean_0.911_0.908_0.899\": \"mean 0.911 0.908 0.899\",\n",
    "    \"mean_0.939_0.936_0.93\": \"mean 0.939 0.936 0.93\",\n",
    "    \"mean_0.967_0.965_0.96\": \"mean 0.967 0.965 0.96\",\n",
    "    \"mean_0.995_0.993_0.99\": \"mean 0.995 0.993 0.99\",\n",
    "}\n"
   ]
  },
  {
   "cell_type": "code",
   "execution_count": 45,
   "id": "junior-being",
   "metadata": {
    "execution": {
     "iopub.execute_input": "2021-03-18T08:36:45.090855Z",
     "iopub.status.busy": "2021-03-18T08:36:45.090398Z",
     "iopub.status.idle": "2021-03-18T08:36:45.124173Z",
     "shell.execute_reply": "2021-03-18T08:36:45.123142Z"
    },
    "papermill": {
     "duration": 0.070648,
     "end_time": "2021-03-18T08:36:45.124420",
     "exception": false,
     "start_time": "2021-03-18T08:36:45.053772",
     "status": "completed"
    },
    "tags": []
   },
   "outputs": [],
   "source": [
    "plot_df = (results_df.rename(columns=rename_dict).replace(rename_dict)\n",
    "           .query('(m >= 5)')\n",
    "          )"
   ]
  },
  {
   "cell_type": "code",
   "execution_count": 46,
   "id": "692c7066",
   "metadata": {},
   "outputs": [],
   "source": [
    "# ! Fix: ValueError: cannot reindex on an axis with duplicate labels\n",
    "plot_df[plot_df.index.duplicated()]\n",
    "plot_df.reset_index(inplace=True)"
   ]
  },
  {
   "cell_type": "code",
   "execution_count": 47,
   "id": "hourly-cloud",
   "metadata": {
    "execution": {
     "iopub.execute_input": "2021-03-18T08:36:45.206227Z",
     "iopub.status.busy": "2021-03-18T08:36:45.205282Z",
     "iopub.status.idle": "2021-03-18T08:36:45.209502Z",
     "shell.execute_reply": "2021-03-18T08:36:45.208668Z"
    },
    "papermill": {
     "duration": 0.045149,
     "end_time": "2021-03-18T08:36:45.209684",
     "exception": false,
     "start_time": "2021-03-18T08:36:45.164535",
     "status": "completed"
    },
    "tags": []
   },
   "outputs": [],
   "source": [
    "# Sizes\n",
    "SMALL_SIZE = 14\n",
    "MEDIUM_SIZE = SMALL_SIZE + 1\n",
    "BIGGER_SIZE = MEDIUM_SIZE + 1\n",
    "plt.rc('font', size=SMALL_SIZE)          # controls default text sizes\n",
    "plt.rc('axes', titlesize=SMALL_SIZE)     # fontsize of the axes title\n",
    "plt.rc('axes', labelsize=MEDIUM_SIZE)    # fontsi ze of the x and y labels\n",
    "plt.rc('xtick', labelsize=SMALL_SIZE)    # fontsize of the tick labels\n",
    "plt.rc('ytick', labelsize=SMALL_SIZE)    # fontsize of the tick labels\n",
    "plt.rc('legend', fontsize=SMALL_SIZE - 5)    # legend fontsize\n",
    "plt.rc('figure', titlesize=BIGGER_SIZE)  # fontsize of the figure title"
   ]
  },
  {
   "cell_type": "code",
   "execution_count": 48,
   "id": "dirty-vulnerability",
   "metadata": {
    "execution": {
     "iopub.execute_input": "2021-03-18T08:36:45.301990Z",
     "iopub.status.busy": "2021-03-18T08:36:45.299608Z",
     "iopub.status.idle": "2021-03-18T08:36:51.608738Z",
     "shell.execute_reply": "2021-03-18T08:36:51.609469Z"
    },
    "papermill": {
     "duration": 6.360963,
     "end_time": "2021-03-18T08:36:51.609710",
     "exception": false,
     "start_time": "2021-03-18T08:36:45.248747",
     "status": "completed"
    },
    "tags": []
   },
   "outputs": [
    {
     "data": {
      "text/plain": [
       "Text(0, 0.5, 'p-value')"
      ]
     },
     "execution_count": 48,
     "metadata": {},
     "output_type": "execute_result"
    },
    {
     "data": {
      "image/png": "[encoded data removed]",
      "text/plain": [
       "<Figure size 1200x450 with 1 Axes>"
      ]
     },
     "metadata": {
      "needs_background": "light"
     },
     "output_type": "display_data"
    }
   ],
   "source": [
    "fig, ax = plt.subplots(figsize=(8, 3), dpi=150)\n",
    "g = sns.lineplot(x=\"m\", y=\"p_value\", hue=\"Threat Model\", data=plot_df, ax=ax, ci=99)\n",
    "g.axhline(0.05, ls='--', color=\"black\", alpha=0.4)\n",
    "g.axhline(0.01, ls='--', color=\"black\", alpha=0.4)\n",
    "g.set_xlabel(\"Number of Sample Revealed\")\n",
    "g.set_ylabel(\"p-value\")"
   ]
  },
  {
   "cell_type": "code",
   "execution_count": 49,
   "id": "16985006",
   "metadata": {},
   "outputs": [
    {
     "data": {
      "image/png": "[encoded data removed]",
      "text/plain": [
       "<Figure size 1600x1000 with 1 Axes>"
      ]
     },
     "metadata": {
      "needs_background": "light"
     },
     "output_type": "display_data"
    }
   ],
   "source": [
    "fig, ax = plt.subplots(figsize=(8, 5), dpi=200)\n",
    "g = sns.lineplot(x=\"m\", y=\"p_value\", hue=\"Threat Model\", data=plot_df, ax=ax, ci=99)\n",
    "g.axhline(0.05, ls='--', color=\"black\", alpha=0.4)\n",
    "g.axhline(0.01, ls='--', color=\"black\", alpha=0.4)\n",
    "g.set_xlabel(\"Number of Sample Revealed\")\n",
    "g.set_ylabel(\"p-value\")\n",
    "# Put a legend below current axis\n",
    "# ax.legend(loc='upper center', bbox_to_anchor=(0.5, -0.15),\n",
    "#           fancybox=True, shadow=True, ncol=5)\n",
    "ax.get_legend().remove()\n",
    "\n",
    "# ! Output graph\n",
    "graph_dir_path = cwd_path / \"fig\"\n",
    "graph_dir_path.mkdir(exist_ok=True)\n",
    "fig.savefig(\n",
    "    fname=graph_dir_path / f\"CIFAR10-CINIC10-EXCL_{v_type}.png\",\n",
    "    transparent=False,\n",
    "    bbox_inches=\"tight\",\n",
    ")"
   ]
  },
  {
   "cell_type": "code",
   "execution_count": null,
   "id": "45e738f0",
   "metadata": {},
   "outputs": [],
   "source": []
  },
  {
   "cell_type": "markdown",
   "id": "amino-microphone",
   "metadata": {
    "papermill": {
     "duration": 0.046349,
     "end_time": "2021-03-18T08:36:51.704749",
     "exception": false,
     "start_time": "2021-03-18T08:36:51.658400",
     "status": "completed"
    },
    "tags": []
   },
   "source": [
    "# Table"
   ]
  },
  {
   "cell_type": "code",
   "execution_count": 50,
   "id": "opposed-inquiry",
   "metadata": {
    "execution": {
     "iopub.execute_input": "2021-03-18T08:36:51.802221Z",
     "iopub.status.busy": "2021-03-18T08:36:51.801677Z",
     "iopub.status.idle": "2021-03-18T08:36:52.262742Z",
     "shell.execute_reply": "2021-03-18T08:36:52.262178Z"
    },
    "papermill": {
     "duration": 0.510979,
     "end_time": "2021-03-18T08:36:52.262887",
     "exception": false,
     "start_time": "2021-03-18T08:36:51.751908",
     "status": "completed"
    },
    "tags": []
   },
   "outputs": [
    {
     "ename": "ImportError",
     "evalue": "cannot import name 'generate_table' from 'utils' (/data/weijing/DI-ting_normalization/src/utils/__init__.py)",
     "output_type": "error",
     "traceback": [
      "\u001b[0;31m---------------------------------------------------------------------------\u001b[0m",
      "\u001b[0;31mImportError\u001b[0m                               Traceback (most recent call last)",
      "\u001b[1;32m/data/weijing/DI-ting_normalization/diff_norm_value_dist_notebook/CIFAR10_mingd.ipynb Cell 35\u001b[0m in \u001b[0;36m<cell line: 1>\u001b[0;34m()\u001b[0m\n\u001b[0;32m----> <a href='vscode-notebook-cell://ssh-remote%2Bssh.jiuntian.com/data/weijing/DI-ting_normalization/diff_norm_value_dist_notebook/CIFAR10_mingd.ipynb#X46sdnNjb2RlLXJlbW90ZQ%3D%3D?line=0'>1</a>\u001b[0m \u001b[39mfrom\u001b[39;00m \u001b[39mutils\u001b[39;00m \u001b[39mimport\u001b[39;00m generate_table\n\u001b[1;32m      <a href='vscode-notebook-cell://ssh-remote%2Bssh.jiuntian.com/data/weijing/DI-ting_normalization/diff_norm_value_dist_notebook/CIFAR10_mingd.ipynb#X46sdnNjb2RlLXJlbW90ZQ%3D%3D?line=1'>2</a>\u001b[0m tab \u001b[39m=\u001b[39m generate_table(selected_m\u001b[39m=\u001b[39m\u001b[39m10\u001b[39m, outputs_te\u001b[39m=\u001b[39moutputs_te, outputs_tr\u001b[39m=\u001b[39moutputs_tr, names\u001b[39m=\u001b[39mnames)\n",
      "\u001b[0;31mImportError\u001b[0m: cannot import name 'generate_table' from 'utils' (/data/weijing/DI-ting_normalization/src/utils/__init__.py)"
     ]
    }
   ],
   "source": [
    "from utils import generate_table\n",
    "tab = generate_table(selected_m=10, outputs_te=outputs_te, outputs_tr=outputs_tr, names=names)"
   ]
  },
  {
   "cell_type": "code",
   "execution_count": null,
   "id": "dedicated-proceeding",
   "metadata": {
    "execution": {
     "iopub.execute_input": "2021-03-18T08:36:52.362924Z",
     "iopub.status.busy": "2021-03-18T08:36:52.362378Z",
     "iopub.status.idle": "2021-03-18T08:36:52.365594Z",
     "shell.execute_reply": "2021-03-18T08:36:52.365068Z"
    },
    "papermill": {
     "duration": 0.054521,
     "end_time": "2021-03-18T08:36:52.365712",
     "exception": false,
     "start_time": "2021-03-18T08:36:52.311191",
     "status": "completed"
    },
    "tags": []
   },
   "outputs": [
    {
     "name": "stdout",
     "output_type": "stream",
     "text": [
      "               mean_diff  p_value\n",
      "teacher            0.838    0.000\n",
      "distillation       0.586    0.000\n",
      "pre-act-18         0.645    0.000\n",
      "zero-shot          0.371    0.024\n",
      "fine-tune          0.832    0.000\n",
      "extract-label      0.475    0.001\n",
      "extract-logit      0.563    0.001\n",
      "independent        0.103    1.000\n"
     ]
    }
   ],
   "source": [
    "with pd.option_context(\"display.float_format\", lambda x: f\"{x: 0.3f}\"):\n",
    "    print(tab)"
   ]
  },
  {
   "cell_type": "code",
   "execution_count": null,
   "id": "excess-plane",
   "metadata": {
    "execution": {
     "iopub.execute_input": "2021-03-18T08:36:52.464955Z",
     "iopub.status.busy": "2021-03-18T08:36:52.464367Z",
     "iopub.status.idle": "2021-03-18T08:36:52.472097Z",
     "shell.execute_reply": "2021-03-18T08:36:52.472559Z"
    },
    "papermill": {
     "duration": 0.058101,
     "end_time": "2021-03-18T08:36:52.472742",
     "exception": false,
     "start_time": "2021-03-18T08:36:52.414641",
     "status": "completed"
    },
    "tags": []
   },
   "outputs": [
    {
     "name": "stdout",
     "output_type": "stream",
     "text": [
      "\\begin{tabular}{lrr}\n",
      "\\toprule\n",
      "{} & mean_diff &    p_value \\\\\n",
      "\\midrule\n",
      "teacher       &     0.838 & $10^{-04}$ \\\\\n",
      "distillation  &     0.586 & $10^{-04}$ \\\\\n",
      "pre-act-18    &     0.645 & $10^{-04}$ \\\\\n",
      "zero-shot     &     0.371 & $10^{-02}$ \\\\\n",
      "fine-tune     &     0.832 & $10^{-05}$ \\\\\n",
      "extract-label &     0.475 & $10^{-03}$ \\\\\n",
      "extract-logit &     0.563 & $10^{-03}$ \\\\\n",
      "independent   &     0.103 & $10^{+00}$ \\\\\n",
      "\\bottomrule\n",
      "\\end{tabular}\n",
      "\n"
     ]
    }
   ],
   "source": [
    "with pd.option_context(\"display.float_format\", lambda x: f\"{x: 0.3f}\"):\n",
    "    print(tab.to_latex(formatters=dict(mean_diff=\"{:0.3f}\".format, p_value=lambda x: \"$10^{\"+f\"{x:0.0E}\"[2:]+\"}$\"), escape=False))"
   ]
  }
 ],
 "metadata": {
  "celltoolbar": "Tags",
  "kernelspec": {
   "display_name": "Python 3.8.12 ('DIenv')",
   "language": "python",
   "name": "python3"
  },
  "language_info": {
   "codemirror_mode": {
    "name": "ipython",
    "version": 3
   },
   "file_extension": ".py",
   "mimetype": "text/x-python",
   "name": "python",
   "nbconvert_exporter": "python",
   "pygments_lexer": "ipython3",
   "version": "3.8.12 (default, Oct 12 2021, 13:49:34) \n[GCC 7.5.0]"
  },
  "papermill": {
   "default_parameters": {},
   "duration": 16.25981,
   "end_time": "2021-03-18T08:36:53.740755",
   "environment_variables": {},
   "exception": null,
   "input_path": "./template.ipynb",
   "output_path": "./notebooks/CIFAR10_mingd.ipynb",
   "parameters": {
    "dataset": "CIFAR10",
    "params_path": "/home/mohammad/transferability/src",
    "root_path": "/home/mohammad/transferability/files",
    "split_index": 500,
    "v_type": "mingd"
   },
   "start_time": "2021-03-18T08:36:37.480945",
   "version": "2.3.3"
  },
  "vscode": {
   "interpreter": {
    "hash": "01ff145a580a012fbee101d68df8ff40de9b5a3386bbca8e9b7074444281a989"
   }
  },
  "widgets": {
   "application/vnd.jupyter.widget-state+json": {
    "state": {
     "03a7748a4a7542f189f81c50904547c2": {
      "model_module": "@jupyter-widgets/controls",
      "model_module_version": "1.5.0",
      "model_name": "ProgressStyleModel",
      "state": {
       "_model_module": "@jupyter-widgets/controls",
       "_model_module_version": "1.5.0",
       "_model_name": "ProgressStyleModel",
       "_view_count": null,
       "_view_module": "@jupyter-widgets/base",
       "_view_module_version": "1.2.0",
       "_view_name": "StyleView",
       "bar_color": null,
       "description_width": ""
      }
     },
     "1044c127ded34e569469f9e60f01461c": {
      "model_module": "@jupyter-widgets/controls",
      "model_module_version": "1.5.0",
      "model_name": "FloatProgressModel",
      "state": {
       "_dom_classes": [],
       "_model_module": "@jupyter-widgets/controls",
       "_model_module_version": "1.5.0",
       "_model_name": "FloatProgressModel",
       "_view_count": null,
       "_view_module": "@jupyter-widgets/controls",
       "_view_module_version": "1.5.0",
       "_view_name": "ProgressView",
       "bar_style": "success",
       "description": "",
       "description_tooltip": null,
       "layout": "IPY_MODEL_6e443733cafc4a0885105457d331de23",
       "max": 1000,
       "min": 0,
       "orientation": "horizontal",
       "style": "IPY_MODEL_2e200cc0d5c949839699ca43895eb51b",
       "value": 1000
      }
     },
     "1102322f114e405abacbe0c0ee6e1882": {
      "model_module": "@jupyter-widgets/controls",
      "model_module_version": "1.5.0",
      "model_name": "FloatProgressModel",
      "state": {
       "_dom_classes": [],
       "_model_module": "@jupyter-widgets/controls",
       "_model_module_version": "1.5.0",
       "_model_name": "FloatProgressModel",
       "_view_count": null,
       "_view_module": "@jupyter-widgets/controls",
       "_view_module_version": "1.5.0",
       "_view_name": "ProgressView",
       "bar_style": "",
       "description": "",
       "description_tooltip": null,
       "layout": "IPY_MODEL_2b4dbc9c9ed34300bd06372a67119910",
       "max": 8,
       "min": 0,
       "orientation": "horizontal",
       "style": "IPY_MODEL_03a7748a4a7542f189f81c50904547c2",
       "value": 8
      }
     },
     "111a5486a01b404cb57941e28ed670f3": {
      "model_module": "@jupyter-widgets/controls",
      "model_module_version": "1.5.0",
      "model_name": "HTMLModel",
      "state": {
       "_dom_classes": [],
       "_model_module": "@jupyter-widgets/controls",
       "_model_module_version": "1.5.0",
       "_model_name": "HTMLModel",
       "_view_count": null,
       "_view_module": "@jupyter-widgets/controls",
       "_view_module_version": "1.5.0",
       "_view_name": "HTMLView",
       "description": "",
       "description_tooltip": null,
       "layout": "IPY_MODEL_a45b18bcc0384bfda8e443bc7ed2910a",
       "placeholder": "​",
       "style": "IPY_MODEL_cd2f2f5a00314af1828f8f137301ca54",
       "value": " 1000/1000 [00:03&lt;00:00, 379.08it/s]"
      }
     },
     "1ccb65976ced4900bef7be20b1bdbbd6": {
      "model_module": "@jupyter-widgets/controls",
      "model_module_version": "1.5.0",
      "model_name": "DescriptionStyleModel",
      "state": {
       "_model_module": "@jupyter-widgets/controls",
       "_model_module_version": "1.5.0",
       "_model_name": "DescriptionStyleModel",
       "_view_count": null,
       "_view_module": "@jupyter-widgets/base",
       "_view_module_version": "1.2.0",
       "_view_name": "StyleView",
       "description_width": ""
      }
     },
     "2b4dbc9c9ed34300bd06372a67119910": {
      "model_module": "@jupyter-widgets/base",
      "model_module_version": "1.2.0",
      "model_name": "LayoutModel",
      "state": {
       "_model_module": "@jupyter-widgets/base",
       "_model_module_version": "1.2.0",
       "_model_name": "LayoutModel",
       "_view_count": null,
       "_view_module": "@jupyter-widgets/base",
       "_view_module_version": "1.2.0",
       "_view_name": "LayoutView",
       "align_content": null,
       "align_items": null,
       "align_self": null,
       "border": null,
       "bottom": null,
       "display": null,
       "flex": null,
       "flex_flow": null,
       "grid_area": null,
       "grid_auto_columns": null,
       "grid_auto_flow": null,
       "grid_auto_rows": null,
       "grid_column": null,
       "grid_gap": null,
       "grid_row": null,
       "grid_template_areas": null,
       "grid_template_columns": null,
       "grid_template_rows": null,
       "height": null,
       "justify_content": null,
       "justify_items": null,
       "left": null,
       "margin": null,
       "max_height": null,
       "max_width": null,
       "min_height": null,
       "min_width": null,
       "object_fit": null,
       "object_position": null,
       "order": null,
       "overflow": null,
       "overflow_x": null,
       "overflow_y": null,
       "padding": null,
       "right": null,
       "top": null,
       "visibility": null,
       "width": null
      }
     },
     "2e200cc0d5c949839699ca43895eb51b": {
      "model_module": "@jupyter-widgets/controls",
      "model_module_version": "1.5.0",
      "model_name": "ProgressStyleModel",
      "state": {
       "_model_module": "@jupyter-widgets/controls",
       "_model_module_version": "1.5.0",
       "_model_name": "ProgressStyleModel",
       "_view_count": null,
       "_view_module": "@jupyter-widgets/base",
       "_view_module_version": "1.2.0",
       "_view_name": "StyleView",
       "bar_color": null,
       "description_width": ""
      }
     },
     "3902d0e3a39841dbb4424d9797e14757": {
      "model_module": "@jupyter-widgets/base",
      "model_module_version": "1.2.0",
      "model_name": "LayoutModel",
      "state": {
       "_model_module": "@jupyter-widgets/base",
       "_model_module_version": "1.2.0",
       "_model_name": "LayoutModel",
       "_view_count": null,
       "_view_module": "@jupyter-widgets/base",
       "_view_module_version": "1.2.0",
       "_view_name": "LayoutView",
       "align_content": null,
       "align_items": null,
       "align_self": null,
       "border": null,
       "bottom": null,
       "display": null,
       "flex": null,
       "flex_flow": null,
       "grid_area": null,
       "grid_auto_columns": null,
       "grid_auto_flow": null,
       "grid_auto_rows": null,
       "grid_column": null,
       "grid_gap": null,
       "grid_row": null,
       "grid_template_areas": null,
       "grid_template_columns": null,
       "grid_template_rows": null,
       "height": null,
       "justify_content": null,
       "justify_items": null,
       "left": null,
       "margin": null,
       "max_height": null,
       "max_width": null,
       "min_height": null,
       "min_width": null,
       "object_fit": null,
       "object_position": null,
       "order": null,
       "overflow": null,
       "overflow_x": null,
       "overflow_y": null,
       "padding": null,
       "right": null,
       "top": null,
       "visibility": null,
       "width": null
      }
     },
     "3cf9d1f5968b4328a3c349a260fb7de5": {
      "model_module": "@jupyter-widgets/base",
      "model_module_version": "1.2.0",
      "model_name": "LayoutModel",
      "state": {
       "_model_module": "@jupyter-widgets/base",
       "_model_module_version": "1.2.0",
       "_model_name": "LayoutModel",
       "_view_count": null,
       "_view_module": "@jupyter-widgets/base",
       "_view_module_version": "1.2.0",
       "_view_name": "LayoutView",
       "align_content": null,
       "align_items": null,
       "align_self": null,
       "border": null,
       "bottom": null,
       "display": null,
       "flex": null,
       "flex_flow": null,
       "grid_area": null,
       "grid_auto_columns": null,
       "grid_auto_flow": null,
       "grid_auto_rows": null,
       "grid_column": null,
       "grid_gap": null,
       "grid_row": null,
       "grid_template_areas": null,
       "grid_template_columns": null,
       "grid_template_rows": null,
       "height": null,
       "justify_content": null,
       "justify_items": null,
       "left": null,
       "margin": null,
       "max_height": null,
       "max_width": null,
       "min_height": null,
       "min_width": null,
       "object_fit": null,
       "object_position": null,
       "order": null,
       "overflow": null,
       "overflow_x": null,
       "overflow_y": null,
       "padding": null,
       "right": null,
       "top": null,
       "visibility": null,
       "width": null
      }
     },
     "46dc6138f12745829812aea599f65d30": {
      "model_module": "@jupyter-widgets/controls",
      "model_module_version": "1.5.0",
      "model_name": "HBoxModel",
      "state": {
       "_dom_classes": [],
       "_model_module": "@jupyter-widgets/controls",
       "_model_module_version": "1.5.0",
       "_model_name": "HBoxModel",
       "_view_count": null,
       "_view_module": "@jupyter-widgets/controls",
       "_view_module_version": "1.5.0",
       "_view_name": "HBoxView",
       "box_style": "",
       "children": [
        "IPY_MODEL_e59a8cee96744eb6bf9fca0b09d4194f",
        "IPY_MODEL_1102322f114e405abacbe0c0ee6e1882",
        "IPY_MODEL_cd26d5e39ebf45ba86afb09473ae2e3f"
       ],
       "layout": "IPY_MODEL_e21f2444d5ed402ea76e5ee26ec4171c"
      }
     },
     "4fae1961a46940de93d7da0fc8b6ddbf": {
      "model_module": "@jupyter-widgets/base",
      "model_module_version": "1.2.0",
      "model_name": "LayoutModel",
      "state": {
       "_model_module": "@jupyter-widgets/base",
       "_model_module_version": "1.2.0",
       "_model_name": "LayoutModel",
       "_view_count": null,
       "_view_module": "@jupyter-widgets/base",
       "_view_module_version": "1.2.0",
       "_view_name": "LayoutView",
       "align_content": null,
       "align_items": null,
       "align_self": null,
       "border": null,
       "bottom": null,
       "display": null,
       "flex": null,
       "flex_flow": null,
       "grid_area": null,
       "grid_auto_columns": null,
       "grid_auto_flow": null,
       "grid_auto_rows": null,
       "grid_column": null,
       "grid_gap": null,
       "grid_row": null,
       "grid_template_areas": null,
       "grid_template_columns": null,
       "grid_template_rows": null,
       "height": null,
       "justify_content": null,
       "justify_items": null,
       "left": null,
       "margin": null,
       "max_height": null,
       "max_width": null,
       "min_height": null,
       "min_width": null,
       "object_fit": null,
       "object_position": null,
       "order": null,
       "overflow": null,
       "overflow_x": null,
       "overflow_y": null,
       "padding": null,
       "right": null,
       "top": null,
       "visibility": null,
       "width": null
      }
     },
     "5819398e0d904a869f5a98841ced0c4f": {
      "model_module": "@jupyter-widgets/base",
      "model_module_version": "1.2.0",
      "model_name": "LayoutModel",
      "state": {
       "_model_module": "@jupyter-widgets/base",
       "_model_module_version": "1.2.0",
       "_model_name": "LayoutModel",
       "_view_count": null,
       "_view_module": "@jupyter-widgets/base",
       "_view_module_version": "1.2.0",
       "_view_name": "LayoutView",
       "align_content": null,
       "align_items": null,
       "align_self": null,
       "border": null,
       "bottom": null,
       "display": null,
       "flex": null,
       "flex_flow": null,
       "grid_area": null,
       "grid_auto_columns": null,
       "grid_auto_flow": null,
       "grid_auto_rows": null,
       "grid_column": null,
       "grid_gap": null,
       "grid_row": null,
       "grid_template_areas": null,
       "grid_template_columns": null,
       "grid_template_rows": null,
       "height": null,
       "justify_content": null,
       "justify_items": null,
       "left": null,
       "margin": null,
       "max_height": null,
       "max_width": null,
       "min_height": null,
       "min_width": null,
       "object_fit": null,
       "object_position": null,
       "order": null,
       "overflow": null,
       "overflow_x": null,
       "overflow_y": null,
       "padding": null,
       "right": null,
       "top": null,
       "visibility": null,
       "width": null
      }
     },
     "6e443733cafc4a0885105457d331de23": {
      "model_module": "@jupyter-widgets/base",
      "model_module_version": "1.2.0",
      "model_name": "LayoutModel",
      "state": {
       "_model_module": "@jupyter-widgets/base",
       "_model_module_version": "1.2.0",
       "_model_name": "LayoutModel",
       "_view_count": null,
       "_view_module": "@jupyter-widgets/base",
       "_view_module_version": "1.2.0",
       "_view_name": "LayoutView",
       "align_content": null,
       "align_items": null,
       "align_self": null,
       "border": null,
       "bottom": null,
       "display": null,
       "flex": null,
       "flex_flow": null,
       "grid_area": null,
       "grid_auto_columns": null,
       "grid_auto_flow": null,
       "grid_auto_rows": null,
       "grid_column": null,
       "grid_gap": null,
       "grid_row": null,
       "grid_template_areas": null,
       "grid_template_columns": null,
       "grid_template_rows": null,
       "height": null,
       "justify_content": null,
       "justify_items": null,
       "left": null,
       "margin": null,
       "max_height": null,
       "max_width": null,
       "min_height": null,
       "min_width": null,
       "object_fit": null,
       "object_position": null,
       "order": null,
       "overflow": null,
       "overflow_x": null,
       "overflow_y": null,
       "padding": null,
       "right": null,
       "top": null,
       "visibility": null,
       "width": null
      }
     },
     "854c82ced88d4d3caa34eb2cec2a2c81": {
      "model_module": "@jupyter-widgets/controls",
      "model_module_version": "1.5.0",
      "model_name": "DescriptionStyleModel",
      "state": {
       "_model_module": "@jupyter-widgets/controls",
       "_model_module_version": "1.5.0",
       "_model_name": "DescriptionStyleModel",
       "_view_count": null,
       "_view_module": "@jupyter-widgets/base",
       "_view_module_version": "1.2.0",
       "_view_name": "StyleView",
       "description_width": ""
      }
     },
     "987a2033e1c64c8487cce9fdacc2ebda": {
      "model_module": "@jupyter-widgets/controls",
      "model_module_version": "1.5.0",
      "model_name": "DescriptionStyleModel",
      "state": {
       "_model_module": "@jupyter-widgets/controls",
       "_model_module_version": "1.5.0",
       "_model_name": "DescriptionStyleModel",
       "_view_count": null,
       "_view_module": "@jupyter-widgets/base",
       "_view_module_version": "1.2.0",
       "_view_name": "StyleView",
       "description_width": ""
      }
     },
     "a45b18bcc0384bfda8e443bc7ed2910a": {
      "model_module": "@jupyter-widgets/base",
      "model_module_version": "1.2.0",
      "model_name": "LayoutModel",
      "state": {
       "_model_module": "@jupyter-widgets/base",
       "_model_module_version": "1.2.0",
       "_model_name": "LayoutModel",
       "_view_count": null,
       "_view_module": "@jupyter-widgets/base",
       "_view_module_version": "1.2.0",
       "_view_name": "LayoutView",
       "align_content": null,
       "align_items": null,
       "align_self": null,
       "border": null,
       "bottom": null,
       "display": null,
       "flex": null,
       "flex_flow": null,
       "grid_area": null,
       "grid_auto_columns": null,
       "grid_auto_flow": null,
       "grid_auto_rows": null,
       "grid_column": null,
       "grid_gap": null,
       "grid_row": null,
       "grid_template_areas": null,
       "grid_template_columns": null,
       "grid_template_rows": null,
       "height": null,
       "justify_content": null,
       "justify_items": null,
       "left": null,
       "margin": null,
       "max_height": null,
       "max_width": null,
       "min_height": null,
       "min_width": null,
       "object_fit": null,
       "object_position": null,
       "order": null,
       "overflow": null,
       "overflow_x": null,
       "overflow_y": null,
       "padding": null,
       "right": null,
       "top": null,
       "visibility": null,
       "width": null
      }
     },
     "cd26d5e39ebf45ba86afb09473ae2e3f": {
      "model_module": "@jupyter-widgets/controls",
      "model_module_version": "1.5.0",
      "model_name": "HTMLModel",
      "state": {
       "_dom_classes": [],
       "_model_module": "@jupyter-widgets/controls",
       "_model_module_version": "1.5.0",
       "_model_name": "HTMLModel",
       "_view_count": null,
       "_view_module": "@jupyter-widgets/controls",
       "_view_module_version": "1.5.0",
       "_view_name": "HTMLView",
       "description": "",
       "description_tooltip": null,
       "layout": "IPY_MODEL_3902d0e3a39841dbb4424d9797e14757",
       "placeholder": "​",
       "style": "IPY_MODEL_987a2033e1c64c8487cce9fdacc2ebda",
       "value": " 6/8 [00:00&lt;00:00, 17.23it/s]"
      }
     },
     "cd2f2f5a00314af1828f8f137301ca54": {
      "model_module": "@jupyter-widgets/controls",
      "model_module_version": "1.5.0",
      "model_name": "DescriptionStyleModel",
      "state": {
       "_model_module": "@jupyter-widgets/controls",
       "_model_module_version": "1.5.0",
       "_model_name": "DescriptionStyleModel",
       "_view_count": null,
       "_view_module": "@jupyter-widgets/base",
       "_view_module_version": "1.2.0",
       "_view_name": "StyleView",
       "description_width": ""
      }
     },
     "e21f2444d5ed402ea76e5ee26ec4171c": {
      "model_module": "@jupyter-widgets/base",
      "model_module_version": "1.2.0",
      "model_name": "LayoutModel",
      "state": {
       "_model_module": "@jupyter-widgets/base",
       "_model_module_version": "1.2.0",
       "_model_name": "LayoutModel",
       "_view_count": null,
       "_view_module": "@jupyter-widgets/base",
       "_view_module_version": "1.2.0",
       "_view_name": "LayoutView",
       "align_content": null,
       "align_items": null,
       "align_self": null,
       "border": null,
       "bottom": null,
       "display": null,
       "flex": null,
       "flex_flow": null,
       "grid_area": null,
       "grid_auto_columns": null,
       "grid_auto_flow": null,
       "grid_auto_rows": null,
       "grid_column": null,
       "grid_gap": null,
       "grid_row": null,
       "grid_template_areas": null,
       "grid_template_columns": null,
       "grid_template_rows": null,
       "height": null,
       "justify_content": null,
       "justify_items": null,
       "left": null,
       "margin": null,
       "max_height": null,
       "max_width": null,
       "min_height": null,
       "min_width": null,
       "object_fit": null,
       "object_position": null,
       "order": null,
       "overflow": null,
       "overflow_x": null,
       "overflow_y": null,
       "padding": null,
       "right": null,
       "top": null,
       "visibility": null,
       "width": null
      }
     },
     "e59a8cee96744eb6bf9fca0b09d4194f": {
      "model_module": "@jupyter-widgets/controls",
      "model_module_version": "1.5.0",
      "model_name": "HTMLModel",
      "state": {
       "_dom_classes": [],
       "_model_module": "@jupyter-widgets/controls",
       "_model_module_version": "1.5.0",
       "_model_name": "HTMLModel",
       "_view_count": null,
       "_view_module": "@jupyter-widgets/controls",
       "_view_module_version": "1.5.0",
       "_view_name": "HTMLView",
       "description": "",
       "description_tooltip": null,
       "layout": "IPY_MODEL_4fae1961a46940de93d7da0fc8b6ddbf",
       "placeholder": "​",
       "style": "IPY_MODEL_854c82ced88d4d3caa34eb2cec2a2c81",
       "value": " 75%"
      }
     },
     "ef61deacc4674e679ffa2fec80ac208e": {
      "model_module": "@jupyter-widgets/controls",
      "model_module_version": "1.5.0",
      "model_name": "HBoxModel",
      "state": {
       "_dom_classes": [],
       "_model_module": "@jupyter-widgets/controls",
       "_model_module_version": "1.5.0",
       "_model_name": "HBoxModel",
       "_view_count": null,
       "_view_module": "@jupyter-widgets/controls",
       "_view_module_version": "1.5.0",
       "_view_name": "HBoxView",
       "box_style": "",
       "children": [
        "IPY_MODEL_fa8b906bbd104dd783ff6ea0c4550e97",
        "IPY_MODEL_1044c127ded34e569469f9e60f01461c",
        "IPY_MODEL_111a5486a01b404cb57941e28ed670f3"
       ],
       "layout": "IPY_MODEL_3cf9d1f5968b4328a3c349a260fb7de5"
      }
     },
     "fa8b906bbd104dd783ff6ea0c4550e97": {
      "model_module": "@jupyter-widgets/controls",
      "model_module_version": "1.5.0",
      "model_name": "HTMLModel",
      "state": {
       "_dom_classes": [],
       "_model_module": "@jupyter-widgets/controls",
       "_model_module_version": "1.5.0",
       "_model_name": "HTMLModel",
       "_view_count": null,
       "_view_module": "@jupyter-widgets/controls",
       "_view_module_version": "1.5.0",
       "_view_name": "HTMLView",
       "description": "",
       "description_tooltip": null,
       "layout": "IPY_MODEL_5819398e0d904a869f5a98841ced0c4f",
       "placeholder": "​",
       "style": "IPY_MODEL_1ccb65976ced4900bef7be20b1bdbbd6",
       "value": "loss -0.5423197150230408: 100%"
      }
     }
    },
    "version_major": 2,
    "version_minor": 0
   }
  }
 },
 "nbformat": 4,
 "nbformat_minor": 5
}
