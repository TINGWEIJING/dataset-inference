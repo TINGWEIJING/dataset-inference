{
 "cells": [
  {
   "cell_type": "code",
   "execution_count": 1,
   "metadata": {},
   "outputs": [],
   "source": [
    "from pathlib import Path"
   ]
  },
  {
   "cell_type": "code",
   "execution_count": 2,
   "metadata": {},
   "outputs": [
    {
     "name": "stdout",
     "output_type": "stream",
     "text": [
      "model__baseline\n",
      "model__mean_0.547_0.539_0.507\n",
      "model__mean_0.603_0.596_0.567\n",
      "model__mean_0.659_0.652_0.628\n",
      "model__mean_0.715_0.709_0.688\n",
      "model__mean_0.771_0.766_0.748\n",
      "model__mean_0.799_0.794_0.779\n",
      "model__mean_0.827_0.823_0.809\n",
      "model__mean_0.855_0.851_0.839\n",
      "model__mean_0.883_0.879_0.869\n",
      "model__mean_0.911_0.908_0.899\n",
      "model__mean_0.939_0.936_0.93\n",
      "model__mean_0.967_0.965_0.96\n",
      "model__mean_0.995_0.993_0.99\n"
     ]
    }
   ],
   "source": [
    "\n",
    "\n",
    "target_dir_path = Path.cwd().parent / \"files/CIFAR10\"\n",
    "child_path_names = []\n",
    "for child_path in target_dir_path.iterdir():\n",
    "    child_path_names.append(child_path.name)\n",
    "\n",
    "child_path_names.sort()\n",
    "\n",
    "for name in child_path_names:\n",
    "    print(name)\n",
    "\n",
    "\n",
    "\n",
    "     \n"
   ]
  }
 ],
 "metadata": {
  "kernelspec": {
   "display_name": "DIenv",
   "language": "python",
   "name": "python3"
  },
  "language_info": {
   "codemirror_mode": {
    "name": "ipython",
    "version": 3
   },
   "file_extension": ".py",
   "mimetype": "text/x-python",
   "name": "python",
   "nbconvert_exporter": "python",
   "pygments_lexer": "ipython3",
   "version": "3.8.12 (default, Oct 12 2021, 13:49:34) \n[GCC 7.5.0]"
  },
  "orig_nbformat": 4,
  "vscode": {
   "interpreter": {
    "hash": "01ff145a580a012fbee101d68df8ff40de9b5a3386bbca8e9b7074444281a989"
   }
  }
 },
 "nbformat": 4,
 "nbformat_minor": 2
}
