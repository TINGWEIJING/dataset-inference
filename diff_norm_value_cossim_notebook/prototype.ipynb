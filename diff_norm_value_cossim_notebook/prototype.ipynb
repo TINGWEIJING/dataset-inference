{
 "cells": [
  {
   "cell_type": "code",
   "execution_count": 1,
   "metadata": {},
   "outputs": [],
   "source": [
    "import numpy as np\n",
    "from numpy import linalg as LA\n",
    "from pprint import pprint"
   ]
  },
  {
   "cell_type": "code",
   "execution_count": 2,
   "metadata": {},
   "outputs": [],
   "source": [
    "cifar10_mean = np.array((0.4914, 0.4822, 0.4465))\n",
    "cifar10_std = np.array((0.2471, 0.2435, 0.2616))"
   ]
  },
  {
   "attachments": {},
   "cell_type": "markdown",
   "metadata": {},
   "source": [
    "- Select 10 uniform random vector"
   ]
  },
  {
   "cell_type": "code",
   "execution_count": 10,
   "metadata": {},
   "outputs": [],
   "source": [
    "def cosine_similarity(A: np.ndarray, B: np.ndarray):\n",
    "    assert A.shape == B.shape\n",
    "    return np.dot(A, B) / (LA.norm(A, 2) * LA.norm(B, 2))"
   ]
  },
  {
   "cell_type": "code",
   "execution_count": 19,
   "metadata": {},
   "outputs": [],
   "source": [
    "sample_num = 10\n",
    "rng: np.random._generator.Generator = np.random.default_rng(seed=123)\n",
    "rnd_vectors = rng.uniform(-1, 1, size=(sample_num, 3))\n",
    "filtered_rnd_vector_list = []\n",
    "for i in range(sample_num):\n",
    "    filtered_rnd_vector_list.append(np.round(rnd_vectors[i], 3))\n",
    "\n"
   ]
  },
  {
   "cell_type": "code",
   "execution_count": 23,
   "metadata": {},
   "outputs": [
    {
     "name": "stdout",
     "output_type": "stream",
     "text": [
      "[ 0.365 -0.892 -0.559]\n",
      "[-0.631 -0.648  0.624]\n",
      "[ 0.847 -0.447  0.64 ]\n",
      "[ 0.78   0.026 -0.51 ]\n",
      "[ 0.648 -0.572  0.483]\n",
      "[ 0.26   0.855 -0.536]\n",
      "[ 0.598  0.036 -0.537]\n",
      "[-0.668 -0.004  0.165]\n",
      "[-0.631 -0.97  -0.058]\n",
      "[0.456 0.837 0.251]\n"
     ]
    }
   ],
   "source": [
    "# check value\n",
    "for rnd_vector in filtered_rnd_vector_list:\n",
    "    print(rnd_vector)"
   ]
  },
  {
   "cell_type": "code",
   "execution_count": 21,
   "metadata": {},
   "outputs": [
    {
     "name": "stdout",
     "output_type": "stream",
     "text": [
      "-0.5472756413221266\n",
      "-0.38142297152190263\n",
      "0.514630357634909\n",
      "0.21975011929153412\n",
      "0.3178726270006958\n",
      "0.3516764001216642\n",
      "0.10822148569671865\n",
      "-0.45429868991995137\n",
      "-0.8453370703808512\n",
      "0.9146218612514739\n"
     ]
    }
   ],
   "source": [
    "# check cosine similarity\n",
    "for rnd_vector in filtered_rnd_vector_list:\n",
    "    # print(rnd_vector)\n",
    "    print(cosine_similarity(rnd_vector, cifar10_mean))"
   ]
  },
  {
   "cell_type": "code",
   "execution_count": 22,
   "metadata": {},
   "outputs": [
    {
     "name": "stdout",
     "output_type": "stream",
     "text": [
      "1.1141678509093682\n",
      "1.0988362025342995\n",
      "1.151875861367014\n",
      "0.9322960903060787\n",
      "0.9901398891065848\n",
      "1.0420753331693442\n",
      "0.8045302977514271\n",
      "0.6880879304275\n",
      "1.1586306572847103\n",
      "0.9856500393141574\n"
     ]
    }
   ],
   "source": [
    "# check magnitude\n",
    "for rnd_vector in filtered_rnd_vector_list:\n",
    "    print(LA.norm(rnd_vector, 2))"
   ]
  },
  {
   "cell_type": "markdown",
   "metadata": {},
   "source": [
    "- Select 1 unit vector which can have 0.95 dist from 100 sample"
   ]
  },
  {
   "cell_type": "code",
   "execution_count": 3,
   "metadata": {},
   "outputs": [],
   "source": [
    "# generate 100 random unit vector dimension\n",
    "sample_num = 100000\n",
    "rng: np.random._generator.Generator = np.random.default_rng(seed=42)\n",
    "rnd_vectors = rng.uniform(-1, 1, size=(sample_num, 3))\n",
    "\n",
    "rnd_unit_vector_list = []\n",
    "for i in range(rnd_vectors.shape[0]):\n",
    "    unit_vector = rnd_vectors[i] / LA.norm(rnd_vectors[i], 2)\n",
    "    rnd_unit_vector_list.append(unit_vector)\n"
   ]
  },
  {
   "cell_type": "code",
   "execution_count": 4,
   "metadata": {},
   "outputs": [],
   "source": [
    "# filter in range (0, 1) with factor 0.9\n",
    "factor = 0.9\n",
    "filtered_rnd_unit_vector_list = []\n",
    "\n",
    "for unit_vector in rnd_unit_vector_list:\n",
    "    result_vector = cifar10_mean + (unit_vector * factor)\n",
    "    min_val = np.amin(result_vector)\n",
    "    max_val = np.amax(result_vector)\n",
    "    if (min_val > 0) and (max_val < 1):\n",
    "        # print(result_vector)\n",
    "        # print(LA.norm(result_vector - cifar10_mean, 2))\n",
    "        filtered_rnd_unit_vector_list.append(unit_vector)"
   ]
  },
  {
   "cell_type": "code",
   "execution_count": 5,
   "metadata": {},
   "outputs": [
    {
     "name": "stdout",
     "output_type": "stream",
     "text": [
      "[array([0.55976816, 0.56755369, 0.60377348]),\n",
      " array([0.55284315, 0.56556923, 0.6119607 ]),\n",
      " array([0.54919051, 0.5691553 , 0.61192485]),\n",
      " array([0.56200524, 0.55707775, 0.61140371]),\n",
      " array([0.56362358, 0.55371656, 0.61296527]),\n",
      " array([0.55862862, 0.57493787, 0.5978131 ])]\n"
     ]
    }
   ],
   "source": [
    "pprint(filtered_rnd_unit_vector_list)"
   ]
  },
  {
   "cell_type": "code",
   "execution_count": 10,
   "metadata": {},
   "outputs": [
    {
     "name": "stdout",
     "output_type": "stream",
     "text": [
      "[0.56  0.568 0.604]\n"
     ]
    }
   ],
   "source": [
    "print(np.round(filtered_rnd_unit_vector_list[0], 3))"
   ]
  },
  {
   "cell_type": "code",
   "execution_count": 6,
   "metadata": {},
   "outputs": [
    {
     "name": "stdout",
     "output_type": "stream",
     "text": [
      "[0.99519134 0.99299832 0.98989613]\n",
      "0.9\n"
     ]
    }
   ],
   "source": [
    "# test generated unit vector\n",
    "result_vector = cifar10_mean + (filtered_rnd_unit_vector_list[0] * factor)\n",
    "print(result_vector)\n",
    "\n",
    "print(LA.norm(cifar10_mean + (filtered_rnd_unit_vector_list[0] * factor) - cifar10_mean, 2))"
   ]
  },
  {
   "cell_type": "code",
   "execution_count": 7,
   "metadata": {},
   "outputs": [],
   "source": [
    "# prepare exp mean values\n",
    "exp_mean_list = []\n",
    "unit_factor_list = [\n",
    "    0.1,\n",
    "    0.2,\n",
    "    0.3,\n",
    "    0.4,\n",
    "    0.5,\n",
    "    0.55,\n",
    "    0.6,\n",
    "    0.65,\n",
    "    0.7,\n",
    "    0.75,\n",
    "    0.8,\n",
    "    0.85,\n",
    "    0.9,\n",
    "]\n",
    "\n",
    "selected_unit_vector = filtered_rnd_unit_vector_list[0]\n",
    "for unit_factor in unit_factor_list:\n",
    "    mod_result_mean = np.round(cifar10_mean + (selected_unit_vector * unit_factor), 3)\n",
    "    exp_mean_list.append(mod_result_mean)\n"
   ]
  },
  {
   "cell_type": "code",
   "execution_count": 8,
   "metadata": {},
   "outputs": [
    {
     "name": "stdout",
     "output_type": "stream",
     "text": [
      "[0.547 0.539 0.507]\n",
      "[0.603 0.596 0.567]\n",
      "[0.659 0.652 0.628]\n",
      "[0.715 0.709 0.688]\n",
      "[0.771 0.766 0.748]\n",
      "[0.799 0.794 0.779]\n",
      "[0.827 0.823 0.809]\n",
      "[0.855 0.851 0.839]\n",
      "[0.883 0.879 0.869]\n",
      "[0.911 0.908 0.899]\n",
      "[0.939 0.936 0.93 ]\n",
      "[0.967 0.965 0.96 ]\n",
      "[0.995 0.993 0.99 ]\n"
     ]
    }
   ],
   "source": [
    "for exp_mean in exp_mean_list:\n",
    "    print(exp_mean)\n",
    "    # print(LA.norm(exp_mean - cifar10_mean, 2))"
   ]
  },
  {
   "cell_type": "code",
   "execution_count": 9,
   "metadata": {},
   "outputs": [
    {
     "name": "stdout",
     "output_type": "stream",
     "text": [
      "[-0.59884405 -0.58763248 -0.54412671]\n",
      "[-0.04755964 -0.04666923 -0.04321404]\n",
      "0.9\n"
     ]
    }
   ],
   "source": [
    "# get opposite unit vector of default mean\n",
    "cifar10_mean_unit_vector = cifar10_mean / LA.norm(cifar10_mean, 2)\n",
    "opp_cifar10_mean_unit_vector = - cifar10_mean_unit_vector\n",
    "print(opp_cifar10_mean_unit_vector)\n",
    "_factor = 0.9\n",
    "result_vector = cifar10_mean + (opp_cifar10_mean_unit_vector * _factor)\n",
    "print(result_vector)\n",
    "\n",
    "print(LA.norm(cifar10_mean + (opp_cifar10_mean_unit_vector * _factor) - cifar10_mean, 2))"
   ]
  }
 ],
 "metadata": {
  "kernelspec": {
   "display_name": "Python 3.8.12 ('DIenv')",
   "language": "python",
   "name": "python3"
  },
  "language_info": {
   "codemirror_mode": {
    "name": "ipython",
    "version": 3
   },
   "file_extension": ".py",
   "mimetype": "text/x-python",
   "name": "python",
   "nbconvert_exporter": "python",
   "pygments_lexer": "ipython3",
   "version": "3.8.12"
  },
  "orig_nbformat": 4,
  "vscode": {
   "interpreter": {
    "hash": "01ff145a580a012fbee101d68df8ff40de9b5a3386bbca8e9b7074444281a989"
   }
  }
 },
 "nbformat": 4,
 "nbformat_minor": 2
}
