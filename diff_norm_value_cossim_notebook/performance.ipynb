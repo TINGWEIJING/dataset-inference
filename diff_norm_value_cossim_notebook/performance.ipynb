{
 "cells": [
  {
   "cell_type": "code",
   "execution_count": 9,
   "metadata": {},
   "outputs": [],
   "source": [
    "import sys\n",
    "from pathlib import Path\n",
    "\n",
    "src_path = Path.cwd().parent / \"src\"\n",
    "sys.path.append(str(src_path))\n",
    "\n",
    "import json\n",
    "import types\n",
    "from collections import OrderedDict\n",
    "from pprint import pprint\n",
    "\n",
    "import torch\n",
    "import torch.nn as nn\n",
    "from dataset import get_new_dataloader\n",
    "from funcs import get_dataloaders\n",
    "from models import PreActResNet18, WideResNet\n",
    "from train import epoch, epoch_test\n"
   ]
  },
  {
   "cell_type": "code",
   "execution_count": 10,
   "metadata": {},
   "outputs": [],
   "source": [
    "# constant\n",
    "CWD_PATH = Path.cwd()\n",
    "MODEL_DIR_PATH = CWD_PATH.parent / \"models/CIFAR10-diff-norm-value-dist\"\n",
    "SETTINGS = [\n",
    "    {\n",
    "        \"normalization_mean\": [0.547, 0.539, 0.507],\n",
    "        \"normalization_std\": None,\n",
    "    },\n",
    "    {\n",
    "        \"normalization_mean\": [0.603, 0.596, 0.567],\n",
    "        \"normalization_std\": None,\n",
    "    },\n",
    "    {\n",
    "        \"normalization_mean\": [0.659, 0.652, 0.628],\n",
    "        \"normalization_std\": None,\n",
    "    },\n",
    "    {\n",
    "        \"normalization_mean\": [0.715, 0.709, 0.688],\n",
    "        \"normalization_std\": None,\n",
    "    },\n",
    "    {\n",
    "        \"normalization_mean\": [0.771, 0.766, 0.748],\n",
    "        \"normalization_std\": None,\n",
    "    },\n",
    "    {\n",
    "        \"normalization_mean\": [0.799, 0.794, 0.779],\n",
    "        \"normalization_std\": None,\n",
    "    },\n",
    "    {\n",
    "        \"normalization_mean\": [0.827, 0.823, 0.809],\n",
    "        \"normalization_std\": None,\n",
    "    },\n",
    "    {\n",
    "        \"normalization_mean\": [0.855, 0.851, 0.839],\n",
    "        \"normalization_std\": None,\n",
    "    },\n",
    "    {\n",
    "        \"normalization_mean\": [0.883, 0.879, 0.869],\n",
    "        \"normalization_std\": None,\n",
    "    },\n",
    "    {\n",
    "        \"normalization_mean\": [0.911, 0.908, 0.899],\n",
    "        \"normalization_std\": None,\n",
    "    },\n",
    "    {\n",
    "        \"normalization_mean\": [0.939, 0.936, 0.93],\n",
    "        \"normalization_std\": None,\n",
    "    },\n",
    "    {\n",
    "        \"normalization_mean\": [0.967, 0.965, 0.96],\n",
    "        \"normalization_std\": None,\n",
    "    },\n",
    "    {\n",
    "        \"normalization_mean\": [0.995, 0.993, 0.99],\n",
    "        \"normalization_std\": None,\n",
    "    },\n",
    "]\n"
   ]
  },
  {
   "cell_type": "code",
   "execution_count": 11,
   "metadata": {},
   "outputs": [
    {
     "name": "stdout",
     "output_type": "stream",
     "text": [
      "model__mean_0.547_0.539_0.507\n",
      "model__mean_0.603_0.596_0.567\n",
      "model__mean_0.659_0.652_0.628\n",
      "model__mean_0.715_0.709_0.688\n",
      "model__mean_0.771_0.766_0.748\n",
      "model__mean_0.799_0.794_0.779\n",
      "model__mean_0.827_0.823_0.809\n",
      "model__mean_0.855_0.851_0.839\n",
      "model__mean_0.883_0.879_0.869\n",
      "model__mean_0.911_0.908_0.899\n",
      "model__mean_0.939_0.936_0.93\n",
      "model__mean_0.967_0.965_0.96\n",
      "model__mean_0.995_0.993_0.99\n"
     ]
    }
   ],
   "source": [
    "for setting in SETTINGS:\n",
    "    normalization_mean = setting['normalization_mean']\n",
    "    normalization_std = setting['normalization_std']\n",
    "    if normalization_mean != None and normalization_std != None:\n",
    "        mean_str = str(normalization_mean).replace(' ', '').replace(',', '_')[1:-1]\n",
    "        std_str = str(normalization_std).replace(' ', '').replace(',', '_')[1:-1]\n",
    "        label = f\"model__mean_{mean_str}_std_{std_str}\"\n",
    "    elif normalization_mean != None:\n",
    "        mean_str = str(normalization_mean).replace(' ', '').replace(',', '_')[1:-1]\n",
    "        label = f\"model__mean_{mean_str}\"\n",
    "    elif normalization_std != None:\n",
    "        std_str = str(normalization_std).replace(' ', '').replace(',', '_')[1:-1]\n",
    "        label = f\"model__std_{std_str}\"\n",
    "    else:\n",
    "        label = f\"model__baseline\"\n",
    "\n",
    "    print(label)"
   ]
  },
  {
   "cell_type": "code",
   "execution_count": 12,
   "metadata": {},
   "outputs": [],
   "source": [
    "def load_model(\n",
    "    model_type: str,\n",
    "    location: str,\n",
    "    model_normalize: bool,\n",
    "):\n",
    "    device = torch.device(\"cuda:{0}\".format(0) if torch.cuda.is_available() else \"cpu\")\n",
    "\n",
    "    # load model CIFAR10\n",
    "    if model_type == \"pre-act-18\":\n",
    "        model = PreActResNet18(num_classes=10, normalize=model_normalize)\n",
    "    elif model_type == \"independent\":\n",
    "        model = WideResNet(\n",
    "            n_classes=10,\n",
    "            depth=16,  # deep_full for CIFAR10\n",
    "            widen_factor=1,\n",
    "            normalize=model_normalize,\n",
    "            dropRate=0.3,\n",
    "        )\n",
    "    else:\n",
    "        model = WideResNet(\n",
    "            n_classes=10,\n",
    "            depth=28,  # deep_full for CIFAR10\n",
    "            widen_factor=10,\n",
    "            normalize=model_normalize,\n",
    "            dropRate=0.3,\n",
    "        )\n",
    "\n",
    "    try:\n",
    "        model = model.to(device)\n",
    "        model.load_state_dict(torch.load(location, map_location=device))\n",
    "    except:\n",
    "        model = nn.DataParallel(model).to(device)\n",
    "        model.load_state_dict(torch.load(location, map_location=device))\n",
    "    model.eval()\n",
    "    return model\n"
   ]
  },
  {
   "cell_type": "code",
   "execution_count": 13,
   "metadata": {},
   "outputs": [
    {
     "name": "stdout",
     "output_type": "stream",
     "text": [
      "/data/weijing/DI-ting_normalization/models/CIFAR10-diff-norm-value-dist/model__mean_0.547_0.539_0.507/final.pt\n",
      "Custom_normalization: Normalize(mean=[0.547, 0.539, 0.507], std=(0.2471, 0.2435, 0.2616))\n",
      "Lambda()\n",
      "Files already downloaded and verified\n",
      "Files already downloaded and verified\n"
     ]
    },
    {
     "name": "stderr",
     "output_type": "stream",
     "text": [
      "100%|██████████| 50/50 [00:28<00:00,  1.76it/s]\n"
     ]
    },
    {
     "name": "stdout",
     "output_type": "stream",
     "text": [
      "1.0\n",
      "0.9422\n",
      "/data/weijing/DI-ting_normalization/models/CIFAR10-diff-norm-value-dist/model__mean_0.603_0.596_0.567/final.pt\n",
      "Custom_normalization: Normalize(mean=[0.603, 0.596, 0.567], std=(0.2471, 0.2435, 0.2616))\n",
      "Lambda()\n",
      "Files already downloaded and verified\n",
      "Files already downloaded and verified\n"
     ]
    },
    {
     "name": "stderr",
     "output_type": "stream",
     "text": [
      "100%|██████████| 50/50 [00:23<00:00,  2.15it/s]\n"
     ]
    },
    {
     "name": "stdout",
     "output_type": "stream",
     "text": [
      "0.99998\n",
      "0.9427\n",
      "/data/weijing/DI-ting_normalization/models/CIFAR10-diff-norm-value-dist/model__mean_0.659_0.652_0.628/final.pt\n",
      "Custom_normalization: Normalize(mean=[0.659, 0.652, 0.628], std=(0.2471, 0.2435, 0.2616))\n",
      "Lambda()\n",
      "Files already downloaded and verified\n",
      "Files already downloaded and verified\n"
     ]
    },
    {
     "name": "stderr",
     "output_type": "stream",
     "text": [
      "100%|██████████| 50/50 [00:23<00:00,  2.15it/s]\n"
     ]
    },
    {
     "name": "stdout",
     "output_type": "stream",
     "text": [
      "0.99996\n",
      "0.9401\n",
      "/data/weijing/DI-ting_normalization/models/CIFAR10-diff-norm-value-dist/model__mean_0.715_0.709_0.688/final.pt\n",
      "Custom_normalization: Normalize(mean=[0.715, 0.709, 0.688], std=(0.2471, 0.2435, 0.2616))\n",
      "Lambda()\n",
      "Files already downloaded and verified\n",
      "Files already downloaded and verified\n"
     ]
    },
    {
     "name": "stderr",
     "output_type": "stream",
     "text": [
      "100%|██████████| 50/50 [00:23<00:00,  2.14it/s]\n"
     ]
    },
    {
     "name": "stdout",
     "output_type": "stream",
     "text": [
      "0.99994\n",
      "0.9419\n",
      "/data/weijing/DI-ting_normalization/models/CIFAR10-diff-norm-value-dist/model__mean_0.771_0.766_0.748/final.pt\n",
      "Custom_normalization: Normalize(mean=[0.771, 0.766, 0.748], std=(0.2471, 0.2435, 0.2616))\n",
      "Lambda()\n",
      "Files already downloaded and verified\n",
      "Files already downloaded and verified\n"
     ]
    },
    {
     "name": "stderr",
     "output_type": "stream",
     "text": [
      "100%|██████████| 50/50 [00:23<00:00,  2.14it/s]\n"
     ]
    },
    {
     "name": "stdout",
     "output_type": "stream",
     "text": [
      "0.99994\n",
      "0.9456\n",
      "/data/weijing/DI-ting_normalization/models/CIFAR10-diff-norm-value-dist/model__mean_0.799_0.794_0.779/final.pt\n",
      "Custom_normalization: Normalize(mean=[0.799, 0.794, 0.779], std=(0.2471, 0.2435, 0.2616))\n",
      "Lambda()\n",
      "Files already downloaded and verified\n",
      "Files already downloaded and verified\n"
     ]
    },
    {
     "name": "stderr",
     "output_type": "stream",
     "text": [
      "100%|██████████| 50/50 [00:23<00:00,  2.14it/s]\n"
     ]
    },
    {
     "name": "stdout",
     "output_type": "stream",
     "text": [
      "0.99998\n",
      "0.941\n",
      "/data/weijing/DI-ting_normalization/models/CIFAR10-diff-norm-value-dist/model__mean_0.827_0.823_0.809/final.pt\n",
      "Custom_normalization: Normalize(mean=[0.827, 0.823, 0.809], std=(0.2471, 0.2435, 0.2616))\n",
      "Lambda()\n",
      "Files already downloaded and verified\n",
      "Files already downloaded and verified\n"
     ]
    },
    {
     "name": "stderr",
     "output_type": "stream",
     "text": [
      "100%|██████████| 50/50 [00:23<00:00,  2.15it/s]\n"
     ]
    },
    {
     "name": "stdout",
     "output_type": "stream",
     "text": [
      "1.0\n",
      "0.9404\n",
      "/data/weijing/DI-ting_normalization/models/CIFAR10-diff-norm-value-dist/model__mean_0.855_0.851_0.839/final.pt\n",
      "Custom_normalization: Normalize(mean=[0.855, 0.851, 0.839], std=(0.2471, 0.2435, 0.2616))\n",
      "Lambda()\n",
      "Files already downloaded and verified\n",
      "Files already downloaded and verified\n"
     ]
    },
    {
     "name": "stderr",
     "output_type": "stream",
     "text": [
      "100%|██████████| 50/50 [00:23<00:00,  2.14it/s]\n"
     ]
    },
    {
     "name": "stdout",
     "output_type": "stream",
     "text": [
      "1.0\n",
      "0.9438\n",
      "/data/weijing/DI-ting_normalization/models/CIFAR10-diff-norm-value-dist/model__mean_0.883_0.879_0.869/final.pt\n",
      "Custom_normalization: Normalize(mean=[0.883, 0.879, 0.869], std=(0.2471, 0.2435, 0.2616))\n",
      "Lambda()\n",
      "Files already downloaded and verified\n",
      "Files already downloaded and verified\n"
     ]
    },
    {
     "name": "stderr",
     "output_type": "stream",
     "text": [
      "100%|██████████| 50/50 [00:23<00:00,  2.14it/s]\n"
     ]
    },
    {
     "name": "stdout",
     "output_type": "stream",
     "text": [
      "1.0\n",
      "0.9422\n",
      "/data/weijing/DI-ting_normalization/models/CIFAR10-diff-norm-value-dist/model__mean_0.911_0.908_0.899/final.pt\n",
      "Custom_normalization: Normalize(mean=[0.911, 0.908, 0.899], std=(0.2471, 0.2435, 0.2616))\n",
      "Lambda()\n",
      "Files already downloaded and verified\n",
      "Files already downloaded and verified\n"
     ]
    },
    {
     "name": "stderr",
     "output_type": "stream",
     "text": [
      "100%|██████████| 50/50 [00:23<00:00,  2.14it/s]\n"
     ]
    },
    {
     "name": "stdout",
     "output_type": "stream",
     "text": [
      "0.99998\n",
      "0.9427\n",
      "/data/weijing/DI-ting_normalization/models/CIFAR10-diff-norm-value-dist/model__mean_0.939_0.936_0.93/final.pt\n",
      "Custom_normalization: Normalize(mean=[0.939, 0.936, 0.93], std=(0.2471, 0.2435, 0.2616))\n",
      "Lambda()\n",
      "Files already downloaded and verified\n",
      "Files already downloaded and verified\n"
     ]
    },
    {
     "name": "stderr",
     "output_type": "stream",
     "text": [
      "100%|██████████| 50/50 [00:23<00:00,  2.15it/s]\n"
     ]
    },
    {
     "name": "stdout",
     "output_type": "stream",
     "text": [
      "0.99998\n",
      "0.9421\n",
      "/data/weijing/DI-ting_normalization/models/CIFAR10-diff-norm-value-dist/model__mean_0.967_0.965_0.96/final.pt\n",
      "Custom_normalization: Normalize(mean=[0.967, 0.965, 0.96], std=(0.2471, 0.2435, 0.2616))\n",
      "Lambda()\n",
      "Files already downloaded and verified\n",
      "Files already downloaded and verified\n"
     ]
    },
    {
     "name": "stderr",
     "output_type": "stream",
     "text": [
      "100%|██████████| 50/50 [00:23<00:00,  2.15it/s]\n"
     ]
    },
    {
     "name": "stdout",
     "output_type": "stream",
     "text": [
      "0.99998\n",
      "0.9416\n",
      "/data/weijing/DI-ting_normalization/models/CIFAR10-diff-norm-value-dist/model__mean_0.995_0.993_0.99/final.pt\n",
      "Custom_normalization: Normalize(mean=[0.995, 0.993, 0.99], std=(0.2471, 0.2435, 0.2616))\n",
      "Lambda()\n",
      "Files already downloaded and verified\n",
      "Files already downloaded and verified\n"
     ]
    },
    {
     "name": "stderr",
     "output_type": "stream",
     "text": [
      "100%|██████████| 50/50 [00:23<00:00,  2.15it/s]\n"
     ]
    },
    {
     "name": "stdout",
     "output_type": "stream",
     "text": [
      "0.99996\n",
      "0.9462\n"
     ]
    }
   ],
   "source": [
    "model_name__tr_acc = OrderedDict()\n",
    "\n",
    "# model performance in TR\n",
    "for setting in SETTINGS:\n",
    "    normalization_mean = setting['normalization_mean']\n",
    "    normalization_std = setting['normalization_std']\n",
    "    if normalization_mean != None and normalization_std != None:\n",
    "        mean_str = str(normalization_mean).replace(' ', '').replace(',', '_')[1:-1]\n",
    "        std_str = str(normalization_std).replace(' ', '').replace(',', '_')[1:-1]\n",
    "        label = f\"model__mean_{mean_str}_std_{std_str}\"\n",
    "    elif normalization_mean != None:\n",
    "        mean_str = str(normalization_mean).replace(' ', '').replace(',', '_')[1:-1]\n",
    "        label = f\"model__mean_{mean_str}\"\n",
    "    elif normalization_std != None:\n",
    "        std_str = str(normalization_std).replace(' ', '').replace(',', '_')[1:-1]\n",
    "        label = f\"model__std_{std_str}\"\n",
    "    else:\n",
    "        label = f\"model__baseline\"\n",
    "\n",
    "    model_path = MODEL_DIR_PATH / label / \"final.pt\"\n",
    "    print(model_path)\n",
    "    model = load_model(\n",
    "        model_type=\"teacher\",\n",
    "        location=str(model_path),\n",
    "        model_normalize=False,\n",
    "    )\n",
    "\n",
    "    args = types.SimpleNamespace()\n",
    "    device = torch.device(\"cuda:{0}\".format(0) if torch.cuda.is_available() else \"cpu\")\n",
    "    args.device = device\n",
    "    args.mode = \"teacher\"\n",
    "    args.experiment = 'diff-norm-value'\n",
    "    args.dataset = 'CIFAR10'\n",
    "    args.batch_size = 1000\n",
    "    args.num_workers = 8\n",
    "    args.normalization_mean = normalization_mean\n",
    "    args.normalization_std = normalization_std\n",
    "    args.extra_preprocessing_type = \"\"\n",
    "    train_loader, test_loader = get_new_dataloader(args=args)\n",
    "\n",
    "    _, train_acc = epoch(\n",
    "        args,\n",
    "        train_loader,\n",
    "        model,\n",
    "        teacher=None,\n",
    "        lr_schedule=None,\n",
    "        epoch_i=None,\n",
    "        opt=None,\n",
    "    )\n",
    "    _, test_acc = epoch_test(\n",
    "        args,\n",
    "        test_loader,\n",
    "        model,\n",
    "    )\n",
    "    print(train_acc)\n",
    "    print(test_acc)\n",
    "\n",
    "    model_name__tr_acc[label] = {\n",
    "        \"train_acc\": train_acc,\n",
    "        \"test_acc\": test_acc,\n",
    "    }\n"
   ]
  },
  {
   "cell_type": "code",
   "execution_count": 14,
   "metadata": {},
   "outputs": [
    {
     "name": "stdout",
     "output_type": "stream",
     "text": [
      "OrderedDict([('model__mean_0.547_0.539_0.507',\n",
      "              {'test_acc': 0.9422, 'train_acc': 1.0}),\n",
      "             ('model__mean_0.603_0.596_0.567',\n",
      "              {'test_acc': 0.9427, 'train_acc': 0.99998}),\n",
      "             ('model__mean_0.659_0.652_0.628',\n",
      "              {'test_acc': 0.9401, 'train_acc': 0.99996}),\n",
      "             ('model__mean_0.715_0.709_0.688',\n",
      "              {'test_acc': 0.9419, 'train_acc': 0.99994}),\n",
      "             ('model__mean_0.771_0.766_0.748',\n",
      "              {'test_acc': 0.9456, 'train_acc': 0.99994}),\n",
      "             ('model__mean_0.799_0.794_0.779',\n",
      "              {'test_acc': 0.941, 'train_acc': 0.99998}),\n",
      "             ('model__mean_0.827_0.823_0.809',\n",
      "              {'test_acc': 0.9404, 'train_acc': 1.0}),\n",
      "             ('model__mean_0.855_0.851_0.839',\n",
      "              {'test_acc': 0.9438, 'train_acc': 1.0}),\n",
      "             ('model__mean_0.883_0.879_0.869',\n",
      "              {'test_acc': 0.9422, 'train_acc': 1.0}),\n",
      "             ('model__mean_0.911_0.908_0.899',\n",
      "              {'test_acc': 0.9427, 'train_acc': 0.99998}),\n",
      "             ('model__mean_0.939_0.936_0.93',\n",
      "              {'test_acc': 0.9421, 'train_acc': 0.99998}),\n",
      "             ('model__mean_0.967_0.965_0.96',\n",
      "              {'test_acc': 0.9416, 'train_acc': 0.99998}),\n",
      "             ('model__mean_0.995_0.993_0.99',\n",
      "              {'test_acc': 0.9462, 'train_acc': 0.99996})])\n"
     ]
    }
   ],
   "source": [
    "pprint(model_name__tr_acc)\n",
    "\n",
    "# Serializing json\n",
    "json_object = json.dumps(model_name__tr_acc, indent=2)\n",
    " \n",
    "# Writing to sample.json\n",
    "with open(\"tr_performance.json\", \"w\") as outfile:\n",
    "    outfile.write(json_object)"
   ]
  },
  {
   "cell_type": "code",
   "execution_count": 15,
   "metadata": {},
   "outputs": [
    {
     "name": "stdout",
     "output_type": "stream",
     "text": [
      "/data/weijing/DI-ting_normalization/models/CIFAR10-diff-norm-value-dist/model__mean_0.547_0.539_0.507/final.pt\n",
      "No Transform\n",
      "Files already downloaded and verified\n",
      "Files already downloaded and verified\n",
      "No Transform\n",
      "Files already downloaded and verified\n",
      "Files already downloaded and verified\n"
     ]
    },
    {
     "name": "stderr",
     "output_type": "stream",
     "text": [
      "100%|██████████| 50/50 [00:31<00:00,  1.58it/s]\n"
     ]
    },
    {
     "name": "stdout",
     "output_type": "stream",
     "text": [
      "0.99992\n",
      "0.9386\n",
      "/data/weijing/DI-ting_normalization/models/CIFAR10-diff-norm-value-dist/model__mean_0.603_0.596_0.567/final.pt\n",
      "No Transform\n",
      "Files already downloaded and verified\n",
      "Files already downloaded and verified\n",
      "No Transform\n",
      "Files already downloaded and verified\n",
      "Files already downloaded and verified\n"
     ]
    },
    {
     "name": "stderr",
     "output_type": "stream",
     "text": [
      "100%|██████████| 50/50 [00:31<00:00,  1.59it/s]\n"
     ]
    },
    {
     "name": "stdout",
     "output_type": "stream",
     "text": [
      "0.99978\n",
      "0.9359\n",
      "/data/weijing/DI-ting_normalization/models/CIFAR10-diff-norm-value-dist/model__mean_0.659_0.652_0.628/final.pt\n",
      "No Transform\n",
      "Files already downloaded and verified\n",
      "Files already downloaded and verified\n",
      "No Transform\n",
      "Files already downloaded and verified\n",
      "Files already downloaded and verified\n"
     ]
    },
    {
     "name": "stderr",
     "output_type": "stream",
     "text": [
      "100%|██████████| 50/50 [00:31<00:00,  1.59it/s]\n"
     ]
    },
    {
     "name": "stdout",
     "output_type": "stream",
     "text": [
      "0.99942\n",
      "0.9351\n",
      "/data/weijing/DI-ting_normalization/models/CIFAR10-diff-norm-value-dist/model__mean_0.715_0.709_0.688/final.pt\n",
      "No Transform\n",
      "Files already downloaded and verified\n",
      "Files already downloaded and verified\n",
      "No Transform\n",
      "Files already downloaded and verified\n",
      "Files already downloaded and verified\n"
     ]
    },
    {
     "name": "stderr",
     "output_type": "stream",
     "text": [
      "100%|██████████| 50/50 [00:31<00:00,  1.59it/s]\n"
     ]
    },
    {
     "name": "stdout",
     "output_type": "stream",
     "text": [
      "0.99784\n",
      "0.9282\n",
      "/data/weijing/DI-ting_normalization/models/CIFAR10-diff-norm-value-dist/model__mean_0.771_0.766_0.748/final.pt\n",
      "No Transform\n",
      "Files already downloaded and verified\n",
      "Files already downloaded and verified\n",
      "No Transform\n",
      "Files already downloaded and verified\n",
      "Files already downloaded and verified\n"
     ]
    },
    {
     "name": "stderr",
     "output_type": "stream",
     "text": [
      "100%|██████████| 50/50 [00:31<00:00,  1.58it/s]\n"
     ]
    },
    {
     "name": "stdout",
     "output_type": "stream",
     "text": [
      "0.99378\n",
      "0.9177\n",
      "/data/weijing/DI-ting_normalization/models/CIFAR10-diff-norm-value-dist/model__mean_0.799_0.794_0.779/final.pt\n",
      "No Transform\n",
      "Files already downloaded and verified\n",
      "Files already downloaded and verified\n",
      "No Transform\n",
      "Files already downloaded and verified\n",
      "Files already downloaded and verified\n"
     ]
    },
    {
     "name": "stderr",
     "output_type": "stream",
     "text": [
      "100%|██████████| 50/50 [00:31<00:00,  1.59it/s]\n"
     ]
    },
    {
     "name": "stdout",
     "output_type": "stream",
     "text": [
      "0.98778\n",
      "0.9122\n",
      "/data/weijing/DI-ting_normalization/models/CIFAR10-diff-norm-value-dist/model__mean_0.827_0.823_0.809/final.pt\n",
      "No Transform\n",
      "Files already downloaded and verified\n",
      "Files already downloaded and verified\n",
      "No Transform\n",
      "Files already downloaded and verified\n",
      "Files already downloaded and verified\n"
     ]
    },
    {
     "name": "stderr",
     "output_type": "stream",
     "text": [
      "100%|██████████| 50/50 [00:31<00:00,  1.59it/s]\n"
     ]
    },
    {
     "name": "stdout",
     "output_type": "stream",
     "text": [
      "0.98672\n",
      "0.9058\n",
      "/data/weijing/DI-ting_normalization/models/CIFAR10-diff-norm-value-dist/model__mean_0.855_0.851_0.839/final.pt\n",
      "No Transform\n",
      "Files already downloaded and verified\n",
      "Files already downloaded and verified\n",
      "No Transform\n",
      "Files already downloaded and verified\n",
      "Files already downloaded and verified\n"
     ]
    },
    {
     "name": "stderr",
     "output_type": "stream",
     "text": [
      "100%|██████████| 50/50 [00:31<00:00,  1.59it/s]\n"
     ]
    },
    {
     "name": "stdout",
     "output_type": "stream",
     "text": [
      "0.983\n",
      "0.9065\n",
      "/data/weijing/DI-ting_normalization/models/CIFAR10-diff-norm-value-dist/model__mean_0.883_0.879_0.869/final.pt\n",
      "No Transform\n",
      "Files already downloaded and verified\n",
      "Files already downloaded and verified\n",
      "No Transform\n",
      "Files already downloaded and verified\n",
      "Files already downloaded and verified\n"
     ]
    },
    {
     "name": "stderr",
     "output_type": "stream",
     "text": [
      "100%|██████████| 50/50 [00:31<00:00,  1.59it/s]\n"
     ]
    },
    {
     "name": "stdout",
     "output_type": "stream",
     "text": [
      "0.974\n",
      "0.8975\n",
      "/data/weijing/DI-ting_normalization/models/CIFAR10-diff-norm-value-dist/model__mean_0.911_0.908_0.899/final.pt\n",
      "No Transform\n",
      "Files already downloaded and verified\n",
      "Files already downloaded and verified\n",
      "No Transform\n",
      "Files already downloaded and verified\n",
      "Files already downloaded and verified\n"
     ]
    },
    {
     "name": "stderr",
     "output_type": "stream",
     "text": [
      "100%|██████████| 50/50 [00:31<00:00,  1.59it/s]\n"
     ]
    },
    {
     "name": "stdout",
     "output_type": "stream",
     "text": [
      "0.96448\n",
      "0.8853\n",
      "/data/weijing/DI-ting_normalization/models/CIFAR10-diff-norm-value-dist/model__mean_0.939_0.936_0.93/final.pt\n",
      "No Transform\n",
      "Files already downloaded and verified\n",
      "Files already downloaded and verified\n",
      "No Transform\n",
      "Files already downloaded and verified\n",
      "Files already downloaded and verified\n"
     ]
    },
    {
     "name": "stderr",
     "output_type": "stream",
     "text": [
      "100%|██████████| 50/50 [00:31<00:00,  1.58it/s]\n"
     ]
    },
    {
     "name": "stdout",
     "output_type": "stream",
     "text": [
      "0.96128\n",
      "0.884\n",
      "/data/weijing/DI-ting_normalization/models/CIFAR10-diff-norm-value-dist/model__mean_0.967_0.965_0.96/final.pt\n",
      "No Transform\n",
      "Files already downloaded and verified\n",
      "Files already downloaded and verified\n",
      "No Transform\n",
      "Files already downloaded and verified\n",
      "Files already downloaded and verified\n"
     ]
    },
    {
     "name": "stderr",
     "output_type": "stream",
     "text": [
      "100%|██████████| 50/50 [00:31<00:00,  1.59it/s]\n"
     ]
    },
    {
     "name": "stdout",
     "output_type": "stream",
     "text": [
      "0.94888\n",
      "0.875\n",
      "/data/weijing/DI-ting_normalization/models/CIFAR10-diff-norm-value-dist/model__mean_0.995_0.993_0.99/final.pt\n",
      "No Transform\n",
      "Files already downloaded and verified\n",
      "Files already downloaded and verified\n",
      "No Transform\n",
      "Files already downloaded and verified\n",
      "Files already downloaded and verified\n"
     ]
    },
    {
     "name": "stderr",
     "output_type": "stream",
     "text": [
      "100%|██████████| 50/50 [00:31<00:00,  1.59it/s]\n"
     ]
    },
    {
     "name": "stdout",
     "output_type": "stream",
     "text": [
      "0.94516\n",
      "0.8755\n"
     ]
    }
   ],
   "source": [
    "model_name__te_acc = OrderedDict()\n",
    "\n",
    "# model performance in FE\n",
    "for setting in SETTINGS:\n",
    "    normalization_mean = setting['normalization_mean']\n",
    "    normalization_std = setting['normalization_std']\n",
    "    if normalization_mean != None and normalization_std != None:\n",
    "        mean_str = str(normalization_mean).replace(' ', '').replace(',', '_')[1:-1]\n",
    "        std_str = str(normalization_std).replace(' ', '').replace(',', '_')[1:-1]\n",
    "        label = f\"model__mean_{mean_str}_std_{std_str}\"\n",
    "    elif normalization_mean != None:\n",
    "        mean_str = str(normalization_mean).replace(' ', '').replace(',', '_')[1:-1]\n",
    "        label = f\"model__mean_{mean_str}\"\n",
    "    elif normalization_std != None:\n",
    "        std_str = str(normalization_std).replace(' ', '').replace(',', '_')[1:-1]\n",
    "        label = f\"model__std_{std_str}\"\n",
    "    else:\n",
    "        label = f\"model__baseline\"\n",
    "\n",
    "    model_path = MODEL_DIR_PATH / label / \"final.pt\"\n",
    "    print(model_path)\n",
    "    model = load_model(\n",
    "        model_type=\"teacher\",\n",
    "        location=str(model_path),\n",
    "        model_normalize=False,\n",
    "    )\n",
    "\n",
    "    train_loader, test_loader = get_dataloaders(\n",
    "        dataset=\"CIFAR10\",\n",
    "        batch_size=1000,\n",
    "        pseudo_labels=False,\n",
    "        normalize=True,\n",
    "        train_shuffle=False,\n",
    "    )\n",
    "\n",
    "    args = types.SimpleNamespace()\n",
    "    device = torch.device(\"cuda:{0}\".format(0) if torch.cuda.is_available() else \"cpu\")\n",
    "    args.device = device\n",
    "    args.mode = \"teacher\"\n",
    "\n",
    "    _, train_acc = epoch(\n",
    "        args,\n",
    "        train_loader,\n",
    "        model,\n",
    "        teacher=None,\n",
    "        lr_schedule=None,\n",
    "        epoch_i=None,\n",
    "        opt=None,\n",
    "    )\n",
    "    _, test_acc = epoch_test(\n",
    "        args,\n",
    "        test_loader,\n",
    "        model,\n",
    "    )\n",
    "    print(train_acc)\n",
    "    print(test_acc)\n",
    "\n",
    "    model_name__te_acc[label] = {\n",
    "        \"train_acc\": train_acc,\n",
    "        \"test_acc\": test_acc,\n",
    "    }\n",
    "\n"
   ]
  },
  {
   "cell_type": "code",
   "execution_count": 16,
   "metadata": {},
   "outputs": [
    {
     "name": "stdout",
     "output_type": "stream",
     "text": [
      "OrderedDict([('model__mean_0.547_0.539_0.507',\n",
      "              {'test_acc': 0.9386, 'train_acc': 0.99992}),\n",
      "             ('model__mean_0.603_0.596_0.567',\n",
      "              {'test_acc': 0.9359, 'train_acc': 0.99978}),\n",
      "             ('model__mean_0.659_0.652_0.628',\n",
      "              {'test_acc': 0.9351, 'train_acc': 0.99942}),\n",
      "             ('model__mean_0.715_0.709_0.688',\n",
      "              {'test_acc': 0.9282, 'train_acc': 0.99784}),\n",
      "             ('model__mean_0.771_0.766_0.748',\n",
      "              {'test_acc': 0.9177, 'train_acc': 0.99378}),\n",
      "             ('model__mean_0.799_0.794_0.779',\n",
      "              {'test_acc': 0.9122, 'train_acc': 0.98778}),\n",
      "             ('model__mean_0.827_0.823_0.809',\n",
      "              {'test_acc': 0.9058, 'train_acc': 0.98672}),\n",
      "             ('model__mean_0.855_0.851_0.839',\n",
      "              {'test_acc': 0.9065, 'train_acc': 0.983}),\n",
      "             ('model__mean_0.883_0.879_0.869',\n",
      "              {'test_acc': 0.8975, 'train_acc': 0.974}),\n",
      "             ('model__mean_0.911_0.908_0.899',\n",
      "              {'test_acc': 0.8853, 'train_acc': 0.96448}),\n",
      "             ('model__mean_0.939_0.936_0.93',\n",
      "              {'test_acc': 0.884, 'train_acc': 0.96128}),\n",
      "             ('model__mean_0.967_0.965_0.96',\n",
      "              {'test_acc': 0.875, 'train_acc': 0.94888}),\n",
      "             ('model__mean_0.995_0.993_0.99',\n",
      "              {'test_acc': 0.8755, 'train_acc': 0.94516})])\n"
     ]
    }
   ],
   "source": [
    "pprint(model_name__te_acc)\n",
    "\n",
    "# Serializing json\n",
    "json_object = json.dumps(model_name__te_acc, indent=2)\n",
    " \n",
    "# Writing to sample.json\n",
    "with open(\"fe_performance.json\", \"w\") as outfile:\n",
    "    outfile.write(json_object)"
   ]
  }
 ],
 "metadata": {
  "kernelspec": {
   "display_name": "Python 3.8.12 ('DIenv')",
   "language": "python",
   "name": "python3"
  },
  "language_info": {
   "codemirror_mode": {
    "name": "ipython",
    "version": 3
   },
   "file_extension": ".py",
   "mimetype": "text/x-python",
   "name": "python",
   "nbconvert_exporter": "python",
   "pygments_lexer": "ipython3",
   "version": "3.8.12"
  },
  "orig_nbformat": 4,
  "vscode": {
   "interpreter": {
    "hash": "01ff145a580a012fbee101d68df8ff40de9b5a3386bbca8e9b7074444281a989"
   }
  }
 },
 "nbformat": 4,
 "nbformat_minor": 2
}
