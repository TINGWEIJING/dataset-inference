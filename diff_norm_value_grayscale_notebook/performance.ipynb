{
 "cells": [
  {
   "cell_type": "code",
   "execution_count": 1,
   "metadata": {},
   "outputs": [],
   "source": [
    "import sys\n",
    "from pathlib import Path\n",
    "\n",
    "src_path = Path.cwd().parent / \"src\"\n",
    "sys.path.append(str(src_path))\n",
    "\n",
    "import json\n",
    "import types\n",
    "from collections import OrderedDict\n",
    "from pprint import pprint\n",
    "\n",
    "import torch\n",
    "import torch.nn as nn\n",
    "from dataset import get_new_dataloader\n",
    "from funcs import get_dataloaders\n",
    "from models import PreActResNet18, WideResNet\n",
    "from train import epoch, epoch_test\n"
   ]
  },
  {
   "cell_type": "code",
   "execution_count": 2,
   "metadata": {},
   "outputs": [],
   "source": [
    "# constant\n",
    "CWD_PATH = Path.cwd()\n",
    "MODEL_DIR_PATH = CWD_PATH.parent / \"models/CIFAR10_diff_norm_value_n_grayscale\"\n",
    "SETTINGS = [\n",
    "    {\n",
    "        \"normalization_mean\": None,\n",
    "        \"normalization_std\": None,\n",
    "    },\n",
    "    {\n",
    "        \"normalization_mean\": [0.774, 0.439, 0.859],\n",
    "        \"normalization_std\": None,\n",
    "    },\n",
    "    {\n",
    "        \"normalization_mean\": [0.697, 0.094, 0.976],\n",
    "        \"normalization_std\": None,\n",
    "    },\n",
    "    {\n",
    "        \"normalization_mean\": [0.761, 0.786, 0.128],\n",
    "        \"normalization_std\": None,\n",
    "    },\n",
    "    {\n",
    "        \"normalization_mean\": None,\n",
    "        \"normalization_std\": [0.3471, 0.3435, 0.3616],\n",
    "    },\n",
    "    {\n",
    "        \"normalization_mean\": None,\n",
    "        \"normalization_std\": [0.2971, 0.2935, 0.3116],\n",
    "    },\n",
    "    {\n",
    "        \"normalization_mean\": None,\n",
    "        \"normalization_std\": [0.2721, 0.2685, 0.2866],\n",
    "    },\n",
    "    {\n",
    "        \"normalization_mean\": None,\n",
    "        \"normalization_std\": [0.1471, 0.1435, 0.1616],\n",
    "    },\n",
    "    {\n",
    "        \"normalization_mean\": None,\n",
    "        \"normalization_std\": [0.1971, 0.1935, 0.2116],\n",
    "    },\n",
    "    {\n",
    "        \"normalization_mean\": None,\n",
    "        \"normalization_std\": [0.2221, 0.2185, 0.2366],\n",
    "    },\n",
    "]\n"
   ]
  },
  {
   "cell_type": "code",
   "execution_count": 3,
   "metadata": {},
   "outputs": [
    {
     "name": "stdout",
     "output_type": "stream",
     "text": [
      "model_rgb-grayscale_baseline\n",
      "model_rgb-grayscale_mean_0.774_0.439_0.859\n",
      "model_rgb-grayscale_mean_0.697_0.094_0.976\n",
      "model_rgb-grayscale_mean_0.761_0.786_0.128\n",
      "model_rgb-grayscale_std_0.3471_0.3435_0.3616\n",
      "model_rgb-grayscale_std_0.2971_0.2935_0.3116\n",
      "model_rgb-grayscale_std_0.2721_0.2685_0.2866\n",
      "model_rgb-grayscale_std_0.1471_0.1435_0.1616\n",
      "model_rgb-grayscale_std_0.1971_0.1935_0.2116\n",
      "model_rgb-grayscale_std_0.2221_0.2185_0.2366\n"
     ]
    }
   ],
   "source": [
    "extra_preprocessing_type = \"rgb-grayscale\"\n",
    "\n",
    "for setting in SETTINGS:\n",
    "    normalization_mean = setting['normalization_mean']\n",
    "    normalization_std = setting['normalization_std']\n",
    "    if normalization_mean != None and normalization_std != None:\n",
    "        mean_str = str(normalization_mean).replace(' ', '').replace(',', '_')[1:-1]\n",
    "        std_str = str(normalization_std).replace(' ', '').replace(',', '_')[1:-1]\n",
    "        label = f\"model_{extra_preprocessing_type}_mean_{mean_str}_std_{std_str}\"\n",
    "    elif normalization_mean != None:\n",
    "        mean_str = str(normalization_mean).replace(' ', '').replace(',', '_')[1:-1]\n",
    "        label = f\"model_{extra_preprocessing_type}_mean_{mean_str}\"\n",
    "    elif normalization_std != None:\n",
    "        std_str = str(normalization_std).replace(' ', '').replace(',', '_')[1:-1]\n",
    "        label = f\"model_{extra_preprocessing_type}_std_{std_str}\"\n",
    "    else:\n",
    "        label = f\"model_{extra_preprocessing_type}_baseline\"\n",
    "\n",
    "    print(label)"
   ]
  },
  {
   "cell_type": "code",
   "execution_count": 4,
   "metadata": {},
   "outputs": [],
   "source": [
    "def load_model(\n",
    "    model_type: str,\n",
    "    location: str,\n",
    "    model_normalize: bool,\n",
    "):\n",
    "    device = torch.device(\"cuda:{0}\".format(0) if torch.cuda.is_available() else \"cpu\")\n",
    "\n",
    "    # load model CIFAR10\n",
    "    if model_type == \"pre-act-18\":\n",
    "        model = PreActResNet18(num_classes=10, normalize=model_normalize)\n",
    "    elif model_type == \"independent\":\n",
    "        model = WideResNet(\n",
    "            n_classes=10,\n",
    "            depth=16,  # deep_full for CIFAR10\n",
    "            widen_factor=1,\n",
    "            normalize=model_normalize,\n",
    "            dropRate=0.3,\n",
    "        )\n",
    "    else:\n",
    "        model = WideResNet(\n",
    "            n_classes=10,\n",
    "            depth=28,  # deep_full for CIFAR10\n",
    "            widen_factor=10,\n",
    "            normalize=model_normalize,\n",
    "            dropRate=0.3,\n",
    "        )\n",
    "\n",
    "    try:\n",
    "        model = model.to(device)\n",
    "        model.load_state_dict(torch.load(location, map_location=device))\n",
    "    except:\n",
    "        model = nn.DataParallel(model).to(device)\n",
    "        model.load_state_dict(torch.load(location, map_location=device))\n",
    "    model.eval()\n",
    "    return model\n"
   ]
  },
  {
   "cell_type": "code",
   "execution_count": 9,
   "metadata": {},
   "outputs": [
    {
     "name": "stdout",
     "output_type": "stream",
     "text": [
      "/data/weijing/DI-ting_normalization/models/CIFAR10_diff_norm_value_n_grayscale/model_rgb-grayscale_baseline/final.pt\n",
      "Custom_normalization: Normalize(mean=(0.4914, 0.4822, 0.4465), std=(0.2471, 0.2435, 0.2616))\n",
      "Lambda()\n",
      "Files already downloaded and verified\n",
      "Files already downloaded and verified\n"
     ]
    },
    {
     "name": "stderr",
     "output_type": "stream",
     "text": [
      "100%|██████████| 50/50 [00:23<00:00,  2.16it/s]\n"
     ]
    },
    {
     "name": "stdout",
     "output_type": "stream",
     "text": [
      "0.99946\n",
      "0.9274\n",
      "/data/weijing/DI-ting_normalization/models/CIFAR10_diff_norm_value_n_grayscale/model_rgb-grayscale_mean_0.774_0.439_0.859/final.pt\n",
      "Custom_normalization: Normalize(mean=[0.774, 0.439, 0.859], std=(0.2471, 0.2435, 0.2616))\n",
      "Lambda()\n",
      "Files already downloaded and verified\n",
      "Files already downloaded and verified\n"
     ]
    },
    {
     "name": "stderr",
     "output_type": "stream",
     "text": [
      "100%|██████████| 50/50 [00:23<00:00,  2.14it/s]\n"
     ]
    },
    {
     "name": "stdout",
     "output_type": "stream",
     "text": [
      "0.99868\n",
      "0.9248\n",
      "/data/weijing/DI-ting_normalization/models/CIFAR10_diff_norm_value_n_grayscale/model_rgb-grayscale_mean_0.697_0.094_0.976/final.pt\n",
      "Custom_normalization: Normalize(mean=[0.697, 0.094, 0.976], std=(0.2471, 0.2435, 0.2616))\n",
      "Lambda()\n",
      "Files already downloaded and verified\n",
      "Files already downloaded and verified\n"
     ]
    },
    {
     "name": "stderr",
     "output_type": "stream",
     "text": [
      "100%|██████████| 50/50 [00:23<00:00,  2.13it/s]\n"
     ]
    },
    {
     "name": "stdout",
     "output_type": "stream",
     "text": [
      "0.99912\n",
      "0.9239\n",
      "/data/weijing/DI-ting_normalization/models/CIFAR10_diff_norm_value_n_grayscale/model_rgb-grayscale_mean_0.761_0.786_0.128/final.pt\n",
      "Custom_normalization: Normalize(mean=[0.761, 0.786, 0.128], std=(0.2471, 0.2435, 0.2616))\n",
      "Lambda()\n",
      "Files already downloaded and verified\n",
      "Files already downloaded and verified\n"
     ]
    },
    {
     "name": "stderr",
     "output_type": "stream",
     "text": [
      "100%|██████████| 50/50 [00:23<00:00,  2.13it/s]\n"
     ]
    },
    {
     "name": "stdout",
     "output_type": "stream",
     "text": [
      "0.99672\n",
      "0.9179\n",
      "/data/weijing/DI-ting_normalization/models/CIFAR10_diff_norm_value_n_grayscale/model_rgb-grayscale_std_0.3471_0.3435_0.3616/final.pt\n",
      "Custom_normalization: Normalize(mean=(0.4914, 0.4822, 0.4465), std=[0.3471, 0.3435, 0.3616])\n",
      "Lambda()\n",
      "Files already downloaded and verified\n",
      "Files already downloaded and verified\n"
     ]
    },
    {
     "name": "stderr",
     "output_type": "stream",
     "text": [
      "100%|██████████| 50/50 [00:23<00:00,  2.12it/s]\n"
     ]
    },
    {
     "name": "stdout",
     "output_type": "stream",
     "text": [
      "0.9989\n",
      "0.9284\n",
      "/data/weijing/DI-ting_normalization/models/CIFAR10_diff_norm_value_n_grayscale/model_rgb-grayscale_std_0.2971_0.2935_0.3116/final.pt\n",
      "Custom_normalization: Normalize(mean=(0.4914, 0.4822, 0.4465), std=[0.2971, 0.2935, 0.3116])\n",
      "Lambda()\n",
      "Files already downloaded and verified\n",
      "Files already downloaded and verified\n"
     ]
    },
    {
     "name": "stderr",
     "output_type": "stream",
     "text": [
      "100%|██████████| 50/50 [00:23<00:00,  2.13it/s]\n"
     ]
    },
    {
     "name": "stdout",
     "output_type": "stream",
     "text": [
      "0.99966\n",
      "0.9271\n",
      "/data/weijing/DI-ting_normalization/models/CIFAR10_diff_norm_value_n_grayscale/model_rgb-grayscale_std_0.2721_0.2685_0.2866/final.pt\n",
      "Custom_normalization: Normalize(mean=(0.4914, 0.4822, 0.4465), std=[0.2721, 0.2685, 0.2866])\n",
      "Lambda()\n",
      "Files already downloaded and verified\n",
      "Files already downloaded and verified\n"
     ]
    },
    {
     "name": "stderr",
     "output_type": "stream",
     "text": [
      "100%|██████████| 50/50 [00:23<00:00,  2.12it/s]\n"
     ]
    },
    {
     "name": "stdout",
     "output_type": "stream",
     "text": [
      "0.99918\n",
      "0.9239\n",
      "/data/weijing/DI-ting_normalization/models/CIFAR10_diff_norm_value_n_grayscale/model_rgb-grayscale_std_0.1471_0.1435_0.1616/final.pt\n",
      "Custom_normalization: Normalize(mean=(0.4914, 0.4822, 0.4465), std=[0.1471, 0.1435, 0.1616])\n",
      "Lambda()\n",
      "Files already downloaded and verified\n",
      "Files already downloaded and verified\n"
     ]
    },
    {
     "name": "stderr",
     "output_type": "stream",
     "text": [
      "100%|██████████| 50/50 [00:23<00:00,  2.12it/s]\n"
     ]
    },
    {
     "name": "stdout",
     "output_type": "stream",
     "text": [
      "0.99956\n",
      "0.9278\n",
      "/data/weijing/DI-ting_normalization/models/CIFAR10_diff_norm_value_n_grayscale/model_rgb-grayscale_std_0.1971_0.1935_0.2116/final.pt\n",
      "Custom_normalization: Normalize(mean=(0.4914, 0.4822, 0.4465), std=[0.1971, 0.1935, 0.2116])\n",
      "Lambda()\n",
      "Files already downloaded and verified\n",
      "Files already downloaded and verified\n"
     ]
    },
    {
     "name": "stderr",
     "output_type": "stream",
     "text": [
      "100%|██████████| 50/50 [00:23<00:00,  2.13it/s]\n"
     ]
    },
    {
     "name": "stdout",
     "output_type": "stream",
     "text": [
      "0.99956\n",
      "0.9259\n",
      "/data/weijing/DI-ting_normalization/models/CIFAR10_diff_norm_value_n_grayscale/model_rgb-grayscale_std_0.2221_0.2185_0.2366/final.pt\n",
      "Custom_normalization: Normalize(mean=(0.4914, 0.4822, 0.4465), std=[0.2221, 0.2185, 0.2366])\n",
      "Lambda()\n",
      "Files already downloaded and verified\n",
      "Files already downloaded and verified\n"
     ]
    },
    {
     "name": "stderr",
     "output_type": "stream",
     "text": [
      "100%|██████████| 50/50 [00:23<00:00,  2.13it/s]\n"
     ]
    },
    {
     "name": "stdout",
     "output_type": "stream",
     "text": [
      "0.99956\n",
      "0.9241\n"
     ]
    }
   ],
   "source": [
    "model_name__tr_acc = OrderedDict()\n",
    "\n",
    "# model performance in TR\n",
    "for setting in SETTINGS:\n",
    "    normalization_mean = setting['normalization_mean']\n",
    "    normalization_std = setting['normalization_std']\n",
    "    if normalization_mean != None and normalization_std != None:\n",
    "        mean_str = str(normalization_mean).replace(' ', '').replace(',', '_')[1:-1]\n",
    "        std_str = str(normalization_std).replace(' ', '').replace(',', '_')[1:-1]\n",
    "        label = f\"model_{extra_preprocessing_type}_mean_{mean_str}_std_{std_str}\"\n",
    "    elif normalization_mean != None:\n",
    "        mean_str = str(normalization_mean).replace(' ', '').replace(',', '_')[1:-1]\n",
    "        label = f\"model_{extra_preprocessing_type}_mean_{mean_str}\"\n",
    "    elif normalization_std != None:\n",
    "        std_str = str(normalization_std).replace(' ', '').replace(',', '_')[1:-1]\n",
    "        label = f\"model_{extra_preprocessing_type}_std_{std_str}\"\n",
    "    else:\n",
    "        label = f\"model_{extra_preprocessing_type}_baseline\"\n",
    "\n",
    "    model_path = MODEL_DIR_PATH / label / \"final.pt\"\n",
    "    print(model_path)\n",
    "    model = load_model(\n",
    "        model_type=\"teacher\",\n",
    "        location=str(model_path),\n",
    "        model_normalize=False,\n",
    "    )\n",
    "\n",
    "    args = types.SimpleNamespace()\n",
    "    device = torch.device(\"cuda:{0}\".format(0) if torch.cuda.is_available() else \"cpu\")\n",
    "    args.device = device\n",
    "    args.mode = \"teacher\"\n",
    "    args.experiment = 'diff-norm-value'\n",
    "    args.dataset = 'CIFAR10'\n",
    "    args.batch_size = 1000\n",
    "    args.num_workers = 8\n",
    "    args.normalization_mean = normalization_mean\n",
    "    args.normalization_std = normalization_std\n",
    "    # args.extra_preprocessing_type = \"rgb-grayscale\"\n",
    "    args.extra_preprocessing_type = \"\"\n",
    "    train_loader, test_loader = get_new_dataloader(args=args)\n",
    "\n",
    "    _, train_acc = epoch(\n",
    "        args,\n",
    "        train_loader,\n",
    "        model,\n",
    "        teacher=None,\n",
    "        lr_schedule=None,\n",
    "        epoch_i=None,\n",
    "        opt=None,\n",
    "    )\n",
    "    _, test_acc = epoch_test(\n",
    "        args,\n",
    "        test_loader,\n",
    "        model,\n",
    "    )\n",
    "    print(train_acc)\n",
    "    print(test_acc)\n",
    "\n",
    "    model_name__tr_acc[label] = {\n",
    "        \"train_acc\": train_acc,\n",
    "        \"test_acc\": test_acc,\n",
    "    }\n"
   ]
  },
  {
   "cell_type": "code",
   "execution_count": 6,
   "metadata": {},
   "outputs": [
    {
     "name": "stdout",
     "output_type": "stream",
     "text": [
      "OrderedDict([('model_rgb-grayscale_baseline',\n",
      "              {'test_acc': 0.9303, 'train_acc': 0.99998}),\n",
      "             ('model_rgb-grayscale_mean_0.774_0.439_0.859',\n",
      "              {'test_acc': 0.928, 'train_acc': 0.99996}),\n",
      "             ('model_rgb-grayscale_mean_0.697_0.094_0.976',\n",
      "              {'test_acc': 0.928, 'train_acc': 0.99996}),\n",
      "             ('model_rgb-grayscale_mean_0.761_0.786_0.128',\n",
      "              {'test_acc': 0.9285, 'train_acc': 0.99992}),\n",
      "             ('model_rgb-grayscale_std_0.3471_0.3435_0.3616',\n",
      "              {'test_acc': 0.9326, 'train_acc': 0.99992}),\n",
      "             ('model_rgb-grayscale_std_0.2971_0.2935_0.3116',\n",
      "              {'test_acc': 0.928, 'train_acc': 1.0}),\n",
      "             ('model_rgb-grayscale_std_0.2721_0.2685_0.2866',\n",
      "              {'test_acc': 0.9282, 'train_acc': 0.99996}),\n",
      "             ('model_rgb-grayscale_std_0.1471_0.1435_0.1616',\n",
      "              {'test_acc': 0.9306, 'train_acc': 0.99998}),\n",
      "             ('model_rgb-grayscale_std_0.1971_0.1935_0.2116',\n",
      "              {'test_acc': 0.9273, 'train_acc': 0.99998}),\n",
      "             ('model_rgb-grayscale_std_0.2221_0.2185_0.2366',\n",
      "              {'test_acc': 0.9261, 'train_acc': 0.99994})])\n"
     ]
    }
   ],
   "source": [
    "pprint(model_name__tr_acc)\n",
    "\n",
    "# Serializing json\n",
    "json_object = json.dumps(model_name__tr_acc, indent=2)\n",
    " \n",
    "# Writing to sample.json\n",
    "with open(\"tr_performance.json\", \"w\") as outfile:\n",
    "    outfile.write(json_object)"
   ]
  },
  {
   "cell_type": "code",
   "execution_count": 7,
   "metadata": {},
   "outputs": [
    {
     "name": "stdout",
     "output_type": "stream",
     "text": [
      "/data/weijing/DI-ting_normalization/models/CIFAR10_diff_norm_value_n_grayscale/model_baseline/final.pt\n",
      "No Transform\n",
      "Files already downloaded and verified\n",
      "Files already downloaded and verified\n",
      "No Transform\n",
      "Files already downloaded and verified\n",
      "Files already downloaded and verified\n"
     ]
    },
    {
     "name": "stderr",
     "output_type": "stream",
     "text": [
      "100%|██████████| 50/50 [00:31<00:00,  1.59it/s]\n"
     ]
    },
    {
     "name": "stdout",
     "output_type": "stream",
     "text": [
      "0.9998\n",
      "0.941\n",
      "/data/weijing/DI-ting_normalization/models/CIFAR10_diff_norm_value_n_grayscale/model_mean_0.774_0.439_0.859/final.pt\n",
      "No Transform\n",
      "Files already downloaded and verified\n",
      "Files already downloaded and verified\n",
      "No Transform\n",
      "Files already downloaded and verified\n",
      "Files already downloaded and verified\n"
     ]
    },
    {
     "name": "stderr",
     "output_type": "stream",
     "text": [
      "100%|██████████| 50/50 [00:31<00:00,  1.59it/s]\n"
     ]
    },
    {
     "name": "stdout",
     "output_type": "stream",
     "text": [
      "0.71242\n",
      "0.6857\n",
      "/data/weijing/DI-ting_normalization/models/CIFAR10_diff_norm_value_n_grayscale/model_mean_0.697_0.094_0.976/final.pt\n",
      "No Transform\n",
      "Files already downloaded and verified\n",
      "Files already downloaded and verified\n",
      "No Transform\n",
      "Files already downloaded and verified\n",
      "Files already downloaded and verified\n"
     ]
    },
    {
     "name": "stderr",
     "output_type": "stream",
     "text": [
      "100%|██████████| 50/50 [00:31<00:00,  1.60it/s]\n"
     ]
    },
    {
     "name": "stdout",
     "output_type": "stream",
     "text": [
      "0.43628\n",
      "0.4244\n",
      "/data/weijing/DI-ting_normalization/models/CIFAR10_diff_norm_value_n_grayscale/model_mean_0.761_0.786_0.128/final.pt\n",
      "No Transform\n",
      "Files already downloaded and verified\n",
      "Files already downloaded and verified\n",
      "No Transform\n",
      "Files already downloaded and verified\n",
      "Files already downloaded and verified\n"
     ]
    },
    {
     "name": "stderr",
     "output_type": "stream",
     "text": [
      "100%|██████████| 50/50 [00:31<00:00,  1.59it/s]\n"
     ]
    },
    {
     "name": "stdout",
     "output_type": "stream",
     "text": [
      "0.58896\n",
      "0.5589\n",
      "/data/weijing/DI-ting_normalization/models/CIFAR10_diff_norm_value_n_grayscale/model_std_0.3471_0.3435_0.3616/final.pt\n",
      "No Transform\n",
      "Files already downloaded and verified\n",
      "Files already downloaded and verified\n",
      "No Transform\n",
      "Files already downloaded and verified\n",
      "Files already downloaded and verified\n"
     ]
    },
    {
     "name": "stderr",
     "output_type": "stream",
     "text": [
      "100%|██████████| 50/50 [00:31<00:00,  1.59it/s]\n"
     ]
    },
    {
     "name": "stdout",
     "output_type": "stream",
     "text": [
      "0.96644\n",
      "0.8957\n",
      "/data/weijing/DI-ting_normalization/models/CIFAR10_diff_norm_value_n_grayscale/model_std_0.2971_0.2935_0.3116/final.pt\n",
      "No Transform\n",
      "Files already downloaded and verified\n",
      "Files already downloaded and verified\n",
      "No Transform\n",
      "Files already downloaded and verified\n",
      "Files already downloaded and verified\n"
     ]
    },
    {
     "name": "stderr",
     "output_type": "stream",
     "text": [
      "100%|██████████| 50/50 [00:31<00:00,  1.59it/s]\n"
     ]
    },
    {
     "name": "stdout",
     "output_type": "stream",
     "text": [
      "0.99402\n",
      "0.9259\n",
      "/data/weijing/DI-ting_normalization/models/CIFAR10_diff_norm_value_n_grayscale/model_std_0.2721_0.2685_0.2866/final.pt\n",
      "No Transform\n",
      "Files already downloaded and verified\n",
      "Files already downloaded and verified\n",
      "No Transform\n",
      "Files already downloaded and verified\n",
      "Files already downloaded and verified\n"
     ]
    },
    {
     "name": "stderr",
     "output_type": "stream",
     "text": [
      "100%|██████████| 50/50 [00:31<00:00,  1.59it/s]\n"
     ]
    },
    {
     "name": "stdout",
     "output_type": "stream",
     "text": [
      "0.99824\n",
      "0.9344\n",
      "/data/weijing/DI-ting_normalization/models/CIFAR10_diff_norm_value_n_grayscale/model_std_0.1471_0.1435_0.1616/final.pt\n",
      "No Transform\n",
      "Files already downloaded and verified\n",
      "Files already downloaded and verified\n",
      "No Transform\n",
      "Files already downloaded and verified\n",
      "Files already downloaded and verified\n"
     ]
    },
    {
     "name": "stderr",
     "output_type": "stream",
     "text": [
      "100%|██████████| 50/50 [00:31<00:00,  1.59it/s]\n"
     ]
    },
    {
     "name": "stdout",
     "output_type": "stream",
     "text": [
      "0.9985\n",
      "0.9322\n",
      "/data/weijing/DI-ting_normalization/models/CIFAR10_diff_norm_value_n_grayscale/model_std_0.1971_0.1935_0.2116/final.pt\n",
      "No Transform\n",
      "Files already downloaded and verified\n",
      "Files already downloaded and verified\n",
      "No Transform\n",
      "Files already downloaded and verified\n",
      "Files already downloaded and verified\n"
     ]
    },
    {
     "name": "stderr",
     "output_type": "stream",
     "text": [
      "100%|██████████| 50/50 [00:31<00:00,  1.59it/s]\n"
     ]
    },
    {
     "name": "stdout",
     "output_type": "stream",
     "text": [
      "0.99996\n",
      "0.9423\n",
      "/data/weijing/DI-ting_normalization/models/CIFAR10_diff_norm_value_n_grayscale/model_std_0.2221_0.2185_0.2366/final.pt\n",
      "No Transform\n",
      "Files already downloaded and verified\n",
      "Files already downloaded and verified\n",
      "No Transform\n",
      "Files already downloaded and verified\n",
      "Files already downloaded and verified\n"
     ]
    },
    {
     "name": "stderr",
     "output_type": "stream",
     "text": [
      "100%|██████████| 50/50 [00:31<00:00,  1.59it/s]\n"
     ]
    },
    {
     "name": "stdout",
     "output_type": "stream",
     "text": [
      "0.99998\n",
      "0.9401\n"
     ]
    }
   ],
   "source": [
    "model_name__te_acc = OrderedDict()\n",
    "\n",
    "# model performance in FE\n",
    "for setting in SETTINGS:\n",
    "    normalization_mean = setting['normalization_mean']\n",
    "    normalization_std = setting['normalization_std']\n",
    "    if normalization_mean != None and normalization_std != None:\n",
    "        mean_str = str(normalization_mean).replace(' ', '').replace(',', '_')[1:-1]\n",
    "        std_str = str(normalization_std).replace(' ', '').replace(',', '_')[1:-1]\n",
    "        label = f\"model_mean_{mean_str}_std_{std_str}\"\n",
    "    elif normalization_mean != None:\n",
    "        mean_str = str(normalization_mean).replace(' ', '').replace(',', '_')[1:-1]\n",
    "        label = f\"model_mean_{mean_str}\"\n",
    "    elif normalization_std != None:\n",
    "        std_str = str(normalization_std).replace(' ', '').replace(',', '_')[1:-1]\n",
    "        label = f\"model_std_{std_str}\"\n",
    "    else:\n",
    "        label = f\"model_baseline\"\n",
    "\n",
    "    model_path = MODEL_DIR_PATH / label / \"final.pt\"\n",
    "    print(model_path)\n",
    "    model = load_model(\n",
    "        model_type=\"teacher\",\n",
    "        location=str(model_path),\n",
    "        model_normalize=False,\n",
    "    )\n",
    "\n",
    "    train_loader, test_loader = get_dataloaders(\n",
    "        dataset=\"CIFAR10\",\n",
    "        batch_size=1000,\n",
    "        pseudo_labels=False,\n",
    "        normalize=True,\n",
    "        train_shuffle=False,\n",
    "    )\n",
    "\n",
    "    args = types.SimpleNamespace()\n",
    "    device = torch.device(\"cuda:{0}\".format(0) if torch.cuda.is_available() else \"cpu\")\n",
    "    args.device = device\n",
    "    args.mode = \"teacher\"\n",
    "\n",
    "    _, train_acc = epoch(\n",
    "        args,\n",
    "        train_loader,\n",
    "        model,\n",
    "        teacher=None,\n",
    "        lr_schedule=None,\n",
    "        epoch_i=None,\n",
    "        opt=None,\n",
    "    )\n",
    "    _, test_acc = epoch_test(\n",
    "        args,\n",
    "        test_loader,\n",
    "        model,\n",
    "    )\n",
    "    print(train_acc)\n",
    "    print(test_acc)\n",
    "\n",
    "    model_name__te_acc[label] = {\n",
    "        \"train_acc\": train_acc,\n",
    "        \"test_acc\": test_acc,\n",
    "    }\n",
    "\n"
   ]
  },
  {
   "cell_type": "code",
   "execution_count": 8,
   "metadata": {},
   "outputs": [
    {
     "name": "stdout",
     "output_type": "stream",
     "text": [
      "OrderedDict([('model_baseline', {'test_acc': 0.941, 'train_acc': 0.9998}),\n",
      "             ('model_mean_0.774_0.439_0.859',\n",
      "              {'test_acc': 0.6857, 'train_acc': 0.71242}),\n",
      "             ('model_mean_0.697_0.094_0.976',\n",
      "              {'test_acc': 0.4244, 'train_acc': 0.43628}),\n",
      "             ('model_mean_0.761_0.786_0.128',\n",
      "              {'test_acc': 0.5589, 'train_acc': 0.58896}),\n",
      "             ('model_std_0.3471_0.3435_0.3616',\n",
      "              {'test_acc': 0.8957, 'train_acc': 0.96644}),\n",
      "             ('model_std_0.2971_0.2935_0.3116',\n",
      "              {'test_acc': 0.9259, 'train_acc': 0.99402}),\n",
      "             ('model_std_0.2721_0.2685_0.2866',\n",
      "              {'test_acc': 0.9344, 'train_acc': 0.99824}),\n",
      "             ('model_std_0.1471_0.1435_0.1616',\n",
      "              {'test_acc': 0.9322, 'train_acc': 0.9985}),\n",
      "             ('model_std_0.1971_0.1935_0.2116',\n",
      "              {'test_acc': 0.9423, 'train_acc': 0.99996}),\n",
      "             ('model_std_0.2221_0.2185_0.2366',\n",
      "              {'test_acc': 0.9401, 'train_acc': 0.99998})])\n"
     ]
    }
   ],
   "source": [
    "pprint(model_name__te_acc)\n",
    "\n",
    "# Serializing json\n",
    "json_object = json.dumps(model_name__te_acc, indent=2)\n",
    " \n",
    "# Writing to sample.json\n",
    "with open(\"fe_performance.json\", \"w\") as outfile:\n",
    "    outfile.write(json_object)"
   ]
  }
 ],
 "metadata": {
  "kernelspec": {
   "display_name": "Python 3.8.12 ('DIenv')",
   "language": "python",
   "name": "python3"
  },
  "language_info": {
   "codemirror_mode": {
    "name": "ipython",
    "version": 3
   },
   "file_extension": ".py",
   "mimetype": "text/x-python",
   "name": "python",
   "nbconvert_exporter": "python",
   "pygments_lexer": "ipython3",
   "version": "3.8.12"
  },
  "orig_nbformat": 4,
  "vscode": {
   "interpreter": {
    "hash": "01ff145a580a012fbee101d68df8ff40de9b5a3386bbca8e9b7074444281a989"
   }
  }
 },
 "nbformat": 4,
 "nbformat_minor": 2
}
