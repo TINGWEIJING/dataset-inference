{
 "cells": [
  {
   "cell_type": "code",
   "execution_count": 1,
   "id": "given-exhaust",
   "metadata": {
    "execution": {
     "iopub.execute_input": "2021-03-18T08:36:38.362271Z",
     "iopub.status.busy": "2021-03-18T08:36:38.361708Z",
     "iopub.status.idle": "2021-03-18T08:36:38.365627Z",
     "shell.execute_reply": "2021-03-18T08:36:38.365103Z"
    },
    "papermill": {
     "duration": 0.057215,
     "end_time": "2021-03-18T08:36:38.365764",
     "exception": false,
     "start_time": "2021-03-18T08:36:38.308549",
     "status": "completed"
    },
    "tags": [
     "parameters"
    ]
   },
   "outputs": [],
   "source": [
    "# Parameters\n",
    "# dataset = \"CIFAR10\" # CIFAR10, CIFAR100, SVHN\n",
    "# v_type = \"mingd\" # mingd, rand\n",
    "# root_path = \"/data/weijing/dataset-inference/files\"\n",
    "# params_path = \"/data/weijing/dataset-inference/src\"\n",
    "# split_index = 500\n"
   ]
  },
  {
   "cell_type": "code",
   "execution_count": 2,
   "id": "severe-brooklyn",
   "metadata": {
    "execution": {
     "iopub.execute_input": "2021-03-18T08:36:38.450794Z",
     "iopub.status.busy": "2021-03-18T08:36:38.450236Z",
     "iopub.status.idle": "2021-03-18T08:36:38.454169Z",
     "shell.execute_reply": "2021-03-18T08:36:38.453468Z"
    },
    "papermill": {
     "duration": 0.046844,
     "end_time": "2021-03-18T08:36:38.454319",
     "exception": false,
     "start_time": "2021-03-18T08:36:38.407475",
     "status": "completed"
    },
    "tags": [
     "injected-parameters"
    ]
   },
   "outputs": [],
   "source": [
    "# Parameters\n",
    "dataset = \"CIFAR10\"\n",
    "v_type = \"rand\"\n",
    "root_path = \"/data/weijing/ting-dataset-inference/_author_feature\"\n",
    "params_path = \"/data/weijing/ting-dataset-inference/src\"\n",
    "split_index = 500\n"
   ]
  },
  {
   "cell_type": "code",
   "execution_count": 3,
   "id": "solar-chess",
   "metadata": {
    "execution": {
     "iopub.execute_input": "2021-03-18T08:36:38.548744Z",
     "iopub.status.busy": "2021-03-18T08:36:38.538303Z",
     "iopub.status.idle": "2021-03-18T08:36:38.552906Z",
     "shell.execute_reply": "2021-03-18T08:36:38.554030Z"
    },
    "papermill": {
     "duration": 0.058239,
     "end_time": "2021-03-18T08:36:38.554320",
     "exception": false,
     "start_time": "2021-03-18T08:36:38.496081",
     "status": "completed"
    },
    "tags": []
   },
   "outputs": [
    {
     "data": {
      "text/markdown": [
       "# CIFAR10 - Blind Walk results"
      ],
      "text/plain": [
       "<IPython.core.display.Markdown object>"
      ]
     },
     "metadata": {},
     "output_type": "display_data"
    }
   ],
   "source": [
    "from IPython.display import display, Markdown\n",
    "v_type2disp = dict(mingd=\"MinGD\", rand=\"Blind Walk\")\n",
    "display(Markdown(f\"# {dataset} - {v_type2disp[v_type]} results\"))"
   ]
  },
  {
   "cell_type": "code",
   "execution_count": 4,
   "id": "inner-settle",
   "metadata": {
    "execution": {
     "iopub.execute_input": "2021-03-18T08:36:38.640573Z",
     "iopub.status.busy": "2021-03-18T08:36:38.640022Z",
     "iopub.status.idle": "2021-03-18T08:36:39.138360Z",
     "shell.execute_reply": "2021-03-18T08:36:39.139277Z"
    },
    "papermill": {
     "duration": 0.543549,
     "end_time": "2021-03-18T08:36:39.139586",
     "exception": false,
     "start_time": "2021-03-18T08:36:38.596037",
     "status": "completed"
    },
    "tags": []
   },
   "outputs": [],
   "source": [
    "import time\n",
    "import random\n",
    "from pathlib import Path\n",
    "from tqdm.auto import tqdm\n",
    "from importlib import reload\n",
    "import torch.optim as optim\n",
    "import torch.nn as nn\n",
    "import torch\n",
    "import numpy as np\n",
    "import os\n",
    "import sys\n",
    "sys.path.insert(0, params_path)\n",
    "\n",
    "\n",
    "torch.manual_seed(0)\n",
    "np.random.seed(0)\n",
    "random.seed(0)\n"
   ]
  },
  {
   "cell_type": "code",
   "execution_count": 5,
   "id": "naked-joining",
   "metadata": {
    "execution": {
     "iopub.execute_input": "2021-03-18T08:36:39.211483Z",
     "iopub.status.busy": "2021-03-18T08:36:39.211058Z",
     "iopub.status.idle": "2021-03-18T08:36:39.867145Z",
     "shell.execute_reply": "2021-03-18T08:36:39.866102Z"
    },
    "papermill": {
     "duration": 0.689549,
     "end_time": "2021-03-18T08:36:39.867393",
     "exception": false,
     "start_time": "2021-03-18T08:36:39.177844",
     "status": "completed"
    },
    "tags": []
   },
   "outputs": [],
   "source": [
    "import seaborn as sns\n",
    "import pandas as pd\n",
    "import os"
   ]
  },
  {
   "cell_type": "code",
   "execution_count": 6,
   "id": "vulnerable-niger",
   "metadata": {
    "execution": {
     "iopub.execute_input": "2021-03-18T08:36:39.940069Z",
     "iopub.status.busy": "2021-03-18T08:36:39.939438Z",
     "iopub.status.idle": "2021-03-18T08:36:39.942683Z",
     "shell.execute_reply": "2021-03-18T08:36:39.942061Z"
    },
    "papermill": {
     "duration": 0.03923,
     "end_time": "2021-03-18T08:36:39.942823",
     "exception": false,
     "start_time": "2021-03-18T08:36:39.903593",
     "status": "completed"
    },
    "tags": []
   },
   "outputs": [],
   "source": [
    "from scipy.stats import combine_pvalues, ttest_ind_from_stats, ttest_ind\n",
    "from functools import reduce\n",
    "from scipy.stats import hmean"
   ]
  },
  {
   "cell_type": "markdown",
   "id": "perceived-threshold",
   "metadata": {
    "papermill": {
     "duration": 0.029782,
     "end_time": "2021-03-18T08:36:40.008382",
     "exception": false,
     "start_time": "2021-03-18T08:36:39.978600",
     "status": "completed"
    },
    "tags": []
   },
   "source": [
    "## Use the full vectors to train a linear model"
   ]
  },
  {
   "cell_type": "code",
   "execution_count": 7,
   "id": "located-wages",
   "metadata": {
    "execution": {
     "iopub.execute_input": "2021-03-18T08:36:40.073371Z",
     "iopub.status.busy": "2021-03-18T08:36:40.072914Z",
     "iopub.status.idle": "2021-03-18T08:36:40.075401Z",
     "shell.execute_reply": "2021-03-18T08:36:40.075739Z"
    },
    "papermill": {
     "duration": 0.038312,
     "end_time": "2021-03-18T08:36:40.075861",
     "exception": false,
     "start_time": "2021-03-18T08:36:40.037549",
     "status": "completed"
    },
    "tags": []
   },
   "outputs": [],
   "source": [
    "root = os.path.join(root_path, dataset)\n",
    "model_types = [\n",
    "    'zero-shot',\n",
    "    'prune',\n",
    "    'fine-tune',\n",
    "    'extract-label',\n",
    "    'extract-logit',\n",
    "    'distillation',\n",
    "    'teacher',\n",
    "]\n",
    "\n",
    "names = [\n",
    "    'distillation',\n",
    "    'extract-label',\n",
    "    'extract-logit',\n",
    "    'fine-tune',\n",
    "    \"independent\",\n",
    "    \"pre-act-18\",\n",
    "    'teacher',\n",
    "    'zero-shot',\n",
    "]\n",
    "victim_name = \"teacher\"\n"
   ]
  },
  {
   "cell_type": "code",
   "execution_count": 8,
   "id": "tamil-monte",
   "metadata": {
    "execution": {
     "iopub.execute_input": "2021-03-18T08:36:40.149945Z",
     "iopub.status.busy": "2021-03-18T08:36:40.149503Z",
     "iopub.status.idle": "2021-03-18T08:36:40.162711Z",
     "shell.execute_reply": "2021-03-18T08:36:40.161767Z"
    },
    "papermill": {
     "duration": 0.051905,
     "end_time": "2021-03-18T08:36:40.162938",
     "exception": false,
     "start_time": "2021-03-18T08:36:40.111033",
     "status": "completed"
    },
    "tags": []
   },
   "outputs": [],
   "source": [
    "# if v_type == \"mingd\" and dataset == \"CIFAR100\": v_type = \"topgd\"\n",
    "\n",
    "trains = {}\n",
    "tests = {}\n",
    "for name in names:\n",
    "    trains[name] = (torch.load(f\"{root}/model_{name}_normalized/train_{v_type}_vulnerability.pt\"))\n",
    "    tests[name] = (torch.load(f\"{root}/model_{name}_normalized/test_{v_type}_vulnerability.pt\"))\n",
    "mean_cifar = trains[victim_name].mean(dim = (0,1))\n",
    "std_cifar = trains[victim_name].std(dim = (0,1))"
   ]
  },
  {
   "cell_type": "code",
   "execution_count": 9,
   "id": "russian-peoples",
   "metadata": {
    "execution": {
     "iopub.execute_input": "2021-03-18T08:36:40.239887Z",
     "iopub.status.busy": "2021-03-18T08:36:40.239136Z",
     "iopub.status.idle": "2021-03-18T08:36:40.252933Z",
     "shell.execute_reply": "2021-03-18T08:36:40.254004Z"
    },
    "papermill": {
     "duration": 0.053933,
     "end_time": "2021-03-18T08:36:40.254393",
     "exception": false,
     "start_time": "2021-03-18T08:36:40.200460",
     "status": "completed"
    },
    "tags": []
   },
   "outputs": [],
   "source": [
    "if v_type == \"mingd\":\n",
    "    for name in names:\n",
    "        trains[name] = trains[name].sort(dim=1)[0]\n",
    "        tests[name] = tests[name].sort(dim=1)[0]\n",
    "\n",
    "for name in names:\n",
    "    trains[name] = (trains[name] - mean_cifar)/std_cifar\n",
    "    tests[name] = (tests[name] - mean_cifar)/std_cifar\n",
    "\n",
    "f_num = 30\n",
    "a_num = 30\n",
    "num_row = 1000 # added, because newly trained model is 1024, original is 1000\n",
    "\n",
    "trains_n = {}\n",
    "tests_n = {}\n",
    "for name in names:\n",
    "    trains_n[name] = trains[name].T.reshape(num_row, f_num)[:, :a_num]\n",
    "    tests_n[name] = tests[name].T.reshape(num_row, f_num)[:, :a_num]\n"
   ]
  },
  {
   "cell_type": "code",
   "execution_count": 10,
   "id": "separate-technique",
   "metadata": {
    "execution": {
     "iopub.execute_input": "2021-03-18T08:36:40.328150Z",
     "iopub.status.busy": "2021-03-18T08:36:40.327699Z",
     "iopub.status.idle": "2021-03-18T08:36:40.332106Z",
     "shell.execute_reply": "2021-03-18T08:36:40.331713Z"
    },
    "papermill": {
     "duration": 0.039788,
     "end_time": "2021-03-18T08:36:40.332210",
     "exception": false,
     "start_time": "2021-03-18T08:36:40.292422",
     "status": "completed"
    },
    "tags": []
   },
   "outputs": [],
   "source": [
    "n_ex = split_index\n",
    "train = torch.cat((trains_n[victim_name][:n_ex], tests_n[victim_name][:n_ex]), dim = 0)\n",
    "y = torch.cat((torch.zeros(n_ex), torch.ones(n_ex)), dim = 0)\n",
    "\n",
    "rand=torch.randperm(y.shape[0])\n",
    "train = train[rand]\n",
    "y = y[rand]"
   ]
  },
  {
   "cell_type": "code",
   "execution_count": 11,
   "id": "b32eaa21",
   "metadata": {},
   "outputs": [
    {
     "name": "stdout",
     "output_type": "stream",
     "text": [
      "tensor([ 0.6197, -0.7206,  0.1461,  1.8805, -0.6419, -0.6419, -0.3267, -0.2490,\n",
      "         1.8017, -0.0118, -0.4072,  0.6173, -1.5881, -2.0612, -1.1149, -0.0899,\n",
      "         0.1454, -0.7207, -1.5093, -2.0612, -0.2477, -0.0111,  1.6435, -0.8785,\n",
      "        -0.0917,  0.6199, -0.3266, -1.2726, -0.4843, -0.6420])\n"
     ]
    }
   ],
   "source": [
    "print(train[15])"
   ]
  },
  {
   "cell_type": "code",
   "execution_count": 12,
   "id": "european-elements",
   "metadata": {
    "execution": {
     "iopub.execute_input": "2021-03-18T08:36:40.404733Z",
     "iopub.status.busy": "2021-03-18T08:36:40.404275Z",
     "iopub.status.idle": "2021-03-18T08:36:40.408538Z",
     "shell.execute_reply": "2021-03-18T08:36:40.409113Z"
    },
    "papermill": {
     "duration": 0.041366,
     "end_time": "2021-03-18T08:36:40.409292",
     "exception": false,
     "start_time": "2021-03-18T08:36:40.367926",
     "status": "completed"
    },
    "tags": []
   },
   "outputs": [],
   "source": [
    "model = nn.Sequential(nn.Linear(a_num,100),nn.ReLU(),nn.Linear(100,1),nn.Tanh())\n",
    "criterion = nn.CrossEntropyLoss()\n",
    "optimizer =torch.optim.SGD(model.parameters(), lr=0.1)"
   ]
  },
  {
   "cell_type": "code",
   "execution_count": 13,
   "id": "funded-wilson",
   "metadata": {
    "execution": {
     "iopub.execute_input": "2021-03-18T08:36:40.483572Z",
     "iopub.status.busy": "2021-03-18T08:36:40.483118Z",
     "iopub.status.idle": "2021-03-18T08:36:43.977572Z",
     "shell.execute_reply": "2021-03-18T08:36:43.976923Z"
    },
    "papermill": {
     "duration": 3.531335,
     "end_time": "2021-03-18T08:36:43.977757",
     "exception": false,
     "start_time": "2021-03-18T08:36:40.446422",
     "status": "completed"
    },
    "scrolled": true,
    "tags": []
   },
   "outputs": [
    {
     "data": {
      "application/vnd.jupyter.widget-view+json": {
       "model_id": "e6c29f08b67b478ba8a779e03651d0ea",
       "version_major": 2,
       "version_minor": 0
      },
      "text/plain": [
       "  0%|          | 0/1000 [00:00<?, ?it/s]"
      ]
     },
     "metadata": {},
     "output_type": "display_data"
    }
   ],
   "source": [
    "with tqdm(range(1000)) as pbar:\n",
    "    for epoch in pbar:\n",
    "        optimizer.zero_grad()\n",
    "        inputs = train\n",
    "        outputs = model(inputs)\n",
    "        loss = -1 * ((2*y-1)*(outputs.squeeze(-1))).mean()\n",
    "        loss.backward()\n",
    "        optimizer.step()\n",
    "        pbar.set_description('loss {}'.format(loss.item()))"
   ]
  },
  {
   "cell_type": "markdown",
   "id": "weighted-hindu",
   "metadata": {
    "papermill": {
     "duration": 0.080487,
     "end_time": "2021-03-18T08:36:44.094721",
     "exception": false,
     "start_time": "2021-03-18T08:36:44.014234",
     "status": "completed"
    },
    "tags": []
   },
   "source": [
    "## Dataset Inference"
   ]
  },
  {
   "cell_type": "code",
   "execution_count": 14,
   "id": "framed-invitation",
   "metadata": {
    "execution": {
     "iopub.execute_input": "2021-03-18T08:36:44.234002Z",
     "iopub.status.busy": "2021-03-18T08:36:44.233233Z",
     "iopub.status.idle": "2021-03-18T08:36:44.237173Z",
     "shell.execute_reply": "2021-03-18T08:36:44.236192Z"
    },
    "papermill": {
     "duration": 0.074583,
     "end_time": "2021-03-18T08:36:44.237406",
     "exception": false,
     "start_time": "2021-03-18T08:36:44.162823",
     "status": "completed"
    },
    "tags": []
   },
   "outputs": [],
   "source": [
    "def get_p(outputs_train, outputs_test):\n",
    "    pred_test = outputs_test[:,0].detach().cpu().numpy()\n",
    "    pred_train = outputs_train[:,0].detach().cpu().numpy()\n",
    "    tval, pval = ttest_ind(pred_test, pred_train, alternative=\"greater\", equal_var=False)\n",
    "    if pval < 0:\n",
    "        raise Exception(f\"p-value={pval}\")\n",
    "    return pval\n",
    "\n",
    "def get_p_values(num_ex, train, test, k):\n",
    "    total = train.shape[0]\n",
    "    sum_p = 0\n",
    "    p_values = []\n",
    "    positions_list = []\n",
    "    for i in range(k):\n",
    "        positions = torch.randperm(total)[:num_ex]\n",
    "        p_val = get_p(train[positions], test[positions])\n",
    "        positions_list.append(positions)\n",
    "        p_values.append(p_val)\n",
    "    return p_values\n",
    "\n",
    "def get_fischer(num_ex, train, test, k):\n",
    "    p_values = get_p_values(num_ex, train, test, k)\n",
    "    return combine_pvalues(p_values, method=\"mudholkar_george\")[1]\n",
    "\n",
    "def get_max_p_value(num_ex, train, test, k):\n",
    "    p_values = get_p_values(num_ex, train, test, k)\n",
    "    return max(p_values)"
   ]
  },
  {
   "cell_type": "code",
   "execution_count": 15,
   "id": "twenty-stations",
   "metadata": {
    "execution": {
     "iopub.execute_input": "2021-03-18T08:36:44.353498Z",
     "iopub.status.busy": "2021-03-18T08:36:44.352170Z",
     "iopub.status.idle": "2021-03-18T08:36:44.361968Z",
     "shell.execute_reply": "2021-03-18T08:36:44.362455Z"
    },
    "papermill": {
     "duration": 0.066918,
     "end_time": "2021-03-18T08:36:44.362627",
     "exception": false,
     "start_time": "2021-03-18T08:36:44.295709",
     "status": "completed"
    },
    "tags": []
   },
   "outputs": [],
   "source": [
    "outputs_tr = {}\n",
    "outputs_te = {}\n",
    "for name in names:\n",
    "    outputs_tr[name] = model(trains_n[name])\n",
    "    outputs_te[name] = model(tests_n[name])"
   ]
  },
  {
   "cell_type": "code",
   "execution_count": 16,
   "id": "pretty-occurrence",
   "metadata": {
    "execution": {
     "iopub.execute_input": "2021-03-18T08:36:44.470088Z",
     "iopub.status.busy": "2021-03-18T08:36:44.469511Z",
     "iopub.status.idle": "2021-03-18T08:36:44.471365Z",
     "shell.execute_reply": "2021-03-18T08:36:44.471831Z"
    },
    "papermill": {
     "duration": 0.059131,
     "end_time": "2021-03-18T08:36:44.471980",
     "exception": false,
     "start_time": "2021-03-18T08:36:44.412849",
     "status": "completed"
    },
    "tags": []
   },
   "outputs": [],
   "source": [
    "import scipy.stats as stats\n",
    "def print_inference(outputs_train, outputs_test):\n",
    "    m1, m2 = outputs_test[:,0].mean(), outputs_train[:,0].mean()\n",
    "    pval = get_p(outputs_train, outputs_test)\n",
    "    print(f\"p-value = {pval} \\t| Mean difference = {m1-m2}\")"
   ]
  },
  {
   "cell_type": "code",
   "execution_count": 17,
   "id": "australian-manitoba",
   "metadata": {
    "execution": {
     "iopub.execute_input": "2021-03-18T08:36:44.576276Z",
     "iopub.status.busy": "2021-03-18T08:36:44.575563Z",
     "iopub.status.idle": "2021-03-18T08:36:44.578232Z",
     "shell.execute_reply": "2021-03-18T08:36:44.577611Z"
    },
    "papermill": {
     "duration": 0.06996,
     "end_time": "2021-03-18T08:36:44.578384",
     "exception": false,
     "start_time": "2021-03-18T08:36:44.508424",
     "status": "completed"
    },
    "tags": []
   },
   "outputs": [],
   "source": [
    "for name in names:\n",
    "    outputs_tr[name], outputs_te[name] = outputs_tr[name][split_index:], outputs_te[name][split_index:]"
   ]
  },
  {
   "cell_type": "code",
   "execution_count": 18,
   "id": "failing-helena",
   "metadata": {
    "execution": {
     "iopub.execute_input": "2021-03-18T08:36:44.672016Z",
     "iopub.status.busy": "2021-03-18T08:36:44.671565Z",
     "iopub.status.idle": "2021-03-18T08:36:44.686372Z",
     "shell.execute_reply": "2021-03-18T08:36:44.685334Z"
    },
    "papermill": {
     "duration": 0.051181,
     "end_time": "2021-03-18T08:36:44.686598",
     "exception": false,
     "start_time": "2021-03-18T08:36:44.635417",
     "status": "completed"
    },
    "tags": []
   },
   "outputs": [
    {
     "name": "stdout",
     "output_type": "stream",
     "text": [
      "distillation\n",
      "p-value = 3.236951499555936e-64 \t| Mean difference = 0.8124662637710571\n",
      "extract-label\n",
      "p-value = 2.2199588391859896e-98 \t| Mean difference = 1.0219612121582031\n",
      "extract-logit\n",
      "p-value = 2.92473824074893e-103 \t| Mean difference = 1.0605945587158203\n",
      "fine-tune\n",
      "p-value = 0.0 \t| Mean difference = 1.8371367454528809\n",
      "independent\n",
      "p-value = 0.9999999999999925 \t| Mean difference = -0.4200077950954437\n",
      "pre-act-18\n",
      "p-value = 6.72955962307138e-186 \t| Mean difference = 1.3808214664459229\n",
      "teacher\n",
      "p-value = 0.0 \t| Mean difference = 1.8276257514953613\n",
      "zero-shot\n",
      "p-value = 4.683035435389522e-29 \t| Mean difference = 0.3938230872154236\n"
     ]
    }
   ],
   "source": [
    "for name in names:\n",
    "    print(f\"{name}\")\n",
    "    print_inference(outputs_tr[name], outputs_te[name])"
   ]
  },
  {
   "cell_type": "markdown",
   "id": "blond-payment",
   "metadata": {
    "papermill": {
     "duration": 0.031666,
     "end_time": "2021-03-18T08:36:44.758214",
     "exception": false,
     "start_time": "2021-03-18T08:36:44.726548",
     "status": "completed"
    },
    "tags": []
   },
   "source": [
    "## Main Loop"
   ]
  },
  {
   "cell_type": "code",
   "execution_count": 19,
   "id": "6b45015d",
   "metadata": {},
   "outputs": [],
   "source": [
    "# result path\n",
    "RESULT_DIR_PATH = Path.cwd() / \"_result\"\n",
    "RESULT_FILE_PATH = RESULT_DIR_PATH / f\"{dataset}_{v_type}.h5\"\n",
    "\n",
    "RESULT_DIR_PATH.mkdir(parents=True, exist_ok=True)"
   ]
  },
  {
   "cell_type": "code",
   "execution_count": 20,
   "id": "silver-yahoo",
   "metadata": {
    "execution": {
     "iopub.execute_input": "2021-03-18T08:36:44.840854Z",
     "iopub.status.busy": "2021-03-18T08:36:44.839595Z",
     "iopub.status.idle": "2021-03-18T08:36:44.950200Z",
     "shell.execute_reply": "2021-03-18T08:36:44.948969Z"
    },
    "papermill": {
     "duration": 0.1594,
     "end_time": "2021-03-18T08:36:44.950451",
     "exception": false,
     "start_time": "2021-03-18T08:36:44.791051",
     "status": "completed"
    },
    "tags": []
   },
   "outputs": [
    {
     "data": {
      "application/vnd.jupyter.widget-view+json": {
       "model_id": "e1a435b303784842ae73ed02825ee2a8",
       "version_major": 2,
       "version_minor": 0
      },
      "text/plain": [
       "  0%|          | 0/8 [00:00<?, ?it/s]"
      ]
     },
     "metadata": {},
     "output_type": "display_data"
    },
    {
     "data": {
      "application/vnd.jupyter.widget-view+json": {
       "model_id": "45b3d2dcbe324c3999157bbb8ecb5cb3",
       "version_major": 2,
       "version_minor": 0
      },
      "text/plain": [
       "  0%|          | 0/40 [00:00<?, ?it/s]"
      ]
     },
     "metadata": {},
     "output_type": "display_data"
    },
    {
     "data": {
      "application/vnd.jupyter.widget-view+json": {
       "model_id": "c2b3d9150fbe494db76a899d24ea0b93",
       "version_major": 2,
       "version_minor": 0
      },
      "text/plain": [
       "  0%|          | 0/40 [00:00<?, ?it/s]"
      ]
     },
     "metadata": {},
     "output_type": "display_data"
    },
    {
     "data": {
      "application/vnd.jupyter.widget-view+json": {
       "model_id": "d5339614a3044f4fa3a25e542454ab26",
       "version_major": 2,
       "version_minor": 0
      },
      "text/plain": [
       "  0%|          | 0/40 [00:00<?, ?it/s]"
      ]
     },
     "metadata": {},
     "output_type": "display_data"
    },
    {
     "data": {
      "application/vnd.jupyter.widget-view+json": {
       "model_id": "d3a9cdd8b66b470387ac4254cc1f70a0",
       "version_major": 2,
       "version_minor": 0
      },
      "text/plain": [
       "  0%|          | 0/40 [00:00<?, ?it/s]"
      ]
     },
     "metadata": {},
     "output_type": "display_data"
    },
    {
     "data": {
      "application/vnd.jupyter.widget-view+json": {
       "model_id": "a4a9b7dea06f4809bf8e9ded4e9cbd75",
       "version_major": 2,
       "version_minor": 0
      },
      "text/plain": [
       "  0%|          | 0/40 [00:00<?, ?it/s]"
      ]
     },
     "metadata": {},
     "output_type": "display_data"
    },
    {
     "data": {
      "application/vnd.jupyter.widget-view+json": {
       "model_id": "d4625a4558c94c04a8691da78b2a89ac",
       "version_major": 2,
       "version_minor": 0
      },
      "text/plain": [
       "  0%|          | 0/40 [00:00<?, ?it/s]"
      ]
     },
     "metadata": {},
     "output_type": "display_data"
    },
    {
     "data": {
      "application/vnd.jupyter.widget-view+json": {
       "model_id": "bc03bd4cd6804f37a92879b17d36443a",
       "version_major": 2,
       "version_minor": 0
      },
      "text/plain": [
       "  0%|          | 0/40 [00:00<?, ?it/s]"
      ]
     },
     "metadata": {},
     "output_type": "display_data"
    },
    {
     "data": {
      "application/vnd.jupyter.widget-view+json": {
       "model_id": "7094d15d63fb4446a0c8e2dfb0db7171",
       "version_major": 2,
       "version_minor": 0
      },
      "text/plain": [
       "  0%|          | 0/40 [00:00<?, ?it/s]"
      ]
     },
     "metadata": {},
     "output_type": "display_data"
    },
    {
     "name": "stderr",
     "output_type": "stream",
     "text": [
      "/tmp/ipykernel_9431/2831177927.py:33: PerformanceWarning: \n",
      "your performance may suffer as PyTables will pickle object types that it cannot\n",
      "map directly to c-types [inferred_type->mixed-integer,key->block2_values] [items->Index(['rep_no', 'threat_model'], dtype='object')]\n",
      "\n",
      "  results_df.to_hdf(RESULT_FILE_PATH, v_type)\n"
     ]
    }
   ],
   "source": [
    "if not RESULT_FILE_PATH.exists():\n",
    "    total_reps = 40\n",
    "    max_m = 45\n",
    "    total_inner_rep = 100\n",
    "\n",
    "    m_list = [x for x in range(2, max_m, 1)]\n",
    "    p_values_all_threat_models_dict = {}\n",
    "\n",
    "    n_pbar = tqdm(names, leave=False)\n",
    "    for name in n_pbar:\n",
    "        p_vals_per_rep_no = {}\n",
    "        r_pbar = tqdm(range(total_reps), leave=False)\n",
    "        for rep_no in r_pbar:\n",
    "            p_values_list = []\n",
    "            for m in m_list:\n",
    "                p_list = get_p_values(m, outputs_tr[name], outputs_te[name], total_inner_rep)\n",
    "                try:\n",
    "                    hm = hmean(p_list)\n",
    "                except:\n",
    "                    hm = 1.0\n",
    "                p_values_list.append(hm)\n",
    "                pbar.set_description(f\"{rep_no: 2d} {name} m={m: 3d}: f{hm: 0.5f}\")\n",
    "            r_pbar.set_description(f\"rep_no: {rep_no+1}/{total_reps}\")\n",
    "            p_vals_per_rep_no[rep_no] = p_values_list\n",
    "        p_values_all_threat_models_dict[name] = p_vals_per_rep_no\n",
    "        \n",
    "    df_list = []\n",
    "    for name, rep_dict in p_values_all_threat_models_dict.items():\n",
    "        df = pd.DataFrame(rep_dict).reset_index().assign(m=lambda r: r.index+2).drop([\"index\"], axis=1)\n",
    "        df_list.append(pd.melt(df,id_vars=[\"m\"], var_name=\"rep_no\", value_name=\"p_value\").assign(threat_model=name))\n",
    "    results_df = pd.concat(df_list)\n",
    "    \n",
    "    results_df.to_hdf(RESULT_FILE_PATH, v_type)\n",
    "    results_df\n",
    "else:\n",
    "    results_df = pd.read_hdf(RESULT_FILE_PATH, v_type)"
   ]
  },
  {
   "cell_type": "markdown",
   "id": "selected-hamburg",
   "metadata": {
    "papermill": {
     "duration": 0.032992,
     "end_time": "2021-03-18T08:36:45.023110",
     "exception": false,
     "start_time": "2021-03-18T08:36:44.990118",
     "status": "completed"
    },
    "tags": []
   },
   "source": [
    "#### Plotting"
   ]
  },
  {
   "cell_type": "code",
   "execution_count": 21,
   "id": "previous-clearing",
   "metadata": {
    "execution": {
     "iopub.execute_input": "2021-03-18T08:36:45.090530Z",
     "iopub.status.busy": "2021-03-18T08:36:45.090086Z",
     "iopub.status.idle": "2021-03-18T08:36:45.092885Z",
     "shell.execute_reply": "2021-03-18T08:36:45.092503Z"
    },
    "papermill": {
     "duration": 0.038517,
     "end_time": "2021-03-18T08:36:45.092991",
     "exception": false,
     "start_time": "2021-03-18T08:36:45.054474",
     "status": "completed"
    },
    "tags": []
   },
   "outputs": [],
   "source": [
    "import matplotlib as mpl\n",
    "import matplotlib.pyplot as plt\n",
    "\n",
    "mpl.rcParams['text.latex.preamble'] = r'\\usepackage{times}'\n",
    "\n",
    "plt.rcParams.update({\n",
    "    \"text.usetex\": True,\n",
    "})"
   ]
  },
  {
   "cell_type": "markdown",
   "id": "forbidden-attitude",
   "metadata": {
    "papermill": {
     "duration": 0.031412,
     "end_time": "2021-03-18T08:36:45.160359",
     "exception": false,
     "start_time": "2021-03-18T08:36:45.128947",
     "status": "completed"
    },
    "tags": []
   },
   "source": [
    "#### Renaming"
   ]
  },
  {
   "cell_type": "code",
   "execution_count": 22,
   "id": "engaging-theory",
   "metadata": {
    "execution": {
     "iopub.execute_input": "2021-03-18T08:36:45.230855Z",
     "iopub.status.busy": "2021-03-18T08:36:45.230202Z",
     "iopub.status.idle": "2021-03-18T08:36:45.234004Z",
     "shell.execute_reply": "2021-03-18T08:36:45.233355Z"
    },
    "papermill": {
     "duration": 0.0421,
     "end_time": "2021-03-18T08:36:45.234141",
     "exception": false,
     "start_time": "2021-03-18T08:36:45.192041",
     "status": "completed"
    },
    "tags": []
   },
   "outputs": [],
   "source": [
    "rename_dict = {\n",
    "    \"threat_model\": \"Threat Model\",\n",
    "    \"teacher\": \"Source\",\n",
    "    \"distillation\": \"Distillation\",\n",
    "    \"extract-label\": \"Label-Query\",\n",
    "    \"extract-logit\": \"Logit-Query\",\n",
    "    \"zero-shot\": \"Zero-Shot Learning\",\n",
    "    \"fine-tune\": \"Fine-Tuning\",\n",
    "    \"pre-act-18\": \"Diff. Architecture\",\n",
    "}\n",
    "\n",
    "# rename_dict = {\n",
    "#     \"threat_model\": \"Threat Model\",\n",
    "#     \"CIFAR10-Cat-Dog\": \"Source\",\n",
    "#     \"CIFAR10-Kaggle-Cat-Dog\": \"CIFAR10-Kaggle\",\n",
    "#     \"CIFAR10-STL10-Cat-Dog\": \"CIFAR10-STL10\",\n",
    "#     \"CIFAR10-STL10-Kaggle-Cat-Dog\": \"CIFAR10-STL10-Kaggle\",\n",
    "#     \"Kaggle-Cat-Dog\": \"Kaggle\",\n",
    "#     \"STL10-Cat-Dog\": \"STL10\",\n",
    "#     \"STL10-Kaggle-Cat-Dog\": \"STL10-Kaggle\",\n",
    "# }\n"
   ]
  },
  {
   "cell_type": "code",
   "execution_count": 23,
   "id": "junior-being",
   "metadata": {
    "execution": {
     "iopub.execute_input": "2021-03-18T08:36:45.317532Z",
     "iopub.status.busy": "2021-03-18T08:36:45.315556Z",
     "iopub.status.idle": "2021-03-18T08:36:45.347877Z",
     "shell.execute_reply": "2021-03-18T08:36:45.346973Z"
    },
    "papermill": {
     "duration": 0.069018,
     "end_time": "2021-03-18T08:36:45.348103",
     "exception": false,
     "start_time": "2021-03-18T08:36:45.279085",
     "status": "completed"
    },
    "tags": []
   },
   "outputs": [],
   "source": [
    "plot_df = (results_df.rename(columns=rename_dict).replace(rename_dict)\n",
    "           .query('(m >= 5)')\n",
    "          )"
   ]
  },
  {
   "cell_type": "code",
   "execution_count": 24,
   "id": "hourly-cloud",
   "metadata": {
    "execution": {
     "iopub.execute_input": "2021-03-18T08:36:45.426929Z",
     "iopub.status.busy": "2021-03-18T08:36:45.426505Z",
     "iopub.status.idle": "2021-03-18T08:36:45.429293Z",
     "shell.execute_reply": "2021-03-18T08:36:45.428922Z"
    },
    "papermill": {
     "duration": 0.042398,
     "end_time": "2021-03-18T08:36:45.429396",
     "exception": false,
     "start_time": "2021-03-18T08:36:45.386998",
     "status": "completed"
    },
    "tags": []
   },
   "outputs": [],
   "source": [
    "# Sizes\n",
    "SMALL_SIZE = 14\n",
    "MEDIUM_SIZE = SMALL_SIZE + 1\n",
    "BIGGER_SIZE = MEDIUM_SIZE + 1\n",
    "plt.rc('font', size=SMALL_SIZE)          # controls default text sizes\n",
    "plt.rc('axes', titlesize=SMALL_SIZE)     # fontsize of the axes title\n",
    "plt.rc('axes', labelsize=MEDIUM_SIZE)    # fontsi ze of the x and y labels\n",
    "plt.rc('xtick', labelsize=SMALL_SIZE)    # fontsize of the tick labels\n",
    "plt.rc('ytick', labelsize=SMALL_SIZE)    # fontsize of the tick labels\n",
    "plt.rc('legend', fontsize=SMALL_SIZE)    # legend fontsize\n",
    "plt.rc('figure', titlesize=BIGGER_SIZE)  # fontsize of the figure title"
   ]
  },
  {
   "cell_type": "code",
   "execution_count": 25,
   "id": "96fd2924",
   "metadata": {},
   "outputs": [],
   "source": [
    "plot_df[plot_df.index.duplicated()]\n",
    "plot_df.reset_index(inplace=True)"
   ]
  },
  {
   "cell_type": "code",
   "execution_count": 26,
   "id": "06ea85d0",
   "metadata": {},
   "outputs": [
    {
     "data": {
      "text/html": [
       "<div>\n",
       "<style scoped>\n",
       "    .dataframe tbody tr th:only-of-type {\n",
       "        vertical-align: middle;\n",
       "    }\n",
       "\n",
       "    .dataframe tbody tr th {\n",
       "        vertical-align: top;\n",
       "    }\n",
       "\n",
       "    .dataframe thead th {\n",
       "        text-align: right;\n",
       "    }\n",
       "</style>\n",
       "<table border=\"1\" class=\"dataframe\">\n",
       "  <thead>\n",
       "    <tr style=\"text-align: right;\">\n",
       "      <th></th>\n",
       "      <th>index</th>\n",
       "      <th>m</th>\n",
       "      <th>rep_no</th>\n",
       "      <th>p_value</th>\n",
       "      <th>Threat Model</th>\n",
       "    </tr>\n",
       "  </thead>\n",
       "  <tbody>\n",
       "    <tr>\n",
       "      <th>0</th>\n",
       "      <td>3</td>\n",
       "      <td>5</td>\n",
       "      <td>0</td>\n",
       "      <td>0.000405</td>\n",
       "      <td>Distillation</td>\n",
       "    </tr>\n",
       "    <tr>\n",
       "      <th>1</th>\n",
       "      <td>4</td>\n",
       "      <td>6</td>\n",
       "      <td>0</td>\n",
       "      <td>0.000225</td>\n",
       "      <td>Distillation</td>\n",
       "    </tr>\n",
       "    <tr>\n",
       "      <th>2</th>\n",
       "      <td>5</td>\n",
       "      <td>7</td>\n",
       "      <td>0</td>\n",
       "      <td>0.002955</td>\n",
       "      <td>Distillation</td>\n",
       "    </tr>\n",
       "    <tr>\n",
       "      <th>3</th>\n",
       "      <td>6</td>\n",
       "      <td>8</td>\n",
       "      <td>0</td>\n",
       "      <td>0.000041</td>\n",
       "      <td>Distillation</td>\n",
       "    </tr>\n",
       "    <tr>\n",
       "      <th>4</th>\n",
       "      <td>7</td>\n",
       "      <td>9</td>\n",
       "      <td>0</td>\n",
       "      <td>0.001510</td>\n",
       "      <td>Distillation</td>\n",
       "    </tr>\n",
       "    <tr>\n",
       "      <th>...</th>\n",
       "      <td>...</td>\n",
       "      <td>...</td>\n",
       "      <td>...</td>\n",
       "      <td>...</td>\n",
       "      <td>...</td>\n",
       "    </tr>\n",
       "    <tr>\n",
       "      <th>12795</th>\n",
       "      <td>1715</td>\n",
       "      <td>40</td>\n",
       "      <td>39</td>\n",
       "      <td>0.000078</td>\n",
       "      <td>Zero-Shot Learning</td>\n",
       "    </tr>\n",
       "    <tr>\n",
       "      <th>12796</th>\n",
       "      <td>1716</td>\n",
       "      <td>41</td>\n",
       "      <td>39</td>\n",
       "      <td>0.000036</td>\n",
       "      <td>Zero-Shot Learning</td>\n",
       "    </tr>\n",
       "    <tr>\n",
       "      <th>12797</th>\n",
       "      <td>1717</td>\n",
       "      <td>42</td>\n",
       "      <td>39</td>\n",
       "      <td>0.000051</td>\n",
       "      <td>Zero-Shot Learning</td>\n",
       "    </tr>\n",
       "    <tr>\n",
       "      <th>12798</th>\n",
       "      <td>1718</td>\n",
       "      <td>43</td>\n",
       "      <td>39</td>\n",
       "      <td>0.000043</td>\n",
       "      <td>Zero-Shot Learning</td>\n",
       "    </tr>\n",
       "    <tr>\n",
       "      <th>12799</th>\n",
       "      <td>1719</td>\n",
       "      <td>44</td>\n",
       "      <td>39</td>\n",
       "      <td>0.000032</td>\n",
       "      <td>Zero-Shot Learning</td>\n",
       "    </tr>\n",
       "  </tbody>\n",
       "</table>\n",
       "<p>12800 rows × 5 columns</p>\n",
       "</div>"
      ],
      "text/plain": [
       "       index   m  rep_no   p_value        Threat Model\n",
       "0          3   5       0  0.000405        Distillation\n",
       "1          4   6       0  0.000225        Distillation\n",
       "2          5   7       0  0.002955        Distillation\n",
       "3          6   8       0  0.000041        Distillation\n",
       "4          7   9       0  0.001510        Distillation\n",
       "...      ...  ..     ...       ...                 ...\n",
       "12795   1715  40      39  0.000078  Zero-Shot Learning\n",
       "12796   1716  41      39  0.000036  Zero-Shot Learning\n",
       "12797   1717  42      39  0.000051  Zero-Shot Learning\n",
       "12798   1718  43      39  0.000043  Zero-Shot Learning\n",
       "12799   1719  44      39  0.000032  Zero-Shot Learning\n",
       "\n",
       "[12800 rows x 5 columns]"
      ]
     },
     "execution_count": 26,
     "metadata": {},
     "output_type": "execute_result"
    }
   ],
   "source": [
    "plot_df"
   ]
  },
  {
   "cell_type": "code",
   "execution_count": 30,
   "id": "dirty-vulnerability",
   "metadata": {
    "execution": {
     "iopub.execute_input": "2021-03-18T08:36:45.522926Z",
     "iopub.status.busy": "2021-03-18T08:36:45.521769Z",
     "iopub.status.idle": "2021-03-18T08:36:52.050080Z",
     "shell.execute_reply": "2021-03-18T08:36:52.051013Z"
    },
    "papermill": {
     "duration": 6.584773,
     "end_time": "2021-03-18T08:36:52.051307",
     "exception": false,
     "start_time": "2021-03-18T08:36:45.466534",
     "status": "completed"
    },
    "tags": []
   },
   "outputs": [
    {
     "data": {
      "text/plain": [
       "<matplotlib.legend.Legend at 0x7f37f0095550>"
      ]
     },
     "execution_count": 30,
     "metadata": {},
     "output_type": "execute_result"
    },
    {
     "data": {
      "image/png": "[encoded data removed]",
      "text/plain": [
       "<Figure size 1200x450 with 1 Axes>"
      ]
     },
     "metadata": {
      "needs_background": "light"
     },
     "output_type": "display_data"
    }
   ],
   "source": [
    "fig, ax = plt.subplots(figsize=(8, 3), dpi=150)\n",
    "g = sns.lineplot(x=\"m\", y=\"p_value\", hue=\"Threat Model\", data=plot_df, ax=ax, ci=99)\n",
    "g.axhline(0.05, ls='--', color=\"black\", alpha=0.4)\n",
    "g.axhline(0.01, ls='--', color=\"black\", alpha=0.4)\n",
    "g.set_xlabel(\"Number of Sample Revealed\")\n",
    "g.set_ylabel(\"p-value\")\n",
    "# g.set_xlim([4, 55])\n",
    "# g.set_ylim([-0.01, 0.05])\n",
    "plt.legend(fontsize=8, loc=\"best\")"
   ]
  },
  {
   "cell_type": "code",
   "execution_count": 28,
   "id": "7ec719ad",
   "metadata": {},
   "outputs": [
    {
     "ename": "AssertionError",
     "evalue": "",
     "output_type": "error",
     "traceback": [
      "\u001b[0;31m---------------------------------------------------------------------------\u001b[0m",
      "\u001b[0;31mAssertionError\u001b[0m                            Traceback (most recent call last)",
      "\u001b[1;32m/data/weijing/ting-dataset-inference/notebooks/CIFAR10_rand.ipynb Cell 33'\u001b[0m in \u001b[0;36m<cell line: 1>\u001b[0;34m()\u001b[0m\n\u001b[0;32m----> <a href='vscode-notebook-cell://ssh-remote%2Bssh.jiuntian.com/data/weijing/ting-dataset-inference/notebooks/CIFAR10_rand.ipynb#ch0000032vscode-remote?line=0'>1</a>\u001b[0m \u001b[39massert\u001b[39;00m \u001b[39mFalse\u001b[39;00m\n",
      "\u001b[0;31mAssertionError\u001b[0m: "
     ]
    }
   ],
   "source": [
    "assert False"
   ]
  },
  {
   "cell_type": "markdown",
   "id": "amino-microphone",
   "metadata": {
    "papermill": {
     "duration": 0.043815,
     "end_time": "2021-03-18T08:36:52.146504",
     "exception": false,
     "start_time": "2021-03-18T08:36:52.102689",
     "status": "completed"
    },
    "tags": []
   },
   "source": [
    "# Table"
   ]
  },
  {
   "cell_type": "code",
   "execution_count": null,
   "id": "opposed-inquiry",
   "metadata": {
    "execution": {
     "iopub.execute_input": "2021-03-18T08:36:52.238271Z",
     "iopub.status.busy": "2021-03-18T08:36:52.237724Z",
     "iopub.status.idle": "2021-03-18T08:36:52.652089Z",
     "shell.execute_reply": "2021-03-18T08:36:52.651089Z"
    },
    "papermill": {
     "duration": 0.461809,
     "end_time": "2021-03-18T08:36:52.652335",
     "exception": false,
     "start_time": "2021-03-18T08:36:52.190526",
     "status": "completed"
    },
    "tags": []
   },
   "outputs": [
    {
     "data": {
      "application/vnd.jupyter.widget-view+json": {
       "model_id": "8efd761f3cc3494db97b43cd65ef44be",
       "version_major": 2,
       "version_minor": 0
      },
      "text/plain": [
       "  0%|          | 0/8 [00:00<?, ?it/s]"
      ]
     },
     "metadata": {},
     "output_type": "display_data"
    }
   ],
   "source": [
    "from utils import generate_table\n",
    "tab = generate_table(selected_m=10, outputs_te=outputs_te, outputs_tr=outputs_tr, names=names)"
   ]
  },
  {
   "cell_type": "code",
   "execution_count": null,
   "id": "dedicated-proceeding",
   "metadata": {
    "execution": {
     "iopub.execute_input": "2021-03-18T08:36:52.754289Z",
     "iopub.status.busy": "2021-03-18T08:36:52.753723Z",
     "iopub.status.idle": "2021-03-18T08:36:52.758141Z",
     "shell.execute_reply": "2021-03-18T08:36:52.757468Z"
    },
    "papermill": {
     "duration": 0.056531,
     "end_time": "2021-03-18T08:36:52.758301",
     "exception": false,
     "start_time": "2021-03-18T08:36:52.701770",
     "status": "completed"
    },
    "tags": []
   },
   "outputs": [
    {
     "name": "stdout",
     "output_type": "stream",
     "text": [
      "               mean_diff  p_value\n",
      "teacher            1.823    0.000\n",
      "distillation       0.778    0.000\n",
      "pre-act-18         1.400    0.000\n",
      "zero-shot          0.406    0.010\n",
      "fine-tune          1.839    0.000\n",
      "extract-label      1.006    0.001\n",
      "extract-logit      1.048    0.000\n",
      "independent       -0.397    0.675\n"
     ]
    }
   ],
   "source": [
    "with pd.option_context(\"display.float_format\", lambda x: f\"{x: 0.3f}\"):\n",
    "    print(tab)"
   ]
  },
  {
   "cell_type": "code",
   "execution_count": null,
   "id": "excess-plane",
   "metadata": {
    "execution": {
     "iopub.execute_input": "2021-03-18T08:36:52.862810Z",
     "iopub.status.busy": "2021-03-18T08:36:52.859510Z",
     "iopub.status.idle": "2021-03-18T08:36:52.867613Z",
     "shell.execute_reply": "2021-03-18T08:36:52.866874Z"
    },
    "papermill": {
     "duration": 0.059965,
     "end_time": "2021-03-18T08:36:52.867811",
     "exception": false,
     "start_time": "2021-03-18T08:36:52.807846",
     "status": "completed"
    },
    "tags": []
   },
   "outputs": [
    {
     "name": "stdout",
     "output_type": "stream",
     "text": [
      "\\begin{tabular}{lrr}\n",
      "\\toprule\n",
      "{} & mean_diff &    p_value \\\\\n",
      "\\midrule\n",
      "teacher       &     1.823 & $10^{-42}$ \\\\\n",
      "distillation  &     0.778 & $10^{-05}$ \\\\\n",
      "pre-act-18    &     1.400 & $10^{-10}$ \\\\\n",
      "zero-shot     &     0.406 & $10^{-02}$ \\\\\n",
      "fine-tune     &     1.839 & $10^{-27}$ \\\\\n",
      "extract-label &     1.006 & $10^{-04}$ \\\\\n",
      "extract-logit &     1.048 & $10^{-04}$ \\\\\n",
      "independent   &    -0.397 & $10^{-01}$ \\\\\n",
      "\\bottomrule\n",
      "\\end{tabular}\n",
      "\n"
     ]
    }
   ],
   "source": [
    "with pd.option_context(\"display.float_format\", lambda x: f\"{x: 0.3f}\"):\n",
    "    print(tab.to_latex(formatters=dict(mean_diff=\"{:0.3f}\".format, p_value=lambda x: \"$10^{\"+f\"{x:0.0E}\"[2:]+\"}$\"), escape=False))"
   ]
  }
 ],
 "metadata": {
  "celltoolbar": "Tags",
  "interpreter": {
   "hash": "01ff145a580a012fbee101d68df8ff40de9b5a3386bbca8e9b7074444281a989"
  },
  "kernelspec": {
   "display_name": "Python 3",
   "language": "python",
   "name": "python3"
  },
  "papermill": {
   "default_parameters": {},
   "duration": 16.047338,
   "end_time": "2021-03-18T08:36:53.528678",
   "environment_variables": {},
   "exception": null,
   "input_path": "./template.ipynb",
   "output_path": "./notebooks/CIFAR10_rand.ipynb",
   "parameters": {
    "dataset": "CIFAR10",
    "params_path": "/home/mohammad/transferability/src",
    "root_path": "/home/mohammad/transferability/files",
    "split_index": 500,
    "v_type": "rand"
   },
   "start_time": "2021-03-18T08:36:37.481340",
   "version": "2.3.3"
  },
  "widgets": {
   "application/vnd.jupyter.widget-state+json": {
    "state": {
     "138765c663484a9f8b11628725703bd6": {
      "model_module": "@jupyter-widgets/controls",
      "model_module_version": "1.5.0",
      "model_name": "DescriptionStyleModel",
      "state": {
       "_model_module": "@jupyter-widgets/controls",
       "_model_module_version": "1.5.0",
       "_model_name": "DescriptionStyleModel",
       "_view_count": null,
       "_view_module": "@jupyter-widgets/base",
       "_view_module_version": "1.2.0",
       "_view_name": "StyleView",
       "description_width": ""
      }
     },
     "205e0cc02f6c485c8b02e3c5027cb7dd": {
      "model_module": "@jupyter-widgets/base",
      "model_module_version": "1.2.0",
      "model_name": "LayoutModel",
      "state": {
       "_model_module": "@jupyter-widgets/base",
       "_model_module_version": "1.2.0",
       "_model_name": "LayoutModel",
       "_view_count": null,
       "_view_module": "@jupyter-widgets/base",
       "_view_module_version": "1.2.0",
       "_view_name": "LayoutView",
       "align_content": null,
       "align_items": null,
       "align_self": null,
       "border": null,
       "bottom": null,
       "display": null,
       "flex": null,
       "flex_flow": null,
       "grid_area": null,
       "grid_auto_columns": null,
       "grid_auto_flow": null,
       "grid_auto_rows": null,
       "grid_column": null,
       "grid_gap": null,
       "grid_row": null,
       "grid_template_areas": null,
       "grid_template_columns": null,
       "grid_template_rows": null,
       "height": null,
       "justify_content": null,
       "justify_items": null,
       "left": null,
       "margin": null,
       "max_height": null,
       "max_width": null,
       "min_height": null,
       "min_width": null,
       "object_fit": null,
       "object_position": null,
       "order": null,
       "overflow": null,
       "overflow_x": null,
       "overflow_y": null,
       "padding": null,
       "right": null,
       "top": null,
       "visibility": null,
       "width": null
      }
     },
     "354e0b6f2d6e4a4fbd18d58d1bb47b12": {
      "model_module": "@jupyter-widgets/controls",
      "model_module_version": "1.5.0",
      "model_name": "DescriptionStyleModel",
      "state": {
       "_model_module": "@jupyter-widgets/controls",
       "_model_module_version": "1.5.0",
       "_model_name": "DescriptionStyleModel",
       "_view_count": null,
       "_view_module": "@jupyter-widgets/base",
       "_view_module_version": "1.2.0",
       "_view_name": "StyleView",
       "description_width": ""
      }
     },
     "359ff83506a74b5fb7e8531665873108": {
      "model_module": "@jupyter-widgets/controls",
      "model_module_version": "1.5.0",
      "model_name": "ProgressStyleModel",
      "state": {
       "_model_module": "@jupyter-widgets/controls",
       "_model_module_version": "1.5.0",
       "_model_name": "ProgressStyleModel",
       "_view_count": null,
       "_view_module": "@jupyter-widgets/base",
       "_view_module_version": "1.2.0",
       "_view_name": "StyleView",
       "bar_color": null,
       "description_width": ""
      }
     },
     "3bdcc7e77cd94159a77df305c6e1f334": {
      "model_module": "@jupyter-widgets/controls",
      "model_module_version": "1.5.0",
      "model_name": "HTMLModel",
      "state": {
       "_dom_classes": [],
       "_model_module": "@jupyter-widgets/controls",
       "_model_module_version": "1.5.0",
       "_model_name": "HTMLModel",
       "_view_count": null,
       "_view_module": "@jupyter-widgets/controls",
       "_view_module_version": "1.5.0",
       "_view_name": "HTMLView",
       "description": "",
       "description_tooltip": null,
       "layout": "IPY_MODEL_b766d8cb1ab644568d0820406e8672cb",
       "placeholder": "​",
       "style": "IPY_MODEL_354e0b6f2d6e4a4fbd18d58d1bb47b12",
       "value": " 88%"
      }
     },
     "52cd73dc50f34b1190f094ead421208d": {
      "model_module": "@jupyter-widgets/base",
      "model_module_version": "1.2.0",
      "model_name": "LayoutModel",
      "state": {
       "_model_module": "@jupyter-widgets/base",
       "_model_module_version": "1.2.0",
       "_model_name": "LayoutModel",
       "_view_count": null,
       "_view_module": "@jupyter-widgets/base",
       "_view_module_version": "1.2.0",
       "_view_name": "LayoutView",
       "align_content": null,
       "align_items": null,
       "align_self": null,
       "border": null,
       "bottom": null,
       "display": null,
       "flex": null,
       "flex_flow": null,
       "grid_area": null,
       "grid_auto_columns": null,
       "grid_auto_flow": null,
       "grid_auto_rows": null,
       "grid_column": null,
       "grid_gap": null,
       "grid_row": null,
       "grid_template_areas": null,
       "grid_template_columns": null,
       "grid_template_rows": null,
       "height": null,
       "justify_content": null,
       "justify_items": null,
       "left": null,
       "margin": null,
       "max_height": null,
       "max_width": null,
       "min_height": null,
       "min_width": null,
       "object_fit": null,
       "object_position": null,
       "order": null,
       "overflow": null,
       "overflow_x": null,
       "overflow_y": null,
       "padding": null,
       "right": null,
       "top": null,
       "visibility": null,
       "width": null
      }
     },
     "5cdcd16ae7284e4983a61efb20136633": {
      "model_module": "@jupyter-widgets/controls",
      "model_module_version": "1.5.0",
      "model_name": "DescriptionStyleModel",
      "state": {
       "_model_module": "@jupyter-widgets/controls",
       "_model_module_version": "1.5.0",
       "_model_name": "DescriptionStyleModel",
       "_view_count": null,
       "_view_module": "@jupyter-widgets/base",
       "_view_module_version": "1.2.0",
       "_view_name": "StyleView",
       "description_width": ""
      }
     },
     "5de88f05fe804323a25314b8e48504ea": {
      "model_module": "@jupyter-widgets/controls",
      "model_module_version": "1.5.0",
      "model_name": "FloatProgressModel",
      "state": {
       "_dom_classes": [],
       "_model_module": "@jupyter-widgets/controls",
       "_model_module_version": "1.5.0",
       "_model_name": "FloatProgressModel",
       "_view_count": null,
       "_view_module": "@jupyter-widgets/controls",
       "_view_module_version": "1.5.0",
       "_view_name": "ProgressView",
       "bar_style": "",
       "description": "",
       "description_tooltip": null,
       "layout": "IPY_MODEL_d0223fc2c4234a558af183971bf7a61d",
       "max": 8,
       "min": 0,
       "orientation": "horizontal",
       "style": "IPY_MODEL_c4b7afd59e0e48d7be37a5aea3085e64",
       "value": 8
      }
     },
     "62490874a7984cc3befa129f09af0978": {
      "model_module": "@jupyter-widgets/base",
      "model_module_version": "1.2.0",
      "model_name": "LayoutModel",
      "state": {
       "_model_module": "@jupyter-widgets/base",
       "_model_module_version": "1.2.0",
       "_model_name": "LayoutModel",
       "_view_count": null,
       "_view_module": "@jupyter-widgets/base",
       "_view_module_version": "1.2.0",
       "_view_name": "LayoutView",
       "align_content": null,
       "align_items": null,
       "align_self": null,
       "border": null,
       "bottom": null,
       "display": null,
       "flex": null,
       "flex_flow": null,
       "grid_area": null,
       "grid_auto_columns": null,
       "grid_auto_flow": null,
       "grid_auto_rows": null,
       "grid_column": null,
       "grid_gap": null,
       "grid_row": null,
       "grid_template_areas": null,
       "grid_template_columns": null,
       "grid_template_rows": null,
       "height": null,
       "justify_content": null,
       "justify_items": null,
       "left": null,
       "margin": null,
       "max_height": null,
       "max_width": null,
       "min_height": null,
       "min_width": null,
       "object_fit": null,
       "object_position": null,
       "order": null,
       "overflow": null,
       "overflow_x": null,
       "overflow_y": null,
       "padding": null,
       "right": null,
       "top": null,
       "visibility": null,
       "width": null
      }
     },
     "6c0cda51fef14302ab2987b1f5c8b15d": {
      "model_module": "@jupyter-widgets/base",
      "model_module_version": "1.2.0",
      "model_name": "LayoutModel",
      "state": {
       "_model_module": "@jupyter-widgets/base",
       "_model_module_version": "1.2.0",
       "_model_name": "LayoutModel",
       "_view_count": null,
       "_view_module": "@jupyter-widgets/base",
       "_view_module_version": "1.2.0",
       "_view_name": "LayoutView",
       "align_content": null,
       "align_items": null,
       "align_self": null,
       "border": null,
       "bottom": null,
       "display": null,
       "flex": null,
       "flex_flow": null,
       "grid_area": null,
       "grid_auto_columns": null,
       "grid_auto_flow": null,
       "grid_auto_rows": null,
       "grid_column": null,
       "grid_gap": null,
       "grid_row": null,
       "grid_template_areas": null,
       "grid_template_columns": null,
       "grid_template_rows": null,
       "height": null,
       "justify_content": null,
       "justify_items": null,
       "left": null,
       "margin": null,
       "max_height": null,
       "max_width": null,
       "min_height": null,
       "min_width": null,
       "object_fit": null,
       "object_position": null,
       "order": null,
       "overflow": null,
       "overflow_x": null,
       "overflow_y": null,
       "padding": null,
       "right": null,
       "top": null,
       "visibility": null,
       "width": null
      }
     },
     "720b46f8d61c4f5bb485fa147e017c32": {
      "model_module": "@jupyter-widgets/controls",
      "model_module_version": "1.5.0",
      "model_name": "FloatProgressModel",
      "state": {
       "_dom_classes": [],
       "_model_module": "@jupyter-widgets/controls",
       "_model_module_version": "1.5.0",
       "_model_name": "FloatProgressModel",
       "_view_count": null,
       "_view_module": "@jupyter-widgets/controls",
       "_view_module_version": "1.5.0",
       "_view_name": "ProgressView",
       "bar_style": "success",
       "description": "",
       "description_tooltip": null,
       "layout": "IPY_MODEL_b607e7056161477fa83dc511712a7312",
       "max": 1000,
       "min": 0,
       "orientation": "horizontal",
       "style": "IPY_MODEL_359ff83506a74b5fb7e8531665873108",
       "value": 1000
      }
     },
     "8efd761f3cc3494db97b43cd65ef44be": {
      "model_module": "@jupyter-widgets/controls",
      "model_module_version": "1.5.0",
      "model_name": "HBoxModel",
      "state": {
       "_dom_classes": [],
       "_model_module": "@jupyter-widgets/controls",
       "_model_module_version": "1.5.0",
       "_model_name": "HBoxModel",
       "_view_count": null,
       "_view_module": "@jupyter-widgets/controls",
       "_view_module_version": "1.5.0",
       "_view_name": "HBoxView",
       "box_style": "",
       "children": [
        "IPY_MODEL_3bdcc7e77cd94159a77df305c6e1f334",
        "IPY_MODEL_5de88f05fe804323a25314b8e48504ea",
        "IPY_MODEL_97c5e61f5fbe47a184d462ea604c17c9"
       ],
       "layout": "IPY_MODEL_205e0cc02f6c485c8b02e3c5027cb7dd"
      }
     },
     "97c5e61f5fbe47a184d462ea604c17c9": {
      "model_module": "@jupyter-widgets/controls",
      "model_module_version": "1.5.0",
      "model_name": "HTMLModel",
      "state": {
       "_dom_classes": [],
       "_model_module": "@jupyter-widgets/controls",
       "_model_module_version": "1.5.0",
       "_model_name": "HTMLModel",
       "_view_count": null,
       "_view_module": "@jupyter-widgets/controls",
       "_view_module_version": "1.5.0",
       "_view_name": "HTMLView",
       "description": "",
       "description_tooltip": null,
       "layout": "IPY_MODEL_b323d76b6e40454a8e5fb81853342bd5",
       "placeholder": "​",
       "style": "IPY_MODEL_5cdcd16ae7284e4983a61efb20136633",
       "value": " 7/8 [00:00&lt;00:00, 20.44it/s]"
      }
     },
     "9c52f9d78dce425085777c8098843c1a": {
      "model_module": "@jupyter-widgets/controls",
      "model_module_version": "1.5.0",
      "model_name": "DescriptionStyleModel",
      "state": {
       "_model_module": "@jupyter-widgets/controls",
       "_model_module_version": "1.5.0",
       "_model_name": "DescriptionStyleModel",
       "_view_count": null,
       "_view_module": "@jupyter-widgets/base",
       "_view_module_version": "1.2.0",
       "_view_name": "StyleView",
       "description_width": ""
      }
     },
     "b323d76b6e40454a8e5fb81853342bd5": {
      "model_module": "@jupyter-widgets/base",
      "model_module_version": "1.2.0",
      "model_name": "LayoutModel",
      "state": {
       "_model_module": "@jupyter-widgets/base",
       "_model_module_version": "1.2.0",
       "_model_name": "LayoutModel",
       "_view_count": null,
       "_view_module": "@jupyter-widgets/base",
       "_view_module_version": "1.2.0",
       "_view_name": "LayoutView",
       "align_content": null,
       "align_items": null,
       "align_self": null,
       "border": null,
       "bottom": null,
       "display": null,
       "flex": null,
       "flex_flow": null,
       "grid_area": null,
       "grid_auto_columns": null,
       "grid_auto_flow": null,
       "grid_auto_rows": null,
       "grid_column": null,
       "grid_gap": null,
       "grid_row": null,
       "grid_template_areas": null,
       "grid_template_columns": null,
       "grid_template_rows": null,
       "height": null,
       "justify_content": null,
       "justify_items": null,
       "left": null,
       "margin": null,
       "max_height": null,
       "max_width": null,
       "min_height": null,
       "min_width": null,
       "object_fit": null,
       "object_position": null,
       "order": null,
       "overflow": null,
       "overflow_x": null,
       "overflow_y": null,
       "padding": null,
       "right": null,
       "top": null,
       "visibility": null,
       "width": null
      }
     },
     "b607e7056161477fa83dc511712a7312": {
      "model_module": "@jupyter-widgets/base",
      "model_module_version": "1.2.0",
      "model_name": "LayoutModel",
      "state": {
       "_model_module": "@jupyter-widgets/base",
       "_model_module_version": "1.2.0",
       "_model_name": "LayoutModel",
       "_view_count": null,
       "_view_module": "@jupyter-widgets/base",
       "_view_module_version": "1.2.0",
       "_view_name": "LayoutView",
       "align_content": null,
       "align_items": null,
       "align_self": null,
       "border": null,
       "bottom": null,
       "display": null,
       "flex": null,
       "flex_flow": null,
       "grid_area": null,
       "grid_auto_columns": null,
       "grid_auto_flow": null,
       "grid_auto_rows": null,
       "grid_column": null,
       "grid_gap": null,
       "grid_row": null,
       "grid_template_areas": null,
       "grid_template_columns": null,
       "grid_template_rows": null,
       "height": null,
       "justify_content": null,
       "justify_items": null,
       "left": null,
       "margin": null,
       "max_height": null,
       "max_width": null,
       "min_height": null,
       "min_width": null,
       "object_fit": null,
       "object_position": null,
       "order": null,
       "overflow": null,
       "overflow_x": null,
       "overflow_y": null,
       "padding": null,
       "right": null,
       "top": null,
       "visibility": null,
       "width": null
      }
     },
     "b766d8cb1ab644568d0820406e8672cb": {
      "model_module": "@jupyter-widgets/base",
      "model_module_version": "1.2.0",
      "model_name": "LayoutModel",
      "state": {
       "_model_module": "@jupyter-widgets/base",
       "_model_module_version": "1.2.0",
       "_model_name": "LayoutModel",
       "_view_count": null,
       "_view_module": "@jupyter-widgets/base",
       "_view_module_version": "1.2.0",
       "_view_name": "LayoutView",
       "align_content": null,
       "align_items": null,
       "align_self": null,
       "border": null,
       "bottom": null,
       "display": null,
       "flex": null,
       "flex_flow": null,
       "grid_area": null,
       "grid_auto_columns": null,
       "grid_auto_flow": null,
       "grid_auto_rows": null,
       "grid_column": null,
       "grid_gap": null,
       "grid_row": null,
       "grid_template_areas": null,
       "grid_template_columns": null,
       "grid_template_rows": null,
       "height": null,
       "justify_content": null,
       "justify_items": null,
       "left": null,
       "margin": null,
       "max_height": null,
       "max_width": null,
       "min_height": null,
       "min_width": null,
       "object_fit": null,
       "object_position": null,
       "order": null,
       "overflow": null,
       "overflow_x": null,
       "overflow_y": null,
       "padding": null,
       "right": null,
       "top": null,
       "visibility": null,
       "width": null
      }
     },
     "c4b7afd59e0e48d7be37a5aea3085e64": {
      "model_module": "@jupyter-widgets/controls",
      "model_module_version": "1.5.0",
      "model_name": "ProgressStyleModel",
      "state": {
       "_model_module": "@jupyter-widgets/controls",
       "_model_module_version": "1.5.0",
       "_model_name": "ProgressStyleModel",
       "_view_count": null,
       "_view_module": "@jupyter-widgets/base",
       "_view_module_version": "1.2.0",
       "_view_name": "StyleView",
       "bar_color": null,
       "description_width": ""
      }
     },
     "d0223fc2c4234a558af183971bf7a61d": {
      "model_module": "@jupyter-widgets/base",
      "model_module_version": "1.2.0",
      "model_name": "LayoutModel",
      "state": {
       "_model_module": "@jupyter-widgets/base",
       "_model_module_version": "1.2.0",
       "_model_name": "LayoutModel",
       "_view_count": null,
       "_view_module": "@jupyter-widgets/base",
       "_view_module_version": "1.2.0",
       "_view_name": "LayoutView",
       "align_content": null,
       "align_items": null,
       "align_self": null,
       "border": null,
       "bottom": null,
       "display": null,
       "flex": null,
       "flex_flow": null,
       "grid_area": null,
       "grid_auto_columns": null,
       "grid_auto_flow": null,
       "grid_auto_rows": null,
       "grid_column": null,
       "grid_gap": null,
       "grid_row": null,
       "grid_template_areas": null,
       "grid_template_columns": null,
       "grid_template_rows": null,
       "height": null,
       "justify_content": null,
       "justify_items": null,
       "left": null,
       "margin": null,
       "max_height": null,
       "max_width": null,
       "min_height": null,
       "min_width": null,
       "object_fit": null,
       "object_position": null,
       "order": null,
       "overflow": null,
       "overflow_x": null,
       "overflow_y": null,
       "padding": null,
       "right": null,
       "top": null,
       "visibility": null,
       "width": null
      }
     },
     "d6cbfa593dfe483bad4704892cb027e3": {
      "model_module": "@jupyter-widgets/controls",
      "model_module_version": "1.5.0",
      "model_name": "HTMLModel",
      "state": {
       "_dom_classes": [],
       "_model_module": "@jupyter-widgets/controls",
       "_model_module_version": "1.5.0",
       "_model_name": "HTMLModel",
       "_view_count": null,
       "_view_module": "@jupyter-widgets/controls",
       "_view_module_version": "1.5.0",
       "_view_name": "HTMLView",
       "description": "",
       "description_tooltip": null,
       "layout": "IPY_MODEL_62490874a7984cc3befa129f09af0978",
       "placeholder": "​",
       "style": "IPY_MODEL_138765c663484a9f8b11628725703bd6",
       "value": "loss -0.9787755608558655: 100%"
      }
     },
     "d6f7522ff6dd4a12b875da6c83411425": {
      "model_module": "@jupyter-widgets/controls",
      "model_module_version": "1.5.0",
      "model_name": "HBoxModel",
      "state": {
       "_dom_classes": [],
       "_model_module": "@jupyter-widgets/controls",
       "_model_module_version": "1.5.0",
       "_model_name": "HBoxModel",
       "_view_count": null,
       "_view_module": "@jupyter-widgets/controls",
       "_view_module_version": "1.5.0",
       "_view_name": "HBoxView",
       "box_style": "",
       "children": [
        "IPY_MODEL_d6cbfa593dfe483bad4704892cb027e3",
        "IPY_MODEL_720b46f8d61c4f5bb485fa147e017c32",
        "IPY_MODEL_fdbbf7c8123a4622ab34a8a92cfa495c"
       ],
       "layout": "IPY_MODEL_6c0cda51fef14302ab2987b1f5c8b15d"
      }
     },
     "fdbbf7c8123a4622ab34a8a92cfa495c": {
      "model_module": "@jupyter-widgets/controls",
      "model_module_version": "1.5.0",
      "model_name": "HTMLModel",
      "state": {
       "_dom_classes": [],
       "_model_module": "@jupyter-widgets/controls",
       "_model_module_version": "1.5.0",
       "_model_name": "HTMLModel",
       "_view_count": null,
       "_view_module": "@jupyter-widgets/controls",
       "_view_module_version": "1.5.0",
       "_view_name": "HTMLView",
       "description": "",
       "description_tooltip": null,
       "layout": "IPY_MODEL_52cd73dc50f34b1190f094ead421208d",
       "placeholder": "​",
       "style": "IPY_MODEL_9c52f9d78dce425085777c8098843c1a",
       "value": " 1000/1000 [00:03&lt;00:00, 342.97it/s]"
      }
     }
    },
    "version_major": 2,
    "version_minor": 0
   }
  }
 },
 "nbformat": 4,
 "nbformat_minor": 5
}
