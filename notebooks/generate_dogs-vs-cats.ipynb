{
 "cells": [
  {
   "cell_type": "code",
   "execution_count": 14,
   "metadata": {},
   "outputs": [],
   "source": [
    "import os\n",
    "import shutil\n",
    "from pathlib import Path\n"
   ]
  },
  {
   "cell_type": "code",
   "execution_count": 4,
   "metadata": {},
   "outputs": [
    {
     "name": "stdout",
     "output_type": "stream",
     "text": [
      "/home/ting/Private-Projects/ting-dataset-inference\n"
     ]
    }
   ],
   "source": [
    "print(Path.cwd().parent)"
   ]
  },
  {
   "cell_type": "code",
   "execution_count": 8,
   "metadata": {},
   "outputs": [],
   "source": [
    "DATASET_PARENT_DIR_PATH = Path.cwd().parent / \"_dataset\"\n",
    "RAW_DVC_TRAIN_DIR_PATH = DATASET_PARENT_DIR_PATH / \"raw_dogs-vs-cats\" / \"train\"\n",
    "DVC_TRAIN_DIR_PATH = DATASET_PARENT_DIR_PATH / \"dogs-vs-cats\" / \"train\"\n",
    "DVC_TRAIN_CAT_DIR_PATH = DATASET_PARENT_DIR_PATH / \"dogs-vs-cats\" / \"train\" / \"cat\"\n",
    "DVC_TRAIN_DOG_DIR_PATH = DATASET_PARENT_DIR_PATH / \"dogs-vs-cats\" / \"train\" / \"dog\"\n",
    "\n",
    "DVC_TRAIN_CAT_DIR_PATH.mkdir(parents=True, exist_ok=True)\n",
    "DVC_TRAIN_DOG_DIR_PATH.mkdir(parents=True, exist_ok=True)\n"
   ]
  },
  {
   "cell_type": "code",
   "execution_count": 11,
   "metadata": {},
   "outputs": [
    {
     "name": "stdout",
     "output_type": "stream",
     "text": [
      "num cat: 12500\n",
      "num dog: 12500\n"
     ]
    }
   ],
   "source": [
    "# check images\n",
    "cat_img_paths = []\n",
    "dog_img_paths = []\n",
    "\n",
    "for path in RAW_DVC_TRAIN_DIR_PATH.iterdir():\n",
    "    if path.is_file():\n",
    "        class_name = path.name.split(\".\")[0]\n",
    "        if class_name == \"cat\":\n",
    "            cat_img_paths.append(path)\n",
    "        elif class_name == \"dog\":\n",
    "            dog_img_paths.append(path)\n",
    "\n",
    "print(f\"num cat: {len(cat_img_paths)}\")\n",
    "print(f\"num dog: {len(dog_img_paths)}\")"
   ]
  },
  {
   "cell_type": "code",
   "execution_count": 13,
   "metadata": {},
   "outputs": [
    {
     "name": "stdout",
     "output_type": "stream",
     "text": [
      "<class 'str'>\n"
     ]
    }
   ],
   "source": [
    "print(cat_img_paths[0].name)"
   ]
  },
  {
   "cell_type": "code",
   "execution_count": 16,
   "metadata": {},
   "outputs": [],
   "source": [
    "for img_path in cat_img_paths:\n",
    "    shutil.copy2(\n",
    "        src=img_path,\n",
    "        dst=DVC_TRAIN_CAT_DIR_PATH\n",
    "    )\n",
    "\n",
    "for img_path in dog_img_paths:\n",
    "    shutil.copy2(\n",
    "        src=img_path,\n",
    "        dst=DVC_TRAIN_DOG_DIR_PATH\n",
    "    )\n"
   ]
  }
 ],
 "metadata": {
  "kernelspec": {
   "display_name": "Python 3.8.10 ('venv': venv)",
   "language": "python",
   "name": "python3"
  },
  "language_info": {
   "codemirror_mode": {
    "name": "ipython",
    "version": 3
   },
   "file_extension": ".py",
   "mimetype": "text/x-python",
   "name": "python",
   "nbconvert_exporter": "python",
   "pygments_lexer": "ipython3",
   "version": "3.8.10"
  },
  "orig_nbformat": 4,
  "vscode": {
   "interpreter": {
    "hash": "db362f2c3cfa80dbffef211752d773260a6749b73e22d28ec8766f3706503311"
   }
  }
 },
 "nbformat": 4,
 "nbformat_minor": 2
}
