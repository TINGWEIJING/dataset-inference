{
 "cells": [
  {
   "cell_type": "code",
   "execution_count": 1,
   "metadata": {},
   "outputs": [],
   "source": [
    "import numpy as np\n",
    "from numpy import linalg as LA"
   ]
  },
  {
   "cell_type": "code",
   "execution_count": 2,
   "metadata": {},
   "outputs": [],
   "source": [
    "cifar10_mean = np.array((0.4914, 0.4822, 0.4465))\n",
    "cifar10_std = np.array((0.2471, 0.2435, 0.2616))"
   ]
  },
  {
   "cell_type": "code",
   "execution_count": 3,
   "metadata": {},
   "outputs": [
    {
     "name": "stdout",
     "output_type": "stream",
     "text": [
      "0.8205809222739705\n"
     ]
    }
   ],
   "source": [
    "print(LA.norm(cifar10_mean, 2))"
   ]
  },
  {
   "cell_type": "markdown",
   "metadata": {},
   "source": [
    "Mean:\n",
    "- +-0.1\n",
    "- +-0.2\n",
    "- +-0.3\n",
    "\n",
    "Direction:\n",
    "- ++-\n",
    "- +-+\n",
    "- -++\n",
    "\n",
    "Std:\n",
    "- +0.1\n",
    "- +0.05\n",
    "- +0.025\n",
    "- -0.1\n",
    "- -0.05\n",
    "- -0.025"
   ]
  },
  {
   "cell_type": "code",
   "execution_count": 4,
   "metadata": {},
   "outputs": [
    {
     "name": "stdout",
     "output_type": "stream",
     "text": [
      "[[0.774 0.439 0.859]\n",
      " [0.697 0.094 0.976]\n",
      " [0.761 0.786 0.128]\n",
      " [0.45  0.371 0.927]\n",
      " [0.644 0.823 0.443]\n",
      " [0.227 0.555 0.064]]\n"
     ]
    }
   ],
   "source": [
    "rng = np.random.default_rng(seed=42)\n",
    "rnd_mean_list = np.round(rng.random((6, 3)), decimals=3)\n",
    "print(rnd_mean_list)"
   ]
  },
  {
   "cell_type": "code",
   "execution_count": 5,
   "metadata": {},
   "outputs": [
    {
     "name": "stdout",
     "output_type": "stream",
     "text": [
      "[0.3471 0.3435 0.3616]\n",
      "[0.2971 0.2935 0.3116]\n",
      "[0.2721 0.2685 0.2866]\n",
      "[0.1471 0.1435 0.1616]\n",
      "[0.1971 0.1935 0.2116]\n",
      "[0.2221 0.2185 0.2366]\n"
     ]
    }
   ],
   "source": [
    "print(cifar10_std + 0.1)\n",
    "print(cifar10_std + 0.05)\n",
    "print(cifar10_std + 0.025)\n",
    "print(cifar10_std - 0.1)\n",
    "print(cifar10_std - 0.05)\n",
    "print(cifar10_std - 0.025)"
   ]
  },
  {
   "cell_type": "code",
   "execution_count": 6,
   "metadata": {},
   "outputs": [
    {
     "name": "stdout",
     "output_type": "stream",
     "text": [
      "[0.62580777 0.35494782 0.69453343]\n",
      "0.9999999999999999\n"
     ]
    }
   ],
   "source": [
    "unit_vec = rnd_mean_list[0] / LA.norm(rnd_mean_list[0], 2)\n",
    "print(unit_vec)\n",
    "print(LA.norm(unit_vec))"
   ]
  },
  {
   "cell_type": "code",
   "execution_count": 7,
   "metadata": {},
   "outputs": [
    {
     "name": "stdout",
     "output_type": "stream",
     "text": [
      "0.5018817091705973\n",
      "0.6879977107520053\n",
      "0.5161597136546012\n",
      "0.494933985497056\n",
      "0.3734215446382278\n",
      "0.47065215393111715\n"
     ]
    }
   ],
   "source": [
    "for i in range(rnd_mean_list.shape[0]):\n",
    "    print(LA.norm(rnd_mean_list[i] - cifar10_mean, 2))"
   ]
  },
  {
   "cell_type": "code",
   "execution_count": 8,
   "metadata": {},
   "outputs": [
    {
     "name": "stdout",
     "output_type": "stream",
     "text": [
      "1_2_3\n"
     ]
    }
   ],
   "source": [
    "print(str([1, 2, 3]).replace(' ', '').replace(',', '_')[1:-1])"
   ]
  }
 ],
 "metadata": {
  "kernelspec": {
   "display_name": "Python 3.8.12 ('DIenv')",
   "language": "python",
   "name": "python3"
  },
  "language_info": {
   "codemirror_mode": {
    "name": "ipython",
    "version": 3
   },
   "file_extension": ".py",
   "mimetype": "text/x-python",
   "name": "python",
   "nbconvert_exporter": "python",
   "pygments_lexer": "ipython3",
   "version": "3.8.12 (default, Oct 12 2021, 13:49:34) \n[GCC 7.5.0]"
  },
  "orig_nbformat": 4,
  "vscode": {
   "interpreter": {
    "hash": "01ff145a580a012fbee101d68df8ff40de9b5a3386bbca8e9b7074444281a989"
   }
  }
 },
 "nbformat": 4,
 "nbformat_minor": 2
}
