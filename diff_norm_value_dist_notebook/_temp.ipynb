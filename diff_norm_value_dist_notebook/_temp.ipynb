{
 "cells": [
  {
   "cell_type": "code",
   "execution_count": 1,
   "metadata": {},
   "outputs": [],
   "source": [
    "from pathlib import Path"
   ]
  },
  {
   "cell_type": "code",
   "execution_count": 2,
   "metadata": {},
   "outputs": [
    {
     "name": "stdout",
     "output_type": "stream",
     "text": [
      "model__mean_-0.631_-0.648_0.624\n",
      "model__mean_-0.631_-0.97_-0.058\n",
      "model__mean_-0.668_-0.004_0.165\n",
      "model__mean_0.26_0.855_-0.536\n",
      "model__mean_0.365_-0.892_-0.559\n",
      "model__mean_0.456_0.837_0.251\n",
      "model__mean_0.598_0.036_-0.537\n",
      "model__mean_0.648_-0.572_0.483\n",
      "model__mean_0.78_0.026_-0.51\n",
      "model__mean_0.847_-0.447_0.64\n"
     ]
    }
   ],
   "source": [
    "\n",
    "\n",
    "target_dir_path = Path.cwd().parent / \"files/CIFAR10\"\n",
    "child_path_names = []\n",
    "for child_path in target_dir_path.iterdir():\n",
    "    child_path_names.append(child_path.name)\n",
    "\n",
    "child_path_names.sort()\n",
    "\n",
    "for name in child_path_names:\n",
    "    print(name)\n",
    "\n",
    "\n",
    "\n",
    "     \n"
   ]
  }
 ],
 "metadata": {
  "kernelspec": {
   "display_name": "DIenv",
   "language": "python",
   "name": "python3"
  },
  "language_info": {
   "codemirror_mode": {
    "name": "ipython",
    "version": 3
   },
   "file_extension": ".py",
   "mimetype": "text/x-python",
   "name": "python",
   "nbconvert_exporter": "python",
   "pygments_lexer": "ipython3",
   "version": "3.8.12"
  },
  "orig_nbformat": 4,
  "vscode": {
   "interpreter": {
    "hash": "01ff145a580a012fbee101d68df8ff40de9b5a3386bbca8e9b7074444281a989"
   }
  }
 },
 "nbformat": 4,
 "nbformat_minor": 2
}
