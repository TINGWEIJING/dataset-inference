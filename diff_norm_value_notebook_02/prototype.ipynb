{
 "cells": [
  {
   "cell_type": "code",
   "execution_count": 8,
   "metadata": {},
   "outputs": [],
   "source": [
    "import numpy as np\n",
    "from numpy import linalg as LA"
   ]
  },
  {
   "cell_type": "code",
   "execution_count": 9,
   "metadata": {},
   "outputs": [],
   "source": [
    "cifar10_mean = np.array((0.4914, 0.4822, 0.4465))\n",
    "cifar10_std = np.array((0.2471, 0.2435, 0.2616))"
   ]
  },
  {
   "cell_type": "markdown",
   "metadata": {},
   "source": [
    "- 3 values\n",
    "- distance group\n",
    "  - 0.5\n",
    "  - 0.6\n",
    "  - 0.65\n",
    "- 2 sets\n",
    "  - with Std\n",
    "  - Without std"
   ]
  },
  {
   "cell_type": "code",
   "execution_count": 10,
   "metadata": {},
   "outputs": [],
   "source": [
    "# generate 100 random unit vector dimension\n",
    "sample_num = 100\n",
    "rng = np.random.default_rng(seed=42)\n",
    "rnd_unit_vector_list = []\n",
    "rnd_vectors = np.round(2 * rng.random((sample_num, 3)) - 1, decimals=3)\n",
    "for i in range(rnd_vectors.shape[0]):\n",
    "    unit_vector = rnd_vectors[i] / LA.norm(rnd_vectors[i], 2)\n",
    "    rnd_unit_vector_list.append(unit_vector)"
   ]
  },
  {
   "cell_type": "code",
   "execution_count": 11,
   "metadata": {},
   "outputs": [
    {
     "name": "stdout",
     "output_type": "stream",
     "text": [
      "[ 0.6017703  -0.13397076  0.78735274]\n",
      "0.7873527441595458\n"
     ]
    }
   ],
   "source": [
    "print(rnd_unit_vector_list[0])\n",
    "print(np.amax(rnd_unit_vector_list[0]))"
   ]
  },
  {
   "cell_type": "code",
   "execution_count": 12,
   "metadata": {},
   "outputs": [],
   "source": [
    "# filter in range (0, 1) with factor 0.7\n",
    "factor = 0.7\n",
    "filtered_rnd_unit_vector_list = []\n",
    "\n",
    "for unit_vector in rnd_unit_vector_list:\n",
    "    result_vector = cifar10_mean + (unit_vector * factor)\n",
    "    min_val = np.amin(result_vector)\n",
    "    max_val = np.amax(result_vector)\n",
    "    if (min_val > 0) and (max_val < 1):\n",
    "        # print(result_vector)\n",
    "        # print(LA.norm(result_vector - cifar10_mean, 2))\n",
    "        filtered_rnd_unit_vector_list.append(unit_vector)\n"
   ]
  },
  {
   "cell_type": "code",
   "execution_count": 17,
   "metadata": {},
   "outputs": [
    {
     "name": "stdout",
     "output_type": "stream",
     "text": [
      "[ 0.602 -0.134  0.787]\n",
      "[ 0.301 -0.619  0.725]\n",
      "[ 0.465 -0.435  0.771]\n"
     ]
    }
   ],
   "source": [
    "for i in range(3):\n",
    "    selected_unit_vector = filtered_rnd_unit_vector_list[i]\n",
    "    print(np.round(selected_unit_vector, 3))"
   ]
  },
  {
   "cell_type": "code",
   "execution_count": 13,
   "metadata": {},
   "outputs": [],
   "source": [
    "# prepare exp mean values\n",
    "exp_mean_list = []\n",
    "unit_factor_list = [0.5, 0.6, 0.7]\n",
    "\n",
    "for i in range(3):\n",
    "    selected_unit_vector = filtered_rnd_unit_vector_list[i]\n",
    "    for unit_factor in unit_factor_list:\n",
    "        mod_result_mean = np.round(cifar10_mean + (selected_unit_vector * unit_factor), 3)\n",
    "        exp_mean_list.append(mod_result_mean)"
   ]
  },
  {
   "cell_type": "code",
   "execution_count": 14,
   "metadata": {},
   "outputs": [
    {
     "name": "stdout",
     "output_type": "stream",
     "text": [
      "[0.792 0.415 0.84 ]\n",
      "[0.852 0.402 0.919]\n",
      "[0.913 0.388 0.998]\n",
      "[0.642 0.173 0.809]\n",
      "[0.672 0.111 0.882]\n",
      "[0.702 0.049 0.954]\n",
      "[0.724 0.265 0.832]\n",
      "[0.77  0.221 0.909]\n",
      "[0.817 0.178 0.986]\n"
     ]
    }
   ],
   "source": [
    "for exp_mean in exp_mean_list:\n",
    "    print(exp_mean)\n",
    "    # print(LA.norm(exp_mean - cifar10_mean, 2))"
   ]
  }
 ],
 "metadata": {
  "kernelspec": {
   "display_name": "Python 3.8.12 ('DIenv')",
   "language": "python",
   "name": "python3"
  },
  "language_info": {
   "codemirror_mode": {
    "name": "ipython",
    "version": 3
   },
   "file_extension": ".py",
   "mimetype": "text/x-python",
   "name": "python",
   "nbconvert_exporter": "python",
   "pygments_lexer": "ipython3",
   "version": "3.8.12"
  },
  "orig_nbformat": 4,
  "vscode": {
   "interpreter": {
    "hash": "01ff145a580a012fbee101d68df8ff40de9b5a3386bbca8e9b7074444281a989"
   }
  }
 },
 "nbformat": 4,
 "nbformat_minor": 2
}
