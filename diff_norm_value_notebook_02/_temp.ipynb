{
 "cells": [
  {
   "cell_type": "code",
   "execution_count": 1,
   "metadata": {},
   "outputs": [],
   "source": [
    "from pathlib import Path"
   ]
  },
  {
   "cell_type": "code",
   "execution_count": 7,
   "metadata": {},
   "outputs": [
    {
     "name": "stdout",
     "output_type": "stream",
     "text": [
      "model__baseline\n",
      "model__mean_0.642_0.173_0.809\n",
      "model__mean_0.642_0.173_0.809_std_1.0_1.0_1.0\n",
      "model__mean_0.672_0.111_0.882\n",
      "model__mean_0.672_0.111_0.882_std_1.0_1.0_1.0\n",
      "model__mean_0.702_0.049_0.954\n",
      "model__mean_0.702_0.049_0.954_std_1.0_1.0_1.0\n",
      "model__mean_0.724_0.265_0.832\n",
      "model__mean_0.724_0.265_0.832_std_1.0_1.0_1.0\n",
      "model__mean_0.77_0.221_0.909\n",
      "model__mean_0.77_0.221_0.909_std_1.0_1.0_1.0\n",
      "model__mean_0.792_0.415_0.84\n",
      "model__mean_0.792_0.415_0.84_std_1.0_1.0_1.0\n",
      "model__mean_0.817_0.178_0.986\n",
      "model__mean_0.817_0.178_0.986_std_1.0_1.0_1.0\n",
      "model__mean_0.852_0.402_0.919\n",
      "model__mean_0.852_0.402_0.919_std_1.0_1.0_1.0\n",
      "model__mean_0.913_0.388_0.998\n",
      "model__mean_0.913_0.388_0.998_std_1.0_1.0_1.0\n"
     ]
    }
   ],
   "source": [
    "target_dir_path = Path.cwd().parent / \"files/CIFAR10\"\n",
    "child_path_names = []\n",
    "for child_path in target_dir_path.iterdir():\n",
    "    child_path_names.append(child_path.name)\n",
    "\n",
    "child_path_names.sort()\n",
    "\n",
    "for name in child_path_names:\n",
    "    print(name)"
   ]
  }
 ],
 "metadata": {
  "kernelspec": {
   "display_name": "Python 3.8.12 ('DIenv')",
   "language": "python",
   "name": "python3"
  },
  "language_info": {
   "codemirror_mode": {
    "name": "ipython",
    "version": 3
   },
   "file_extension": ".py",
   "mimetype": "text/x-python",
   "name": "python",
   "nbconvert_exporter": "python",
   "pygments_lexer": "ipython3",
   "version": "3.8.12"
  },
  "orig_nbformat": 4,
  "vscode": {
   "interpreter": {
    "hash": "01ff145a580a012fbee101d68df8ff40de9b5a3386bbca8e9b7074444281a989"
   }
  }
 },
 "nbformat": 4,
 "nbformat_minor": 2
}
