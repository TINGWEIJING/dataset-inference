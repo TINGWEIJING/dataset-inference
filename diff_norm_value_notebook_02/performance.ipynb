{
 "cells": [
  {
   "cell_type": "code",
   "execution_count": 1,
   "metadata": {},
   "outputs": [],
   "source": [
    "import sys\n",
    "from pathlib import Path\n",
    "\n",
    "src_path = Path.cwd().parent / \"src\"\n",
    "sys.path.append(str(src_path))\n",
    "\n",
    "import json\n",
    "import types\n",
    "from collections import OrderedDict\n",
    "from pprint import pprint\n",
    "\n",
    "import torch\n",
    "import torch.nn as nn\n",
    "from dataset import get_new_dataloader\n",
    "from funcs import get_dataloaders\n",
    "from models import PreActResNet18, WideResNet\n",
    "from train import epoch, epoch_test\n"
   ]
  },
  {
   "cell_type": "code",
   "execution_count": 2,
   "metadata": {},
   "outputs": [],
   "source": [
    "# constant\n",
    "CWD_PATH = Path.cwd()\n",
    "MODEL_DIR_PATH = CWD_PATH.parent / \"models/CIFAR10\"\n",
    "SETTINGS = [\n",
    "    {\n",
    "        \"normalization_mean\": None,\n",
    "        \"normalization_std\": None,\n",
    "    },\n",
    "    {\n",
    "        \"normalization_mean\": [0.792, 0.415, 0.84],\n",
    "        \"normalization_std\": None,\n",
    "    },\n",
    "    {\n",
    "        \"normalization_mean\": [0.852, 0.402, 0.919],\n",
    "        \"normalization_std\": None,\n",
    "    },\n",
    "    {\n",
    "        \"normalization_mean\": [0.913, 0.388, 0.998],\n",
    "        \"normalization_std\": None,\n",
    "    },\n",
    "    {\n",
    "        \"normalization_mean\": [0.642, 0.173, 0.809],\n",
    "        \"normalization_std\": None,\n",
    "    },\n",
    "    {\n",
    "        \"normalization_mean\": [0.672, 0.111, 0.882],\n",
    "        \"normalization_std\": None,\n",
    "    },\n",
    "    {\n",
    "        \"normalization_mean\": [0.702, 0.049, 0.954],\n",
    "        \"normalization_std\": None,\n",
    "    },\n",
    "    {\n",
    "        \"normalization_mean\": [0.724, 0.265, 0.832],\n",
    "        \"normalization_std\": None,\n",
    "    },\n",
    "    {\n",
    "        \"normalization_mean\": [0.77,  0.221, 0.909],\n",
    "        \"normalization_std\": None,\n",
    "    },\n",
    "    {\n",
    "        \"normalization_mean\": [0.817, 0.178, 0.986],\n",
    "        \"normalization_std\": None,\n",
    "    }, # break\n",
    "    {\n",
    "        \"normalization_mean\": [0.792, 0.415, 0.84],\n",
    "        \"normalization_std\": [1.0, 1.0, 1.0],\n",
    "    },\n",
    "    {\n",
    "        \"normalization_mean\": [0.852, 0.402, 0.919],\n",
    "        \"normalization_std\": [1.0, 1.0, 1.0],\n",
    "    },\n",
    "    {\n",
    "        \"normalization_mean\": [0.913, 0.388, 0.998],\n",
    "        \"normalization_std\": [1.0, 1.0, 1.0],\n",
    "    },\n",
    "    {\n",
    "        \"normalization_mean\": [0.642, 0.173, 0.809],\n",
    "        \"normalization_std\": [1.0, 1.0, 1.0],\n",
    "    },\n",
    "    {\n",
    "        \"normalization_mean\": [0.672, 0.111, 0.882],\n",
    "        \"normalization_std\": [1.0, 1.0, 1.0],\n",
    "    },\n",
    "    {\n",
    "        \"normalization_mean\": [0.702, 0.049, 0.954],\n",
    "        \"normalization_std\": [1.0, 1.0, 1.0],\n",
    "    },\n",
    "    {\n",
    "        \"normalization_mean\": [0.724, 0.265, 0.832],\n",
    "        \"normalization_std\": [1.0, 1.0, 1.0],\n",
    "    },\n",
    "    {\n",
    "        \"normalization_mean\": [0.77,  0.221, 0.909],\n",
    "        \"normalization_std\": [1.0, 1.0, 1.0],\n",
    "    },\n",
    "    {\n",
    "        \"normalization_mean\": [0.817, 0.178, 0.986],\n",
    "        \"normalization_std\": [1.0, 1.0, 1.0],\n",
    "    }, # break\n",
    "]\n"
   ]
  },
  {
   "cell_type": "code",
   "execution_count": 3,
   "metadata": {},
   "outputs": [
    {
     "name": "stdout",
     "output_type": "stream",
     "text": [
      "model__baseline\n",
      "model__mean_0.792_0.415_0.84\n",
      "model__mean_0.852_0.402_0.919\n",
      "model__mean_0.913_0.388_0.998\n",
      "model__mean_0.642_0.173_0.809\n",
      "model__mean_0.672_0.111_0.882\n",
      "model__mean_0.702_0.049_0.954\n",
      "model__mean_0.724_0.265_0.832\n",
      "model__mean_0.77_0.221_0.909\n",
      "model__mean_0.817_0.178_0.986\n",
      "model__mean_0.792_0.415_0.84_std_1.0_1.0_1.0\n",
      "model__mean_0.852_0.402_0.919_std_1.0_1.0_1.0\n",
      "model__mean_0.913_0.388_0.998_std_1.0_1.0_1.0\n",
      "model__mean_0.642_0.173_0.809_std_1.0_1.0_1.0\n",
      "model__mean_0.672_0.111_0.882_std_1.0_1.0_1.0\n",
      "model__mean_0.702_0.049_0.954_std_1.0_1.0_1.0\n",
      "model__mean_0.724_0.265_0.832_std_1.0_1.0_1.0\n",
      "model__mean_0.77_0.221_0.909_std_1.0_1.0_1.0\n",
      "model__mean_0.817_0.178_0.986_std_1.0_1.0_1.0\n"
     ]
    }
   ],
   "source": [
    "for setting in SETTINGS:\n",
    "    normalization_mean = setting['normalization_mean']\n",
    "    normalization_std = setting['normalization_std']\n",
    "    if normalization_mean != None and normalization_std != None:\n",
    "        mean_str = str(normalization_mean).replace(' ', '').replace(',', '_')[1:-1]\n",
    "        std_str = str(normalization_std).replace(' ', '').replace(',', '_')[1:-1]\n",
    "        label = f\"model__mean_{mean_str}_std_{std_str}\"\n",
    "    elif normalization_mean != None:\n",
    "        mean_str = str(normalization_mean).replace(' ', '').replace(',', '_')[1:-1]\n",
    "        label = f\"model__mean_{mean_str}\"\n",
    "    elif normalization_std != None:\n",
    "        std_str = str(normalization_std).replace(' ', '').replace(',', '_')[1:-1]\n",
    "        label = f\"model__std_{std_str}\"\n",
    "    else:\n",
    "        label = f\"model__baseline\"\n",
    "\n",
    "    print(label)"
   ]
  },
  {
   "cell_type": "code",
   "execution_count": 4,
   "metadata": {},
   "outputs": [],
   "source": [
    "def load_model(\n",
    "    model_type: str,\n",
    "    location: str,\n",
    "    model_normalize: bool,\n",
    "):\n",
    "    device = torch.device(\"cuda:{0}\".format(0) if torch.cuda.is_available() else \"cpu\")\n",
    "\n",
    "    # load model CIFAR10\n",
    "    if model_type == \"pre-act-18\":\n",
    "        model = PreActResNet18(num_classes=10, normalize=model_normalize)\n",
    "    elif model_type == \"independent\":\n",
    "        model = WideResNet(\n",
    "            n_classes=10,\n",
    "            depth=16,  # deep_full for CIFAR10\n",
    "            widen_factor=1,\n",
    "            normalize=model_normalize,\n",
    "            dropRate=0.3,\n",
    "        )\n",
    "    else:\n",
    "        model = WideResNet(\n",
    "            n_classes=10,\n",
    "            depth=28,  # deep_full for CIFAR10\n",
    "            widen_factor=10,\n",
    "            normalize=model_normalize,\n",
    "            dropRate=0.3,\n",
    "        )\n",
    "\n",
    "    try:\n",
    "        model = model.to(device)\n",
    "        model.load_state_dict(torch.load(location, map_location=device))\n",
    "    except:\n",
    "        model = nn.DataParallel(model).to(device)\n",
    "        model.load_state_dict(torch.load(location, map_location=device))\n",
    "    model.eval()\n",
    "    return model\n"
   ]
  },
  {
   "cell_type": "code",
   "execution_count": 5,
   "metadata": {},
   "outputs": [
    {
     "name": "stdout",
     "output_type": "stream",
     "text": [
      "/data/weijing/DI-ting_normalization/models/CIFAR10/model__baseline/final.pt\n",
      "Custom_normalization: Normalize(mean=(0.4914, 0.4822, 0.4465), std=(0.2471, 0.2435, 0.2616))\n",
      "Lambda()\n",
      "Files already downloaded and verified\n",
      "Files already downloaded and verified\n"
     ]
    },
    {
     "name": "stderr",
     "output_type": "stream",
     "text": [
      "100%|██████████| 50/50 [00:28<00:00,  1.76it/s]\n"
     ]
    },
    {
     "name": "stdout",
     "output_type": "stream",
     "text": [
      "0.99998\n",
      "0.9433\n",
      "/data/weijing/DI-ting_normalization/models/CIFAR10/model__mean_0.792_0.415_0.84/final.pt\n",
      "Custom_normalization: Normalize(mean=[0.792, 0.415, 0.84], std=(0.2471, 0.2435, 0.2616))\n",
      "Lambda()\n",
      "Files already downloaded and verified\n",
      "Files already downloaded and verified\n"
     ]
    },
    {
     "name": "stderr",
     "output_type": "stream",
     "text": [
      "100%|██████████| 50/50 [00:23<00:00,  2.14it/s]\n"
     ]
    },
    {
     "name": "stdout",
     "output_type": "stream",
     "text": [
      "0.99998\n",
      "0.943\n",
      "/data/weijing/DI-ting_normalization/models/CIFAR10/model__mean_0.852_0.402_0.919/final.pt\n",
      "Custom_normalization: Normalize(mean=[0.852, 0.402, 0.919], std=(0.2471, 0.2435, 0.2616))\n",
      "Lambda()\n",
      "Files already downloaded and verified\n",
      "Files already downloaded and verified\n"
     ]
    },
    {
     "name": "stderr",
     "output_type": "stream",
     "text": [
      "100%|██████████| 50/50 [00:23<00:00,  2.14it/s]\n"
     ]
    },
    {
     "name": "stdout",
     "output_type": "stream",
     "text": [
      "1.0\n",
      "0.9429\n",
      "/data/weijing/DI-ting_normalization/models/CIFAR10/model__mean_0.913_0.388_0.998/final.pt\n",
      "Custom_normalization: Normalize(mean=[0.913, 0.388, 0.998], std=(0.2471, 0.2435, 0.2616))\n",
      "Lambda()\n",
      "Files already downloaded and verified\n",
      "Files already downloaded and verified\n"
     ]
    },
    {
     "name": "stderr",
     "output_type": "stream",
     "text": [
      "100%|██████████| 50/50 [00:23<00:00,  2.14it/s]\n"
     ]
    },
    {
     "name": "stdout",
     "output_type": "stream",
     "text": [
      "0.99992\n",
      "0.9428\n",
      "/data/weijing/DI-ting_normalization/models/CIFAR10/model__mean_0.642_0.173_0.809/final.pt\n",
      "Custom_normalization: Normalize(mean=[0.642, 0.173, 0.809], std=(0.2471, 0.2435, 0.2616))\n",
      "Lambda()\n",
      "Files already downloaded and verified\n",
      "Files already downloaded and verified\n"
     ]
    },
    {
     "name": "stderr",
     "output_type": "stream",
     "text": [
      "100%|██████████| 50/50 [00:23<00:00,  2.13it/s]\n"
     ]
    },
    {
     "name": "stdout",
     "output_type": "stream",
     "text": [
      "1.0\n",
      "0.9436\n",
      "/data/weijing/DI-ting_normalization/models/CIFAR10/model__mean_0.672_0.111_0.882/final.pt\n",
      "Custom_normalization: Normalize(mean=[0.672, 0.111, 0.882], std=(0.2471, 0.2435, 0.2616))\n",
      "Lambda()\n",
      "Files already downloaded and verified\n",
      "Files already downloaded and verified\n"
     ]
    },
    {
     "name": "stderr",
     "output_type": "stream",
     "text": [
      "100%|██████████| 50/50 [00:23<00:00,  2.13it/s]\n"
     ]
    },
    {
     "name": "stdout",
     "output_type": "stream",
     "text": [
      "1.0\n",
      "0.9437\n",
      "/data/weijing/DI-ting_normalization/models/CIFAR10/model__mean_0.702_0.049_0.954/final.pt\n",
      "Custom_normalization: Normalize(mean=[0.702, 0.049, 0.954], std=(0.2471, 0.2435, 0.2616))\n",
      "Lambda()\n",
      "Files already downloaded and verified\n",
      "Files already downloaded and verified\n"
     ]
    },
    {
     "name": "stderr",
     "output_type": "stream",
     "text": [
      "100%|██████████| 50/50 [00:23<00:00,  2.13it/s]\n"
     ]
    },
    {
     "name": "stdout",
     "output_type": "stream",
     "text": [
      "1.0\n",
      "0.9441\n",
      "/data/weijing/DI-ting_normalization/models/CIFAR10/model__mean_0.724_0.265_0.832/final.pt\n",
      "Custom_normalization: Normalize(mean=[0.724, 0.265, 0.832], std=(0.2471, 0.2435, 0.2616))\n",
      "Lambda()\n",
      "Files already downloaded and verified\n",
      "Files already downloaded and verified\n"
     ]
    },
    {
     "name": "stderr",
     "output_type": "stream",
     "text": [
      "100%|██████████| 50/50 [00:23<00:00,  2.14it/s]\n"
     ]
    },
    {
     "name": "stdout",
     "output_type": "stream",
     "text": [
      "0.99998\n",
      "0.941\n",
      "/data/weijing/DI-ting_normalization/models/CIFAR10/model__mean_0.77_0.221_0.909/final.pt\n",
      "Custom_normalization: Normalize(mean=[0.77, 0.221, 0.909], std=(0.2471, 0.2435, 0.2616))\n",
      "Lambda()\n",
      "Files already downloaded and verified\n",
      "Files already downloaded and verified\n"
     ]
    },
    {
     "name": "stderr",
     "output_type": "stream",
     "text": [
      "100%|██████████| 50/50 [00:23<00:00,  2.14it/s]\n"
     ]
    },
    {
     "name": "stdout",
     "output_type": "stream",
     "text": [
      "0.99996\n",
      "0.944\n",
      "/data/weijing/DI-ting_normalization/models/CIFAR10/model__mean_0.817_0.178_0.986/final.pt\n",
      "Custom_normalization: Normalize(mean=[0.817, 0.178, 0.986], std=(0.2471, 0.2435, 0.2616))\n",
      "Lambda()\n",
      "Files already downloaded and verified\n",
      "Files already downloaded and verified\n"
     ]
    },
    {
     "name": "stderr",
     "output_type": "stream",
     "text": [
      "100%|██████████| 50/50 [00:23<00:00,  2.14it/s]\n"
     ]
    },
    {
     "name": "stdout",
     "output_type": "stream",
     "text": [
      "0.99996\n",
      "0.9401\n",
      "/data/weijing/DI-ting_normalization/models/CIFAR10/model__mean_0.792_0.415_0.84_std_1.0_1.0_1.0/final.pt\n",
      "Custom_normalization: Normalize(mean=[0.792, 0.415, 0.84], std=[1.0, 1.0, 1.0])\n",
      "Lambda()\n",
      "Files already downloaded and verified\n",
      "Files already downloaded and verified\n"
     ]
    },
    {
     "name": "stderr",
     "output_type": "stream",
     "text": [
      "100%|██████████| 50/50 [00:23<00:00,  2.14it/s]\n"
     ]
    },
    {
     "name": "stdout",
     "output_type": "stream",
     "text": [
      "0.99996\n",
      "0.9408\n",
      "/data/weijing/DI-ting_normalization/models/CIFAR10/model__mean_0.852_0.402_0.919_std_1.0_1.0_1.0/final.pt\n",
      "Custom_normalization: Normalize(mean=[0.852, 0.402, 0.919], std=[1.0, 1.0, 1.0])\n",
      "Lambda()\n",
      "Files already downloaded and verified\n",
      "Files already downloaded and verified\n"
     ]
    },
    {
     "name": "stderr",
     "output_type": "stream",
     "text": [
      "100%|██████████| 50/50 [00:23<00:00,  2.13it/s]\n"
     ]
    },
    {
     "name": "stdout",
     "output_type": "stream",
     "text": [
      "0.99994\n",
      "0.9412\n",
      "/data/weijing/DI-ting_normalization/models/CIFAR10/model__mean_0.913_0.388_0.998_std_1.0_1.0_1.0/final.pt\n",
      "Custom_normalization: Normalize(mean=[0.913, 0.388, 0.998], std=[1.0, 1.0, 1.0])\n",
      "Lambda()\n",
      "Files already downloaded and verified\n",
      "Files already downloaded and verified\n"
     ]
    },
    {
     "name": "stderr",
     "output_type": "stream",
     "text": [
      "100%|██████████| 50/50 [00:23<00:00,  2.14it/s]\n"
     ]
    },
    {
     "name": "stdout",
     "output_type": "stream",
     "text": [
      "0.99998\n",
      "0.9445\n",
      "/data/weijing/DI-ting_normalization/models/CIFAR10/model__mean_0.642_0.173_0.809_std_1.0_1.0_1.0/final.pt\n",
      "Custom_normalization: Normalize(mean=[0.642, 0.173, 0.809], std=[1.0, 1.0, 1.0])\n",
      "Lambda()\n",
      "Files already downloaded and verified\n",
      "Files already downloaded and verified\n"
     ]
    },
    {
     "name": "stderr",
     "output_type": "stream",
     "text": [
      "100%|██████████| 50/50 [00:23<00:00,  2.13it/s]\n"
     ]
    },
    {
     "name": "stdout",
     "output_type": "stream",
     "text": [
      "0.99998\n",
      "0.942\n",
      "/data/weijing/DI-ting_normalization/models/CIFAR10/model__mean_0.672_0.111_0.882_std_1.0_1.0_1.0/final.pt\n",
      "Custom_normalization: Normalize(mean=[0.672, 0.111, 0.882], std=[1.0, 1.0, 1.0])\n",
      "Lambda()\n",
      "Files already downloaded and verified\n",
      "Files already downloaded and verified\n"
     ]
    },
    {
     "name": "stderr",
     "output_type": "stream",
     "text": [
      "100%|██████████| 50/50 [00:23<00:00,  2.14it/s]\n"
     ]
    },
    {
     "name": "stdout",
     "output_type": "stream",
     "text": [
      "0.99996\n",
      "0.9433\n",
      "/data/weijing/DI-ting_normalization/models/CIFAR10/model__mean_0.702_0.049_0.954_std_1.0_1.0_1.0/final.pt\n",
      "Custom_normalization: Normalize(mean=[0.702, 0.049, 0.954], std=[1.0, 1.0, 1.0])\n",
      "Lambda()\n",
      "Files already downloaded and verified\n",
      "Files already downloaded and verified\n"
     ]
    },
    {
     "name": "stderr",
     "output_type": "stream",
     "text": [
      "100%|██████████| 50/50 [00:23<00:00,  2.14it/s]\n"
     ]
    },
    {
     "name": "stdout",
     "output_type": "stream",
     "text": [
      "0.99998\n",
      "0.9421\n",
      "/data/weijing/DI-ting_normalization/models/CIFAR10/model__mean_0.724_0.265_0.832_std_1.0_1.0_1.0/final.pt\n",
      "Custom_normalization: Normalize(mean=[0.724, 0.265, 0.832], std=[1.0, 1.0, 1.0])\n",
      "Lambda()\n",
      "Files already downloaded and verified\n",
      "Files already downloaded and verified\n"
     ]
    },
    {
     "name": "stderr",
     "output_type": "stream",
     "text": [
      "100%|██████████| 50/50 [00:23<00:00,  2.14it/s]\n"
     ]
    },
    {
     "name": "stdout",
     "output_type": "stream",
     "text": [
      "0.99998\n",
      "0.9424\n",
      "/data/weijing/DI-ting_normalization/models/CIFAR10/model__mean_0.77_0.221_0.909_std_1.0_1.0_1.0/final.pt\n",
      "Custom_normalization: Normalize(mean=[0.77, 0.221, 0.909], std=[1.0, 1.0, 1.0])\n",
      "Lambda()\n",
      "Files already downloaded and verified\n",
      "Files already downloaded and verified\n"
     ]
    },
    {
     "name": "stderr",
     "output_type": "stream",
     "text": [
      "100%|██████████| 50/50 [00:23<00:00,  2.14it/s]\n"
     ]
    },
    {
     "name": "stdout",
     "output_type": "stream",
     "text": [
      "0.99996\n",
      "0.9416\n",
      "/data/weijing/DI-ting_normalization/models/CIFAR10/model__mean_0.817_0.178_0.986_std_1.0_1.0_1.0/final.pt\n",
      "Custom_normalization: Normalize(mean=[0.817, 0.178, 0.986], std=[1.0, 1.0, 1.0])\n",
      "Lambda()\n",
      "Files already downloaded and verified\n",
      "Files already downloaded and verified\n"
     ]
    },
    {
     "name": "stderr",
     "output_type": "stream",
     "text": [
      "100%|██████████| 50/50 [00:23<00:00,  2.14it/s]\n"
     ]
    },
    {
     "name": "stdout",
     "output_type": "stream",
     "text": [
      "0.99998\n",
      "0.9436\n"
     ]
    }
   ],
   "source": [
    "model_name__tr_acc = OrderedDict()\n",
    "\n",
    "# model performance in TR\n",
    "for setting in SETTINGS:\n",
    "    normalization_mean = setting['normalization_mean']\n",
    "    normalization_std = setting['normalization_std']\n",
    "    if normalization_mean != None and normalization_std != None:\n",
    "        mean_str = str(normalization_mean).replace(' ', '').replace(',', '_')[1:-1]\n",
    "        std_str = str(normalization_std).replace(' ', '').replace(',', '_')[1:-1]\n",
    "        label = f\"model__mean_{mean_str}_std_{std_str}\"\n",
    "    elif normalization_mean != None:\n",
    "        mean_str = str(normalization_mean).replace(' ', '').replace(',', '_')[1:-1]\n",
    "        label = f\"model__mean_{mean_str}\"\n",
    "    elif normalization_std != None:\n",
    "        std_str = str(normalization_std).replace(' ', '').replace(',', '_')[1:-1]\n",
    "        label = f\"model__std_{std_str}\"\n",
    "    else:\n",
    "        label = f\"model__baseline\"\n",
    "\n",
    "    model_path = MODEL_DIR_PATH / label / \"final.pt\"\n",
    "    print(model_path)\n",
    "    model = load_model(\n",
    "        model_type=\"teacher\",\n",
    "        location=str(model_path),\n",
    "        model_normalize=False,\n",
    "    )\n",
    "\n",
    "    args = types.SimpleNamespace()\n",
    "    device = torch.device(\"cuda:{0}\".format(0) if torch.cuda.is_available() else \"cpu\")\n",
    "    args.device = device\n",
    "    args.mode = \"teacher\"\n",
    "    args.experiment = 'diff-norm-value'\n",
    "    args.dataset = 'CIFAR10'\n",
    "    args.batch_size = 1000\n",
    "    args.num_workers = 8\n",
    "    args.normalization_mean = normalization_mean\n",
    "    args.normalization_std = normalization_std\n",
    "    args.extra_preprocessing_type = \"\"\n",
    "    train_loader, test_loader = get_new_dataloader(args=args)\n",
    "\n",
    "    _, train_acc = epoch(\n",
    "        args,\n",
    "        train_loader,\n",
    "        model,\n",
    "        teacher=None,\n",
    "        lr_schedule=None,\n",
    "        epoch_i=None,\n",
    "        opt=None,\n",
    "    )\n",
    "    _, test_acc = epoch_test(\n",
    "        args,\n",
    "        test_loader,\n",
    "        model,\n",
    "    )\n",
    "    print(train_acc)\n",
    "    print(test_acc)\n",
    "\n",
    "    model_name__tr_acc[label] = {\n",
    "        \"train_acc\": train_acc,\n",
    "        \"test_acc\": test_acc,\n",
    "    }\n"
   ]
  },
  {
   "cell_type": "code",
   "execution_count": 6,
   "metadata": {},
   "outputs": [
    {
     "name": "stdout",
     "output_type": "stream",
     "text": [
      "OrderedDict([('model__baseline', {'test_acc': 0.9433, 'train_acc': 0.99998}),\n",
      "             ('model__mean_0.792_0.415_0.84',\n",
      "              {'test_acc': 0.943, 'train_acc': 0.99998}),\n",
      "             ('model__mean_0.852_0.402_0.919',\n",
      "              {'test_acc': 0.9429, 'train_acc': 1.0}),\n",
      "             ('model__mean_0.913_0.388_0.998',\n",
      "              {'test_acc': 0.9428, 'train_acc': 0.99992}),\n",
      "             ('model__mean_0.642_0.173_0.809',\n",
      "              {'test_acc': 0.9436, 'train_acc': 1.0}),\n",
      "             ('model__mean_0.672_0.111_0.882',\n",
      "              {'test_acc': 0.9437, 'train_acc': 1.0}),\n",
      "             ('model__mean_0.702_0.049_0.954',\n",
      "              {'test_acc': 0.9441, 'train_acc': 1.0}),\n",
      "             ('model__mean_0.724_0.265_0.832',\n",
      "              {'test_acc': 0.941, 'train_acc': 0.99998}),\n",
      "             ('model__mean_0.77_0.221_0.909',\n",
      "              {'test_acc': 0.944, 'train_acc': 0.99996}),\n",
      "             ('model__mean_0.817_0.178_0.986',\n",
      "              {'test_acc': 0.9401, 'train_acc': 0.99996}),\n",
      "             ('model__mean_0.792_0.415_0.84_std_1.0_1.0_1.0',\n",
      "              {'test_acc': 0.9408, 'train_acc': 0.99996}),\n",
      "             ('model__mean_0.852_0.402_0.919_std_1.0_1.0_1.0',\n",
      "              {'test_acc': 0.9412, 'train_acc': 0.99994}),\n",
      "             ('model__mean_0.913_0.388_0.998_std_1.0_1.0_1.0',\n",
      "              {'test_acc': 0.9445, 'train_acc': 0.99998}),\n",
      "             ('model__mean_0.642_0.173_0.809_std_1.0_1.0_1.0',\n",
      "              {'test_acc': 0.942, 'train_acc': 0.99998}),\n",
      "             ('model__mean_0.672_0.111_0.882_std_1.0_1.0_1.0',\n",
      "              {'test_acc': 0.9433, 'train_acc': 0.99996}),\n",
      "             ('model__mean_0.702_0.049_0.954_std_1.0_1.0_1.0',\n",
      "              {'test_acc': 0.9421, 'train_acc': 0.99998}),\n",
      "             ('model__mean_0.724_0.265_0.832_std_1.0_1.0_1.0',\n",
      "              {'test_acc': 0.9424, 'train_acc': 0.99998}),\n",
      "             ('model__mean_0.77_0.221_0.909_std_1.0_1.0_1.0',\n",
      "              {'test_acc': 0.9416, 'train_acc': 0.99996}),\n",
      "             ('model__mean_0.817_0.178_0.986_std_1.0_1.0_1.0',\n",
      "              {'test_acc': 0.9436, 'train_acc': 0.99998})])\n"
     ]
    }
   ],
   "source": [
    "pprint(model_name__tr_acc)\n",
    "\n",
    "# Serializing json\n",
    "json_object = json.dumps(model_name__tr_acc, indent=2)\n",
    " \n",
    "# Writing to sample.json\n",
    "with open(\"tr_performance.json\", \"w\") as outfile:\n",
    "    outfile.write(json_object)"
   ]
  },
  {
   "cell_type": "code",
   "execution_count": 8,
   "metadata": {},
   "outputs": [
    {
     "name": "stdout",
     "output_type": "stream",
     "text": [
      "/data/weijing/DI-ting_normalization/models/CIFAR10/model__baseline/final.pt\n",
      "No Transform\n",
      "Files already downloaded and verified\n",
      "Files already downloaded and verified\n",
      "No Transform\n",
      "Files already downloaded and verified\n",
      "Files already downloaded and verified\n"
     ]
    },
    {
     "name": "stderr",
     "output_type": "stream",
     "text": [
      "100%|██████████| 50/50 [00:31<00:00,  1.61it/s]\n"
     ]
    },
    {
     "name": "stdout",
     "output_type": "stream",
     "text": [
      "0.99976\n",
      "0.9388\n",
      "/data/weijing/DI-ting_normalization/models/CIFAR10/model__mean_0.792_0.415_0.84/final.pt\n",
      "No Transform\n",
      "Files already downloaded and verified\n",
      "Files already downloaded and verified\n",
      "No Transform\n",
      "Files already downloaded and verified\n",
      "Files already downloaded and verified\n"
     ]
    },
    {
     "name": "stderr",
     "output_type": "stream",
     "text": [
      "100%|██████████| 50/50 [00:31<00:00,  1.59it/s]\n"
     ]
    },
    {
     "name": "stdout",
     "output_type": "stream",
     "text": [
      "0.79688\n",
      "0.7493\n",
      "/data/weijing/DI-ting_normalization/models/CIFAR10/model__mean_0.852_0.402_0.919/final.pt\n",
      "No Transform\n",
      "Files already downloaded and verified\n",
      "Files already downloaded and verified\n",
      "No Transform\n",
      "Files already downloaded and verified\n",
      "Files already downloaded and verified\n"
     ]
    },
    {
     "name": "stderr",
     "output_type": "stream",
     "text": [
      "100%|██████████| 50/50 [00:31<00:00,  1.59it/s]\n"
     ]
    },
    {
     "name": "stdout",
     "output_type": "stream",
     "text": [
      "0.55446\n",
      "0.5345\n",
      "/data/weijing/DI-ting_normalization/models/CIFAR10/model__mean_0.913_0.388_0.998/final.pt\n",
      "No Transform\n",
      "Files already downloaded and verified\n",
      "Files already downloaded and verified\n",
      "No Transform\n",
      "Files already downloaded and verified\n",
      "Files already downloaded and verified\n"
     ]
    },
    {
     "name": "stderr",
     "output_type": "stream",
     "text": [
      "100%|██████████| 50/50 [00:31<00:00,  1.59it/s]\n"
     ]
    },
    {
     "name": "stdout",
     "output_type": "stream",
     "text": [
      "0.43876\n",
      "0.424\n",
      "/data/weijing/DI-ting_normalization/models/CIFAR10/model__mean_0.642_0.173_0.809/final.pt\n",
      "No Transform\n",
      "Files already downloaded and verified\n",
      "Files already downloaded and verified\n",
      "No Transform\n",
      "Files already downloaded and verified\n",
      "Files already downloaded and verified\n"
     ]
    },
    {
     "name": "stderr",
     "output_type": "stream",
     "text": [
      "100%|██████████| 50/50 [00:31<00:00,  1.59it/s]\n"
     ]
    },
    {
     "name": "stdout",
     "output_type": "stream",
     "text": [
      "0.56538\n",
      "0.5423\n",
      "/data/weijing/DI-ting_normalization/models/CIFAR10/model__mean_0.672_0.111_0.882/final.pt\n",
      "No Transform\n",
      "Files already downloaded and verified\n",
      "Files already downloaded and verified\n",
      "No Transform\n",
      "Files already downloaded and verified\n",
      "Files already downloaded and verified\n"
     ]
    },
    {
     "name": "stderr",
     "output_type": "stream",
     "text": [
      "100%|██████████| 50/50 [00:31<00:00,  1.59it/s]\n"
     ]
    },
    {
     "name": "stdout",
     "output_type": "stream",
     "text": [
      "0.75054\n",
      "0.7087\n",
      "/data/weijing/DI-ting_normalization/models/CIFAR10/model__mean_0.702_0.049_0.954/final.pt\n",
      "No Transform\n",
      "Files already downloaded and verified\n",
      "Files already downloaded and verified\n",
      "No Transform\n",
      "Files already downloaded and verified\n",
      "Files already downloaded and verified\n"
     ]
    },
    {
     "name": "stderr",
     "output_type": "stream",
     "text": [
      "100%|██████████| 50/50 [00:31<00:00,  1.59it/s]\n"
     ]
    },
    {
     "name": "stdout",
     "output_type": "stream",
     "text": [
      "0.17658\n",
      "0.1765\n",
      "/data/weijing/DI-ting_normalization/models/CIFAR10/model__mean_0.724_0.265_0.832/final.pt\n",
      "No Transform\n",
      "Files already downloaded and verified\n",
      "Files already downloaded and verified\n",
      "No Transform\n",
      "Files already downloaded and verified\n",
      "Files already downloaded and verified\n"
     ]
    },
    {
     "name": "stderr",
     "output_type": "stream",
     "text": [
      "100%|██████████| 50/50 [00:31<00:00,  1.60it/s]\n"
     ]
    },
    {
     "name": "stdout",
     "output_type": "stream",
     "text": [
      "0.51402\n",
      "0.5014\n",
      "/data/weijing/DI-ting_normalization/models/CIFAR10/model__mean_0.77_0.221_0.909/final.pt\n",
      "No Transform\n",
      "Files already downloaded and verified\n",
      "Files already downloaded and verified\n",
      "No Transform\n",
      "Files already downloaded and verified\n",
      "Files already downloaded and verified\n"
     ]
    },
    {
     "name": "stderr",
     "output_type": "stream",
     "text": [
      "100%|██████████| 50/50 [00:31<00:00,  1.60it/s]\n"
     ]
    },
    {
     "name": "stdout",
     "output_type": "stream",
     "text": [
      "0.38884\n",
      "0.3753\n",
      "/data/weijing/DI-ting_normalization/models/CIFAR10/model__mean_0.817_0.178_0.986/final.pt\n",
      "No Transform\n",
      "Files already downloaded and verified\n",
      "Files already downloaded and verified\n",
      "No Transform\n",
      "Files already downloaded and verified\n",
      "Files already downloaded and verified\n"
     ]
    },
    {
     "name": "stderr",
     "output_type": "stream",
     "text": [
      "100%|██████████| 50/50 [00:31<00:00,  1.60it/s]\n"
     ]
    },
    {
     "name": "stdout",
     "output_type": "stream",
     "text": [
      "0.32114\n",
      "0.3102\n",
      "/data/weijing/DI-ting_normalization/models/CIFAR10/model__mean_0.792_0.415_0.84_std_1.0_1.0_1.0/final.pt\n",
      "No Transform\n",
      "Files already downloaded and verified\n",
      "Files already downloaded and verified\n",
      "No Transform\n",
      "Files already downloaded and verified\n",
      "Files already downloaded and verified\n"
     ]
    },
    {
     "name": "stderr",
     "output_type": "stream",
     "text": [
      "100%|██████████| 50/50 [00:31<00:00,  1.59it/s]\n"
     ]
    },
    {
     "name": "stdout",
     "output_type": "stream",
     "text": [
      "0.24838\n",
      "0.2421\n",
      "/data/weijing/DI-ting_normalization/models/CIFAR10/model__mean_0.852_0.402_0.919_std_1.0_1.0_1.0/final.pt\n",
      "No Transform\n",
      "Files already downloaded and verified\n",
      "Files already downloaded and verified\n",
      "No Transform\n",
      "Files already downloaded and verified\n",
      "Files already downloaded and verified\n"
     ]
    },
    {
     "name": "stderr",
     "output_type": "stream",
     "text": [
      "100%|██████████| 50/50 [00:31<00:00,  1.60it/s]\n"
     ]
    },
    {
     "name": "stdout",
     "output_type": "stream",
     "text": [
      "0.24628\n",
      "0.2418\n",
      "/data/weijing/DI-ting_normalization/models/CIFAR10/model__mean_0.913_0.388_0.998_std_1.0_1.0_1.0/final.pt\n",
      "No Transform\n",
      "Files already downloaded and verified\n",
      "Files already downloaded and verified\n",
      "No Transform\n",
      "Files already downloaded and verified\n",
      "Files already downloaded and verified\n"
     ]
    },
    {
     "name": "stderr",
     "output_type": "stream",
     "text": [
      "100%|██████████| 50/50 [00:31<00:00,  1.59it/s]\n"
     ]
    },
    {
     "name": "stdout",
     "output_type": "stream",
     "text": [
      "0.22318\n",
      "0.2214\n",
      "/data/weijing/DI-ting_normalization/models/CIFAR10/model__mean_0.642_0.173_0.809_std_1.0_1.0_1.0/final.pt\n",
      "No Transform\n",
      "Files already downloaded and verified\n",
      "Files already downloaded and verified\n",
      "No Transform\n",
      "Files already downloaded and verified\n",
      "Files already downloaded and verified\n"
     ]
    },
    {
     "name": "stderr",
     "output_type": "stream",
     "text": [
      "100%|██████████| 50/50 [00:31<00:00,  1.60it/s]\n"
     ]
    },
    {
     "name": "stdout",
     "output_type": "stream",
     "text": [
      "0.25574\n",
      "0.2579\n",
      "/data/weijing/DI-ting_normalization/models/CIFAR10/model__mean_0.672_0.111_0.882_std_1.0_1.0_1.0/final.pt\n",
      "No Transform\n",
      "Files already downloaded and verified\n",
      "Files already downloaded and verified\n",
      "No Transform\n",
      "Files already downloaded and verified\n",
      "Files already downloaded and verified\n"
     ]
    },
    {
     "name": "stderr",
     "output_type": "stream",
     "text": [
      "100%|██████████| 50/50 [00:31<00:00,  1.59it/s]\n"
     ]
    },
    {
     "name": "stdout",
     "output_type": "stream",
     "text": [
      "0.23072\n",
      "0.2316\n",
      "/data/weijing/DI-ting_normalization/models/CIFAR10/model__mean_0.702_0.049_0.954_std_1.0_1.0_1.0/final.pt\n",
      "No Transform\n",
      "Files already downloaded and verified\n",
      "Files already downloaded and verified\n",
      "No Transform\n",
      "Files already downloaded and verified\n",
      "Files already downloaded and verified\n"
     ]
    },
    {
     "name": "stderr",
     "output_type": "stream",
     "text": [
      "100%|██████████| 50/50 [00:31<00:00,  1.60it/s]\n"
     ]
    },
    {
     "name": "stdout",
     "output_type": "stream",
     "text": [
      "0.24592\n",
      "0.2418\n",
      "/data/weijing/DI-ting_normalization/models/CIFAR10/model__mean_0.724_0.265_0.832_std_1.0_1.0_1.0/final.pt\n",
      "No Transform\n",
      "Files already downloaded and verified\n",
      "Files already downloaded and verified\n",
      "No Transform\n",
      "Files already downloaded and verified\n",
      "Files already downloaded and verified\n"
     ]
    },
    {
     "name": "stderr",
     "output_type": "stream",
     "text": [
      "100%|██████████| 50/50 [00:31<00:00,  1.59it/s]\n"
     ]
    },
    {
     "name": "stdout",
     "output_type": "stream",
     "text": [
      "0.20464\n",
      "0.2003\n",
      "/data/weijing/DI-ting_normalization/models/CIFAR10/model__mean_0.77_0.221_0.909_std_1.0_1.0_1.0/final.pt\n",
      "No Transform\n",
      "Files already downloaded and verified\n",
      "Files already downloaded and verified\n",
      "No Transform\n",
      "Files already downloaded and verified\n",
      "Files already downloaded and verified\n"
     ]
    },
    {
     "name": "stderr",
     "output_type": "stream",
     "text": [
      "100%|██████████| 50/50 [00:31<00:00,  1.60it/s]\n"
     ]
    },
    {
     "name": "stdout",
     "output_type": "stream",
     "text": [
      "0.22978\n",
      "0.2284\n",
      "/data/weijing/DI-ting_normalization/models/CIFAR10/model__mean_0.817_0.178_0.986_std_1.0_1.0_1.0/final.pt\n",
      "No Transform\n",
      "Files already downloaded and verified\n",
      "Files already downloaded and verified\n",
      "No Transform\n",
      "Files already downloaded and verified\n",
      "Files already downloaded and verified\n"
     ]
    },
    {
     "name": "stderr",
     "output_type": "stream",
     "text": [
      "100%|██████████| 50/50 [00:31<00:00,  1.59it/s]\n"
     ]
    },
    {
     "name": "stdout",
     "output_type": "stream",
     "text": [
      "0.20222\n",
      "0.2047\n"
     ]
    }
   ],
   "source": [
    "model_name__te_acc = OrderedDict()\n",
    "\n",
    "# model performance in FE\n",
    "for setting in SETTINGS:\n",
    "    normalization_mean = setting['normalization_mean']\n",
    "    normalization_std = setting['normalization_std']\n",
    "    if normalization_mean != None and normalization_std != None:\n",
    "        mean_str = str(normalization_mean).replace(' ', '').replace(',', '_')[1:-1]\n",
    "        std_str = str(normalization_std).replace(' ', '').replace(',', '_')[1:-1]\n",
    "        label = f\"model__mean_{mean_str}_std_{std_str}\"\n",
    "    elif normalization_mean != None:\n",
    "        mean_str = str(normalization_mean).replace(' ', '').replace(',', '_')[1:-1]\n",
    "        label = f\"model__mean_{mean_str}\"\n",
    "    elif normalization_std != None:\n",
    "        std_str = str(normalization_std).replace(' ', '').replace(',', '_')[1:-1]\n",
    "        label = f\"model__std_{std_str}\"\n",
    "    else:\n",
    "        label = f\"model__baseline\"\n",
    "\n",
    "    model_path = MODEL_DIR_PATH / label / \"final.pt\"\n",
    "    print(model_path)\n",
    "    model = load_model(\n",
    "        model_type=\"teacher\",\n",
    "        location=str(model_path),\n",
    "        model_normalize=False,\n",
    "    )\n",
    "\n",
    "    train_loader, test_loader = get_dataloaders(\n",
    "        dataset=\"CIFAR10\",\n",
    "        batch_size=1000,\n",
    "        pseudo_labels=False,\n",
    "        normalize=True,\n",
    "        train_shuffle=False,\n",
    "    )\n",
    "\n",
    "    args = types.SimpleNamespace()\n",
    "    device = torch.device(\"cuda:{0}\".format(0) if torch.cuda.is_available() else \"cpu\")\n",
    "    args.device = device\n",
    "    args.mode = \"teacher\"\n",
    "    args.extra_preprocessing_type = \"\"\n",
    "\n",
    "    _, train_acc = epoch(\n",
    "        args,\n",
    "        train_loader,\n",
    "        model,\n",
    "        teacher=None,\n",
    "        lr_schedule=None,\n",
    "        epoch_i=None,\n",
    "        opt=None,\n",
    "    )\n",
    "    _, test_acc = epoch_test(\n",
    "        args,\n",
    "        test_loader,\n",
    "        model,\n",
    "    )\n",
    "    print(train_acc)\n",
    "    print(test_acc)\n",
    "\n",
    "    model_name__te_acc[label] = {\n",
    "        \"train_acc\": train_acc,\n",
    "        \"test_acc\": test_acc,\n",
    "    }\n",
    "\n"
   ]
  },
  {
   "cell_type": "code",
   "execution_count": 9,
   "metadata": {},
   "outputs": [
    {
     "name": "stdout",
     "output_type": "stream",
     "text": [
      "OrderedDict([('model__baseline', {'test_acc': 0.9388, 'train_acc': 0.99976}),\n",
      "             ('model__mean_0.792_0.415_0.84',\n",
      "              {'test_acc': 0.7493, 'train_acc': 0.79688}),\n",
      "             ('model__mean_0.852_0.402_0.919',\n",
      "              {'test_acc': 0.5345, 'train_acc': 0.55446}),\n",
      "             ('model__mean_0.913_0.388_0.998',\n",
      "              {'test_acc': 0.424, 'train_acc': 0.43876}),\n",
      "             ('model__mean_0.642_0.173_0.809',\n",
      "              {'test_acc': 0.5423, 'train_acc': 0.56538}),\n",
      "             ('model__mean_0.672_0.111_0.882',\n",
      "              {'test_acc': 0.7087, 'train_acc': 0.75054}),\n",
      "             ('model__mean_0.702_0.049_0.954',\n",
      "              {'test_acc': 0.1765, 'train_acc': 0.17658}),\n",
      "             ('model__mean_0.724_0.265_0.832',\n",
      "              {'test_acc': 0.5014, 'train_acc': 0.51402}),\n",
      "             ('model__mean_0.77_0.221_0.909',\n",
      "              {'test_acc': 0.3753, 'train_acc': 0.38884}),\n",
      "             ('model__mean_0.817_0.178_0.986',\n",
      "              {'test_acc': 0.3102, 'train_acc': 0.32114}),\n",
      "             ('model__mean_0.792_0.415_0.84_std_1.0_1.0_1.0',\n",
      "              {'test_acc': 0.2421, 'train_acc': 0.24838}),\n",
      "             ('model__mean_0.852_0.402_0.919_std_1.0_1.0_1.0',\n",
      "              {'test_acc': 0.2418, 'train_acc': 0.24628}),\n",
      "             ('model__mean_0.913_0.388_0.998_std_1.0_1.0_1.0',\n",
      "              {'test_acc': 0.2214, 'train_acc': 0.22318}),\n",
      "             ('model__mean_0.642_0.173_0.809_std_1.0_1.0_1.0',\n",
      "              {'test_acc': 0.2579, 'train_acc': 0.25574}),\n",
      "             ('model__mean_0.672_0.111_0.882_std_1.0_1.0_1.0',\n",
      "              {'test_acc': 0.2316, 'train_acc': 0.23072}),\n",
      "             ('model__mean_0.702_0.049_0.954_std_1.0_1.0_1.0',\n",
      "              {'test_acc': 0.2418, 'train_acc': 0.24592}),\n",
      "             ('model__mean_0.724_0.265_0.832_std_1.0_1.0_1.0',\n",
      "              {'test_acc': 0.2003, 'train_acc': 0.20464}),\n",
      "             ('model__mean_0.77_0.221_0.909_std_1.0_1.0_1.0',\n",
      "              {'test_acc': 0.2284, 'train_acc': 0.22978}),\n",
      "             ('model__mean_0.817_0.178_0.986_std_1.0_1.0_1.0',\n",
      "              {'test_acc': 0.2047, 'train_acc': 0.20222})])\n"
     ]
    }
   ],
   "source": [
    "pprint(model_name__te_acc)\n",
    "\n",
    "# Serializing json\n",
    "json_object = json.dumps(model_name__te_acc, indent=2)\n",
    " \n",
    "# Writing to sample.json\n",
    "with open(\"fe_performance.json\", \"w\") as outfile:\n",
    "    outfile.write(json_object)"
   ]
  }
 ],
 "metadata": {
  "kernelspec": {
   "display_name": "Python 3.8.12 ('DIenv')",
   "language": "python",
   "name": "python3"
  },
  "language_info": {
   "codemirror_mode": {
    "name": "ipython",
    "version": 3
   },
   "file_extension": ".py",
   "mimetype": "text/x-python",
   "name": "python",
   "nbconvert_exporter": "python",
   "pygments_lexer": "ipython3",
   "version": "3.8.12"
  },
  "orig_nbformat": 4,
  "vscode": {
   "interpreter": {
    "hash": "01ff145a580a012fbee101d68df8ff40de9b5a3386bbca8e9b7074444281a989"
   }
  }
 },
 "nbformat": 4,
 "nbformat_minor": 2
}
