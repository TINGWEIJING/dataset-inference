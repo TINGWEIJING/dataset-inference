{
 "cells": [
  {
   "cell_type": "code",
   "execution_count": 1,
   "metadata": {},
   "outputs": [],
   "source": [
    "import sys\n",
    "from pathlib import Path\n",
    "\n",
    "src_path = Path.cwd().parent / \"src\"\n",
    "sys.path.append(str(src_path))\n",
    "\n",
    "import json\n",
    "import types\n",
    "from collections import OrderedDict\n",
    "from pprint import pprint\n",
    "\n",
    "import torch\n",
    "import torch.nn as nn\n",
    "from dataset import get_new_dataloader\n",
    "from funcs import get_dataloaders\n",
    "from models import PreActResNet18, WideResNet\n",
    "from train import epoch, epoch_test\n"
   ]
  },
  {
   "cell_type": "code",
   "execution_count": 2,
   "metadata": {},
   "outputs": [],
   "source": [
    "# constant\n",
    "CWD_PATH = Path.cwd()\n",
    "MODEL_DIR_PATH = CWD_PATH.parent / \"models/CIFAR10\"\n",
    "SETTINGS = [\n",
    "    {\n",
    "        \"normalization_mean\": [-0.477, 0.49, -0.996],\n",
    "        \"normalization_std\": None,\n",
    "    },\n",
    "    {\n",
    "        \"normalization_mean\": [-0.767, -0.475, 0.515],\n",
    "        \"normalization_std\": None,\n",
    "    },\n",
    "    {\n",
    "        \"normalization_mean\": [-0.261, -0.614, 0.349],\n",
    "        \"normalization_std\": None,\n",
    "    },\n",
    "    {\n",
    "        \"normalization_mean\": [0.369, -0.311, -0.81],\n",
    "        \"normalization_std\": None,\n",
    "    },\n",
    "    {\n",
    "        \"normalization_mean\": [-0.574, -0.897, 0.64],\n",
    "        \"normalization_std\": None,\n",
    "    },\n",
    "    {\n",
    "        \"normalization_mean\": [-0.937, 0.102, 0.19],\n",
    "        \"normalization_std\": None,\n",
    "    },\n",
    "    {\n",
    "        \"normalization_mean\": [-0.767, 0.2, 0.033],\n",
    "        \"normalization_std\": None,\n",
    "    },\n",
    "    {\n",
    "        \"normalization_mean\": [-0.426, 0.063, 0.079],\n",
    "        \"normalization_std\": None,\n",
    "    },\n",
    "    {\n",
    "        \"normalization_mean\": [-0.462, -0.85, 0.601],\n",
    "        \"normalization_std\": None,\n",
    "    },\n",
    "    {\n",
    "        \"normalization_mean\": [-0.56, 0.306, -0.188],\n",
    "        \"normalization_std\": None,\n",
    "    },\n",
    "]\n"
   ]
  },
  {
   "cell_type": "code",
   "execution_count": 3,
   "metadata": {},
   "outputs": [
    {
     "name": "stdout",
     "output_type": "stream",
     "text": [
      "model__mean_-0.477_0.49_-0.996\n",
      "model__mean_-0.767_-0.475_0.515\n",
      "model__mean_-0.261_-0.614_0.349\n",
      "model__mean_0.369_-0.311_-0.81\n",
      "model__mean_-0.574_-0.897_0.64\n",
      "model__mean_-0.937_0.102_0.19\n",
      "model__mean_-0.767_0.2_0.033\n",
      "model__mean_-0.426_0.063_0.079\n",
      "model__mean_-0.462_-0.85_0.601\n",
      "model__mean_-0.56_0.306_-0.188\n"
     ]
    }
   ],
   "source": [
    "for setting in SETTINGS:\n",
    "    normalization_mean = setting['normalization_mean']\n",
    "    normalization_std = setting['normalization_std']\n",
    "    if normalization_mean != None and normalization_std != None:\n",
    "        mean_str = str(normalization_mean).replace(' ', '').replace(',', '_')[1:-1]\n",
    "        std_str = str(normalization_std).replace(' ', '').replace(',', '_')[1:-1]\n",
    "        label = f\"model__mean_{mean_str}_std_{std_str}\"\n",
    "    elif normalization_mean != None:\n",
    "        mean_str = str(normalization_mean).replace(' ', '').replace(',', '_')[1:-1]\n",
    "        label = f\"model__mean_{mean_str}\"\n",
    "    elif normalization_std != None:\n",
    "        std_str = str(normalization_std).replace(' ', '').replace(',', '_')[1:-1]\n",
    "        label = f\"model__std_{std_str}\"\n",
    "    else:\n",
    "        label = f\"model__baseline\"\n",
    "\n",
    "    print(label)"
   ]
  },
  {
   "cell_type": "code",
   "execution_count": 4,
   "metadata": {},
   "outputs": [],
   "source": [
    "def load_model(\n",
    "    model_type: str,\n",
    "    location: str,\n",
    "    model_normalize: bool,\n",
    "):\n",
    "    device = torch.device(\"cuda:{0}\".format(0) if torch.cuda.is_available() else \"cpu\")\n",
    "\n",
    "    # load model CIFAR10\n",
    "    if model_type == \"pre-act-18\":\n",
    "        model = PreActResNet18(num_classes=10, normalize=model_normalize)\n",
    "    elif model_type == \"independent\":\n",
    "        model = WideResNet(\n",
    "            n_classes=10,\n",
    "            depth=16,  # deep_full for CIFAR10\n",
    "            widen_factor=1,\n",
    "            normalize=model_normalize,\n",
    "            dropRate=0.3,\n",
    "        )\n",
    "    else:\n",
    "        model = WideResNet(\n",
    "            n_classes=10,\n",
    "            depth=28,  # deep_full for CIFAR10\n",
    "            widen_factor=10,\n",
    "            normalize=model_normalize,\n",
    "            dropRate=0.3,\n",
    "        )\n",
    "\n",
    "    try:\n",
    "        model = model.to(device)\n",
    "        model.load_state_dict(torch.load(location, map_location=device))\n",
    "    except:\n",
    "        model = nn.DataParallel(model).to(device)\n",
    "        model.load_state_dict(torch.load(location, map_location=device))\n",
    "    model.eval()\n",
    "    return model\n"
   ]
  },
  {
   "cell_type": "code",
   "execution_count": 5,
   "metadata": {},
   "outputs": [
    {
     "name": "stdout",
     "output_type": "stream",
     "text": [
      "/data/weijing/DI-ting_normalization/models/CIFAR10-diff-norm-value-cossim/model__mean_-0.631_-0.648_0.624/final.pt\n",
      "Custom_normalization: Normalize(mean=[-0.631, -0.648, 0.624], std=(0.2471, 0.2435, 0.2616))\n",
      "Lambda()\n",
      "Files already downloaded and verified\n",
      "Files already downloaded and verified\n"
     ]
    },
    {
     "name": "stderr",
     "output_type": "stream",
     "text": [
      "100%|██████████| 50/50 [00:28<00:00,  1.76it/s]\n"
     ]
    },
    {
     "name": "stdout",
     "output_type": "stream",
     "text": [
      "0.99998\n",
      "0.9425\n",
      "/data/weijing/DI-ting_normalization/models/CIFAR10-diff-norm-value-cossim/model__mean_-0.631_-0.97_-0.058/final.pt\n",
      "Custom_normalization: Normalize(mean=[-0.631, -0.97, -0.058], std=(0.2471, 0.2435, 0.2616))\n",
      "Lambda()\n",
      "Files already downloaded and verified\n",
      "Files already downloaded and verified\n"
     ]
    },
    {
     "name": "stderr",
     "output_type": "stream",
     "text": [
      "100%|██████████| 50/50 [00:23<00:00,  2.15it/s]\n"
     ]
    },
    {
     "name": "stdout",
     "output_type": "stream",
     "text": [
      "0.99998\n",
      "0.9433\n",
      "/data/weijing/DI-ting_normalization/models/CIFAR10-diff-norm-value-cossim/model__mean_-0.668_-0.004_0.165/final.pt\n",
      "Custom_normalization: Normalize(mean=[-0.668, -0.004, 0.165], std=(0.2471, 0.2435, 0.2616))\n",
      "Lambda()\n",
      "Files already downloaded and verified\n",
      "Files already downloaded and verified\n"
     ]
    },
    {
     "name": "stderr",
     "output_type": "stream",
     "text": [
      "100%|██████████| 50/50 [00:23<00:00,  2.14it/s]\n"
     ]
    },
    {
     "name": "stdout",
     "output_type": "stream",
     "text": [
      "0.99998\n",
      "0.9417\n",
      "/data/weijing/DI-ting_normalization/models/CIFAR10-diff-norm-value-cossim/model__mean_0.26_0.855_-0.536/final.pt\n",
      "Custom_normalization: Normalize(mean=[0.26, 0.855, -0.536], std=(0.2471, 0.2435, 0.2616))\n",
      "Lambda()\n",
      "Files already downloaded and verified\n",
      "Files already downloaded and verified\n"
     ]
    },
    {
     "name": "stderr",
     "output_type": "stream",
     "text": [
      "100%|██████████| 50/50 [00:23<00:00,  2.15it/s]\n"
     ]
    },
    {
     "name": "stdout",
     "output_type": "stream",
     "text": [
      "0.99996\n",
      "0.9428\n",
      "/data/weijing/DI-ting_normalization/models/CIFAR10-diff-norm-value-cossim/model__mean_0.365_-0.892_-0.559/final.pt\n",
      "Custom_normalization: Normalize(mean=[0.365, -0.892, -0.559], std=(0.2471, 0.2435, 0.2616))\n",
      "Lambda()\n",
      "Files already downloaded and verified\n",
      "Files already downloaded and verified\n"
     ]
    },
    {
     "name": "stderr",
     "output_type": "stream",
     "text": [
      "100%|██████████| 50/50 [00:23<00:00,  2.14it/s]\n"
     ]
    },
    {
     "name": "stdout",
     "output_type": "stream",
     "text": [
      "0.99994\n",
      "0.9436\n",
      "/data/weijing/DI-ting_normalization/models/CIFAR10-diff-norm-value-cossim/model__mean_0.456_0.837_0.251/final.pt\n",
      "Custom_normalization: Normalize(mean=[0.456, 0.837, 0.251], std=(0.2471, 0.2435, 0.2616))\n",
      "Lambda()\n",
      "Files already downloaded and verified\n",
      "Files already downloaded and verified\n"
     ]
    },
    {
     "name": "stderr",
     "output_type": "stream",
     "text": [
      "100%|██████████| 50/50 [00:23<00:00,  2.14it/s]\n"
     ]
    },
    {
     "name": "stdout",
     "output_type": "stream",
     "text": [
      "0.99998\n",
      "0.9447\n",
      "/data/weijing/DI-ting_normalization/models/CIFAR10-diff-norm-value-cossim/model__mean_0.598_0.036_-0.537/final.pt\n",
      "Custom_normalization: Normalize(mean=[0.598, 0.036, -0.537], std=(0.2471, 0.2435, 0.2616))\n",
      "Lambda()\n",
      "Files already downloaded and verified\n",
      "Files already downloaded and verified\n"
     ]
    },
    {
     "name": "stderr",
     "output_type": "stream",
     "text": [
      "100%|██████████| 50/50 [00:23<00:00,  2.14it/s]\n"
     ]
    },
    {
     "name": "stdout",
     "output_type": "stream",
     "text": [
      "0.99998\n",
      "0.942\n",
      "/data/weijing/DI-ting_normalization/models/CIFAR10-diff-norm-value-cossim/model__mean_0.648_-0.572_0.483/final.pt\n",
      "Custom_normalization: Normalize(mean=[0.648, -0.572, 0.483], std=(0.2471, 0.2435, 0.2616))\n",
      "Lambda()\n",
      "Files already downloaded and verified\n",
      "Files already downloaded and verified\n"
     ]
    },
    {
     "name": "stderr",
     "output_type": "stream",
     "text": [
      "100%|██████████| 50/50 [00:23<00:00,  2.15it/s]\n"
     ]
    },
    {
     "name": "stdout",
     "output_type": "stream",
     "text": [
      "0.99996\n",
      "0.9409\n",
      "/data/weijing/DI-ting_normalization/models/CIFAR10-diff-norm-value-cossim/model__mean_0.78_0.026_-0.51/final.pt\n",
      "Custom_normalization: Normalize(mean=[0.78, 0.026, -0.51], std=(0.2471, 0.2435, 0.2616))\n",
      "Lambda()\n",
      "Files already downloaded and verified\n",
      "Files already downloaded and verified\n"
     ]
    },
    {
     "name": "stderr",
     "output_type": "stream",
     "text": [
      "100%|██████████| 50/50 [00:23<00:00,  2.15it/s]\n"
     ]
    },
    {
     "name": "stdout",
     "output_type": "stream",
     "text": [
      "1.0\n",
      "0.9398\n",
      "/data/weijing/DI-ting_normalization/models/CIFAR10-diff-norm-value-cossim/model__mean_0.847_-0.447_0.64/final.pt\n",
      "Custom_normalization: Normalize(mean=[0.847, -0.447, 0.64], std=(0.2471, 0.2435, 0.2616))\n",
      "Lambda()\n",
      "Files already downloaded and verified\n",
      "Files already downloaded and verified\n"
     ]
    },
    {
     "name": "stderr",
     "output_type": "stream",
     "text": [
      "100%|██████████| 50/50 [00:23<00:00,  2.14it/s]\n"
     ]
    },
    {
     "name": "stdout",
     "output_type": "stream",
     "text": [
      "1.0\n",
      "0.9415\n"
     ]
    }
   ],
   "source": [
    "model_name__tr_acc = OrderedDict()\n",
    "\n",
    "# model performance in TR\n",
    "for setting in SETTINGS:\n",
    "    normalization_mean = setting['normalization_mean']\n",
    "    normalization_std = setting['normalization_std']\n",
    "    if normalization_mean != None and normalization_std != None:\n",
    "        mean_str = str(normalization_mean).replace(' ', '').replace(',', '_')[1:-1]\n",
    "        std_str = str(normalization_std).replace(' ', '').replace(',', '_')[1:-1]\n",
    "        label = f\"model__mean_{mean_str}_std_{std_str}\"\n",
    "    elif normalization_mean != None:\n",
    "        mean_str = str(normalization_mean).replace(' ', '').replace(',', '_')[1:-1]\n",
    "        label = f\"model__mean_{mean_str}\"\n",
    "    elif normalization_std != None:\n",
    "        std_str = str(normalization_std).replace(' ', '').replace(',', '_')[1:-1]\n",
    "        label = f\"model__std_{std_str}\"\n",
    "    else:\n",
    "        label = f\"model__baseline\"\n",
    "\n",
    "    model_path = MODEL_DIR_PATH / label / \"final.pt\"\n",
    "    print(model_path)\n",
    "    model = load_model(\n",
    "        model_type=\"teacher\",\n",
    "        location=str(model_path),\n",
    "        model_normalize=False,\n",
    "    )\n",
    "\n",
    "    args = types.SimpleNamespace()\n",
    "    device = torch.device(\"cuda:{0}\".format(0) if torch.cuda.is_available() else \"cpu\")\n",
    "    args.device = device\n",
    "    args.mode = \"teacher\"\n",
    "    args.experiment = 'diff-norm-value'\n",
    "    args.dataset = 'CIFAR10'\n",
    "    args.batch_size = 1000\n",
    "    args.num_workers = 8\n",
    "    args.normalization_mean = normalization_mean\n",
    "    args.normalization_std = normalization_std\n",
    "    args.extra_preprocessing_type = \"\"\n",
    "    train_loader, test_loader = get_new_dataloader(args=args)\n",
    "\n",
    "    _, train_acc = epoch(\n",
    "        args,\n",
    "        train_loader,\n",
    "        model,\n",
    "        teacher=None,\n",
    "        lr_schedule=None,\n",
    "        epoch_i=None,\n",
    "        opt=None,\n",
    "    )\n",
    "    _, test_acc = epoch_test(\n",
    "        args,\n",
    "        test_loader,\n",
    "        model,\n",
    "    )\n",
    "    print(train_acc)\n",
    "    print(test_acc)\n",
    "\n",
    "    model_name__tr_acc[label] = {\n",
    "        \"train_acc\": train_acc,\n",
    "        \"test_acc\": test_acc,\n",
    "    }\n"
   ]
  },
  {
   "cell_type": "code",
   "execution_count": 6,
   "metadata": {},
   "outputs": [
    {
     "name": "stdout",
     "output_type": "stream",
     "text": [
      "OrderedDict([('model__mean_-0.631_-0.648_0.624',\n",
      "              {'test_acc': 0.9425, 'train_acc': 0.99998}),\n",
      "             ('model__mean_-0.631_-0.97_-0.058',\n",
      "              {'test_acc': 0.9433, 'train_acc': 0.99998}),\n",
      "             ('model__mean_-0.668_-0.004_0.165',\n",
      "              {'test_acc': 0.9417, 'train_acc': 0.99998}),\n",
      "             ('model__mean_0.26_0.855_-0.536',\n",
      "              {'test_acc': 0.9428, 'train_acc': 0.99996}),\n",
      "             ('model__mean_0.365_-0.892_-0.559',\n",
      "              {'test_acc': 0.9436, 'train_acc': 0.99994}),\n",
      "             ('model__mean_0.456_0.837_0.251',\n",
      "              {'test_acc': 0.9447, 'train_acc': 0.99998}),\n",
      "             ('model__mean_0.598_0.036_-0.537',\n",
      "              {'test_acc': 0.942, 'train_acc': 0.99998}),\n",
      "             ('model__mean_0.648_-0.572_0.483',\n",
      "              {'test_acc': 0.9409, 'train_acc': 0.99996}),\n",
      "             ('model__mean_0.78_0.026_-0.51',\n",
      "              {'test_acc': 0.9398, 'train_acc': 1.0}),\n",
      "             ('model__mean_0.847_-0.447_0.64',\n",
      "              {'test_acc': 0.9415, 'train_acc': 1.0})])\n"
     ]
    }
   ],
   "source": [
    "pprint(model_name__tr_acc)\n",
    "\n",
    "# Serializing json\n",
    "json_object = json.dumps(model_name__tr_acc, indent=2)\n",
    " \n",
    "# Writing to sample.json\n",
    "with open(\"tr_performance.json\", \"w\") as outfile:\n",
    "    outfile.write(json_object)"
   ]
  },
  {
   "cell_type": "code",
   "execution_count": 5,
   "metadata": {},
   "outputs": [
    {
     "name": "stdout",
     "output_type": "stream",
     "text": [
      "/data/weijing/DI-ting_normalization/models/CIFAR10/model__mean_-0.477_0.49_-0.996/final.pt\n",
      "No Transform\n",
      "Files already downloaded and verified\n",
      "Files already downloaded and verified\n",
      "No Transform\n",
      "Files already downloaded and verified\n",
      "Files already downloaded and verified\n"
     ]
    },
    {
     "name": "stderr",
     "output_type": "stream",
     "text": [
      "100%|██████████| 50/50 [00:35<00:00,  1.43it/s]\n"
     ]
    },
    {
     "name": "stdout",
     "output_type": "stream",
     "text": [
      "0.09996\n",
      "0.0999\n",
      "/data/weijing/DI-ting_normalization/models/CIFAR10/model__mean_-0.767_-0.475_0.515/final.pt\n",
      "No Transform\n",
      "Files already downloaded and verified\n",
      "Files already downloaded and verified\n",
      "No Transform\n",
      "Files already downloaded and verified\n",
      "Files already downloaded and verified\n"
     ]
    },
    {
     "name": "stderr",
     "output_type": "stream",
     "text": [
      "100%|██████████| 50/50 [00:24<00:00,  2.01it/s]\n"
     ]
    },
    {
     "name": "stdout",
     "output_type": "stream",
     "text": [
      "0.1051\n",
      "0.1064\n",
      "/data/weijing/DI-ting_normalization/models/CIFAR10/model__mean_-0.261_-0.614_0.349/final.pt\n",
      "No Transform\n",
      "Files already downloaded and verified\n",
      "Files already downloaded and verified\n",
      "No Transform\n",
      "Files already downloaded and verified\n",
      "Files already downloaded and verified\n"
     ]
    },
    {
     "name": "stderr",
     "output_type": "stream",
     "text": [
      "100%|██████████| 50/50 [00:25<00:00,  1.99it/s]\n"
     ]
    },
    {
     "name": "stdout",
     "output_type": "stream",
     "text": [
      "0.10862\n",
      "0.1095\n",
      "/data/weijing/DI-ting_normalization/models/CIFAR10/model__mean_0.369_-0.311_-0.81/final.pt\n",
      "No Transform\n",
      "Files already downloaded and verified\n",
      "Files already downloaded and verified\n",
      "No Transform\n",
      "Files already downloaded and verified\n",
      "Files already downloaded and verified\n"
     ]
    },
    {
     "name": "stderr",
     "output_type": "stream",
     "text": [
      "100%|██████████| 50/50 [00:25<00:00,  2.00it/s]\n"
     ]
    },
    {
     "name": "stdout",
     "output_type": "stream",
     "text": [
      "0.10596\n",
      "0.1055\n",
      "/data/weijing/DI-ting_normalization/models/CIFAR10/model__mean_-0.574_-0.897_0.64/final.pt\n",
      "No Transform\n",
      "Files already downloaded and verified\n",
      "Files already downloaded and verified\n",
      "No Transform\n",
      "Files already downloaded and verified\n",
      "Files already downloaded and verified\n"
     ]
    },
    {
     "name": "stderr",
     "output_type": "stream",
     "text": [
      "100%|██████████| 50/50 [00:25<00:00,  1.99it/s]\n"
     ]
    },
    {
     "name": "stdout",
     "output_type": "stream",
     "text": [
      "0.09996\n",
      "0.1\n",
      "/data/weijing/DI-ting_normalization/models/CIFAR10/model__mean_-0.937_0.102_0.19/final.pt\n",
      "No Transform\n",
      "Files already downloaded and verified\n",
      "Files already downloaded and verified\n",
      "No Transform\n",
      "Files already downloaded and verified\n",
      "Files already downloaded and verified\n"
     ]
    },
    {
     "name": "stderr",
     "output_type": "stream",
     "text": [
      "100%|██████████| 50/50 [00:24<00:00,  2.00it/s]\n"
     ]
    },
    {
     "name": "stdout",
     "output_type": "stream",
     "text": [
      "0.13744\n",
      "0.1415\n",
      "/data/weijing/DI-ting_normalization/models/CIFAR10/model__mean_-0.767_0.2_0.033/final.pt\n",
      "No Transform\n",
      "Files already downloaded and verified\n",
      "Files already downloaded and verified\n",
      "No Transform\n",
      "Files already downloaded and verified\n",
      "Files already downloaded and verified\n"
     ]
    },
    {
     "name": "stderr",
     "output_type": "stream",
     "text": [
      "100%|██████████| 50/50 [00:25<00:00,  2.00it/s]\n"
     ]
    },
    {
     "name": "stdout",
     "output_type": "stream",
     "text": [
      "0.10458\n",
      "0.1051\n",
      "/data/weijing/DI-ting_normalization/models/CIFAR10/model__mean_-0.426_0.063_0.079/final.pt\n",
      "No Transform\n",
      "Files already downloaded and verified\n",
      "Files already downloaded and verified\n",
      "No Transform\n",
      "Files already downloaded and verified\n",
      "Files already downloaded and verified\n"
     ]
    },
    {
     "name": "stderr",
     "output_type": "stream",
     "text": [
      "100%|██████████| 50/50 [00:25<00:00,  1.99it/s]\n"
     ]
    },
    {
     "name": "stdout",
     "output_type": "stream",
     "text": [
      "0.28002\n",
      "0.2729\n",
      "/data/weijing/DI-ting_normalization/models/CIFAR10/model__mean_-0.462_-0.85_0.601/final.pt\n",
      "No Transform\n",
      "Files already downloaded and verified\n",
      "Files already downloaded and verified\n",
      "No Transform\n",
      "Files already downloaded and verified\n",
      "Files already downloaded and verified\n"
     ]
    },
    {
     "name": "stderr",
     "output_type": "stream",
     "text": [
      "100%|██████████| 50/50 [00:25<00:00,  2.00it/s]\n"
     ]
    },
    {
     "name": "stdout",
     "output_type": "stream",
     "text": [
      "0.1\n",
      "0.1001\n",
      "/data/weijing/DI-ting_normalization/models/CIFAR10/model__mean_-0.56_0.306_-0.188/final.pt\n",
      "No Transform\n",
      "Files already downloaded and verified\n",
      "Files already downloaded and verified\n",
      "No Transform\n",
      "Files already downloaded and verified\n",
      "Files already downloaded and verified\n"
     ]
    },
    {
     "name": "stderr",
     "output_type": "stream",
     "text": [
      "100%|██████████| 50/50 [00:25<00:00,  2.00it/s]\n"
     ]
    },
    {
     "name": "stdout",
     "output_type": "stream",
     "text": [
      "0.10086\n",
      "0.1005\n"
     ]
    }
   ],
   "source": [
    "model_name__te_acc = OrderedDict()\n",
    "\n",
    "# model performance in FE\n",
    "for setting in SETTINGS:\n",
    "    normalization_mean = setting['normalization_mean']\n",
    "    normalization_std = setting['normalization_std']\n",
    "    if normalization_mean != None and normalization_std != None:\n",
    "        mean_str = str(normalization_mean).replace(' ', '').replace(',', '_')[1:-1]\n",
    "        std_str = str(normalization_std).replace(' ', '').replace(',', '_')[1:-1]\n",
    "        label = f\"model__mean_{mean_str}_std_{std_str}\"\n",
    "    elif normalization_mean != None:\n",
    "        mean_str = str(normalization_mean).replace(' ', '').replace(',', '_')[1:-1]\n",
    "        label = f\"model__mean_{mean_str}\"\n",
    "    elif normalization_std != None:\n",
    "        std_str = str(normalization_std).replace(' ', '').replace(',', '_')[1:-1]\n",
    "        label = f\"model__std_{std_str}\"\n",
    "    else:\n",
    "        label = f\"model__baseline\"\n",
    "\n",
    "    model_path = MODEL_DIR_PATH / label / \"final.pt\"\n",
    "    print(model_path)\n",
    "    model = load_model(\n",
    "        model_type=\"teacher\",\n",
    "        location=str(model_path),\n",
    "        model_normalize=False,\n",
    "    )\n",
    "\n",
    "    train_loader, test_loader = get_dataloaders(\n",
    "        dataset=\"CIFAR10\",\n",
    "        batch_size=1000,\n",
    "        pseudo_labels=False,\n",
    "        normalize=True,\n",
    "        train_shuffle=False,\n",
    "    )\n",
    "\n",
    "    args = types.SimpleNamespace()\n",
    "    device = torch.device(\"cuda:{0}\".format(0) if torch.cuda.is_available() else \"cpu\")\n",
    "    args.device = device\n",
    "    args.mode = \"teacher\"\n",
    "\n",
    "    _, train_acc = epoch(\n",
    "        args,\n",
    "        train_loader,\n",
    "        model,\n",
    "        teacher=None,\n",
    "        lr_schedule=None,\n",
    "        epoch_i=None,\n",
    "        opt=None,\n",
    "    )\n",
    "    _, test_acc = epoch_test(\n",
    "        args,\n",
    "        test_loader,\n",
    "        model,\n",
    "    )\n",
    "    print(train_acc)\n",
    "    print(test_acc)\n",
    "\n",
    "    model_name__te_acc[label] = {\n",
    "        \"train_acc\": train_acc,\n",
    "        \"test_acc\": test_acc,\n",
    "    }\n",
    "\n"
   ]
  },
  {
   "cell_type": "code",
   "execution_count": 6,
   "metadata": {},
   "outputs": [
    {
     "name": "stdout",
     "output_type": "stream",
     "text": [
      "OrderedDict([('model__mean_-0.477_0.49_-0.996',\n",
      "              {'test_acc': 0.0999, 'train_acc': 0.09996}),\n",
      "             ('model__mean_-0.767_-0.475_0.515',\n",
      "              {'test_acc': 0.1064, 'train_acc': 0.1051}),\n",
      "             ('model__mean_-0.261_-0.614_0.349',\n",
      "              {'test_acc': 0.1095, 'train_acc': 0.10862}),\n",
      "             ('model__mean_0.369_-0.311_-0.81',\n",
      "              {'test_acc': 0.1055, 'train_acc': 0.10596}),\n",
      "             ('model__mean_-0.574_-0.897_0.64',\n",
      "              {'test_acc': 0.1, 'train_acc': 0.09996}),\n",
      "             ('model__mean_-0.937_0.102_0.19',\n",
      "              {'test_acc': 0.1415, 'train_acc': 0.13744}),\n",
      "             ('model__mean_-0.767_0.2_0.033',\n",
      "              {'test_acc': 0.1051, 'train_acc': 0.10458}),\n",
      "             ('model__mean_-0.426_0.063_0.079',\n",
      "              {'test_acc': 0.2729, 'train_acc': 0.28002}),\n",
      "             ('model__mean_-0.462_-0.85_0.601',\n",
      "              {'test_acc': 0.1001, 'train_acc': 0.1}),\n",
      "             ('model__mean_-0.56_0.306_-0.188',\n",
      "              {'test_acc': 0.1005, 'train_acc': 0.10086})])\n"
     ]
    }
   ],
   "source": [
    "pprint(model_name__te_acc)\n",
    "\n",
    "# Serializing json\n",
    "json_object = json.dumps(model_name__te_acc, indent=2)\n",
    " \n",
    "# Writing to sample.json\n",
    "with open(\"fe_performance.json\", \"w\") as outfile:\n",
    "    outfile.write(json_object)"
   ]
  }
 ],
 "metadata": {
  "kernelspec": {
   "display_name": "Python 3.8.12 ('DIenv')",
   "language": "python",
   "name": "python3"
  },
  "language_info": {
   "codemirror_mode": {
    "name": "ipython",
    "version": 3
   },
   "file_extension": ".py",
   "mimetype": "text/x-python",
   "name": "python",
   "nbconvert_exporter": "python",
   "pygments_lexer": "ipython3",
   "version": "3.8.12"
  },
  "orig_nbformat": 4,
  "vscode": {
   "interpreter": {
    "hash": "01ff145a580a012fbee101d68df8ff40de9b5a3386bbca8e9b7074444281a989"
   }
  }
 },
 "nbformat": 4,
 "nbformat_minor": 2
}
