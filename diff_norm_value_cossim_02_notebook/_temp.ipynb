{
 "cells": [
  {
   "cell_type": "code",
   "execution_count": 1,
   "metadata": {},
   "outputs": [],
   "source": [
    "from pathlib import Path"
   ]
  },
  {
   "cell_type": "code",
   "execution_count": 2,
   "metadata": {},
   "outputs": [
    {
     "name": "stdout",
     "output_type": "stream",
     "text": [
      "model__mean_-0.261_-0.614_0.349\n",
      "model__mean_-0.311_-0.857_0.897\n",
      "model__mean_-0.426_0.063_0.079\n",
      "model__mean_-0.462_-0.85_0.601\n",
      "model__mean_-0.477_0.49_-0.996\n",
      "model__mean_-0.511_-0.221_0.837\n",
      "model__mean_-0.56_0.306_-0.188\n",
      "model__mean_-0.574_-0.897_0.64\n",
      "model__mean_-0.631_-0.97_-0.058\n",
      "model__mean_-0.721_0.778_-0.601\n",
      "model__mean_-0.731_-0.311_0.544\n",
      "model__mean_-0.767_-0.475_0.515\n",
      "model__mean_-0.767_0.2_0.033\n",
      "model__mean_-0.804_0.685_0.01\n",
      "model__mean_-0.937_0.102_0.19\n",
      "model__mean_0.205_0.181_-0.549\n",
      "model__mean_0.219_-0.247_-0.174\n",
      "model__mean_0.369_-0.311_-0.81\n",
      "model__mean_0.6_-0.734_0.089\n",
      "model__mean_0.749_-0.448_-0.776\n",
      "model__mean_0.853_-0.615_-0.149\n"
     ]
    }
   ],
   "source": [
    "\n",
    "\n",
    "target_dir_path = Path.cwd().parent / \"models/CIFAR10\"\n",
    "child_path_names = []\n",
    "for child_path in target_dir_path.iterdir():\n",
    "    child_path_names.append(child_path.name)\n",
    "\n",
    "child_path_names.sort()\n",
    "\n",
    "for name in child_path_names:\n",
    "    print(name)\n",
    "\n",
    "\n",
    "\n",
    "     \n"
   ]
  }
 ],
 "metadata": {
  "kernelspec": {
   "display_name": "DIenv",
   "language": "python",
   "name": "python3"
  },
  "language_info": {
   "codemirror_mode": {
    "name": "ipython",
    "version": 3
   },
   "file_extension": ".py",
   "mimetype": "text/x-python",
   "name": "python",
   "nbconvert_exporter": "python",
   "pygments_lexer": "ipython3",
   "version": "3.8.12"
  },
  "orig_nbformat": 4,
  "vscode": {
   "interpreter": {
    "hash": "01ff145a580a012fbee101d68df8ff40de9b5a3386bbca8e9b7074444281a989"
   }
  }
 },
 "nbformat": 4,
 "nbformat_minor": 2
}
